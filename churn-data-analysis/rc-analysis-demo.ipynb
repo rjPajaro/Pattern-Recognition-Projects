{
 "metadata": {
  "language_info": {
   "codemirror_mode": {
    "name": "ipython",
    "version": 3
   },
   "file_extension": ".py",
   "mimetype": "text/x-python",
   "name": "python",
   "nbconvert_exporter": "python",
   "pygments_lexer": "ipython3",
   "version": "3.8.3"
  },
  "orig_nbformat": 4,
  "kernelspec": {
   "name": "python3",
   "display_name": "Python 3.8.3 64-bit ('base': conda)"
  },
  "interpreter": {
   "hash": "80e949a67cf278127b748d188dfe995fcb9b6fe4ab79bb80686294a040d0359f"
  }
 },
 "nbformat": 4,
 "nbformat_minor": 2,
 "cells": [
  {
   "source": [
    "# Analyzing Data for Rotational Churners"
   ],
   "cell_type": "markdown",
   "metadata": {}
  },
  {
   "source": [
    "Loading the churner data and data of the newer/more recent users"
   ],
   "cell_type": "markdown",
   "metadata": {}
  },
  {
   "cell_type": "code",
   "execution_count": 1,
   "metadata": {},
   "outputs": [],
   "source": [
    "import numpy as np\n",
    "import pandas as pd\n",
    "\n",
    "dfs = pd.ExcelFile('data/mock/sample_mock_rc_data.xlsx')\n",
    "sheets = dfs.sheet_names\n",
    "d = []\n",
    "for i in range(10):\n",
    "    d.append(dfs.parse(sheet_name=sheets[i]))\n",
    "\n",
    "newer_users = pd.read_excel('data/mock/sample_mock_nu_data.xlsx')"
   ]
  },
  {
   "cell_type": "code",
   "execution_count": 2,
   "metadata": {},
   "outputs": [
    {
     "output_type": "execute_result",
     "data": {
      "text/plain": [
       "       weeks             IMEI  credits_loaded_per_week  num_hrs_spend_on_net  \\\n",
       "0 2019-07-17  823865145970266                      100                   5.3   \n",
       "1 2019-07-24  823865145970266                        0                  17.4   \n",
       "2 2019-07-31  823865145970266                      200                  15.5   \n",
       "3 2019-08-07  823865145970266                       20                  13.2   \n",
       "4 2019-08-14  823865145970266                        0                   2.7   \n",
       "\n",
       "   mobile_data_usage(gb)  promos_used  active_times  activity_status  \n",
       "0                   8.07            0             1                0  \n",
       "1                   8.60            0             0                0  \n",
       "2                   5.23            2             1                0  \n",
       "3                   6.87            2             0                0  \n",
       "4                   5.59            3             0                0  "
      ],
      "text/html": "<div>\n<style scoped>\n    .dataframe tbody tr th:only-of-type {\n        vertical-align: middle;\n    }\n\n    .dataframe tbody tr th {\n        vertical-align: top;\n    }\n\n    .dataframe thead th {\n        text-align: right;\n    }\n</style>\n<table border=\"1\" class=\"dataframe\">\n  <thead>\n    <tr style=\"text-align: right;\">\n      <th></th>\n      <th>weeks</th>\n      <th>IMEI</th>\n      <th>credits_loaded_per_week</th>\n      <th>num_hrs_spend_on_net</th>\n      <th>mobile_data_usage(gb)</th>\n      <th>promos_used</th>\n      <th>active_times</th>\n      <th>activity_status</th>\n    </tr>\n  </thead>\n  <tbody>\n    <tr>\n      <th>0</th>\n      <td>2019-07-17</td>\n      <td>823865145970266</td>\n      <td>100</td>\n      <td>5.3</td>\n      <td>8.07</td>\n      <td>0</td>\n      <td>1</td>\n      <td>0</td>\n    </tr>\n    <tr>\n      <th>1</th>\n      <td>2019-07-24</td>\n      <td>823865145970266</td>\n      <td>0</td>\n      <td>17.4</td>\n      <td>8.60</td>\n      <td>0</td>\n      <td>0</td>\n      <td>0</td>\n    </tr>\n    <tr>\n      <th>2</th>\n      <td>2019-07-31</td>\n      <td>823865145970266</td>\n      <td>200</td>\n      <td>15.5</td>\n      <td>5.23</td>\n      <td>2</td>\n      <td>1</td>\n      <td>0</td>\n    </tr>\n    <tr>\n      <th>3</th>\n      <td>2019-08-07</td>\n      <td>823865145970266</td>\n      <td>20</td>\n      <td>13.2</td>\n      <td>6.87</td>\n      <td>2</td>\n      <td>0</td>\n      <td>0</td>\n    </tr>\n    <tr>\n      <th>4</th>\n      <td>2019-08-14</td>\n      <td>823865145970266</td>\n      <td>0</td>\n      <td>2.7</td>\n      <td>5.59</td>\n      <td>3</td>\n      <td>0</td>\n      <td>0</td>\n    </tr>\n  </tbody>\n</table>\n</div>"
     },
     "metadata": {},
     "execution_count": 2
    }
   ],
   "source": [
    "d[0].head()"
   ]
  },
  {
   "cell_type": "code",
   "execution_count": 3,
   "metadata": {},
   "outputs": [
    {
     "output_type": "execute_result",
     "data": {
      "text/plain": [
       "       weeks             IMEI  credits_loaded_per_week  num_hrs_spend_on_net  \\\n",
       "0 2020-02-12  299580108038267                       90                   5.9   \n",
       "1 2020-02-19  299580108038267                       30                  17.4   \n",
       "2 2020-02-26  299580108038267                      100                  16.8   \n",
       "3 2020-03-04  299580108038267                        0                  12.4   \n",
       "4 2020-03-11  299580108038267                        0                   2.7   \n",
       "\n",
       "   mobile_data_usage(gb)  promos_used  active_times  activity_status  \n",
       "0                    8.1            0             2                0  \n",
       "1                   11.1            0             0                0  \n",
       "2                    4.9            3             2                0  \n",
       "3                    7.5            1             0                0  \n",
       "4                    5.3            2             0                0  "
      ],
      "text/html": "<div>\n<style scoped>\n    .dataframe tbody tr th:only-of-type {\n        vertical-align: middle;\n    }\n\n    .dataframe tbody tr th {\n        vertical-align: top;\n    }\n\n    .dataframe thead th {\n        text-align: right;\n    }\n</style>\n<table border=\"1\" class=\"dataframe\">\n  <thead>\n    <tr style=\"text-align: right;\">\n      <th></th>\n      <th>weeks</th>\n      <th>IMEI</th>\n      <th>credits_loaded_per_week</th>\n      <th>num_hrs_spend_on_net</th>\n      <th>mobile_data_usage(gb)</th>\n      <th>promos_used</th>\n      <th>active_times</th>\n      <th>activity_status</th>\n    </tr>\n  </thead>\n  <tbody>\n    <tr>\n      <th>0</th>\n      <td>2020-02-12</td>\n      <td>299580108038267</td>\n      <td>90</td>\n      <td>5.9</td>\n      <td>8.1</td>\n      <td>0</td>\n      <td>2</td>\n      <td>0</td>\n    </tr>\n    <tr>\n      <th>1</th>\n      <td>2020-02-19</td>\n      <td>299580108038267</td>\n      <td>30</td>\n      <td>17.4</td>\n      <td>11.1</td>\n      <td>0</td>\n      <td>0</td>\n      <td>0</td>\n    </tr>\n    <tr>\n      <th>2</th>\n      <td>2020-02-26</td>\n      <td>299580108038267</td>\n      <td>100</td>\n      <td>16.8</td>\n      <td>4.9</td>\n      <td>3</td>\n      <td>2</td>\n      <td>0</td>\n    </tr>\n    <tr>\n      <th>3</th>\n      <td>2020-03-04</td>\n      <td>299580108038267</td>\n      <td>0</td>\n      <td>12.4</td>\n      <td>7.5</td>\n      <td>1</td>\n      <td>0</td>\n      <td>0</td>\n    </tr>\n    <tr>\n      <th>4</th>\n      <td>2020-03-11</td>\n      <td>299580108038267</td>\n      <td>0</td>\n      <td>2.7</td>\n      <td>5.3</td>\n      <td>2</td>\n      <td>0</td>\n      <td>0</td>\n    </tr>\n  </tbody>\n</table>\n</div>"
     },
     "metadata": {},
     "execution_count": 3
    }
   ],
   "source": [
    "newer_users.head()"
   ]
  },
  {
   "source": [
    "#### Using Euchlidean Distance to Compare how Similar 2 the New User is to a Churner"
   ],
   "cell_type": "markdown",
   "metadata": {}
  },
  {
   "cell_type": "code",
   "execution_count": 4,
   "metadata": {},
   "outputs": [],
   "source": [
    "def Euclidean_Dist(df1, df2, cols=d[0].columns[2:-1]):\n",
    "    return (np.linalg.norm(df1[cols].values - df2[cols].values, axis=1))"
   ]
  },
  {
   "cell_type": "code",
   "execution_count": 5,
   "metadata": {},
   "outputs": [
    {
     "output_type": "stream",
     "name": "stdout",
     "text": [
      "26   26   26\n"
     ]
    }
   ],
   "source": [
    "df1 = d[0].iloc[:-4, :-1]\n",
    "df2 = newer_users.iloc[:len(df1), :-1]\n",
    "df3 = d[1].iloc[:len(df1), :-1]\n",
    "print(len(df1), ' ', len(df2), ' ', len(df3))"
   ]
  },
  {
   "cell_type": "code",
   "execution_count": 6,
   "metadata": {},
   "outputs": [
    {
     "output_type": "execute_result",
     "data": {
      "text/plain": [
       "array([ 10.06781506,  30.10398645, 100.0189927 ,  20.05085784,\n",
       "         1.04120123,  20.09977363,  30.01670368,   2.91391489,\n",
       "        40.00002   , 500.00676005,  20.08009213,   2.64577021,\n",
       "        30.04399441,   2.47879003,  10.17150923,  30.04065412,\n",
       "         3.68814316,  30.1662477 ,   3.24266865,  30.10967286,\n",
       "       200.02877918,   2.98799264,  10.00008   ,   1.00079968,\n",
       "         1.78538511,  30.16312484])"
      ]
     },
     "metadata": {},
     "execution_count": 6
    }
   ],
   "source": [
    "distances = Euclidean_Dist(df1, df2)\n",
    "distances"
   ]
  },
  {
   "cell_type": "code",
   "execution_count": 7,
   "metadata": {},
   "outputs": [
    {
     "output_type": "execute_result",
     "data": {
      "text/plain": [
       "44.72898959526685"
      ]
     },
     "metadata": {},
     "execution_count": 7
    }
   ],
   "source": [
    "distances.mean()"
   ]
  },
  {
   "source": [
    "# comparing it to another user who is not related\n",
    "distances1 = Euclidean_Dist(df2, df3)\n",
    "distances1"
   ],
   "cell_type": "code",
   "metadata": {},
   "execution_count": 8,
   "outputs": [
    {
     "output_type": "execute_result",
     "data": {
      "text/plain": [
       "array([ 90.53333972,  23.83145191, 101.00390537,   8.99204649,\n",
       "        31.26667395, 100.26185915,  60.2511253 ,  50.07073097,\n",
       "        70.14693222, 300.02515161,  20.32950811,  52.08937032,\n",
       "        50.50728264, 200.03752548, 101.01862452,   1.54064921,\n",
       "       500.09171719,  40.21729603,  13.01892853,  20.52264359,\n",
       "       300.54482611,  70.24791029,  20.15510109,   4.21966823,\n",
       "       900.00231383,  30.24086804])"
      ]
     },
     "metadata": {},
     "execution_count": 8
    }
   ]
  },
  {
   "cell_type": "code",
   "execution_count": 9,
   "metadata": {},
   "outputs": [
    {
     "output_type": "execute_result",
     "data": {
      "text/plain": [
       "121.58336345770392"
      ]
     },
     "metadata": {},
     "execution_count": 9
    }
   ],
   "source": [
    "distances1.mean()"
   ]
  },
  {
   "source": [
    "#### As we can see, the new user is much more similar to churner 1 compared to churner 2."
   ],
   "cell_type": "markdown",
   "metadata": {}
  },
  {
   "cell_type": "code",
   "execution_count": 10,
   "metadata": {},
   "outputs": [],
   "source": [
    "df1_sums = df1.groupby('IMEI')[d[0].columns[2:-1]].sum()\n",
    "df2_sums = df2.groupby('IMEI')[d[0].columns[2:-1]].sum()"
   ]
  },
  {
   "cell_type": "code",
   "execution_count": 11,
   "metadata": {},
   "outputs": [],
   "source": [
    "# Modifying the Euchlidean Distance function\n",
    "def Mod_Euclidean_Dist(df1,df2,cols=d[0].columns[2:-1]):\n",
    "    x = df1.groupby('IMEI')[d[0].columns[2:-1]].sum()\n",
    "    y = df2.groupby('IMEI')[d[0].columns[2:-1]].sum()\n",
    "\n",
    "    return np.linalg.norm(x.values - y.values,\n",
    "                   axis=1)"
   ]
  },
  {
   "cell_type": "code",
   "execution_count": 12,
   "metadata": {},
   "outputs": [
    {
     "output_type": "execute_result",
     "data": {
      "text/plain": [
       "array([600.02220092])"
      ]
     },
     "metadata": {},
     "execution_count": 12
    }
   ],
   "source": [
    "mod_distances = Mod_Euclidean_Dist(df1,df2)\n",
    "mod_distances \n",
    "\n",
    "# the first euclidean distance result produced a much better result in terms of comparing the difference of the 2 dataframes"
   ]
  },
  {
   "source": [
    "### Different Computation Approach for Comparing\n",
    "\n",
    "Computation:\n",
    " - a = list of sums in each column of df1\n",
    " - b = list of sums in each column of df2\n",
    " - c = l/h (list of similarities per column; l = lower value in a certain index of lists a and b; h = higher value)\n",
    "\n",
    " similarity = (sum(c)/len(c))*100"
   ],
   "cell_type": "markdown",
   "metadata": {}
  },
  {
   "cell_type": "code",
   "execution_count": 13,
   "metadata": {},
   "outputs": [],
   "source": [
    "percent_sim = []\r\n",
    "\r\n",
    "for i in range(len(df1_sums.columns.tolist())):\r\n",
    "    x = 0\r\n",
    "    y = 0\r\n",
    "    if df1_sums[df1_sums.columns.tolist()[i]].tolist() < df2_sums[df2_sums.columns.tolist()[i]].tolist():\r\n",
    "        x = df1_sums[df1_sums.columns.tolist()[i]].tolist()[0]\r\n",
    "        y = df2_sums[df2_sums.columns.tolist()[i]].tolist()[0]\r\n",
    "    else:\r\n",
    "        x = df2_sums[df2_sums.columns.tolist()[i]].tolist()[0]\r\n",
    "        y = df1_sums[df1_sums.columns.tolist()[i]].tolist()[0]\r\n",
    "    percent_sim.append(x/y)"
   ]
  },
  {
   "cell_type": "code",
   "execution_count": 14,
   "metadata": {},
   "outputs": [
    {
     "output_type": "execute_result",
     "data": {
      "text/plain": [
       "                 credits_loaded_per_week  num_hrs_spend_on_net  \\\n",
       "IMEI                                                             \n",
       "823865145970266                     2940                 254.1   \n",
       "\n",
       "                 mobile_data_usage(gb)  promos_used  active_times  \n",
       "IMEI                                                               \n",
       "823865145970266                 178.14           50            23  "
      ],
      "text/html": "<div>\n<style scoped>\n    .dataframe tbody tr th:only-of-type {\n        vertical-align: middle;\n    }\n\n    .dataframe tbody tr th {\n        vertical-align: top;\n    }\n\n    .dataframe thead th {\n        text-align: right;\n    }\n</style>\n<table border=\"1\" class=\"dataframe\">\n  <thead>\n    <tr style=\"text-align: right;\">\n      <th></th>\n      <th>credits_loaded_per_week</th>\n      <th>num_hrs_spend_on_net</th>\n      <th>mobile_data_usage(gb)</th>\n      <th>promos_used</th>\n      <th>active_times</th>\n    </tr>\n    <tr>\n      <th>IMEI</th>\n      <th></th>\n      <th></th>\n      <th></th>\n      <th></th>\n      <th></th>\n    </tr>\n  </thead>\n  <tbody>\n    <tr>\n      <th>823865145970266</th>\n      <td>2940</td>\n      <td>254.1</td>\n      <td>178.14</td>\n      <td>50</td>\n      <td>23</td>\n    </tr>\n  </tbody>\n</table>\n</div>"
     },
     "metadata": {},
     "execution_count": 14
    }
   ],
   "source": [
    "df1_sums"
   ]
  },
  {
   "cell_type": "code",
   "execution_count": 15,
   "metadata": {},
   "outputs": [
    {
     "output_type": "execute_result",
     "data": {
      "text/plain": [
       "                 credits_loaded_per_week  num_hrs_spend_on_net  \\\n",
       "IMEI                                                             \n",
       "299580108038267                     2340                 253.9   \n",
       "\n",
       "                 mobile_data_usage(gb)  promos_used  active_times  \n",
       "IMEI                                                               \n",
       "299580108038267                  183.1           51            22  "
      ],
      "text/html": "<div>\n<style scoped>\n    .dataframe tbody tr th:only-of-type {\n        vertical-align: middle;\n    }\n\n    .dataframe tbody tr th {\n        vertical-align: top;\n    }\n\n    .dataframe thead th {\n        text-align: right;\n    }\n</style>\n<table border=\"1\" class=\"dataframe\">\n  <thead>\n    <tr style=\"text-align: right;\">\n      <th></th>\n      <th>credits_loaded_per_week</th>\n      <th>num_hrs_spend_on_net</th>\n      <th>mobile_data_usage(gb)</th>\n      <th>promos_used</th>\n      <th>active_times</th>\n    </tr>\n    <tr>\n      <th>IMEI</th>\n      <th></th>\n      <th></th>\n      <th></th>\n      <th></th>\n      <th></th>\n    </tr>\n  </thead>\n  <tbody>\n    <tr>\n      <th>299580108038267</th>\n      <td>2340</td>\n      <td>253.9</td>\n      <td>183.1</td>\n      <td>51</td>\n      <td>22</td>\n    </tr>\n  </tbody>\n</table>\n</div>"
     },
     "metadata": {},
     "execution_count": 15
    }
   ],
   "source": [
    "df2_sums"
   ]
  },
  {
   "cell_type": "code",
   "execution_count": 16,
   "metadata": {},
   "outputs": [
    {
     "output_type": "stream",
     "name": "stdout",
     "text": [
      "Similarity is: 94.10%\n"
     ]
    }
   ],
   "source": [
    "ave_sim = sum(percent_sim)/len(percent_sim)*100\r\n",
    "print('Similarity is: {0:.2f}%'.format(float(ave_sim)))"
   ]
  },
  {
   "cell_type": "code",
   "execution_count": null,
   "metadata": {},
   "outputs": [],
   "source": []
  }
 ]
}