{
 "metadata": {
  "language_info": {
   "codemirror_mode": {
    "name": "ipython",
    "version": 3
   },
   "file_extension": ".py",
   "mimetype": "text/x-python",
   "name": "python",
   "nbconvert_exporter": "python",
   "pygments_lexer": "ipython3",
   "version": "3.8.3"
  },
  "orig_nbformat": 4,
  "kernelspec": {
   "name": "python3",
   "display_name": "Python 3.8.3 64-bit ('base': conda)"
  },
  "interpreter": {
   "hash": "80e949a67cf278127b748d188dfe995fcb9b6fe4ab79bb80686294a040d0359f"
  }
 },
 "nbformat": 4,
 "nbformat_minor": 2,
 "cells": [
  {
   "source": [
    "# Creating Mock Rotational Churn Data"
   ],
   "cell_type": "markdown",
   "metadata": {}
  },
  {
   "cell_type": "code",
   "execution_count": 1,
   "metadata": {},
   "outputs": [],
   "source": [
    "import numpy as np\n",
    "import pandas as pd\n",
    "from random import seed\n",
    "from random import randint\n",
    "import datetime\n",
    "\n",
    "# My python script for creating mock data\n",
    "import mock_data_script as mds"
   ]
  },
  {
   "cell_type": "code",
   "execution_count": 2,
   "metadata": {},
   "outputs": [
    {
     "output_type": "stream",
     "name": "stdout",
     "text": [
      "We will be generating 16 instances of the user.\n"
     ]
    }
   ],
   "source": [
    "# Function for randomizing how many times users would appear in the data to simulate creating multiple unique call entries (1-15)\n",
    "\n",
    "inst = mds.instances()\n",
    "print('We will be generating {} instances of the user.'.format(inst))"
   ]
  },
  {
   "source": [
    "# Creating Unique Entries"
   ],
   "cell_type": "markdown",
   "metadata": {}
  },
  {
   "cell_type": "code",
   "execution_count": 3,
   "metadata": {},
   "outputs": [],
   "source": [
    "def unique_entry(ins):\n",
    "    user_imei = []\n",
    "    user_imsi = []\n",
    "    user_msisdn = []\n",
    "    user_phone_num = []\n",
    "    contacted_nums = []\n",
    "    called_nums = []\n",
    "    texted_nums = []\n",
    "    call_site = []\n",
    "    text_site = []\n",
    "    contact_date = []\n",
    "    user_apps = []\n",
    "    net_hrs_spent = []\n",
    "    load = []\n",
    "    md_usage = []\n",
    "    active_time = []\n",
    "\n",
    "    \n",
    "    uni_imei = mds.generate_IMEI()\n",
    "    uni_imsi = mds.generate_IMSI()\n",
    "    uni_msisdn = mds.generate_MSISDN()\n",
    "    uni_pn = '09' + uni_msisdn\n",
    "\n",
    "    for _ in range(ins):\n",
    "        user_imei.append(uni_imei)\n",
    "        user_imsi.append(uni_imsi)\n",
    "        user_msisdn.append('639' + uni_msisdn)\n",
    "        user_phone_num.append(uni_pn)\n",
    "\n",
    "        uni_called = mds.generate_YN()\n",
    "        uni_texted = mds.generate_YN()\n",
    "        called_nums.append(uni_called)\n",
    "        texted_nums.append(uni_texted)\n",
    "        call_site.append(mds.generate_cell_tower(uni_called))\n",
    "        text_site.append(mds.generate_cell_tower(uni_texted))\n",
    "        contact_date.append(mds.generate_date())\n",
    "        user_apps.append(mds.generate_apps())\n",
    "\n",
    "        net_hrs = mds.generate_num_of_hrs()\n",
    "        net_hrs_spent.append(net_hrs)\n",
    "\n",
    "        uni_load = mds.generate_avg_load()\n",
    "        load.append(uni_load)\n",
    "\n",
    "        md_usage.append(mds.generate_md_usage())\n",
    "        active_time.append(mds.generate_active_time())\n",
    "\n",
    "        # Just in case the generated called number is equal to one's own number.\n",
    "        valid=True\n",
    "        while(valid):\n",
    "            contacted = mds.generate_PN()\n",
    "            if contacted != uni_pn:\n",
    "                contacted_nums.append(mds.generate_PN())\n",
    "                valid=False\n",
    "\n",
    "    return user_imei, user_imsi, user_msisdn, user_phone_num, contacted_nums, called_nums, texted_nums, call_site, text_site, contact_date, user_apps, net_hrs_spent, load, md_usage, active_time"
   ]
  },
  {
   "cell_type": "code",
   "execution_count": 4,
   "metadata": {},
   "outputs": [],
   "source": [
    "IMEIs, IMSIs, MSISDNs, PNs, Contacted, Called, Texted, cSite, tSite, con_date, apps_used, net_hrs_avg, load_amt, mobile_data, active_time_day_night = unique_entry(inst)"
   ]
  },
  {
   "cell_type": "code",
   "execution_count": 5,
   "metadata": {},
   "outputs": [],
   "source": [
    "mock = {'IMEIs':IMEIs, 'IMSIs':IMSIs, 'MSISDNs':MSISDNs, 'Phone_Num':PNs, 'Contacted_Nums':Contacted, 'Called':Called, 'Texted':Texted, 'call_site':cSite, 'text_site':tSite, 'contact_date':con_date, 'user_apps':apps_used, 'net_hrs_spent(hrs)':net_hrs_avg, 'load_amt(php)':load_amt, 'mobile_data_usage(gb)':mobile_data, 'active_time':active_time_day_night}"
   ]
  },
  {
   "cell_type": "code",
   "execution_count": 6,
   "metadata": {},
   "outputs": [
    {
     "output_type": "execute_result",
     "data": {
      "text/plain": [
       "             IMEIs            IMSIs       MSISDNs    Phone_Num Contacted_Nums  \\\n",
       "0  219742189102274  515022095584684  639904771101  09904771101    09254175505   \n",
       "1  219742189102274  515022095584684  639904771101  09904771101    09241347050   \n",
       "2  219742189102274  515022095584684  639904771101  09904771101    09914781099   \n",
       "3  219742189102274  515022095584684  639904771101  09904771101    09538031002   \n",
       "4  219742189102274  515022095584684  639904771101  09904771101    09251415391   \n",
       "\n",
       "  Called Texted call_site text_site contact_date  \\\n",
       "0     no    yes        NS      T599   2019-08-09   \n",
       "1    yes    yes     T2129     T1056   2020-11-07   \n",
       "2    yes    yes    T10193     T7592   2020-10-02   \n",
       "3    yes     no     T3938        NS   2020-02-03   \n",
       "4    yes     no     T2028        NS   2019-09-27   \n",
       "\n",
       "                                           user_apps  net_hrs_spent(hrs)  \\\n",
       "0   paypal, viber, YT Music, lazada, twitch, discord                 1.3   \n",
       "1  paymaya, messenger, gcash, reddit, shopee, twi...                 3.5   \n",
       "2  chrome, twitch, discord, viber, youtube, paypa...                11.4   \n",
       "3  discord, grab, viber, paypal, paymaya, youtube...                19.6   \n",
       "4  discord, chrome, YT Music, netflix, spotify, y...                 7.1   \n",
       "\n",
       "   load_amt(php)  mobile_data_usage(gb) active_time  \n",
       "0             96                   4.51         day  \n",
       "1            260                   3.15       night  \n",
       "2             83                   4.82       night  \n",
       "3            208                   1.53       night  \n",
       "4            347                   2.24       night  "
      ],
      "text/html": "<div>\n<style scoped>\n    .dataframe tbody tr th:only-of-type {\n        vertical-align: middle;\n    }\n\n    .dataframe tbody tr th {\n        vertical-align: top;\n    }\n\n    .dataframe thead th {\n        text-align: right;\n    }\n</style>\n<table border=\"1\" class=\"dataframe\">\n  <thead>\n    <tr style=\"text-align: right;\">\n      <th></th>\n      <th>IMEIs</th>\n      <th>IMSIs</th>\n      <th>MSISDNs</th>\n      <th>Phone_Num</th>\n      <th>Contacted_Nums</th>\n      <th>Called</th>\n      <th>Texted</th>\n      <th>call_site</th>\n      <th>text_site</th>\n      <th>contact_date</th>\n      <th>user_apps</th>\n      <th>net_hrs_spent(hrs)</th>\n      <th>load_amt(php)</th>\n      <th>mobile_data_usage(gb)</th>\n      <th>active_time</th>\n    </tr>\n  </thead>\n  <tbody>\n    <tr>\n      <th>0</th>\n      <td>219742189102274</td>\n      <td>515022095584684</td>\n      <td>639904771101</td>\n      <td>09904771101</td>\n      <td>09254175505</td>\n      <td>no</td>\n      <td>yes</td>\n      <td>NS</td>\n      <td>T599</td>\n      <td>2019-08-09</td>\n      <td>paypal, viber, YT Music, lazada, twitch, discord</td>\n      <td>1.3</td>\n      <td>96</td>\n      <td>4.51</td>\n      <td>day</td>\n    </tr>\n    <tr>\n      <th>1</th>\n      <td>219742189102274</td>\n      <td>515022095584684</td>\n      <td>639904771101</td>\n      <td>09904771101</td>\n      <td>09241347050</td>\n      <td>yes</td>\n      <td>yes</td>\n      <td>T2129</td>\n      <td>T1056</td>\n      <td>2020-11-07</td>\n      <td>paymaya, messenger, gcash, reddit, shopee, twi...</td>\n      <td>3.5</td>\n      <td>260</td>\n      <td>3.15</td>\n      <td>night</td>\n    </tr>\n    <tr>\n      <th>2</th>\n      <td>219742189102274</td>\n      <td>515022095584684</td>\n      <td>639904771101</td>\n      <td>09904771101</td>\n      <td>09914781099</td>\n      <td>yes</td>\n      <td>yes</td>\n      <td>T10193</td>\n      <td>T7592</td>\n      <td>2020-10-02</td>\n      <td>chrome, twitch, discord, viber, youtube, paypa...</td>\n      <td>11.4</td>\n      <td>83</td>\n      <td>4.82</td>\n      <td>night</td>\n    </tr>\n    <tr>\n      <th>3</th>\n      <td>219742189102274</td>\n      <td>515022095584684</td>\n      <td>639904771101</td>\n      <td>09904771101</td>\n      <td>09538031002</td>\n      <td>yes</td>\n      <td>no</td>\n      <td>T3938</td>\n      <td>NS</td>\n      <td>2020-02-03</td>\n      <td>discord, grab, viber, paypal, paymaya, youtube...</td>\n      <td>19.6</td>\n      <td>208</td>\n      <td>1.53</td>\n      <td>night</td>\n    </tr>\n    <tr>\n      <th>4</th>\n      <td>219742189102274</td>\n      <td>515022095584684</td>\n      <td>639904771101</td>\n      <td>09904771101</td>\n      <td>09251415391</td>\n      <td>yes</td>\n      <td>no</td>\n      <td>T2028</td>\n      <td>NS</td>\n      <td>2019-09-27</td>\n      <td>discord, chrome, YT Music, netflix, spotify, y...</td>\n      <td>7.1</td>\n      <td>347</td>\n      <td>2.24</td>\n      <td>night</td>\n    </tr>\n  </tbody>\n</table>\n</div>"
     },
     "metadata": {},
     "execution_count": 6
    }
   ],
   "source": [
    "df = pd.DataFrame(data=mock)\n",
    "\n",
    "for i in range(500):\n",
    "    inst = mds.instances()\n",
    "    IMEIs, IMSIs, MSISDNs, PNs, Contacted, Called, Texted, cSite, tSite, con_date, apps_used, net_hrs_avg, load_amt, mobile_data, active_time_day_night = unique_entry(inst)\n",
    "    mock = {\n",
    "        'IMEIs':IMEIs, \n",
    "        'IMSIs':IMSIs, \n",
    "        'MSISDNs':MSISDNs, \n",
    "        'Phone_Num':PNs, \n",
    "        'Contacted_Nums':Contacted, \n",
    "        'Called':Called, \n",
    "        'Texted':Texted, \n",
    "        'call_site':cSite, \n",
    "        'text_site':tSite, \n",
    "        'contact_date':con_date, \n",
    "        'user_apps':apps_used, \n",
    "        'net_hrs_spent(hrs)':net_hrs_avg, \n",
    "        'load_amt(php)':load_amt, \n",
    "        'mobile_data_usage(gb)':mobile_data, \n",
    "        'active_time':active_time_day_night\n",
    "        }\n",
    "\n",
    "    x = pd.DataFrame(data=mock)\n",
    "    df = pd.concat([df,x], ignore_index=True)\n",
    "\n",
    "df.head()"
   ]
  },
  {
   "cell_type": "code",
   "execution_count": 7,
   "metadata": {},
   "outputs": [
    {
     "output_type": "execute_result",
     "data": {
      "text/plain": [
       "6677"
      ]
     },
     "metadata": {},
     "execution_count": 7
    }
   ],
   "source": [
    "len(df)"
   ]
  },
  {
   "cell_type": "code",
   "execution_count": 8,
   "metadata": {},
   "outputs": [],
   "source": [
    "#df['IMEIs'] = df['IMEIs'].astype('str')\n",
    "#df['IMSIs'] = df['IMSIs'].astype('str')\n",
    "#df['MSISDNs'] = df['MSISDNs'].astype('str')\n",
    "#df['Phone_Num'] = df['Phone_Num'].astype('str')\n",
    "#df['Contacted_Nums'] = df['Contacted_Nums'].astype('str')\n",
    "df.to_excel('data/mock/rotational_churn_mock_data.xlsx',index=False)\n",
    "df.to_csv('data/mock/rotational_churn_mock_data.csv',index=False)"
   ]
  },
  {
   "cell_type": "code",
   "execution_count": 9,
   "metadata": {},
   "outputs": [
    {
     "output_type": "execute_result",
     "data": {
      "text/plain": [
       "             IMEIs            IMSIs       MSISDNs    Phone_Num Contacted_Nums  \\\n",
       "0  219742189102274  515022095584684  639904771101  09904771101    09254175505   \n",
       "1  219742189102274  515022095584684  639904771101  09904771101    09241347050   \n",
       "2  219742189102274  515022095584684  639904771101  09904771101    09914781099   \n",
       "3  219742189102274  515022095584684  639904771101  09904771101    09538031002   \n",
       "4  219742189102274  515022095584684  639904771101  09904771101    09251415391   \n",
       "\n",
       "  Called Texted call_site text_site         contact_date  \\\n",
       "0     no    yes        NS      T599  2019-08-09 00:00:00   \n",
       "1    yes    yes     T2129     T1056  2020-11-07 00:00:00   \n",
       "2    yes    yes    T10193     T7592  2020-10-02 00:00:00   \n",
       "3    yes     no     T3938        NS  2020-02-03 00:00:00   \n",
       "4    yes     no     T2028        NS  2019-09-27 00:00:00   \n",
       "\n",
       "                                           user_apps net_hrs_spent(hrs)  \\\n",
       "0   paypal, viber, YT Music, lazada, twitch, discord                1.3   \n",
       "1  paymaya, messenger, gcash, reddit, shopee, twi...                3.5   \n",
       "2  chrome, twitch, discord, viber, youtube, paypa...               11.4   \n",
       "3  discord, grab, viber, paypal, paymaya, youtube...               19.6   \n",
       "4  discord, chrome, YT Music, netflix, spotify, y...                7.1   \n",
       "\n",
       "  load_amt(php) mobile_data_usage(gb) active_time  \n",
       "0            96                  4.51         day  \n",
       "1           260                  3.15       night  \n",
       "2            83                  4.82       night  \n",
       "3           208                  1.53       night  \n",
       "4           347                  2.24       night  "
      ],
      "text/html": "<div>\n<style scoped>\n    .dataframe tbody tr th:only-of-type {\n        vertical-align: middle;\n    }\n\n    .dataframe tbody tr th {\n        vertical-align: top;\n    }\n\n    .dataframe thead th {\n        text-align: right;\n    }\n</style>\n<table border=\"1\" class=\"dataframe\">\n  <thead>\n    <tr style=\"text-align: right;\">\n      <th></th>\n      <th>IMEIs</th>\n      <th>IMSIs</th>\n      <th>MSISDNs</th>\n      <th>Phone_Num</th>\n      <th>Contacted_Nums</th>\n      <th>Called</th>\n      <th>Texted</th>\n      <th>call_site</th>\n      <th>text_site</th>\n      <th>contact_date</th>\n      <th>user_apps</th>\n      <th>net_hrs_spent(hrs)</th>\n      <th>load_amt(php)</th>\n      <th>mobile_data_usage(gb)</th>\n      <th>active_time</th>\n    </tr>\n  </thead>\n  <tbody>\n    <tr>\n      <th>0</th>\n      <td>219742189102274</td>\n      <td>515022095584684</td>\n      <td>639904771101</td>\n      <td>09904771101</td>\n      <td>09254175505</td>\n      <td>no</td>\n      <td>yes</td>\n      <td>NS</td>\n      <td>T599</td>\n      <td>2019-08-09 00:00:00</td>\n      <td>paypal, viber, YT Music, lazada, twitch, discord</td>\n      <td>1.3</td>\n      <td>96</td>\n      <td>4.51</td>\n      <td>day</td>\n    </tr>\n    <tr>\n      <th>1</th>\n      <td>219742189102274</td>\n      <td>515022095584684</td>\n      <td>639904771101</td>\n      <td>09904771101</td>\n      <td>09241347050</td>\n      <td>yes</td>\n      <td>yes</td>\n      <td>T2129</td>\n      <td>T1056</td>\n      <td>2020-11-07 00:00:00</td>\n      <td>paymaya, messenger, gcash, reddit, shopee, twi...</td>\n      <td>3.5</td>\n      <td>260</td>\n      <td>3.15</td>\n      <td>night</td>\n    </tr>\n    <tr>\n      <th>2</th>\n      <td>219742189102274</td>\n      <td>515022095584684</td>\n      <td>639904771101</td>\n      <td>09904771101</td>\n      <td>09914781099</td>\n      <td>yes</td>\n      <td>yes</td>\n      <td>T10193</td>\n      <td>T7592</td>\n      <td>2020-10-02 00:00:00</td>\n      <td>chrome, twitch, discord, viber, youtube, paypa...</td>\n      <td>11.4</td>\n      <td>83</td>\n      <td>4.82</td>\n      <td>night</td>\n    </tr>\n    <tr>\n      <th>3</th>\n      <td>219742189102274</td>\n      <td>515022095584684</td>\n      <td>639904771101</td>\n      <td>09904771101</td>\n      <td>09538031002</td>\n      <td>yes</td>\n      <td>no</td>\n      <td>T3938</td>\n      <td>NS</td>\n      <td>2020-02-03 00:00:00</td>\n      <td>discord, grab, viber, paypal, paymaya, youtube...</td>\n      <td>19.6</td>\n      <td>208</td>\n      <td>1.53</td>\n      <td>night</td>\n    </tr>\n    <tr>\n      <th>4</th>\n      <td>219742189102274</td>\n      <td>515022095584684</td>\n      <td>639904771101</td>\n      <td>09904771101</td>\n      <td>09251415391</td>\n      <td>yes</td>\n      <td>no</td>\n      <td>T2028</td>\n      <td>NS</td>\n      <td>2019-09-27 00:00:00</td>\n      <td>discord, chrome, YT Music, netflix, spotify, y...</td>\n      <td>7.1</td>\n      <td>347</td>\n      <td>2.24</td>\n      <td>night</td>\n    </tr>\n  </tbody>\n</table>\n</div>"
     },
     "metadata": {},
     "execution_count": 9
    }
   ],
   "source": [
    "data = pd.read_excel('data/mock/rotational_churn_mock_data.xlsx', dtype='str')\r\n",
    "data.head()"
   ]
  },
  {
   "cell_type": "code",
   "execution_count": 10,
   "metadata": {},
   "outputs": [
    {
     "output_type": "execute_result",
     "data": {
      "text/plain": [
       "             IMEIs            IMSIs       MSISDNs    Phone_Num Contacted_Nums  \\\n",
       "0  219742189102274  515022095584684  639904771101  09904771101    09254175505   \n",
       "1  219742189102274  515022095584684  639904771101  09904771101    09241347050   \n",
       "2  219742189102274  515022095584684  639904771101  09904771101    09914781099   \n",
       "3  219742189102274  515022095584684  639904771101  09904771101    09538031002   \n",
       "4  219742189102274  515022095584684  639904771101  09904771101    09251415391   \n",
       "\n",
       "  Called Texted call_site text_site contact_date  \\\n",
       "0     no    yes        NS      T599   2019-08-09   \n",
       "1    yes    yes     T2129     T1056   2020-11-07   \n",
       "2    yes    yes    T10193     T7592   2020-10-02   \n",
       "3    yes     no     T3938        NS   2020-02-03   \n",
       "4    yes     no     T2028        NS   2019-09-27   \n",
       "\n",
       "                                           user_apps net_hrs_spent(hrs)  \\\n",
       "0   paypal, viber, YT Music, lazada, twitch, discord                1.3   \n",
       "1  paymaya, messenger, gcash, reddit, shopee, twi...                3.5   \n",
       "2  chrome, twitch, discord, viber, youtube, paypa...               11.4   \n",
       "3  discord, grab, viber, paypal, paymaya, youtube...               19.6   \n",
       "4  discord, chrome, YT Music, netflix, spotify, y...                7.1   \n",
       "\n",
       "  load_amt(php) mobile_data_usage(gb) active_time  \n",
       "0            96                  4.51         day  \n",
       "1           260                  3.15       night  \n",
       "2            83                  4.82       night  \n",
       "3           208                  1.53       night  \n",
       "4           347                  2.24       night  "
      ],
      "text/html": "<div>\n<style scoped>\n    .dataframe tbody tr th:only-of-type {\n        vertical-align: middle;\n    }\n\n    .dataframe tbody tr th {\n        vertical-align: top;\n    }\n\n    .dataframe thead th {\n        text-align: right;\n    }\n</style>\n<table border=\"1\" class=\"dataframe\">\n  <thead>\n    <tr style=\"text-align: right;\">\n      <th></th>\n      <th>IMEIs</th>\n      <th>IMSIs</th>\n      <th>MSISDNs</th>\n      <th>Phone_Num</th>\n      <th>Contacted_Nums</th>\n      <th>Called</th>\n      <th>Texted</th>\n      <th>call_site</th>\n      <th>text_site</th>\n      <th>contact_date</th>\n      <th>user_apps</th>\n      <th>net_hrs_spent(hrs)</th>\n      <th>load_amt(php)</th>\n      <th>mobile_data_usage(gb)</th>\n      <th>active_time</th>\n    </tr>\n  </thead>\n  <tbody>\n    <tr>\n      <th>0</th>\n      <td>219742189102274</td>\n      <td>515022095584684</td>\n      <td>639904771101</td>\n      <td>09904771101</td>\n      <td>09254175505</td>\n      <td>no</td>\n      <td>yes</td>\n      <td>NS</td>\n      <td>T599</td>\n      <td>2019-08-09</td>\n      <td>paypal, viber, YT Music, lazada, twitch, discord</td>\n      <td>1.3</td>\n      <td>96</td>\n      <td>4.51</td>\n      <td>day</td>\n    </tr>\n    <tr>\n      <th>1</th>\n      <td>219742189102274</td>\n      <td>515022095584684</td>\n      <td>639904771101</td>\n      <td>09904771101</td>\n      <td>09241347050</td>\n      <td>yes</td>\n      <td>yes</td>\n      <td>T2129</td>\n      <td>T1056</td>\n      <td>2020-11-07</td>\n      <td>paymaya, messenger, gcash, reddit, shopee, twi...</td>\n      <td>3.5</td>\n      <td>260</td>\n      <td>3.15</td>\n      <td>night</td>\n    </tr>\n    <tr>\n      <th>2</th>\n      <td>219742189102274</td>\n      <td>515022095584684</td>\n      <td>639904771101</td>\n      <td>09904771101</td>\n      <td>09914781099</td>\n      <td>yes</td>\n      <td>yes</td>\n      <td>T10193</td>\n      <td>T7592</td>\n      <td>2020-10-02</td>\n      <td>chrome, twitch, discord, viber, youtube, paypa...</td>\n      <td>11.4</td>\n      <td>83</td>\n      <td>4.82</td>\n      <td>night</td>\n    </tr>\n    <tr>\n      <th>3</th>\n      <td>219742189102274</td>\n      <td>515022095584684</td>\n      <td>639904771101</td>\n      <td>09904771101</td>\n      <td>09538031002</td>\n      <td>yes</td>\n      <td>no</td>\n      <td>T3938</td>\n      <td>NS</td>\n      <td>2020-02-03</td>\n      <td>discord, grab, viber, paypal, paymaya, youtube...</td>\n      <td>19.6</td>\n      <td>208</td>\n      <td>1.53</td>\n      <td>night</td>\n    </tr>\n    <tr>\n      <th>4</th>\n      <td>219742189102274</td>\n      <td>515022095584684</td>\n      <td>639904771101</td>\n      <td>09904771101</td>\n      <td>09251415391</td>\n      <td>yes</td>\n      <td>no</td>\n      <td>T2028</td>\n      <td>NS</td>\n      <td>2019-09-27</td>\n      <td>discord, chrome, YT Music, netflix, spotify, y...</td>\n      <td>7.1</td>\n      <td>347</td>\n      <td>2.24</td>\n      <td>night</td>\n    </tr>\n  </tbody>\n</table>\n</div>"
     },
     "metadata": {},
     "execution_count": 10
    }
   ],
   "source": [
    "data = pd.read_csv('data/mock/rotational_churn_mock_data.csv', dtype='str')\n",
    "data.head()"
   ]
  },
  {
   "cell_type": "code",
   "execution_count": null,
   "metadata": {},
   "outputs": [],
   "source": []
  }
 ]
}