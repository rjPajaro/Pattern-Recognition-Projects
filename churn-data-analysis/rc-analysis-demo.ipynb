{
 "metadata": {
  "language_info": {
   "codemirror_mode": {
    "name": "ipython",
    "version": 3
   },
   "file_extension": ".py",
   "mimetype": "text/x-python",
   "name": "python",
   "nbconvert_exporter": "python",
   "pygments_lexer": "ipython3",
   "version": "3.8.3"
  },
  "orig_nbformat": 4,
  "kernelspec": {
   "name": "python3",
   "display_name": "Python 3.8.3 64-bit ('base': conda)"
  },
  "interpreter": {
   "hash": "80e949a67cf278127b748d188dfe995fcb9b6fe4ab79bb80686294a040d0359f"
  }
 },
 "nbformat": 4,
 "nbformat_minor": 2,
 "cells": [
  {
   "cell_type": "markdown",
   "source": [
    "# Analyzing Data for Rotational Churners"
   ],
   "metadata": {}
  },
  {
   "cell_type": "markdown",
   "source": [
    "Loading the churner data and data of the newer/more recent users"
   ],
   "metadata": {}
  },
  {
   "cell_type": "code",
   "execution_count": 1,
   "source": [
    "import numpy as np\r\n",
    "import pandas as pd\r\n",
    "\r\n",
    "dfs = pd.ExcelFile('data/mock/sample_mock_rc_data.xlsx')\r\n",
    "sheets = dfs.sheet_names\r\n",
    "d = []\r\n",
    "for i in range(10):\r\n",
    "    d.append(dfs.parse(sheet_name=sheets[i]))\r\n",
    "\r\n",
    "newer_users = pd.read_excel('data/mock/sample_mock_nu_data.xlsx')"
   ],
   "outputs": [],
   "metadata": {}
  },
  {
   "cell_type": "code",
   "execution_count": 2,
   "source": [
    "d[0].head()"
   ],
   "outputs": [
    {
     "output_type": "execute_result",
     "data": {
      "text/plain": [
       "       weeks             IMEI  credits_loaded_per_week  num_hrs_spend_on_net  \\\n",
       "0 2019-07-17  823865145970266                      100                   5.3   \n",
       "1 2019-07-24  823865145970266                        0                  17.4   \n",
       "2 2019-07-31  823865145970266                      200                  15.5   \n",
       "3 2019-08-07  823865145970266                       20                  13.2   \n",
       "4 2019-08-14  823865145970266                        0                   2.7   \n",
       "\n",
       "   mobile_data_usage(gb)  promos_used  active_times  activity_status  \n",
       "0                   8.07            0             1                0  \n",
       "1                   8.60            0             0                0  \n",
       "2                   5.23            2             1                0  \n",
       "3                   6.87            2             0                0  \n",
       "4                   5.59            3             0                0  "
      ],
      "text/html": [
       "<div>\n",
       "<style scoped>\n",
       "    .dataframe tbody tr th:only-of-type {\n",
       "        vertical-align: middle;\n",
       "    }\n",
       "\n",
       "    .dataframe tbody tr th {\n",
       "        vertical-align: top;\n",
       "    }\n",
       "\n",
       "    .dataframe thead th {\n",
       "        text-align: right;\n",
       "    }\n",
       "</style>\n",
       "<table border=\"1\" class=\"dataframe\">\n",
       "  <thead>\n",
       "    <tr style=\"text-align: right;\">\n",
       "      <th></th>\n",
       "      <th>weeks</th>\n",
       "      <th>IMEI</th>\n",
       "      <th>credits_loaded_per_week</th>\n",
       "      <th>num_hrs_spend_on_net</th>\n",
       "      <th>mobile_data_usage(gb)</th>\n",
       "      <th>promos_used</th>\n",
       "      <th>active_times</th>\n",
       "      <th>activity_status</th>\n",
       "    </tr>\n",
       "  </thead>\n",
       "  <tbody>\n",
       "    <tr>\n",
       "      <th>0</th>\n",
       "      <td>2019-07-17</td>\n",
       "      <td>823865145970266</td>\n",
       "      <td>100</td>\n",
       "      <td>5.3</td>\n",
       "      <td>8.07</td>\n",
       "      <td>0</td>\n",
       "      <td>1</td>\n",
       "      <td>0</td>\n",
       "    </tr>\n",
       "    <tr>\n",
       "      <th>1</th>\n",
       "      <td>2019-07-24</td>\n",
       "      <td>823865145970266</td>\n",
       "      <td>0</td>\n",
       "      <td>17.4</td>\n",
       "      <td>8.60</td>\n",
       "      <td>0</td>\n",
       "      <td>0</td>\n",
       "      <td>0</td>\n",
       "    </tr>\n",
       "    <tr>\n",
       "      <th>2</th>\n",
       "      <td>2019-07-31</td>\n",
       "      <td>823865145970266</td>\n",
       "      <td>200</td>\n",
       "      <td>15.5</td>\n",
       "      <td>5.23</td>\n",
       "      <td>2</td>\n",
       "      <td>1</td>\n",
       "      <td>0</td>\n",
       "    </tr>\n",
       "    <tr>\n",
       "      <th>3</th>\n",
       "      <td>2019-08-07</td>\n",
       "      <td>823865145970266</td>\n",
       "      <td>20</td>\n",
       "      <td>13.2</td>\n",
       "      <td>6.87</td>\n",
       "      <td>2</td>\n",
       "      <td>0</td>\n",
       "      <td>0</td>\n",
       "    </tr>\n",
       "    <tr>\n",
       "      <th>4</th>\n",
       "      <td>2019-08-14</td>\n",
       "      <td>823865145970266</td>\n",
       "      <td>0</td>\n",
       "      <td>2.7</td>\n",
       "      <td>5.59</td>\n",
       "      <td>3</td>\n",
       "      <td>0</td>\n",
       "      <td>0</td>\n",
       "    </tr>\n",
       "  </tbody>\n",
       "</table>\n",
       "</div>"
      ]
     },
     "metadata": {},
     "execution_count": 2
    }
   ],
   "metadata": {}
  },
  {
   "cell_type": "code",
   "execution_count": 3,
   "source": [
    "newer_users.head()"
   ],
   "outputs": [
    {
     "output_type": "execute_result",
     "data": {
      "text/plain": [
       "       weeks             IMEI  credits_loaded_per_week  num_hrs_spend_on_net  \\\n",
       "0 2020-02-12  299580108038267                       90                   5.9   \n",
       "1 2020-02-19  299580108038267                       30                  17.4   \n",
       "2 2020-02-26  299580108038267                      100                  16.8   \n",
       "3 2020-03-04  299580108038267                        0                  12.4   \n",
       "4 2020-03-11  299580108038267                        0                   2.7   \n",
       "\n",
       "   mobile_data_usage(gb)  promos_used  active_times  activity_status  \n",
       "0                    8.1            0             2                0  \n",
       "1                   11.1            0             0                0  \n",
       "2                    4.9            3             2                0  \n",
       "3                    7.5            1             0                0  \n",
       "4                    5.3            2             0                0  "
      ],
      "text/html": [
       "<div>\n",
       "<style scoped>\n",
       "    .dataframe tbody tr th:only-of-type {\n",
       "        vertical-align: middle;\n",
       "    }\n",
       "\n",
       "    .dataframe tbody tr th {\n",
       "        vertical-align: top;\n",
       "    }\n",
       "\n",
       "    .dataframe thead th {\n",
       "        text-align: right;\n",
       "    }\n",
       "</style>\n",
       "<table border=\"1\" class=\"dataframe\">\n",
       "  <thead>\n",
       "    <tr style=\"text-align: right;\">\n",
       "      <th></th>\n",
       "      <th>weeks</th>\n",
       "      <th>IMEI</th>\n",
       "      <th>credits_loaded_per_week</th>\n",
       "      <th>num_hrs_spend_on_net</th>\n",
       "      <th>mobile_data_usage(gb)</th>\n",
       "      <th>promos_used</th>\n",
       "      <th>active_times</th>\n",
       "      <th>activity_status</th>\n",
       "    </tr>\n",
       "  </thead>\n",
       "  <tbody>\n",
       "    <tr>\n",
       "      <th>0</th>\n",
       "      <td>2020-02-12</td>\n",
       "      <td>299580108038267</td>\n",
       "      <td>90</td>\n",
       "      <td>5.9</td>\n",
       "      <td>8.1</td>\n",
       "      <td>0</td>\n",
       "      <td>2</td>\n",
       "      <td>0</td>\n",
       "    </tr>\n",
       "    <tr>\n",
       "      <th>1</th>\n",
       "      <td>2020-02-19</td>\n",
       "      <td>299580108038267</td>\n",
       "      <td>30</td>\n",
       "      <td>17.4</td>\n",
       "      <td>11.1</td>\n",
       "      <td>0</td>\n",
       "      <td>0</td>\n",
       "      <td>0</td>\n",
       "    </tr>\n",
       "    <tr>\n",
       "      <th>2</th>\n",
       "      <td>2020-02-26</td>\n",
       "      <td>299580108038267</td>\n",
       "      <td>100</td>\n",
       "      <td>16.8</td>\n",
       "      <td>4.9</td>\n",
       "      <td>3</td>\n",
       "      <td>2</td>\n",
       "      <td>0</td>\n",
       "    </tr>\n",
       "    <tr>\n",
       "      <th>3</th>\n",
       "      <td>2020-03-04</td>\n",
       "      <td>299580108038267</td>\n",
       "      <td>0</td>\n",
       "      <td>12.4</td>\n",
       "      <td>7.5</td>\n",
       "      <td>1</td>\n",
       "      <td>0</td>\n",
       "      <td>0</td>\n",
       "    </tr>\n",
       "    <tr>\n",
       "      <th>4</th>\n",
       "      <td>2020-03-11</td>\n",
       "      <td>299580108038267</td>\n",
       "      <td>0</td>\n",
       "      <td>2.7</td>\n",
       "      <td>5.3</td>\n",
       "      <td>2</td>\n",
       "      <td>0</td>\n",
       "      <td>0</td>\n",
       "    </tr>\n",
       "  </tbody>\n",
       "</table>\n",
       "</div>"
      ]
     },
     "metadata": {},
     "execution_count": 3
    }
   ],
   "metadata": {}
  },
  {
   "cell_type": "markdown",
   "source": [
    "#### Using Euchlidean Distance to Compare how Similar 2 the New User is to a Churner"
   ],
   "metadata": {}
  },
  {
   "cell_type": "code",
   "execution_count": 4,
   "source": [
    "def Euclidean_Dist(df1, df2, cols=d[0].columns[2:-1]):\r\n",
    "    return (np.linalg.norm(df1[cols].values - df2[cols].values, axis=1))"
   ],
   "outputs": [],
   "metadata": {}
  },
  {
   "cell_type": "code",
   "execution_count": 5,
   "source": [
    "df1 = d[0].iloc[:-4, :-1]\r\n",
    "df2 = newer_users.iloc[:len(df1), :-1]\r\n",
    "df3 = d[1].iloc[:len(df1), :-1]\r\n",
    "print(len(df1), ' ', len(df2), ' ', len(df3))"
   ],
   "outputs": [
    {
     "output_type": "stream",
     "name": "stdout",
     "text": [
      "26   26   26\n"
     ]
    }
   ],
   "metadata": {}
  },
  {
   "cell_type": "code",
   "execution_count": 6,
   "source": [
    "distances = Euclidean_Dist(df1, df2)\r\n",
    "distances"
   ],
   "outputs": [
    {
     "output_type": "execute_result",
     "data": {
      "text/plain": [
       "array([ 10.06781506,  30.10398645, 100.0189927 ,  20.05085784,\n",
       "         1.04120123,  20.09977363,  30.01670368,   2.91391489,\n",
       "        40.00002   , 500.00676005,  20.08009213,   2.64577021,\n",
       "        30.04399441,   2.47879003,  10.17150923,  30.04065412,\n",
       "         3.68814316,  30.1662477 ,   3.24266865,  30.10967286,\n",
       "       200.02877918,   2.98799264,  10.00008   ,   1.00079968,\n",
       "         1.78538511,  30.16312484])"
      ]
     },
     "metadata": {},
     "execution_count": 6
    }
   ],
   "metadata": {}
  },
  {
   "cell_type": "code",
   "execution_count": 7,
   "source": [
    "distances.mean()"
   ],
   "outputs": [
    {
     "output_type": "execute_result",
     "data": {
      "text/plain": [
       "44.72898959526685"
      ]
     },
     "metadata": {},
     "execution_count": 7
    }
   ],
   "metadata": {}
  },
  {
   "cell_type": "code",
   "execution_count": 8,
   "source": [
    "# comparing it to another user who is not related\r\n",
    "distances1 = Euclidean_Dist(df2, df3)\r\n",
    "distances1"
   ],
   "outputs": [
    {
     "output_type": "execute_result",
     "data": {
      "text/plain": [
       "array([ 90.53333972,  23.83145191, 101.00390537,   8.99204649,\n",
       "        31.26667395, 100.26185915,  60.2511253 ,  50.07073097,\n",
       "        70.14693222, 300.02515161,  20.32950811,  52.08937032,\n",
       "        50.50728264, 200.03752548, 101.01862452,   1.54064921,\n",
       "       500.09171719,  40.21729603,  13.01892853,  20.52264359,\n",
       "       300.54482611,  70.24791029,  20.15510109,   4.21966823,\n",
       "       900.00231383,  30.24086804])"
      ]
     },
     "metadata": {},
     "execution_count": 8
    }
   ],
   "metadata": {}
  },
  {
   "cell_type": "code",
   "execution_count": 9,
   "source": [
    "distances1.mean()"
   ],
   "outputs": [
    {
     "output_type": "execute_result",
     "data": {
      "text/plain": [
       "121.58336345770392"
      ]
     },
     "metadata": {},
     "execution_count": 9
    }
   ],
   "metadata": {}
  },
  {
   "cell_type": "markdown",
   "source": [
    "#### As we can see, the new user is much more similar to churner 1 compared to churner 2."
   ],
   "metadata": {}
  },
  {
   "cell_type": "code",
   "execution_count": 10,
   "source": [
    "df1_sums = df1.groupby('IMEI')[d[0].columns[2:-1]].sum()\r\n",
    "df2_sums = df2.groupby('IMEI')[d[0].columns[2:-1]].sum()"
   ],
   "outputs": [],
   "metadata": {}
  },
  {
   "cell_type": "code",
   "execution_count": 11,
   "source": [
    "# Modifying the Euchlidean Distance function\r\n",
    "def Mod_Euclidean_Dist(df1,df2,cols=d[0].columns[2:-1]):\r\n",
    "    x = df1.groupby('IMEI')[d[0].columns[2:-1]].sum()\r\n",
    "    y = df2.groupby('IMEI')[d[0].columns[2:-1]].sum()\r\n",
    "\r\n",
    "    return np.linalg.norm(x.values - y.values,\r\n",
    "                   axis=1)"
   ],
   "outputs": [],
   "metadata": {}
  },
  {
   "cell_type": "code",
   "execution_count": 12,
   "source": [
    "mod_distances = Mod_Euclidean_Dist(df1,df2)\r\n",
    "mod_distances \r\n",
    "\r\n",
    "# the first euclidean distance result produced a much better result in terms of comparing the difference of the 2 dataframes"
   ],
   "outputs": [
    {
     "output_type": "execute_result",
     "data": {
      "text/plain": [
       "array([600.02220092])"
      ]
     },
     "metadata": {},
     "execution_count": 12
    }
   ],
   "metadata": {}
  },
  {
   "cell_type": "markdown",
   "source": [
    "### Different Computation Approach for Comparing\n",
    "\n",
    "Computation:\n",
    " - a = list of sums in each column of df1\n",
    " - b = list of sums in each column of df2\n",
    " - c = l/h (list of similarities per column; l = lower value in a certain index of lists a and b; h = higher value)\n",
    "\n",
    " similarity = (sum(c)/len(c))*100"
   ],
   "metadata": {}
  },
  {
   "cell_type": "code",
   "execution_count": 13,
   "source": [
    "percent_sim = []\r\n",
    "\r\n",
    "for i in range(len(df1_sums.columns.tolist())):\r\n",
    "    x = 0\r\n",
    "    y = 0\r\n",
    "    if df1_sums[df1_sums.columns.tolist()[i]].tolist() < df2_sums[df2_sums.columns.tolist()[i]].tolist():\r\n",
    "        x = df1_sums[df1_sums.columns.tolist()[i]].tolist()[0]\r\n",
    "        y = df2_sums[df2_sums.columns.tolist()[i]].tolist()[0]\r\n",
    "    else:\r\n",
    "        x = df2_sums[df2_sums.columns.tolist()[i]].tolist()[0]\r\n",
    "        y = df1_sums[df1_sums.columns.tolist()[i]].tolist()[0]\r\n",
    "    percent_sim.append(x/y)"
   ],
   "outputs": [],
   "metadata": {}
  },
  {
   "cell_type": "code",
   "execution_count": 14,
   "source": [
    "df1_sums"
   ],
   "outputs": [
    {
     "output_type": "execute_result",
     "data": {
      "text/plain": [
       "                 credits_loaded_per_week  num_hrs_spend_on_net  \\\n",
       "IMEI                                                             \n",
       "823865145970266                     2940                 254.1   \n",
       "\n",
       "                 mobile_data_usage(gb)  promos_used  active_times  \n",
       "IMEI                                                               \n",
       "823865145970266                 178.14           50            23  "
      ],
      "text/html": [
       "<div>\n",
       "<style scoped>\n",
       "    .dataframe tbody tr th:only-of-type {\n",
       "        vertical-align: middle;\n",
       "    }\n",
       "\n",
       "    .dataframe tbody tr th {\n",
       "        vertical-align: top;\n",
       "    }\n",
       "\n",
       "    .dataframe thead th {\n",
       "        text-align: right;\n",
       "    }\n",
       "</style>\n",
       "<table border=\"1\" class=\"dataframe\">\n",
       "  <thead>\n",
       "    <tr style=\"text-align: right;\">\n",
       "      <th></th>\n",
       "      <th>credits_loaded_per_week</th>\n",
       "      <th>num_hrs_spend_on_net</th>\n",
       "      <th>mobile_data_usage(gb)</th>\n",
       "      <th>promos_used</th>\n",
       "      <th>active_times</th>\n",
       "    </tr>\n",
       "    <tr>\n",
       "      <th>IMEI</th>\n",
       "      <th></th>\n",
       "      <th></th>\n",
       "      <th></th>\n",
       "      <th></th>\n",
       "      <th></th>\n",
       "    </tr>\n",
       "  </thead>\n",
       "  <tbody>\n",
       "    <tr>\n",
       "      <th>823865145970266</th>\n",
       "      <td>2940</td>\n",
       "      <td>254.1</td>\n",
       "      <td>178.14</td>\n",
       "      <td>50</td>\n",
       "      <td>23</td>\n",
       "    </tr>\n",
       "  </tbody>\n",
       "</table>\n",
       "</div>"
      ]
     },
     "metadata": {},
     "execution_count": 14
    }
   ],
   "metadata": {}
  },
  {
   "cell_type": "code",
   "execution_count": 15,
   "source": [
    "df2_sums"
   ],
   "outputs": [
    {
     "output_type": "execute_result",
     "data": {
      "text/plain": [
       "                 credits_loaded_per_week  num_hrs_spend_on_net  \\\n",
       "IMEI                                                             \n",
       "299580108038267                     2340                 253.9   \n",
       "\n",
       "                 mobile_data_usage(gb)  promos_used  active_times  \n",
       "IMEI                                                               \n",
       "299580108038267                  183.1           51            22  "
      ],
      "text/html": [
       "<div>\n",
       "<style scoped>\n",
       "    .dataframe tbody tr th:only-of-type {\n",
       "        vertical-align: middle;\n",
       "    }\n",
       "\n",
       "    .dataframe tbody tr th {\n",
       "        vertical-align: top;\n",
       "    }\n",
       "\n",
       "    .dataframe thead th {\n",
       "        text-align: right;\n",
       "    }\n",
       "</style>\n",
       "<table border=\"1\" class=\"dataframe\">\n",
       "  <thead>\n",
       "    <tr style=\"text-align: right;\">\n",
       "      <th></th>\n",
       "      <th>credits_loaded_per_week</th>\n",
       "      <th>num_hrs_spend_on_net</th>\n",
       "      <th>mobile_data_usage(gb)</th>\n",
       "      <th>promos_used</th>\n",
       "      <th>active_times</th>\n",
       "    </tr>\n",
       "    <tr>\n",
       "      <th>IMEI</th>\n",
       "      <th></th>\n",
       "      <th></th>\n",
       "      <th></th>\n",
       "      <th></th>\n",
       "      <th></th>\n",
       "    </tr>\n",
       "  </thead>\n",
       "  <tbody>\n",
       "    <tr>\n",
       "      <th>299580108038267</th>\n",
       "      <td>2340</td>\n",
       "      <td>253.9</td>\n",
       "      <td>183.1</td>\n",
       "      <td>51</td>\n",
       "      <td>22</td>\n",
       "    </tr>\n",
       "  </tbody>\n",
       "</table>\n",
       "</div>"
      ]
     },
     "metadata": {},
     "execution_count": 15
    }
   ],
   "metadata": {}
  },
  {
   "cell_type": "code",
   "execution_count": 16,
   "source": [
    "ave_sim = sum(percent_sim)/len(percent_sim)*100\r\n",
    "print('Similarity is: {:.2f}%'.format(float(ave_sim)))"
   ],
   "outputs": [
    {
     "output_type": "stream",
     "name": "stdout",
     "text": [
      "Similarity is: 94.10%\n"
     ]
    }
   ],
   "metadata": {}
  },
  {
   "cell_type": "markdown",
   "source": [
    "### Computing Similarity per Row and Computing the Average Similarity"
   ],
   "metadata": {}
  },
  {
   "cell_type": "code",
   "execution_count": 17,
   "source": [
    "df1.head(3)"
   ],
   "outputs": [
    {
     "output_type": "execute_result",
     "data": {
      "text/plain": [
       "       weeks             IMEI  credits_loaded_per_week  num_hrs_spend_on_net  \\\n",
       "0 2019-07-17  823865145970266                      100                   5.3   \n",
       "1 2019-07-24  823865145970266                        0                  17.4   \n",
       "2 2019-07-31  823865145970266                      200                  15.5   \n",
       "\n",
       "   mobile_data_usage(gb)  promos_used  active_times  \n",
       "0                   8.07            0             1  \n",
       "1                   8.60            0             0  \n",
       "2                   5.23            2             1  "
      ],
      "text/html": [
       "<div>\n",
       "<style scoped>\n",
       "    .dataframe tbody tr th:only-of-type {\n",
       "        vertical-align: middle;\n",
       "    }\n",
       "\n",
       "    .dataframe tbody tr th {\n",
       "        vertical-align: top;\n",
       "    }\n",
       "\n",
       "    .dataframe thead th {\n",
       "        text-align: right;\n",
       "    }\n",
       "</style>\n",
       "<table border=\"1\" class=\"dataframe\">\n",
       "  <thead>\n",
       "    <tr style=\"text-align: right;\">\n",
       "      <th></th>\n",
       "      <th>weeks</th>\n",
       "      <th>IMEI</th>\n",
       "      <th>credits_loaded_per_week</th>\n",
       "      <th>num_hrs_spend_on_net</th>\n",
       "      <th>mobile_data_usage(gb)</th>\n",
       "      <th>promos_used</th>\n",
       "      <th>active_times</th>\n",
       "    </tr>\n",
       "  </thead>\n",
       "  <tbody>\n",
       "    <tr>\n",
       "      <th>0</th>\n",
       "      <td>2019-07-17</td>\n",
       "      <td>823865145970266</td>\n",
       "      <td>100</td>\n",
       "      <td>5.3</td>\n",
       "      <td>8.07</td>\n",
       "      <td>0</td>\n",
       "      <td>1</td>\n",
       "    </tr>\n",
       "    <tr>\n",
       "      <th>1</th>\n",
       "      <td>2019-07-24</td>\n",
       "      <td>823865145970266</td>\n",
       "      <td>0</td>\n",
       "      <td>17.4</td>\n",
       "      <td>8.60</td>\n",
       "      <td>0</td>\n",
       "      <td>0</td>\n",
       "    </tr>\n",
       "    <tr>\n",
       "      <th>2</th>\n",
       "      <td>2019-07-31</td>\n",
       "      <td>823865145970266</td>\n",
       "      <td>200</td>\n",
       "      <td>15.5</td>\n",
       "      <td>5.23</td>\n",
       "      <td>2</td>\n",
       "      <td>1</td>\n",
       "    </tr>\n",
       "  </tbody>\n",
       "</table>\n",
       "</div>"
      ]
     },
     "metadata": {},
     "execution_count": 17
    }
   ],
   "metadata": {}
  },
  {
   "cell_type": "code",
   "execution_count": 18,
   "source": [
    "df2.head(3)"
   ],
   "outputs": [
    {
     "output_type": "execute_result",
     "data": {
      "text/plain": [
       "       weeks             IMEI  credits_loaded_per_week  num_hrs_spend_on_net  \\\n",
       "0 2020-02-12  299580108038267                       90                   5.9   \n",
       "1 2020-02-19  299580108038267                       30                  17.4   \n",
       "2 2020-02-26  299580108038267                      100                  16.8   \n",
       "\n",
       "   mobile_data_usage(gb)  promos_used  active_times  \n",
       "0                    8.1            0             2  \n",
       "1                   11.1            0             0  \n",
       "2                    4.9            3             2  "
      ],
      "text/html": [
       "<div>\n",
       "<style scoped>\n",
       "    .dataframe tbody tr th:only-of-type {\n",
       "        vertical-align: middle;\n",
       "    }\n",
       "\n",
       "    .dataframe tbody tr th {\n",
       "        vertical-align: top;\n",
       "    }\n",
       "\n",
       "    .dataframe thead th {\n",
       "        text-align: right;\n",
       "    }\n",
       "</style>\n",
       "<table border=\"1\" class=\"dataframe\">\n",
       "  <thead>\n",
       "    <tr style=\"text-align: right;\">\n",
       "      <th></th>\n",
       "      <th>weeks</th>\n",
       "      <th>IMEI</th>\n",
       "      <th>credits_loaded_per_week</th>\n",
       "      <th>num_hrs_spend_on_net</th>\n",
       "      <th>mobile_data_usage(gb)</th>\n",
       "      <th>promos_used</th>\n",
       "      <th>active_times</th>\n",
       "    </tr>\n",
       "  </thead>\n",
       "  <tbody>\n",
       "    <tr>\n",
       "      <th>0</th>\n",
       "      <td>2020-02-12</td>\n",
       "      <td>299580108038267</td>\n",
       "      <td>90</td>\n",
       "      <td>5.9</td>\n",
       "      <td>8.1</td>\n",
       "      <td>0</td>\n",
       "      <td>2</td>\n",
       "    </tr>\n",
       "    <tr>\n",
       "      <th>1</th>\n",
       "      <td>2020-02-19</td>\n",
       "      <td>299580108038267</td>\n",
       "      <td>30</td>\n",
       "      <td>17.4</td>\n",
       "      <td>11.1</td>\n",
       "      <td>0</td>\n",
       "      <td>0</td>\n",
       "    </tr>\n",
       "    <tr>\n",
       "      <th>2</th>\n",
       "      <td>2020-02-26</td>\n",
       "      <td>299580108038267</td>\n",
       "      <td>100</td>\n",
       "      <td>16.8</td>\n",
       "      <td>4.9</td>\n",
       "      <td>3</td>\n",
       "      <td>2</td>\n",
       "    </tr>\n",
       "  </tbody>\n",
       "</table>\n",
       "</div>"
      ]
     },
     "metadata": {},
     "execution_count": 18
    }
   ],
   "metadata": {}
  },
  {
   "cell_type": "code",
   "execution_count": 19,
   "source": [
    "vals = [[],[],[],[],[]]\r\n",
    "\r\n",
    "z=0\r\n",
    "for i in df1.columns[2:]:\r\n",
    "    for j in range(len(df1[i].tolist())):\r\n",
    "        x = 0\r\n",
    "        y = 0\r\n",
    "        if df1[i].tolist()[j] < df2[i].tolist()[j]:\r\n",
    "            x = df1[i].tolist()[j]\r\n",
    "            y = df2[i].tolist()[j]\r\n",
    "        else:\r\n",
    "            y = df1[i].tolist()[j]\r\n",
    "            x = df2[i].tolist()[j]\r\n",
    "        \r\n",
    "        if x == 0 and y == 0:\r\n",
    "            vals[z].append(100.00)\r\n",
    "        else:\r\n",
    "            vals[z].append(round((x/y)*100,2))\r\n",
    "    z+=1\r\n",
    "\r\n",
    "# I could have just used df1['column'] / df2['column'] or df2['column'] / df1['column'], but it does not check for division by 0s.\r\n",
    "# I also needed to check which value was lower as that will be the dividend."
   ],
   "outputs": [],
   "metadata": {}
  },
  {
   "cell_type": "code",
   "execution_count": 20,
   "source": [
    "data_dict = {}\r\n",
    "k=0\r\n",
    "for i in df1.columns[2:]:\r\n",
    "    data_dict[i] = vals[k]\r\n",
    "    k+=1\r\n",
    "\r\n",
    "sim_df = pd.DataFrame(data_dict)"
   ],
   "outputs": [],
   "metadata": {}
  },
  {
   "cell_type": "code",
   "execution_count": 21,
   "source": [
    "sim_df.head()"
   ],
   "outputs": [
    {
     "output_type": "execute_result",
     "data": {
      "text/plain": [
       "   credits_loaded_per_week  num_hrs_spend_on_net  mobile_data_usage(gb)  \\\n",
       "0                     90.0                 89.83                  99.63   \n",
       "1                      0.0                100.00                  77.48   \n",
       "2                     50.0                 92.26                  93.69   \n",
       "3                      0.0                 93.94                  91.60   \n",
       "4                    100.0                100.00                  94.81   \n",
       "\n",
       "   promos_used  active_times  \n",
       "0       100.00          50.0  \n",
       "1       100.00         100.0  \n",
       "2        66.67          50.0  \n",
       "3        50.00         100.0  \n",
       "4        66.67         100.0  "
      ],
      "text/html": [
       "<div>\n",
       "<style scoped>\n",
       "    .dataframe tbody tr th:only-of-type {\n",
       "        vertical-align: middle;\n",
       "    }\n",
       "\n",
       "    .dataframe tbody tr th {\n",
       "        vertical-align: top;\n",
       "    }\n",
       "\n",
       "    .dataframe thead th {\n",
       "        text-align: right;\n",
       "    }\n",
       "</style>\n",
       "<table border=\"1\" class=\"dataframe\">\n",
       "  <thead>\n",
       "    <tr style=\"text-align: right;\">\n",
       "      <th></th>\n",
       "      <th>credits_loaded_per_week</th>\n",
       "      <th>num_hrs_spend_on_net</th>\n",
       "      <th>mobile_data_usage(gb)</th>\n",
       "      <th>promos_used</th>\n",
       "      <th>active_times</th>\n",
       "    </tr>\n",
       "  </thead>\n",
       "  <tbody>\n",
       "    <tr>\n",
       "      <th>0</th>\n",
       "      <td>90.0</td>\n",
       "      <td>89.83</td>\n",
       "      <td>99.63</td>\n",
       "      <td>100.00</td>\n",
       "      <td>50.0</td>\n",
       "    </tr>\n",
       "    <tr>\n",
       "      <th>1</th>\n",
       "      <td>0.0</td>\n",
       "      <td>100.00</td>\n",
       "      <td>77.48</td>\n",
       "      <td>100.00</td>\n",
       "      <td>100.0</td>\n",
       "    </tr>\n",
       "    <tr>\n",
       "      <th>2</th>\n",
       "      <td>50.0</td>\n",
       "      <td>92.26</td>\n",
       "      <td>93.69</td>\n",
       "      <td>66.67</td>\n",
       "      <td>50.0</td>\n",
       "    </tr>\n",
       "    <tr>\n",
       "      <th>3</th>\n",
       "      <td>0.0</td>\n",
       "      <td>93.94</td>\n",
       "      <td>91.60</td>\n",
       "      <td>50.00</td>\n",
       "      <td>100.0</td>\n",
       "    </tr>\n",
       "    <tr>\n",
       "      <th>4</th>\n",
       "      <td>100.0</td>\n",
       "      <td>100.00</td>\n",
       "      <td>94.81</td>\n",
       "      <td>66.67</td>\n",
       "      <td>100.0</td>\n",
       "    </tr>\n",
       "  </tbody>\n",
       "</table>\n",
       "</div>"
      ]
     },
     "metadata": {},
     "execution_count": 21
    }
   ],
   "metadata": {}
  },
  {
   "cell_type": "code",
   "execution_count": 22,
   "source": [
    "sim_df['similarity'] = ((sim_df[sim_df.columns[0]] + sim_df[sim_df.columns[1]] + sim_df[sim_df.columns[2]] + sim_df[sim_df.columns[3]] + sim_df[sim_df.columns[4]])/500)*100\r\n",
    "sim_df.head()"
   ],
   "outputs": [
    {
     "output_type": "execute_result",
     "data": {
      "text/plain": [
       "   credits_loaded_per_week  num_hrs_spend_on_net  mobile_data_usage(gb)  \\\n",
       "0                     90.0                 89.83                  99.63   \n",
       "1                      0.0                100.00                  77.48   \n",
       "2                     50.0                 92.26                  93.69   \n",
       "3                      0.0                 93.94                  91.60   \n",
       "4                    100.0                100.00                  94.81   \n",
       "\n",
       "   promos_used  active_times  similarity  \n",
       "0       100.00          50.0      85.892  \n",
       "1       100.00         100.0      75.496  \n",
       "2        66.67          50.0      70.524  \n",
       "3        50.00         100.0      67.108  \n",
       "4        66.67         100.0      92.296  "
      ],
      "text/html": [
       "<div>\n",
       "<style scoped>\n",
       "    .dataframe tbody tr th:only-of-type {\n",
       "        vertical-align: middle;\n",
       "    }\n",
       "\n",
       "    .dataframe tbody tr th {\n",
       "        vertical-align: top;\n",
       "    }\n",
       "\n",
       "    .dataframe thead th {\n",
       "        text-align: right;\n",
       "    }\n",
       "</style>\n",
       "<table border=\"1\" class=\"dataframe\">\n",
       "  <thead>\n",
       "    <tr style=\"text-align: right;\">\n",
       "      <th></th>\n",
       "      <th>credits_loaded_per_week</th>\n",
       "      <th>num_hrs_spend_on_net</th>\n",
       "      <th>mobile_data_usage(gb)</th>\n",
       "      <th>promos_used</th>\n",
       "      <th>active_times</th>\n",
       "      <th>similarity</th>\n",
       "    </tr>\n",
       "  </thead>\n",
       "  <tbody>\n",
       "    <tr>\n",
       "      <th>0</th>\n",
       "      <td>90.0</td>\n",
       "      <td>89.83</td>\n",
       "      <td>99.63</td>\n",
       "      <td>100.00</td>\n",
       "      <td>50.0</td>\n",
       "      <td>85.892</td>\n",
       "    </tr>\n",
       "    <tr>\n",
       "      <th>1</th>\n",
       "      <td>0.0</td>\n",
       "      <td>100.00</td>\n",
       "      <td>77.48</td>\n",
       "      <td>100.00</td>\n",
       "      <td>100.0</td>\n",
       "      <td>75.496</td>\n",
       "    </tr>\n",
       "    <tr>\n",
       "      <th>2</th>\n",
       "      <td>50.0</td>\n",
       "      <td>92.26</td>\n",
       "      <td>93.69</td>\n",
       "      <td>66.67</td>\n",
       "      <td>50.0</td>\n",
       "      <td>70.524</td>\n",
       "    </tr>\n",
       "    <tr>\n",
       "      <th>3</th>\n",
       "      <td>0.0</td>\n",
       "      <td>93.94</td>\n",
       "      <td>91.60</td>\n",
       "      <td>50.00</td>\n",
       "      <td>100.0</td>\n",
       "      <td>67.108</td>\n",
       "    </tr>\n",
       "    <tr>\n",
       "      <th>4</th>\n",
       "      <td>100.0</td>\n",
       "      <td>100.00</td>\n",
       "      <td>94.81</td>\n",
       "      <td>66.67</td>\n",
       "      <td>100.0</td>\n",
       "      <td>92.296</td>\n",
       "    </tr>\n",
       "  </tbody>\n",
       "</table>\n",
       "</div>"
      ]
     },
     "metadata": {},
     "execution_count": 22
    }
   ],
   "metadata": {}
  },
  {
   "cell_type": "code",
   "execution_count": 23,
   "source": [
    "sim_df['similarity'].mean()"
   ],
   "outputs": [
    {
     "output_type": "execute_result",
     "data": {
      "text/plain": [
       "72.87092307692308"
      ]
     },
     "metadata": {},
     "execution_count": 23
    }
   ],
   "metadata": {}
  },
  {
   "cell_type": "code",
   "execution_count": null,
   "source": [],
   "outputs": [],
   "metadata": {}
  }
 ]
}