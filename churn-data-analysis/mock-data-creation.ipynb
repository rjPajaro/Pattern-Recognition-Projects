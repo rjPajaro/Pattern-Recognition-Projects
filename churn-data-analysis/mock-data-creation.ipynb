{
 "metadata": {
  "language_info": {
   "codemirror_mode": {
    "name": "ipython",
    "version": 3
   },
   "file_extension": ".py",
   "mimetype": "text/x-python",
   "name": "python",
   "nbconvert_exporter": "python",
   "pygments_lexer": "ipython3",
   "version": "3.8.3"
  },
  "orig_nbformat": 4,
  "kernelspec": {
   "name": "python3",
   "display_name": "Python 3.8.3 64-bit ('base': conda)"
  },
  "interpreter": {
   "hash": "80e949a67cf278127b748d188dfe995fcb9b6fe4ab79bb80686294a040d0359f"
  }
 },
 "nbformat": 4,
 "nbformat_minor": 2,
 "cells": [
  {
   "source": [
    "# Mock Data"
   ],
   "cell_type": "markdown",
   "metadata": {}
  },
  {
   "cell_type": "code",
   "execution_count": 1,
   "metadata": {},
   "outputs": [],
   "source": [
    "import numpy as np\n",
    "import pandas as pd\n",
    "from random import seed\n",
    "from random import randint\n",
    "\n",
    "seed(0)"
   ]
  },
  {
   "cell_type": "code",
   "execution_count": 2,
   "metadata": {},
   "outputs": [
    {
     "output_type": "execute_result",
     "data": {
      "text/plain": [
       "14"
      ]
     },
     "metadata": {},
     "execution_count": 2
    }
   ],
   "source": [
    "# Function for randomizing how many times users would appear in the data to simulate creating multiple unique call entries (1-15)\n",
    "def presence():\n",
    "    x = randint(1,15)\n",
    "    return x\n",
    "\n",
    "inst = presence()\n",
    "inst"
   ]
  },
  {
   "source": [
    "### Establishing Arrays for Column Values"
   ],
   "cell_type": "markdown",
   "metadata": {}
  },
  {
   "cell_type": "code",
   "execution_count": 3,
   "metadata": {},
   "outputs": [],
   "source": [
    "def generate_imei():\n",
    "    imei = randint(00000000000000,99999999999999)\n",
    "    imei = str(imei)\n",
    "    imei = list(imei)\n",
    "    a = imei.copy()\n",
    "\n",
    "    for i in range(len(a)):\n",
    "        x = 0\n",
    "        if i%2 != 0:\n",
    "            x = int(a[i])\n",
    "            a[i] = x*2\n",
    "        a[i] = str(a[i])\n",
    "\n",
    "    a = ''.join(a)\n",
    "\n",
    "    a = list(a)\n",
    "    for i in range(len(a)):\n",
    "        a[i] = int(a[i])\n",
    "\n",
    "    cd = sum(a)\n",
    "    cd = str(cd)\n",
    "    cd = list(cd)\n",
    "    if int(cd[len(cd)-1]) < 10:\n",
    "        cd = 10 - int(cd[len(cd)-1])\n",
    "\n",
    "    imei.append(cd)\n",
    "\n",
    "    for i in range(len(imei)):\n",
    "        imei[i] = str(imei[i])\n",
    "\n",
    "    imei = ''.join(imei)\n",
    "\n",
    "    return imei"
   ]
  },
  {
   "cell_type": "code",
   "execution_count": 4,
   "metadata": {},
   "outputs": [],
   "source": [
    "def unique_entry(ins):\n",
    "    user_imei = []\n",
    "    user_imsi = []\n",
    "    user_phone_num = []\n",
    "\n",
    "    uni_imei = generate_imei()\n",
    "\n",
    "    for _ in range(ins):\n",
    "        user_imei.append(uni_imei)\n",
    "\n",
    "    return user_imei, user_imsi, user_phone_num"
   ]
  },
  {
   "cell_type": "code",
   "execution_count": 5,
   "metadata": {},
   "outputs": [
    {
     "output_type": "execute_result",
     "data": {
      "text/plain": [
       "['591927678746909',\n",
       " '591927678746909',\n",
       " '591927678746909',\n",
       " '591927678746909',\n",
       " '591927678746909',\n",
       " '591927678746909',\n",
       " '591927678746909',\n",
       " '591927678746909',\n",
       " '591927678746909',\n",
       " '591927678746909',\n",
       " '591927678746909',\n",
       " '591927678746909',\n",
       " '591927678746909',\n",
       " '591927678746909']"
      ]
     },
     "metadata": {},
     "execution_count": 5
    }
   ],
   "source": [
    "test,_,_ = unique_entry(inst)\n",
    "test"
   ]
  },
  {
   "cell_type": "code",
   "execution_count": null,
   "metadata": {},
   "outputs": [],
   "source": []
  }
 ]
}