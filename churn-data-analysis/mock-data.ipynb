{
 "metadata": {
  "language_info": {
   "codemirror_mode": {
    "name": "ipython",
    "version": 3
   },
   "file_extension": ".py",
   "mimetype": "text/x-python",
   "name": "python",
   "nbconvert_exporter": "python",
   "pygments_lexer": "ipython3",
   "version": "3.8.3"
  },
  "orig_nbformat": 4,
  "kernelspec": {
   "name": "python3",
   "display_name": "Python 3.8.3 64-bit ('base': conda)"
  },
  "interpreter": {
   "hash": "80e949a67cf278127b748d188dfe995fcb9b6fe4ab79bb80686294a040d0359f"
  }
 },
 "nbformat": 4,
 "nbformat_minor": 2,
 "cells": [
  {
   "source": [
    "# Mock Data Creation"
   ],
   "cell_type": "markdown",
   "metadata": {}
  },
  {
   "cell_type": "code",
   "execution_count": 1,
   "metadata": {},
   "outputs": [],
   "source": [
    "import pandas as pd\n",
    "import mock_data_script as mds"
   ]
  },
  {
   "cell_type": "code",
   "execution_count": 2,
   "metadata": {},
   "outputs": [],
   "source": [
    "def mock_data():\n",
    "    weeks = mds.generate_weeks()\n",
    "\n",
    "    ids = mds.generate_IMEI()\n",
    "    IMEIs = []\n",
    "    credits_loaded = []\n",
    "    num_hrs = []\n",
    "    mdu = []\n",
    "    promos = []\n",
    "    times = []\n",
    "    active = []\n",
    "\n",
    "    for _ in range(len(weeks)):\n",
    "        IMEIs.append(ids)\n",
    "\n",
    "        credit = mds.generate_credit_load()\n",
    "        hrs = mds.generate_num_of_hrs()\n",
    "        md_usage = mds.generate_md_usage()\n",
    "        promo = mds.generate_promos()\n",
    "        active_time = mds.generate_active_time()\n",
    "        activity = credit + hrs + md_usage + promo + active_time\n",
    "\n",
    "        credits_loaded.append(credit)\n",
    "        num_hrs.append(hrs)\n",
    "        mdu.append(md_usage)\n",
    "        promos.append(promo)\n",
    "        times.append(active_time)\n",
    "\n",
    "        if activity == 0:\n",
    "            active.append(1)\n",
    "        else:\n",
    "            active.append(0)\n",
    "\n",
    "    for i in range(len(weeks)):\n",
    "        if i == len(weeks)-4 or i == len(weeks)-3 or i == len(weeks)-2 or i == len(weeks)-1:\n",
    "            credits_loaded[i] = 0\n",
    "            num_hrs[i] = 0\n",
    "            mdu[i] = 0\n",
    "            promos[i] = 0\n",
    "            times[i] = 0\n",
    "            active[i] = 1\n",
    "\n",
    "    return weeks, IMEIs, credits_loaded, num_hrs, mdu, promos, times, active"
   ]
  },
  {
   "cell_type": "code",
   "execution_count": 3,
   "metadata": {},
   "outputs": [],
   "source": [
    "d = []\n",
    "\n",
    "for _ in range(10):\n",
    "    weeks, IMEIs, credits_loaded, num_hrs, mdu, promos, times, active = mock_data()\n",
    "    d.append(pd.DataFrame({\n",
    "        'weeks':weeks, \n",
    "        'IMEI':IMEIs,\n",
    "        'credits_loaded_per_week':credits_loaded,\n",
    "        'num_hrs_spend_on_net':num_hrs,\n",
    "        'mobile_data_usage(gb)':mdu,\n",
    "        'promos_used':promos,\n",
    "        'active_times':times,\n",
    "        'activity_status':active\n",
    "        }))"
   ]
  },
  {
   "cell_type": "code",
   "execution_count": 4,
   "metadata": {},
   "outputs": [
    {
     "output_type": "execute_result",
     "data": {
      "text/plain": [
       "        weeks             IMEI  credits_loaded_per_week  num_hrs_spend_on_net  \\\n",
       "0  2019-02-27  156044289179301                        0                   3.0   \n",
       "1  2019-03-06  156044289179301                      300                   2.4   \n",
       "2  2019-03-13  156044289179301                        0                  21.8   \n",
       "3  2019-03-20  156044289179301                       90                   6.0   \n",
       "4  2019-03-27  156044289179301                      500                  12.2   \n",
       "5  2019-04-03  156044289179301                        0                  18.4   \n",
       "6  2019-04-10  156044289179301                        0                  19.2   \n",
       "7  2019-04-17  156044289179301                        0                  21.2   \n",
       "8  2019-04-24  156044289179301                       70                  13.7   \n",
       "9  2019-05-01  156044289179301                        0                   9.9   \n",
       "10 2019-05-08  156044289179301                        0                  17.9   \n",
       "11 2019-05-15  156044289179301                        0                   8.6   \n",
       "12 2019-05-22  156044289179301                        0                  21.2   \n",
       "13 2019-05-29  156044289179301                       90                  16.0   \n",
       "14 2019-06-05  156044289179301                     1000                   6.8   \n",
       "15 2019-06-12  156044289179301                      800                  21.5   \n",
       "16 2019-06-19  156044289179301                       20                  21.3   \n",
       "17 2019-06-26  156044289179301                      200                  16.4   \n",
       "18 2019-07-03  156044289179301                        0                  18.0   \n",
       "19 2019-07-10  156044289179301                      100                  14.4   \n",
       "20 2019-07-17  156044289179301                       90                  16.7   \n",
       "21 2019-07-24  156044289179301                       30                  14.8   \n",
       "22 2019-07-31  156044289179301                      800                   3.6   \n",
       "23 2019-08-07  156044289179301                       30                  15.7   \n",
       "24 2019-08-14  156044289179301                        0                  17.3   \n",
       "25 2019-08-21  156044289179301                      300                  16.7   \n",
       "26 2019-08-28  156044289179301                        0                   1.3   \n",
       "27 2019-09-04  156044289179301                        0                  16.8   \n",
       "28 2019-09-11  156044289179301                     1000                   1.9   \n",
       "29 2019-09-18  156044289179301                        0                   0.7   \n",
       "30 2019-09-25  156044289179301                        0                   6.9   \n",
       "31 2019-10-02  156044289179301                       90                  18.6   \n",
       "32 2019-10-09  156044289179301                     1000                  11.5   \n",
       "33 2019-10-16  156044289179301                      300                   2.9   \n",
       "34 2019-10-23  156044289179301                        0                   9.3   \n",
       "35 2019-10-30  156044289179301                        0                   6.3   \n",
       "36 2019-11-06  156044289179301                       90                   4.2   \n",
       "37 2019-11-13  156044289179301                        0                   0.0   \n",
       "38 2019-11-20  156044289179301                        0                   0.0   \n",
       "39 2019-11-27  156044289179301                        0                   0.0   \n",
       "40 2019-12-04  156044289179301                        0                   0.0   \n",
       "\n",
       "    mobile_data_usage(gb)  promos_used  active_times  activity_status  \n",
       "0                    6.01            0             1                0  \n",
       "1                    8.78            0             1                0  \n",
       "2                    5.10            0             2                0  \n",
       "3                    6.20            0             0                0  \n",
       "4                    6.29            3             2                0  \n",
       "5                    5.89            0             0                0  \n",
       "6                    6.34            0             1                0  \n",
       "7                    6.67            4             1                0  \n",
       "8                    7.13            4             1                0  \n",
       "9                    8.12            4             0                0  \n",
       "10                   8.63            2             0                0  \n",
       "11                   7.34            3             1                0  \n",
       "12                   5.70            1             0                0  \n",
       "13                   5.63            2             2                0  \n",
       "14                   5.84            0             0                0  \n",
       "15                   5.15            0             1                0  \n",
       "16                   7.60            4             0                0  \n",
       "17                   5.62            0             1                0  \n",
       "18                   6.62            1             2                0  \n",
       "19                   5.63            0             2                0  \n",
       "20                   5.88            1             0                0  \n",
       "21                   6.79            1             2                0  \n",
       "22                   6.33            1             1                0  \n",
       "23                   5.58            2             0                0  \n",
       "24                   5.53            5             0                0  \n",
       "25                   6.52            0             0                0  \n",
       "26                   8.52            6             1                0  \n",
       "27                   6.00            1             1                0  \n",
       "28                   5.87            1             2                0  \n",
       "29                   8.78            1             0                0  \n",
       "30                   7.54            0             2                0  \n",
       "31                   8.72            1             0                0  \n",
       "32                   7.23            0             0                0  \n",
       "33                   6.78            0             2                0  \n",
       "34                   8.01            6             1                0  \n",
       "35                   6.36            0             1                0  \n",
       "36                   8.33            2             0                0  \n",
       "37                   0.00            0             0                1  \n",
       "38                   0.00            0             0                1  \n",
       "39                   0.00            0             0                1  \n",
       "40                   0.00            0             0                1  "
      ],
      "text/html": "<div>\n<style scoped>\n    .dataframe tbody tr th:only-of-type {\n        vertical-align: middle;\n    }\n\n    .dataframe tbody tr th {\n        vertical-align: top;\n    }\n\n    .dataframe thead th {\n        text-align: right;\n    }\n</style>\n<table border=\"1\" class=\"dataframe\">\n  <thead>\n    <tr style=\"text-align: right;\">\n      <th></th>\n      <th>weeks</th>\n      <th>IMEI</th>\n      <th>credits_loaded_per_week</th>\n      <th>num_hrs_spend_on_net</th>\n      <th>mobile_data_usage(gb)</th>\n      <th>promos_used</th>\n      <th>active_times</th>\n      <th>activity_status</th>\n    </tr>\n  </thead>\n  <tbody>\n    <tr>\n      <th>0</th>\n      <td>2019-02-27</td>\n      <td>156044289179301</td>\n      <td>0</td>\n      <td>3.0</td>\n      <td>6.01</td>\n      <td>0</td>\n      <td>1</td>\n      <td>0</td>\n    </tr>\n    <tr>\n      <th>1</th>\n      <td>2019-03-06</td>\n      <td>156044289179301</td>\n      <td>300</td>\n      <td>2.4</td>\n      <td>8.78</td>\n      <td>0</td>\n      <td>1</td>\n      <td>0</td>\n    </tr>\n    <tr>\n      <th>2</th>\n      <td>2019-03-13</td>\n      <td>156044289179301</td>\n      <td>0</td>\n      <td>21.8</td>\n      <td>5.10</td>\n      <td>0</td>\n      <td>2</td>\n      <td>0</td>\n    </tr>\n    <tr>\n      <th>3</th>\n      <td>2019-03-20</td>\n      <td>156044289179301</td>\n      <td>90</td>\n      <td>6.0</td>\n      <td>6.20</td>\n      <td>0</td>\n      <td>0</td>\n      <td>0</td>\n    </tr>\n    <tr>\n      <th>4</th>\n      <td>2019-03-27</td>\n      <td>156044289179301</td>\n      <td>500</td>\n      <td>12.2</td>\n      <td>6.29</td>\n      <td>3</td>\n      <td>2</td>\n      <td>0</td>\n    </tr>\n    <tr>\n      <th>5</th>\n      <td>2019-04-03</td>\n      <td>156044289179301</td>\n      <td>0</td>\n      <td>18.4</td>\n      <td>5.89</td>\n      <td>0</td>\n      <td>0</td>\n      <td>0</td>\n    </tr>\n    <tr>\n      <th>6</th>\n      <td>2019-04-10</td>\n      <td>156044289179301</td>\n      <td>0</td>\n      <td>19.2</td>\n      <td>6.34</td>\n      <td>0</td>\n      <td>1</td>\n      <td>0</td>\n    </tr>\n    <tr>\n      <th>7</th>\n      <td>2019-04-17</td>\n      <td>156044289179301</td>\n      <td>0</td>\n      <td>21.2</td>\n      <td>6.67</td>\n      <td>4</td>\n      <td>1</td>\n      <td>0</td>\n    </tr>\n    <tr>\n      <th>8</th>\n      <td>2019-04-24</td>\n      <td>156044289179301</td>\n      <td>70</td>\n      <td>13.7</td>\n      <td>7.13</td>\n      <td>4</td>\n      <td>1</td>\n      <td>0</td>\n    </tr>\n    <tr>\n      <th>9</th>\n      <td>2019-05-01</td>\n      <td>156044289179301</td>\n      <td>0</td>\n      <td>9.9</td>\n      <td>8.12</td>\n      <td>4</td>\n      <td>0</td>\n      <td>0</td>\n    </tr>\n    <tr>\n      <th>10</th>\n      <td>2019-05-08</td>\n      <td>156044289179301</td>\n      <td>0</td>\n      <td>17.9</td>\n      <td>8.63</td>\n      <td>2</td>\n      <td>0</td>\n      <td>0</td>\n    </tr>\n    <tr>\n      <th>11</th>\n      <td>2019-05-15</td>\n      <td>156044289179301</td>\n      <td>0</td>\n      <td>8.6</td>\n      <td>7.34</td>\n      <td>3</td>\n      <td>1</td>\n      <td>0</td>\n    </tr>\n    <tr>\n      <th>12</th>\n      <td>2019-05-22</td>\n      <td>156044289179301</td>\n      <td>0</td>\n      <td>21.2</td>\n      <td>5.70</td>\n      <td>1</td>\n      <td>0</td>\n      <td>0</td>\n    </tr>\n    <tr>\n      <th>13</th>\n      <td>2019-05-29</td>\n      <td>156044289179301</td>\n      <td>90</td>\n      <td>16.0</td>\n      <td>5.63</td>\n      <td>2</td>\n      <td>2</td>\n      <td>0</td>\n    </tr>\n    <tr>\n      <th>14</th>\n      <td>2019-06-05</td>\n      <td>156044289179301</td>\n      <td>1000</td>\n      <td>6.8</td>\n      <td>5.84</td>\n      <td>0</td>\n      <td>0</td>\n      <td>0</td>\n    </tr>\n    <tr>\n      <th>15</th>\n      <td>2019-06-12</td>\n      <td>156044289179301</td>\n      <td>800</td>\n      <td>21.5</td>\n      <td>5.15</td>\n      <td>0</td>\n      <td>1</td>\n      <td>0</td>\n    </tr>\n    <tr>\n      <th>16</th>\n      <td>2019-06-19</td>\n      <td>156044289179301</td>\n      <td>20</td>\n      <td>21.3</td>\n      <td>7.60</td>\n      <td>4</td>\n      <td>0</td>\n      <td>0</td>\n    </tr>\n    <tr>\n      <th>17</th>\n      <td>2019-06-26</td>\n      <td>156044289179301</td>\n      <td>200</td>\n      <td>16.4</td>\n      <td>5.62</td>\n      <td>0</td>\n      <td>1</td>\n      <td>0</td>\n    </tr>\n    <tr>\n      <th>18</th>\n      <td>2019-07-03</td>\n      <td>156044289179301</td>\n      <td>0</td>\n      <td>18.0</td>\n      <td>6.62</td>\n      <td>1</td>\n      <td>2</td>\n      <td>0</td>\n    </tr>\n    <tr>\n      <th>19</th>\n      <td>2019-07-10</td>\n      <td>156044289179301</td>\n      <td>100</td>\n      <td>14.4</td>\n      <td>5.63</td>\n      <td>0</td>\n      <td>2</td>\n      <td>0</td>\n    </tr>\n    <tr>\n      <th>20</th>\n      <td>2019-07-17</td>\n      <td>156044289179301</td>\n      <td>90</td>\n      <td>16.7</td>\n      <td>5.88</td>\n      <td>1</td>\n      <td>0</td>\n      <td>0</td>\n    </tr>\n    <tr>\n      <th>21</th>\n      <td>2019-07-24</td>\n      <td>156044289179301</td>\n      <td>30</td>\n      <td>14.8</td>\n      <td>6.79</td>\n      <td>1</td>\n      <td>2</td>\n      <td>0</td>\n    </tr>\n    <tr>\n      <th>22</th>\n      <td>2019-07-31</td>\n      <td>156044289179301</td>\n      <td>800</td>\n      <td>3.6</td>\n      <td>6.33</td>\n      <td>1</td>\n      <td>1</td>\n      <td>0</td>\n    </tr>\n    <tr>\n      <th>23</th>\n      <td>2019-08-07</td>\n      <td>156044289179301</td>\n      <td>30</td>\n      <td>15.7</td>\n      <td>5.58</td>\n      <td>2</td>\n      <td>0</td>\n      <td>0</td>\n    </tr>\n    <tr>\n      <th>24</th>\n      <td>2019-08-14</td>\n      <td>156044289179301</td>\n      <td>0</td>\n      <td>17.3</td>\n      <td>5.53</td>\n      <td>5</td>\n      <td>0</td>\n      <td>0</td>\n    </tr>\n    <tr>\n      <th>25</th>\n      <td>2019-08-21</td>\n      <td>156044289179301</td>\n      <td>300</td>\n      <td>16.7</td>\n      <td>6.52</td>\n      <td>0</td>\n      <td>0</td>\n      <td>0</td>\n    </tr>\n    <tr>\n      <th>26</th>\n      <td>2019-08-28</td>\n      <td>156044289179301</td>\n      <td>0</td>\n      <td>1.3</td>\n      <td>8.52</td>\n      <td>6</td>\n      <td>1</td>\n      <td>0</td>\n    </tr>\n    <tr>\n      <th>27</th>\n      <td>2019-09-04</td>\n      <td>156044289179301</td>\n      <td>0</td>\n      <td>16.8</td>\n      <td>6.00</td>\n      <td>1</td>\n      <td>1</td>\n      <td>0</td>\n    </tr>\n    <tr>\n      <th>28</th>\n      <td>2019-09-11</td>\n      <td>156044289179301</td>\n      <td>1000</td>\n      <td>1.9</td>\n      <td>5.87</td>\n      <td>1</td>\n      <td>2</td>\n      <td>0</td>\n    </tr>\n    <tr>\n      <th>29</th>\n      <td>2019-09-18</td>\n      <td>156044289179301</td>\n      <td>0</td>\n      <td>0.7</td>\n      <td>8.78</td>\n      <td>1</td>\n      <td>0</td>\n      <td>0</td>\n    </tr>\n    <tr>\n      <th>30</th>\n      <td>2019-09-25</td>\n      <td>156044289179301</td>\n      <td>0</td>\n      <td>6.9</td>\n      <td>7.54</td>\n      <td>0</td>\n      <td>2</td>\n      <td>0</td>\n    </tr>\n    <tr>\n      <th>31</th>\n      <td>2019-10-02</td>\n      <td>156044289179301</td>\n      <td>90</td>\n      <td>18.6</td>\n      <td>8.72</td>\n      <td>1</td>\n      <td>0</td>\n      <td>0</td>\n    </tr>\n    <tr>\n      <th>32</th>\n      <td>2019-10-09</td>\n      <td>156044289179301</td>\n      <td>1000</td>\n      <td>11.5</td>\n      <td>7.23</td>\n      <td>0</td>\n      <td>0</td>\n      <td>0</td>\n    </tr>\n    <tr>\n      <th>33</th>\n      <td>2019-10-16</td>\n      <td>156044289179301</td>\n      <td>300</td>\n      <td>2.9</td>\n      <td>6.78</td>\n      <td>0</td>\n      <td>2</td>\n      <td>0</td>\n    </tr>\n    <tr>\n      <th>34</th>\n      <td>2019-10-23</td>\n      <td>156044289179301</td>\n      <td>0</td>\n      <td>9.3</td>\n      <td>8.01</td>\n      <td>6</td>\n      <td>1</td>\n      <td>0</td>\n    </tr>\n    <tr>\n      <th>35</th>\n      <td>2019-10-30</td>\n      <td>156044289179301</td>\n      <td>0</td>\n      <td>6.3</td>\n      <td>6.36</td>\n      <td>0</td>\n      <td>1</td>\n      <td>0</td>\n    </tr>\n    <tr>\n      <th>36</th>\n      <td>2019-11-06</td>\n      <td>156044289179301</td>\n      <td>90</td>\n      <td>4.2</td>\n      <td>8.33</td>\n      <td>2</td>\n      <td>0</td>\n      <td>0</td>\n    </tr>\n    <tr>\n      <th>37</th>\n      <td>2019-11-13</td>\n      <td>156044289179301</td>\n      <td>0</td>\n      <td>0.0</td>\n      <td>0.00</td>\n      <td>0</td>\n      <td>0</td>\n      <td>1</td>\n    </tr>\n    <tr>\n      <th>38</th>\n      <td>2019-11-20</td>\n      <td>156044289179301</td>\n      <td>0</td>\n      <td>0.0</td>\n      <td>0.00</td>\n      <td>0</td>\n      <td>0</td>\n      <td>1</td>\n    </tr>\n    <tr>\n      <th>39</th>\n      <td>2019-11-27</td>\n      <td>156044289179301</td>\n      <td>0</td>\n      <td>0.0</td>\n      <td>0.00</td>\n      <td>0</td>\n      <td>0</td>\n      <td>1</td>\n    </tr>\n    <tr>\n      <th>40</th>\n      <td>2019-12-04</td>\n      <td>156044289179301</td>\n      <td>0</td>\n      <td>0.0</td>\n      <td>0.00</td>\n      <td>0</td>\n      <td>0</td>\n      <td>1</td>\n    </tr>\n  </tbody>\n</table>\n</div>"
     },
     "metadata": {},
     "execution_count": 4
    }
   ],
   "source": [
    "d[0]"
   ]
  },
  {
   "cell_type": "code",
   "execution_count": 5,
   "metadata": {},
   "outputs": [
    {
     "output_type": "execute_result",
     "data": {
      "text/plain": [
       "41"
      ]
     },
     "metadata": {},
     "execution_count": 5
    }
   ],
   "source": [
    "len(d[0])"
   ]
  },
  {
   "cell_type": "code",
   "execution_count": 6,
   "metadata": {},
   "outputs": [
    {
     "output_type": "execute_result",
     "data": {
      "text/plain": [
       "10"
      ]
     },
     "metadata": {},
     "execution_count": 6
    }
   ],
   "source": [
    "len(d)"
   ]
  },
  {
   "cell_type": "code",
   "execution_count": 7,
   "metadata": {},
   "outputs": [],
   "source": [
    "with pd.ExcelWriter('data/mock/sample_mock_rc_data.xlsx') as writer:\n",
    "    for i in range(len(d)):\n",
    "        d[i].to_excel(writer, sheet_name=('d{}'.format(i)), index=False)\n",
    "#_.to_csv('data/mock/sample_mock_rc_data.csv','possible_rc')"
   ]
  },
  {
   "source": [
    "# Analyzing Datas for Rotational Churners"
   ],
   "cell_type": "markdown",
   "metadata": {}
  },
  {
   "cell_type": "code",
   "execution_count": 8,
   "metadata": {},
   "outputs": [],
   "source": [
    "import numpy as np\n",
    "import pandas as pd\n",
    "\n",
    "dfs = pd.ExcelFile('data/mock/sample_mock_rc_data.xlsx')\n",
    "sheets = dfs.sheet_names\n",
    "d = []\n",
    "for i in range(10):\n",
    "    d.append(dfs.parse(sheet_name=sheets[i]))"
   ]
  },
  {
   "cell_type": "code",
   "execution_count": 9,
   "metadata": {},
   "outputs": [],
   "source": [
    "def Euclidean_Dist(df1, df2, cols=d[0].columns[2:]):\n",
    "    return np.linalg.norm(df1[cols].values - df2[cols].values,\n",
    "                   axis=1)"
   ]
  },
  {
   "cell_type": "code",
   "execution_count": 10,
   "metadata": {},
   "outputs": [
    {
     "output_type": "execute_result",
     "data": {
      "text/plain": [
       "        weeks             IMEI  credits_loaded_per_week  num_hrs_spend_on_net  \\\n",
       "0  2019-02-27  156044289179301                        0                   3.0   \n",
       "1  2019-03-06  156044289179301                      300                   2.4   \n",
       "2  2019-03-13  156044289179301                        0                  21.8   \n",
       "3  2019-03-20  156044289179301                       90                   6.0   \n",
       "4  2019-03-27  156044289179301                      500                  12.2   \n",
       "5  2019-04-03  156044289179301                        0                  18.4   \n",
       "6  2019-04-10  156044289179301                        0                  19.2   \n",
       "7  2019-04-17  156044289179301                        0                  21.2   \n",
       "8  2019-04-24  156044289179301                       70                  13.7   \n",
       "9  2019-05-01  156044289179301                        0                   9.9   \n",
       "10 2019-05-08  156044289179301                        0                  17.9   \n",
       "11 2019-05-15  156044289179301                        0                   8.6   \n",
       "12 2019-05-22  156044289179301                        0                  21.2   \n",
       "13 2019-05-29  156044289179301                       90                  16.0   \n",
       "14 2019-06-05  156044289179301                     1000                   6.8   \n",
       "15 2019-06-12  156044289179301                      800                  21.5   \n",
       "16 2019-06-19  156044289179301                       20                  21.3   \n",
       "17 2019-06-26  156044289179301                      200                  16.4   \n",
       "18 2019-07-03  156044289179301                        0                  18.0   \n",
       "19 2019-07-10  156044289179301                      100                  14.4   \n",
       "20 2019-07-17  156044289179301                       90                  16.7   \n",
       "21 2019-07-24  156044289179301                       30                  14.8   \n",
       "22 2019-07-31  156044289179301                      800                   3.6   \n",
       "23 2019-08-07  156044289179301                       30                  15.7   \n",
       "24 2019-08-14  156044289179301                        0                  17.3   \n",
       "25 2019-08-21  156044289179301                      300                  16.7   \n",
       "26 2019-08-28  156044289179301                        0                   1.3   \n",
       "27 2019-09-04  156044289179301                        0                  16.8   \n",
       "28 2019-09-11  156044289179301                     1000                   1.9   \n",
       "29 2019-09-18  156044289179301                        0                   0.7   \n",
       "30 2019-09-25  156044289179301                        0                   6.9   \n",
       "31 2019-10-02  156044289179301                       90                  18.6   \n",
       "32 2019-10-09  156044289179301                     1000                  11.5   \n",
       "33 2019-10-16  156044289179301                      300                   2.9   \n",
       "34 2019-10-23  156044289179301                        0                   9.3   \n",
       "35 2019-10-30  156044289179301                        0                   6.3   \n",
       "36 2019-11-06  156044289179301                       90                   4.2   \n",
       "37 2019-11-13  156044289179301                        0                   0.0   \n",
       "38 2019-11-20  156044289179301                        0                   0.0   \n",
       "39 2019-11-27  156044289179301                        0                   0.0   \n",
       "40 2019-12-04  156044289179301                        0                   0.0   \n",
       "\n",
       "    mobile_data_usage(gb)  promos_used  active_times  activity_status  \n",
       "0                    6.01            0             1                0  \n",
       "1                    8.78            0             1                0  \n",
       "2                    5.10            0             2                0  \n",
       "3                    6.20            0             0                0  \n",
       "4                    6.29            3             2                0  \n",
       "5                    5.89            0             0                0  \n",
       "6                    6.34            0             1                0  \n",
       "7                    6.67            4             1                0  \n",
       "8                    7.13            4             1                0  \n",
       "9                    8.12            4             0                0  \n",
       "10                   8.63            2             0                0  \n",
       "11                   7.34            3             1                0  \n",
       "12                   5.70            1             0                0  \n",
       "13                   5.63            2             2                0  \n",
       "14                   5.84            0             0                0  \n",
       "15                   5.15            0             1                0  \n",
       "16                   7.60            4             0                0  \n",
       "17                   5.62            0             1                0  \n",
       "18                   6.62            1             2                0  \n",
       "19                   5.63            0             2                0  \n",
       "20                   5.88            1             0                0  \n",
       "21                   6.79            1             2                0  \n",
       "22                   6.33            1             1                0  \n",
       "23                   5.58            2             0                0  \n",
       "24                   5.53            5             0                0  \n",
       "25                   6.52            0             0                0  \n",
       "26                   8.52            6             1                0  \n",
       "27                   6.00            1             1                0  \n",
       "28                   5.87            1             2                0  \n",
       "29                   8.78            1             0                0  \n",
       "30                   7.54            0             2                0  \n",
       "31                   8.72            1             0                0  \n",
       "32                   7.23            0             0                0  \n",
       "33                   6.78            0             2                0  \n",
       "34                   8.01            6             1                0  \n",
       "35                   6.36            0             1                0  \n",
       "36                   8.33            2             0                0  \n",
       "37                   0.00            0             0                1  \n",
       "38                   0.00            0             0                1  \n",
       "39                   0.00            0             0                1  \n",
       "40                   0.00            0             0                1  "
      ],
      "text/html": "<div>\n<style scoped>\n    .dataframe tbody tr th:only-of-type {\n        vertical-align: middle;\n    }\n\n    .dataframe tbody tr th {\n        vertical-align: top;\n    }\n\n    .dataframe thead th {\n        text-align: right;\n    }\n</style>\n<table border=\"1\" class=\"dataframe\">\n  <thead>\n    <tr style=\"text-align: right;\">\n      <th></th>\n      <th>weeks</th>\n      <th>IMEI</th>\n      <th>credits_loaded_per_week</th>\n      <th>num_hrs_spend_on_net</th>\n      <th>mobile_data_usage(gb)</th>\n      <th>promos_used</th>\n      <th>active_times</th>\n      <th>activity_status</th>\n    </tr>\n  </thead>\n  <tbody>\n    <tr>\n      <th>0</th>\n      <td>2019-02-27</td>\n      <td>156044289179301</td>\n      <td>0</td>\n      <td>3.0</td>\n      <td>6.01</td>\n      <td>0</td>\n      <td>1</td>\n      <td>0</td>\n    </tr>\n    <tr>\n      <th>1</th>\n      <td>2019-03-06</td>\n      <td>156044289179301</td>\n      <td>300</td>\n      <td>2.4</td>\n      <td>8.78</td>\n      <td>0</td>\n      <td>1</td>\n      <td>0</td>\n    </tr>\n    <tr>\n      <th>2</th>\n      <td>2019-03-13</td>\n      <td>156044289179301</td>\n      <td>0</td>\n      <td>21.8</td>\n      <td>5.10</td>\n      <td>0</td>\n      <td>2</td>\n      <td>0</td>\n    </tr>\n    <tr>\n      <th>3</th>\n      <td>2019-03-20</td>\n      <td>156044289179301</td>\n      <td>90</td>\n      <td>6.0</td>\n      <td>6.20</td>\n      <td>0</td>\n      <td>0</td>\n      <td>0</td>\n    </tr>\n    <tr>\n      <th>4</th>\n      <td>2019-03-27</td>\n      <td>156044289179301</td>\n      <td>500</td>\n      <td>12.2</td>\n      <td>6.29</td>\n      <td>3</td>\n      <td>2</td>\n      <td>0</td>\n    </tr>\n    <tr>\n      <th>5</th>\n      <td>2019-04-03</td>\n      <td>156044289179301</td>\n      <td>0</td>\n      <td>18.4</td>\n      <td>5.89</td>\n      <td>0</td>\n      <td>0</td>\n      <td>0</td>\n    </tr>\n    <tr>\n      <th>6</th>\n      <td>2019-04-10</td>\n      <td>156044289179301</td>\n      <td>0</td>\n      <td>19.2</td>\n      <td>6.34</td>\n      <td>0</td>\n      <td>1</td>\n      <td>0</td>\n    </tr>\n    <tr>\n      <th>7</th>\n      <td>2019-04-17</td>\n      <td>156044289179301</td>\n      <td>0</td>\n      <td>21.2</td>\n      <td>6.67</td>\n      <td>4</td>\n      <td>1</td>\n      <td>0</td>\n    </tr>\n    <tr>\n      <th>8</th>\n      <td>2019-04-24</td>\n      <td>156044289179301</td>\n      <td>70</td>\n      <td>13.7</td>\n      <td>7.13</td>\n      <td>4</td>\n      <td>1</td>\n      <td>0</td>\n    </tr>\n    <tr>\n      <th>9</th>\n      <td>2019-05-01</td>\n      <td>156044289179301</td>\n      <td>0</td>\n      <td>9.9</td>\n      <td>8.12</td>\n      <td>4</td>\n      <td>0</td>\n      <td>0</td>\n    </tr>\n    <tr>\n      <th>10</th>\n      <td>2019-05-08</td>\n      <td>156044289179301</td>\n      <td>0</td>\n      <td>17.9</td>\n      <td>8.63</td>\n      <td>2</td>\n      <td>0</td>\n      <td>0</td>\n    </tr>\n    <tr>\n      <th>11</th>\n      <td>2019-05-15</td>\n      <td>156044289179301</td>\n      <td>0</td>\n      <td>8.6</td>\n      <td>7.34</td>\n      <td>3</td>\n      <td>1</td>\n      <td>0</td>\n    </tr>\n    <tr>\n      <th>12</th>\n      <td>2019-05-22</td>\n      <td>156044289179301</td>\n      <td>0</td>\n      <td>21.2</td>\n      <td>5.70</td>\n      <td>1</td>\n      <td>0</td>\n      <td>0</td>\n    </tr>\n    <tr>\n      <th>13</th>\n      <td>2019-05-29</td>\n      <td>156044289179301</td>\n      <td>90</td>\n      <td>16.0</td>\n      <td>5.63</td>\n      <td>2</td>\n      <td>2</td>\n      <td>0</td>\n    </tr>\n    <tr>\n      <th>14</th>\n      <td>2019-06-05</td>\n      <td>156044289179301</td>\n      <td>1000</td>\n      <td>6.8</td>\n      <td>5.84</td>\n      <td>0</td>\n      <td>0</td>\n      <td>0</td>\n    </tr>\n    <tr>\n      <th>15</th>\n      <td>2019-06-12</td>\n      <td>156044289179301</td>\n      <td>800</td>\n      <td>21.5</td>\n      <td>5.15</td>\n      <td>0</td>\n      <td>1</td>\n      <td>0</td>\n    </tr>\n    <tr>\n      <th>16</th>\n      <td>2019-06-19</td>\n      <td>156044289179301</td>\n      <td>20</td>\n      <td>21.3</td>\n      <td>7.60</td>\n      <td>4</td>\n      <td>0</td>\n      <td>0</td>\n    </tr>\n    <tr>\n      <th>17</th>\n      <td>2019-06-26</td>\n      <td>156044289179301</td>\n      <td>200</td>\n      <td>16.4</td>\n      <td>5.62</td>\n      <td>0</td>\n      <td>1</td>\n      <td>0</td>\n    </tr>\n    <tr>\n      <th>18</th>\n      <td>2019-07-03</td>\n      <td>156044289179301</td>\n      <td>0</td>\n      <td>18.0</td>\n      <td>6.62</td>\n      <td>1</td>\n      <td>2</td>\n      <td>0</td>\n    </tr>\n    <tr>\n      <th>19</th>\n      <td>2019-07-10</td>\n      <td>156044289179301</td>\n      <td>100</td>\n      <td>14.4</td>\n      <td>5.63</td>\n      <td>0</td>\n      <td>2</td>\n      <td>0</td>\n    </tr>\n    <tr>\n      <th>20</th>\n      <td>2019-07-17</td>\n      <td>156044289179301</td>\n      <td>90</td>\n      <td>16.7</td>\n      <td>5.88</td>\n      <td>1</td>\n      <td>0</td>\n      <td>0</td>\n    </tr>\n    <tr>\n      <th>21</th>\n      <td>2019-07-24</td>\n      <td>156044289179301</td>\n      <td>30</td>\n      <td>14.8</td>\n      <td>6.79</td>\n      <td>1</td>\n      <td>2</td>\n      <td>0</td>\n    </tr>\n    <tr>\n      <th>22</th>\n      <td>2019-07-31</td>\n      <td>156044289179301</td>\n      <td>800</td>\n      <td>3.6</td>\n      <td>6.33</td>\n      <td>1</td>\n      <td>1</td>\n      <td>0</td>\n    </tr>\n    <tr>\n      <th>23</th>\n      <td>2019-08-07</td>\n      <td>156044289179301</td>\n      <td>30</td>\n      <td>15.7</td>\n      <td>5.58</td>\n      <td>2</td>\n      <td>0</td>\n      <td>0</td>\n    </tr>\n    <tr>\n      <th>24</th>\n      <td>2019-08-14</td>\n      <td>156044289179301</td>\n      <td>0</td>\n      <td>17.3</td>\n      <td>5.53</td>\n      <td>5</td>\n      <td>0</td>\n      <td>0</td>\n    </tr>\n    <tr>\n      <th>25</th>\n      <td>2019-08-21</td>\n      <td>156044289179301</td>\n      <td>300</td>\n      <td>16.7</td>\n      <td>6.52</td>\n      <td>0</td>\n      <td>0</td>\n      <td>0</td>\n    </tr>\n    <tr>\n      <th>26</th>\n      <td>2019-08-28</td>\n      <td>156044289179301</td>\n      <td>0</td>\n      <td>1.3</td>\n      <td>8.52</td>\n      <td>6</td>\n      <td>1</td>\n      <td>0</td>\n    </tr>\n    <tr>\n      <th>27</th>\n      <td>2019-09-04</td>\n      <td>156044289179301</td>\n      <td>0</td>\n      <td>16.8</td>\n      <td>6.00</td>\n      <td>1</td>\n      <td>1</td>\n      <td>0</td>\n    </tr>\n    <tr>\n      <th>28</th>\n      <td>2019-09-11</td>\n      <td>156044289179301</td>\n      <td>1000</td>\n      <td>1.9</td>\n      <td>5.87</td>\n      <td>1</td>\n      <td>2</td>\n      <td>0</td>\n    </tr>\n    <tr>\n      <th>29</th>\n      <td>2019-09-18</td>\n      <td>156044289179301</td>\n      <td>0</td>\n      <td>0.7</td>\n      <td>8.78</td>\n      <td>1</td>\n      <td>0</td>\n      <td>0</td>\n    </tr>\n    <tr>\n      <th>30</th>\n      <td>2019-09-25</td>\n      <td>156044289179301</td>\n      <td>0</td>\n      <td>6.9</td>\n      <td>7.54</td>\n      <td>0</td>\n      <td>2</td>\n      <td>0</td>\n    </tr>\n    <tr>\n      <th>31</th>\n      <td>2019-10-02</td>\n      <td>156044289179301</td>\n      <td>90</td>\n      <td>18.6</td>\n      <td>8.72</td>\n      <td>1</td>\n      <td>0</td>\n      <td>0</td>\n    </tr>\n    <tr>\n      <th>32</th>\n      <td>2019-10-09</td>\n      <td>156044289179301</td>\n      <td>1000</td>\n      <td>11.5</td>\n      <td>7.23</td>\n      <td>0</td>\n      <td>0</td>\n      <td>0</td>\n    </tr>\n    <tr>\n      <th>33</th>\n      <td>2019-10-16</td>\n      <td>156044289179301</td>\n      <td>300</td>\n      <td>2.9</td>\n      <td>6.78</td>\n      <td>0</td>\n      <td>2</td>\n      <td>0</td>\n    </tr>\n    <tr>\n      <th>34</th>\n      <td>2019-10-23</td>\n      <td>156044289179301</td>\n      <td>0</td>\n      <td>9.3</td>\n      <td>8.01</td>\n      <td>6</td>\n      <td>1</td>\n      <td>0</td>\n    </tr>\n    <tr>\n      <th>35</th>\n      <td>2019-10-30</td>\n      <td>156044289179301</td>\n      <td>0</td>\n      <td>6.3</td>\n      <td>6.36</td>\n      <td>0</td>\n      <td>1</td>\n      <td>0</td>\n    </tr>\n    <tr>\n      <th>36</th>\n      <td>2019-11-06</td>\n      <td>156044289179301</td>\n      <td>90</td>\n      <td>4.2</td>\n      <td>8.33</td>\n      <td>2</td>\n      <td>0</td>\n      <td>0</td>\n    </tr>\n    <tr>\n      <th>37</th>\n      <td>2019-11-13</td>\n      <td>156044289179301</td>\n      <td>0</td>\n      <td>0.0</td>\n      <td>0.00</td>\n      <td>0</td>\n      <td>0</td>\n      <td>1</td>\n    </tr>\n    <tr>\n      <th>38</th>\n      <td>2019-11-20</td>\n      <td>156044289179301</td>\n      <td>0</td>\n      <td>0.0</td>\n      <td>0.00</td>\n      <td>0</td>\n      <td>0</td>\n      <td>1</td>\n    </tr>\n    <tr>\n      <th>39</th>\n      <td>2019-11-27</td>\n      <td>156044289179301</td>\n      <td>0</td>\n      <td>0.0</td>\n      <td>0.00</td>\n      <td>0</td>\n      <td>0</td>\n      <td>1</td>\n    </tr>\n    <tr>\n      <th>40</th>\n      <td>2019-12-04</td>\n      <td>156044289179301</td>\n      <td>0</td>\n      <td>0.0</td>\n      <td>0.00</td>\n      <td>0</td>\n      <td>0</td>\n      <td>1</td>\n    </tr>\n  </tbody>\n</table>\n</div>"
     },
     "metadata": {},
     "execution_count": 10
    }
   ],
   "source": [
    "d[0]"
   ]
  },
  {
   "cell_type": "code",
   "execution_count": 11,
   "metadata": {},
   "outputs": [
    {
     "output_type": "stream",
     "name": "stdout",
     "text": [
      "37   37\n"
     ]
    }
   ],
   "source": [
    "df1 = d[0].iloc[:-4, :]\n",
    "df2 = d[4].iloc[:len(df1), :]\n",
    "print(len(df1), ' ', len(df2))"
   ]
  },
  {
   "cell_type": "code",
   "execution_count": 12,
   "metadata": {},
   "outputs": [
    {
     "output_type": "execute_result",
     "data": {
      "text/plain": [
       "<pandas.core.groupby.generic.SeriesGroupBy object at 0x000001A7FB958B80>"
      ]
     },
     "metadata": {},
     "execution_count": 12
    }
   ],
   "source": [
    "x = df1.groupby('IMEI')['credits_loaded_per_week']\r\n",
    "x"
   ]
  },
  {
   "cell_type": "code",
   "execution_count": 13,
   "metadata": {},
   "outputs": [
    {
     "output_type": "execute_result",
     "data": {
      "text/plain": [
       "array([   2.59584283,  700.04752989,   17.65903735,  710.00808087,\n",
       "        300.01070464, 1000.00817302,  100.03780086,  300.166128  ,\n",
       "         70.30931731,    7.81368031,   10.0648696 ,    5.6800088 ,\n",
       "          9.86026876,   90.02148021,  200.10298374,  800.05053972,\n",
       "         81.28937261,  200.09266253,    4.38698074,  100.49566956,\n",
       "         20.50819592,   31.82238363,  800.05470694,   31.81057214,\n",
       "        800.07399664,  270.03258859, 1000.02149102,    5.21080608,\n",
       "          6.11657584,  300.06475651,  500.04546043,   71.96832637,\n",
       "        910.02089872,  300.0969385 ,  100.53783566,   50.31254714,\n",
       "         18.42504003])"
      ]
     },
     "metadata": {},
     "execution_count": 13
    }
   ],
   "source": [
    "distances = Euclidean_Dist(df1, df2)\n",
    "distances"
   ]
  },
  {
   "cell_type": "code",
   "execution_count": 14,
   "metadata": {},
   "outputs": [
    {
     "output_type": "execute_result",
     "data": {
      "text/plain": [
       "array([   2.59584283,  700.04752989,   17.65903735,  710.00808087,\n",
       "        300.01070464, 1000.00817302,  100.03780086,  300.166128  ,\n",
       "         70.30931731,    7.81368031,   10.0648696 ,    5.6800088 ,\n",
       "          9.86026876,   90.02148021,  200.10298374,  800.05053972,\n",
       "         81.28937261,  200.09266253,    4.38698074,  100.49566956,\n",
       "         20.50819592,   31.82238363,  800.05470694,   31.81057214,\n",
       "        800.07399664,  270.03258859, 1000.02149102,    5.21080608,\n",
       "          6.11657584,  300.06475651,  500.04546043,   71.96832637,\n",
       "        910.02089872,  300.0969385 ,  100.53783566,   50.31254714,\n",
       "         18.42504003])"
      ]
     },
     "metadata": {},
     "execution_count": 14
    }
   ],
   "source": [
    "distances"
   ]
  },
  {
   "cell_type": "code",
   "execution_count": 15,
   "metadata": {},
   "outputs": [
    {
     "output_type": "execute_result",
     "data": {
      "text/plain": [
       "268.31957436507156"
      ]
     },
     "metadata": {},
     "execution_count": 15
    }
   ],
   "source": [
    "distances.mean()"
   ]
  },
  {
   "cell_type": "code",
   "execution_count": 16,
   "metadata": {},
   "outputs": [
    {
     "output_type": "stream",
     "name": "stdout",
     "text": [
      "23%\n"
     ]
    }
   ],
   "source": [
    "print('%.f%%' % (100 * (df1.values == df2.values).sum() / df1.size))"
   ]
  },
  {
   "cell_type": "code",
   "execution_count": null,
   "metadata": {},
   "outputs": [],
   "source": []
  }
 ]
}