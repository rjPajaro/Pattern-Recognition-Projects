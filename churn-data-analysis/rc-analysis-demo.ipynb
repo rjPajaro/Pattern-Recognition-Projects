{
 "metadata": {
  "language_info": {
   "codemirror_mode": {
    "name": "ipython",
    "version": 3
   },
   "file_extension": ".py",
   "mimetype": "text/x-python",
   "name": "python",
   "nbconvert_exporter": "python",
   "pygments_lexer": "ipython3",
   "version": "3.8.3"
  },
  "orig_nbformat": 4,
  "kernelspec": {
   "name": "python3",
   "display_name": "Python 3.8.3 64-bit ('base': conda)"
  },
  "interpreter": {
   "hash": "80e949a67cf278127b748d188dfe995fcb9b6fe4ab79bb80686294a040d0359f"
  }
 },
 "nbformat": 4,
 "nbformat_minor": 2,
 "cells": [
  {
   "cell_type": "markdown",
   "source": [
    "# Analyzing Data for Rotational Churners"
   ],
   "metadata": {}
  },
  {
   "cell_type": "markdown",
   "source": [
    "## Agendas:\r\n",
    " - Fix mock data creation.\r\n",
    " - Convert everything in this notebook to callable functions/script.\r\n",
    " - visualizations"
   ],
   "metadata": {}
  },
  {
   "cell_type": "markdown",
   "source": [
    "Loading the churner data and data of the newer/more recent users"
   ],
   "metadata": {}
  },
  {
   "cell_type": "code",
   "execution_count": 1,
   "source": [
    "import numpy as np\r\n",
    "import pandas as pd\r\n",
    "\r\n",
    "dfs = pd.ExcelFile('data/mock/sample_mock_c_data.xlsx')\r\n",
    "sheets = dfs.sheet_names\r\n",
    "d = []\r\n",
    "for i in range(10):\r\n",
    "    d.append(dfs.parse(sheet_name=sheets[i]))\r\n",
    "\r\n",
    "newer_users = pd.read_excel('data/mock/sample_mock_rc_data.xlsx')"
   ],
   "outputs": [],
   "metadata": {}
  },
  {
   "cell_type": "code",
   "execution_count": 2,
   "source": [
    "d[0].head()"
   ],
   "outputs": [
    {
     "output_type": "execute_result",
     "data": {
      "text/plain": [
       "       weeks             IMEI  phone_nums  credits_loaded_per_week  \\\n",
       "0 2018-04-17  772605788289199  9369298671                       20   \n",
       "1 2018-04-24  772605788289199  9369298671                      800   \n",
       "2 2018-05-01  772605788289199  9369298671                       30   \n",
       "3 2018-05-08  772605788289199  9369298671                      800   \n",
       "4 2018-05-15  772605788289199  9369298671                        0   \n",
       "\n",
       "   num_hrs_spend_on_net  mobile_data_usage(gb)  promos_used  active_times  \\\n",
       "0                  17.9                   7.51            7             2   \n",
       "1                   1.1                   5.55            0             2   \n",
       "2                  20.1                   6.78            8             2   \n",
       "3                  12.9                   8.65            7             1   \n",
       "4                  14.8                   7.28            3             0   \n",
       "\n",
       "   activity_status  \n",
       "0                0  \n",
       "1                0  \n",
       "2                0  \n",
       "3                0  \n",
       "4                0  "
      ],
      "text/html": [
       "<div>\n",
       "<style scoped>\n",
       "    .dataframe tbody tr th:only-of-type {\n",
       "        vertical-align: middle;\n",
       "    }\n",
       "\n",
       "    .dataframe tbody tr th {\n",
       "        vertical-align: top;\n",
       "    }\n",
       "\n",
       "    .dataframe thead th {\n",
       "        text-align: right;\n",
       "    }\n",
       "</style>\n",
       "<table border=\"1\" class=\"dataframe\">\n",
       "  <thead>\n",
       "    <tr style=\"text-align: right;\">\n",
       "      <th></th>\n",
       "      <th>weeks</th>\n",
       "      <th>IMEI</th>\n",
       "      <th>phone_nums</th>\n",
       "      <th>credits_loaded_per_week</th>\n",
       "      <th>num_hrs_spend_on_net</th>\n",
       "      <th>mobile_data_usage(gb)</th>\n",
       "      <th>promos_used</th>\n",
       "      <th>active_times</th>\n",
       "      <th>activity_status</th>\n",
       "    </tr>\n",
       "  </thead>\n",
       "  <tbody>\n",
       "    <tr>\n",
       "      <th>0</th>\n",
       "      <td>2018-04-17</td>\n",
       "      <td>772605788289199</td>\n",
       "      <td>9369298671</td>\n",
       "      <td>20</td>\n",
       "      <td>17.9</td>\n",
       "      <td>7.51</td>\n",
       "      <td>7</td>\n",
       "      <td>2</td>\n",
       "      <td>0</td>\n",
       "    </tr>\n",
       "    <tr>\n",
       "      <th>1</th>\n",
       "      <td>2018-04-24</td>\n",
       "      <td>772605788289199</td>\n",
       "      <td>9369298671</td>\n",
       "      <td>800</td>\n",
       "      <td>1.1</td>\n",
       "      <td>5.55</td>\n",
       "      <td>0</td>\n",
       "      <td>2</td>\n",
       "      <td>0</td>\n",
       "    </tr>\n",
       "    <tr>\n",
       "      <th>2</th>\n",
       "      <td>2018-05-01</td>\n",
       "      <td>772605788289199</td>\n",
       "      <td>9369298671</td>\n",
       "      <td>30</td>\n",
       "      <td>20.1</td>\n",
       "      <td>6.78</td>\n",
       "      <td>8</td>\n",
       "      <td>2</td>\n",
       "      <td>0</td>\n",
       "    </tr>\n",
       "    <tr>\n",
       "      <th>3</th>\n",
       "      <td>2018-05-08</td>\n",
       "      <td>772605788289199</td>\n",
       "      <td>9369298671</td>\n",
       "      <td>800</td>\n",
       "      <td>12.9</td>\n",
       "      <td>8.65</td>\n",
       "      <td>7</td>\n",
       "      <td>1</td>\n",
       "      <td>0</td>\n",
       "    </tr>\n",
       "    <tr>\n",
       "      <th>4</th>\n",
       "      <td>2018-05-15</td>\n",
       "      <td>772605788289199</td>\n",
       "      <td>9369298671</td>\n",
       "      <td>0</td>\n",
       "      <td>14.8</td>\n",
       "      <td>7.28</td>\n",
       "      <td>3</td>\n",
       "      <td>0</td>\n",
       "      <td>0</td>\n",
       "    </tr>\n",
       "  </tbody>\n",
       "</table>\n",
       "</div>"
      ]
     },
     "metadata": {},
     "execution_count": 2
    }
   ],
   "metadata": {}
  },
  {
   "cell_type": "code",
   "execution_count": 3,
   "source": [
    "newer_users.head()"
   ],
   "outputs": [
    {
     "output_type": "execute_result",
     "data": {
      "text/plain": [
       "       weeks              IMEI  phone_nums  credits_loaded_per_week  \\\n",
       "0 2018-12-11  5969775737476310  9995451837                       50   \n",
       "1 2018-12-18  5969775737476310  9995451837                     1000   \n",
       "2 2018-12-25  5969775737476310  9995451837                       70   \n",
       "3 2019-01-01  5969775737476310  9995451837                     1000   \n",
       "4 2019-01-08  5969775737476310  9995451837                        0   \n",
       "\n",
       "   num_hrs_spend_on_net  mobile_data_usage(gb)  promos_used  active_times  \\\n",
       "0                  19.2                    7.5            9             0   \n",
       "1                   1.1                    4.0            1             2   \n",
       "2                  20.1                    6.8            7             2   \n",
       "3                  12.1                    6.7            5             1   \n",
       "4                  14.8                    7.7            2             1   \n",
       "\n",
       "   activity_status  \n",
       "0                0  \n",
       "1                0  \n",
       "2                0  \n",
       "3                0  \n",
       "4                0  "
      ],
      "text/html": [
       "<div>\n",
       "<style scoped>\n",
       "    .dataframe tbody tr th:only-of-type {\n",
       "        vertical-align: middle;\n",
       "    }\n",
       "\n",
       "    .dataframe tbody tr th {\n",
       "        vertical-align: top;\n",
       "    }\n",
       "\n",
       "    .dataframe thead th {\n",
       "        text-align: right;\n",
       "    }\n",
       "</style>\n",
       "<table border=\"1\" class=\"dataframe\">\n",
       "  <thead>\n",
       "    <tr style=\"text-align: right;\">\n",
       "      <th></th>\n",
       "      <th>weeks</th>\n",
       "      <th>IMEI</th>\n",
       "      <th>phone_nums</th>\n",
       "      <th>credits_loaded_per_week</th>\n",
       "      <th>num_hrs_spend_on_net</th>\n",
       "      <th>mobile_data_usage(gb)</th>\n",
       "      <th>promos_used</th>\n",
       "      <th>active_times</th>\n",
       "      <th>activity_status</th>\n",
       "    </tr>\n",
       "  </thead>\n",
       "  <tbody>\n",
       "    <tr>\n",
       "      <th>0</th>\n",
       "      <td>2018-12-11</td>\n",
       "      <td>5969775737476310</td>\n",
       "      <td>9995451837</td>\n",
       "      <td>50</td>\n",
       "      <td>19.2</td>\n",
       "      <td>7.5</td>\n",
       "      <td>9</td>\n",
       "      <td>0</td>\n",
       "      <td>0</td>\n",
       "    </tr>\n",
       "    <tr>\n",
       "      <th>1</th>\n",
       "      <td>2018-12-18</td>\n",
       "      <td>5969775737476310</td>\n",
       "      <td>9995451837</td>\n",
       "      <td>1000</td>\n",
       "      <td>1.1</td>\n",
       "      <td>4.0</td>\n",
       "      <td>1</td>\n",
       "      <td>2</td>\n",
       "      <td>0</td>\n",
       "    </tr>\n",
       "    <tr>\n",
       "      <th>2</th>\n",
       "      <td>2018-12-25</td>\n",
       "      <td>5969775737476310</td>\n",
       "      <td>9995451837</td>\n",
       "      <td>70</td>\n",
       "      <td>20.1</td>\n",
       "      <td>6.8</td>\n",
       "      <td>7</td>\n",
       "      <td>2</td>\n",
       "      <td>0</td>\n",
       "    </tr>\n",
       "    <tr>\n",
       "      <th>3</th>\n",
       "      <td>2019-01-01</td>\n",
       "      <td>5969775737476310</td>\n",
       "      <td>9995451837</td>\n",
       "      <td>1000</td>\n",
       "      <td>12.1</td>\n",
       "      <td>6.7</td>\n",
       "      <td>5</td>\n",
       "      <td>1</td>\n",
       "      <td>0</td>\n",
       "    </tr>\n",
       "    <tr>\n",
       "      <th>4</th>\n",
       "      <td>2019-01-08</td>\n",
       "      <td>5969775737476310</td>\n",
       "      <td>9995451837</td>\n",
       "      <td>0</td>\n",
       "      <td>14.8</td>\n",
       "      <td>7.7</td>\n",
       "      <td>2</td>\n",
       "      <td>1</td>\n",
       "      <td>0</td>\n",
       "    </tr>\n",
       "  </tbody>\n",
       "</table>\n",
       "</div>"
      ]
     },
     "metadata": {},
     "execution_count": 3
    }
   ],
   "metadata": {}
  },
  {
   "cell_type": "markdown",
   "source": [
    "#### Using Euclidean Distance to Compare how Similar 2 the New User is to a Churner"
   ],
   "metadata": {}
  },
  {
   "cell_type": "code",
   "execution_count": 4,
   "source": [
    "def Euclidean_Dist(df1, df2, cols=d[0].columns[3:-3]):\r\n",
    "    return (np.linalg.norm(df1[cols].values - df2[cols].values, axis=1))"
   ],
   "outputs": [],
   "metadata": {}
  },
  {
   "cell_type": "code",
   "execution_count": 5,
   "source": [
    "df1 = d[0].iloc[:-4, :-3]\r\n",
    "df2 = newer_users.iloc[:len(df1), :-3]\r\n",
    "df3 = d[3].iloc[:len(df1), :-3]\r\n",
    "print(len(df1), ' ', len(df2), ' ', len(df3))"
   ],
   "outputs": [
    {
     "output_type": "stream",
     "name": "stdout",
     "text": [
      "29   29   29\n"
     ]
    }
   ],
   "metadata": {}
  },
  {
   "cell_type": "code",
   "execution_count": 6,
   "source": [
    "df1"
   ],
   "outputs": [
    {
     "output_type": "execute_result",
     "data": {
      "text/plain": [
       "        weeks             IMEI  phone_nums  credits_loaded_per_week  \\\n",
       "0  2018-04-17  772605788289199  9369298671                       20   \n",
       "1  2018-04-24  772605788289199  9369298671                      800   \n",
       "2  2018-05-01  772605788289199  9369298671                       30   \n",
       "3  2018-05-08  772605788289199  9369298671                      800   \n",
       "4  2018-05-15  772605788289199  9369298671                        0   \n",
       "5  2018-05-22  772605788289199  9369298671                        0   \n",
       "6  2018-05-29  772605788289199  9369298671                      200   \n",
       "7  2018-06-05  772605788289199  9369298671                       90   \n",
       "8  2018-06-12  772605788289199  9369298671                        0   \n",
       "9  2018-06-19  772605788289199  9369298671                        0   \n",
       "10 2018-06-26  772605788289199  9369298671                      150   \n",
       "11 2018-07-03  772605788289199  9369298671                       90   \n",
       "12 2018-07-10  772605788289199  9369298671                        0   \n",
       "13 2018-07-17  772605788289199  9369298671                        0   \n",
       "14 2018-07-24  772605788289199  9369298671                       20   \n",
       "15 2018-07-31  772605788289199  9369298671                        0   \n",
       "16 2018-08-07  772605788289199  9369298671                        0   \n",
       "17 2018-08-14  772605788289199  9369298671                       50   \n",
       "18 2018-08-21  772605788289199  9369298671                      300   \n",
       "19 2018-08-28  772605788289199  9369298671                        0   \n",
       "20 2018-09-04  772605788289199  9369298671                       90   \n",
       "21 2018-09-11  772605788289199  9369298671                      150   \n",
       "22 2018-09-18  772605788289199  9369298671                        0   \n",
       "23 2018-09-25  772605788289199  9369298671                        0   \n",
       "24 2018-10-02  772605788289199  9369298671                       30   \n",
       "25 2018-10-09  772605788289199  9369298671                       70   \n",
       "26 2018-10-16  772605788289199  9369298671                      300   \n",
       "27 2018-10-23  772605788289199  9369298671                      500   \n",
       "28 2018-10-30  772605788289199  9369298671                        0   \n",
       "\n",
       "    num_hrs_spend_on_net  mobile_data_usage(gb)  \n",
       "0                   17.9                   7.51  \n",
       "1                    1.1                   5.55  \n",
       "2                   20.1                   6.78  \n",
       "3                   12.9                   8.65  \n",
       "4                   14.8                   7.28  \n",
       "5                    8.0                   6.59  \n",
       "6                   22.3                   5.11  \n",
       "7                   11.7                   6.51  \n",
       "8                   11.6                   5.98  \n",
       "9                   19.3                   7.22  \n",
       "10                  22.3                   6.79  \n",
       "11                   4.9                   6.33  \n",
       "12                  17.4                   6.11  \n",
       "13                  19.9                   8.85  \n",
       "14                  10.7                   7.82  \n",
       "15                  11.0                   8.43  \n",
       "16                  21.5                   8.60  \n",
       "17                  20.6                   5.82  \n",
       "18                   1.0                   7.02  \n",
       "19                   8.2                   5.16  \n",
       "20                   9.3                   7.37  \n",
       "21                   4.6                   6.98  \n",
       "22                   8.4                   7.53  \n",
       "23                  18.8                   7.88  \n",
       "24                   2.0                   7.07  \n",
       "25                  15.1                   8.65  \n",
       "26                   1.7                   5.31  \n",
       "27                  22.2                   8.20  \n",
       "28                  10.5                   8.58  "
      ],
      "text/html": [
       "<div>\n",
       "<style scoped>\n",
       "    .dataframe tbody tr th:only-of-type {\n",
       "        vertical-align: middle;\n",
       "    }\n",
       "\n",
       "    .dataframe tbody tr th {\n",
       "        vertical-align: top;\n",
       "    }\n",
       "\n",
       "    .dataframe thead th {\n",
       "        text-align: right;\n",
       "    }\n",
       "</style>\n",
       "<table border=\"1\" class=\"dataframe\">\n",
       "  <thead>\n",
       "    <tr style=\"text-align: right;\">\n",
       "      <th></th>\n",
       "      <th>weeks</th>\n",
       "      <th>IMEI</th>\n",
       "      <th>phone_nums</th>\n",
       "      <th>credits_loaded_per_week</th>\n",
       "      <th>num_hrs_spend_on_net</th>\n",
       "      <th>mobile_data_usage(gb)</th>\n",
       "    </tr>\n",
       "  </thead>\n",
       "  <tbody>\n",
       "    <tr>\n",
       "      <th>0</th>\n",
       "      <td>2018-04-17</td>\n",
       "      <td>772605788289199</td>\n",
       "      <td>9369298671</td>\n",
       "      <td>20</td>\n",
       "      <td>17.9</td>\n",
       "      <td>7.51</td>\n",
       "    </tr>\n",
       "    <tr>\n",
       "      <th>1</th>\n",
       "      <td>2018-04-24</td>\n",
       "      <td>772605788289199</td>\n",
       "      <td>9369298671</td>\n",
       "      <td>800</td>\n",
       "      <td>1.1</td>\n",
       "      <td>5.55</td>\n",
       "    </tr>\n",
       "    <tr>\n",
       "      <th>2</th>\n",
       "      <td>2018-05-01</td>\n",
       "      <td>772605788289199</td>\n",
       "      <td>9369298671</td>\n",
       "      <td>30</td>\n",
       "      <td>20.1</td>\n",
       "      <td>6.78</td>\n",
       "    </tr>\n",
       "    <tr>\n",
       "      <th>3</th>\n",
       "      <td>2018-05-08</td>\n",
       "      <td>772605788289199</td>\n",
       "      <td>9369298671</td>\n",
       "      <td>800</td>\n",
       "      <td>12.9</td>\n",
       "      <td>8.65</td>\n",
       "    </tr>\n",
       "    <tr>\n",
       "      <th>4</th>\n",
       "      <td>2018-05-15</td>\n",
       "      <td>772605788289199</td>\n",
       "      <td>9369298671</td>\n",
       "      <td>0</td>\n",
       "      <td>14.8</td>\n",
       "      <td>7.28</td>\n",
       "    </tr>\n",
       "    <tr>\n",
       "      <th>5</th>\n",
       "      <td>2018-05-22</td>\n",
       "      <td>772605788289199</td>\n",
       "      <td>9369298671</td>\n",
       "      <td>0</td>\n",
       "      <td>8.0</td>\n",
       "      <td>6.59</td>\n",
       "    </tr>\n",
       "    <tr>\n",
       "      <th>6</th>\n",
       "      <td>2018-05-29</td>\n",
       "      <td>772605788289199</td>\n",
       "      <td>9369298671</td>\n",
       "      <td>200</td>\n",
       "      <td>22.3</td>\n",
       "      <td>5.11</td>\n",
       "    </tr>\n",
       "    <tr>\n",
       "      <th>7</th>\n",
       "      <td>2018-06-05</td>\n",
       "      <td>772605788289199</td>\n",
       "      <td>9369298671</td>\n",
       "      <td>90</td>\n",
       "      <td>11.7</td>\n",
       "      <td>6.51</td>\n",
       "    </tr>\n",
       "    <tr>\n",
       "      <th>8</th>\n",
       "      <td>2018-06-12</td>\n",
       "      <td>772605788289199</td>\n",
       "      <td>9369298671</td>\n",
       "      <td>0</td>\n",
       "      <td>11.6</td>\n",
       "      <td>5.98</td>\n",
       "    </tr>\n",
       "    <tr>\n",
       "      <th>9</th>\n",
       "      <td>2018-06-19</td>\n",
       "      <td>772605788289199</td>\n",
       "      <td>9369298671</td>\n",
       "      <td>0</td>\n",
       "      <td>19.3</td>\n",
       "      <td>7.22</td>\n",
       "    </tr>\n",
       "    <tr>\n",
       "      <th>10</th>\n",
       "      <td>2018-06-26</td>\n",
       "      <td>772605788289199</td>\n",
       "      <td>9369298671</td>\n",
       "      <td>150</td>\n",
       "      <td>22.3</td>\n",
       "      <td>6.79</td>\n",
       "    </tr>\n",
       "    <tr>\n",
       "      <th>11</th>\n",
       "      <td>2018-07-03</td>\n",
       "      <td>772605788289199</td>\n",
       "      <td>9369298671</td>\n",
       "      <td>90</td>\n",
       "      <td>4.9</td>\n",
       "      <td>6.33</td>\n",
       "    </tr>\n",
       "    <tr>\n",
       "      <th>12</th>\n",
       "      <td>2018-07-10</td>\n",
       "      <td>772605788289199</td>\n",
       "      <td>9369298671</td>\n",
       "      <td>0</td>\n",
       "      <td>17.4</td>\n",
       "      <td>6.11</td>\n",
       "    </tr>\n",
       "    <tr>\n",
       "      <th>13</th>\n",
       "      <td>2018-07-17</td>\n",
       "      <td>772605788289199</td>\n",
       "      <td>9369298671</td>\n",
       "      <td>0</td>\n",
       "      <td>19.9</td>\n",
       "      <td>8.85</td>\n",
       "    </tr>\n",
       "    <tr>\n",
       "      <th>14</th>\n",
       "      <td>2018-07-24</td>\n",
       "      <td>772605788289199</td>\n",
       "      <td>9369298671</td>\n",
       "      <td>20</td>\n",
       "      <td>10.7</td>\n",
       "      <td>7.82</td>\n",
       "    </tr>\n",
       "    <tr>\n",
       "      <th>15</th>\n",
       "      <td>2018-07-31</td>\n",
       "      <td>772605788289199</td>\n",
       "      <td>9369298671</td>\n",
       "      <td>0</td>\n",
       "      <td>11.0</td>\n",
       "      <td>8.43</td>\n",
       "    </tr>\n",
       "    <tr>\n",
       "      <th>16</th>\n",
       "      <td>2018-08-07</td>\n",
       "      <td>772605788289199</td>\n",
       "      <td>9369298671</td>\n",
       "      <td>0</td>\n",
       "      <td>21.5</td>\n",
       "      <td>8.60</td>\n",
       "    </tr>\n",
       "    <tr>\n",
       "      <th>17</th>\n",
       "      <td>2018-08-14</td>\n",
       "      <td>772605788289199</td>\n",
       "      <td>9369298671</td>\n",
       "      <td>50</td>\n",
       "      <td>20.6</td>\n",
       "      <td>5.82</td>\n",
       "    </tr>\n",
       "    <tr>\n",
       "      <th>18</th>\n",
       "      <td>2018-08-21</td>\n",
       "      <td>772605788289199</td>\n",
       "      <td>9369298671</td>\n",
       "      <td>300</td>\n",
       "      <td>1.0</td>\n",
       "      <td>7.02</td>\n",
       "    </tr>\n",
       "    <tr>\n",
       "      <th>19</th>\n",
       "      <td>2018-08-28</td>\n",
       "      <td>772605788289199</td>\n",
       "      <td>9369298671</td>\n",
       "      <td>0</td>\n",
       "      <td>8.2</td>\n",
       "      <td>5.16</td>\n",
       "    </tr>\n",
       "    <tr>\n",
       "      <th>20</th>\n",
       "      <td>2018-09-04</td>\n",
       "      <td>772605788289199</td>\n",
       "      <td>9369298671</td>\n",
       "      <td>90</td>\n",
       "      <td>9.3</td>\n",
       "      <td>7.37</td>\n",
       "    </tr>\n",
       "    <tr>\n",
       "      <th>21</th>\n",
       "      <td>2018-09-11</td>\n",
       "      <td>772605788289199</td>\n",
       "      <td>9369298671</td>\n",
       "      <td>150</td>\n",
       "      <td>4.6</td>\n",
       "      <td>6.98</td>\n",
       "    </tr>\n",
       "    <tr>\n",
       "      <th>22</th>\n",
       "      <td>2018-09-18</td>\n",
       "      <td>772605788289199</td>\n",
       "      <td>9369298671</td>\n",
       "      <td>0</td>\n",
       "      <td>8.4</td>\n",
       "      <td>7.53</td>\n",
       "    </tr>\n",
       "    <tr>\n",
       "      <th>23</th>\n",
       "      <td>2018-09-25</td>\n",
       "      <td>772605788289199</td>\n",
       "      <td>9369298671</td>\n",
       "      <td>0</td>\n",
       "      <td>18.8</td>\n",
       "      <td>7.88</td>\n",
       "    </tr>\n",
       "    <tr>\n",
       "      <th>24</th>\n",
       "      <td>2018-10-02</td>\n",
       "      <td>772605788289199</td>\n",
       "      <td>9369298671</td>\n",
       "      <td>30</td>\n",
       "      <td>2.0</td>\n",
       "      <td>7.07</td>\n",
       "    </tr>\n",
       "    <tr>\n",
       "      <th>25</th>\n",
       "      <td>2018-10-09</td>\n",
       "      <td>772605788289199</td>\n",
       "      <td>9369298671</td>\n",
       "      <td>70</td>\n",
       "      <td>15.1</td>\n",
       "      <td>8.65</td>\n",
       "    </tr>\n",
       "    <tr>\n",
       "      <th>26</th>\n",
       "      <td>2018-10-16</td>\n",
       "      <td>772605788289199</td>\n",
       "      <td>9369298671</td>\n",
       "      <td>300</td>\n",
       "      <td>1.7</td>\n",
       "      <td>5.31</td>\n",
       "    </tr>\n",
       "    <tr>\n",
       "      <th>27</th>\n",
       "      <td>2018-10-23</td>\n",
       "      <td>772605788289199</td>\n",
       "      <td>9369298671</td>\n",
       "      <td>500</td>\n",
       "      <td>22.2</td>\n",
       "      <td>8.20</td>\n",
       "    </tr>\n",
       "    <tr>\n",
       "      <th>28</th>\n",
       "      <td>2018-10-30</td>\n",
       "      <td>772605788289199</td>\n",
       "      <td>9369298671</td>\n",
       "      <td>0</td>\n",
       "      <td>10.5</td>\n",
       "      <td>8.58</td>\n",
       "    </tr>\n",
       "  </tbody>\n",
       "</table>\n",
       "</div>"
      ]
     },
     "metadata": {},
     "execution_count": 6
    }
   ],
   "metadata": {}
  },
  {
   "cell_type": "code",
   "execution_count": 7,
   "source": [
    "distances = Euclidean_Dist(df1, df2)\r\n",
    "distances"
   ],
   "outputs": [
    {
     "output_type": "execute_result",
     "data": {
      "text/plain": [
       "array([3.00281551e+01, 2.00006006e+02, 4.00000050e+01, 2.00011106e+02,\n",
       "       4.20000000e-01, 3.00331167e+01, 8.00001379e+02, 9.10000811e+02,\n",
       "       9.20000000e-01, 2.68000000e+00, 5.00143989e+01, 2.00000225e+01,\n",
       "       3.01935771e+01, 2.61007663e+00, 9.80000862e+02, 1.10040901e+00,\n",
       "       1.80277564e+00, 9.50002981e+02, 7.00003959e+02, 1.50053324e+00,\n",
       "       9.10002831e+02, 5.00636435e+01, 2.00090205e+01, 1.68237927e+00,\n",
       "       3.01552798e+01, 9.30003098e+02, 1.50000000e+02, 3.00004817e+02,\n",
       "       2.58000000e+00])"
      ]
     },
     "metadata": {},
     "execution_count": 7
    }
   ],
   "metadata": {}
  },
  {
   "cell_type": "code",
   "execution_count": 8,
   "source": [
    "distances.mean()"
   ],
   "outputs": [
    {
     "output_type": "execute_result",
     "data": {
      "text/plain": [
       "253.3045256480743"
      ]
     },
     "metadata": {},
     "execution_count": 8
    }
   ],
   "metadata": {}
  },
  {
   "cell_type": "code",
   "execution_count": 9,
   "source": [
    "# comparing it to another user who is not related\r\n",
    "distances1 = Euclidean_Dist(df2, df3)\r\n",
    "distances1"
   ],
   "outputs": [
    {
     "output_type": "execute_result",
     "data": {
      "text/plain": [
       "array([  30.09007311, 1000.01516334,   50.71197985,  950.00601203,\n",
       "          8.62160658,   31.66172611, 1000.01957086, 1000.02617411,\n",
       "          2.50008   ,    7.2510413 ,  100.69451028,   81.05189449,\n",
       "         30.9141149 ,   17.67399219, 1000.00388144,    5.970335  ,\n",
       "         10.40461917,  910.16896761,  950.09294893,    8.17273516,\n",
       "        200.30027459,   70.46020153,   22.08241155,    1.13507709,\n",
       "         17.37475467, 1000.10919609,   60.66125287,  500.10574492,\n",
       "          3.80426077])"
      ]
     },
     "metadata": {},
     "execution_count": 9
    }
   ],
   "metadata": {}
  },
  {
   "cell_type": "code",
   "execution_count": 10,
   "source": [
    "distances1.mean()"
   ],
   "outputs": [
    {
     "output_type": "execute_result",
     "data": {
      "text/plain": [
       "312.8305034665228"
      ]
     },
     "metadata": {},
     "execution_count": 10
    }
   ],
   "metadata": {}
  },
  {
   "cell_type": "markdown",
   "source": [
    "### As we can see, the new user is much more similar to churner 1 compared to churner 2 when using euclidean distance."
   ],
   "metadata": {}
  },
  {
   "cell_type": "code",
   "execution_count": 11,
   "source": [
    "df1_sums = df1.groupby('IMEI')[d[0].columns[3:-3]].sum()\r\n",
    "df2_sums = df2.groupby('IMEI')[d[0].columns[3:-3]].sum()\r\n",
    "df3_sums = df3.groupby('IMEI')[d[0].columns[3:-3]].sum()"
   ],
   "outputs": [],
   "metadata": {}
  },
  {
   "cell_type": "code",
   "execution_count": 12,
   "source": [
    "# Modifying the Euchlidean Distance function\r\n",
    "def Mod_Euclidean_Dist(df1,df2,cols=d[0].columns[3:-3]):\r\n",
    "    x = df1.groupby('IMEI')[cols].sum()\r\n",
    "    y = df2.groupby('IMEI')[cols].sum()\r\n",
    "\r\n",
    "    return np.linalg.norm(x.values - y.values,\r\n",
    "                   axis=1)"
   ],
   "outputs": [],
   "metadata": {}
  },
  {
   "cell_type": "code",
   "execution_count": 13,
   "source": [
    "mod_distances = Mod_Euclidean_Dist(df1,df2)\r\n",
    "mod_distances \r\n",
    "\r\n",
    "# the first euclidean distance result produced a much better result in terms of comparing the difference of the 2 dataframes"
   ],
   "outputs": [
    {
     "output_type": "execute_result",
     "data": {
      "text/plain": [
       "array([6730.01072454])"
      ]
     },
     "metadata": {},
     "execution_count": 13
    }
   ],
   "metadata": {}
  },
  {
   "cell_type": "markdown",
   "source": [
    "### Different Computation Approach for Comparing\n",
    "\n",
    "Computation:\n",
    " - a = list of sums in each column of df1\n",
    " - b = list of sums in each column of df2\n",
    " - c = l/h (list of similarities per column; l = lower value in a certain index of lists a and b; h = higher value)\n",
    "\n",
    " similarity = (sum(c)/len(c))*100"
   ],
   "metadata": {}
  },
  {
   "cell_type": "code",
   "execution_count": 14,
   "source": [
    "def average_similarity(df1_sums, df2_sums):\r\n",
    "    percent_sim = []\r\n",
    "\r\n",
    "    for i in range(len(df1_sums.columns.tolist())):\r\n",
    "        x = 0\r\n",
    "        y = 0\r\n",
    "        if df1_sums[df1_sums.columns.tolist()[i]].tolist() < df2_sums[df2_sums.columns.tolist()[i]].tolist():\r\n",
    "            x = df1_sums[df1_sums.columns.tolist()[i]].tolist()[0]\r\n",
    "            y = df2_sums[df2_sums.columns.tolist()[i]].tolist()[0]\r\n",
    "        else:\r\n",
    "            x = df2_sums[df2_sums.columns.tolist()[i]].tolist()[0]\r\n",
    "            y = df1_sums[df1_sums.columns.tolist()[i]].tolist()[0]\r\n",
    "        percent_sim.append(x/y)\r\n",
    "        \r\n",
    "    return percent_sim"
   ],
   "outputs": [],
   "metadata": {}
  },
  {
   "cell_type": "code",
   "execution_count": 15,
   "source": [
    "df1_sums"
   ],
   "outputs": [
    {
     "output_type": "execute_result",
     "data": {
      "text/plain": [
       "                 credits_loaded_per_week  num_hrs_spend_on_net  \\\n",
       "IMEI                                                             \n",
       "772605788289199                     3690                 369.8   \n",
       "\n",
       "                 mobile_data_usage(gb)  \n",
       "IMEI                                    \n",
       "772605788289199                 205.68  "
      ],
      "text/html": [
       "<div>\n",
       "<style scoped>\n",
       "    .dataframe tbody tr th:only-of-type {\n",
       "        vertical-align: middle;\n",
       "    }\n",
       "\n",
       "    .dataframe tbody tr th {\n",
       "        vertical-align: top;\n",
       "    }\n",
       "\n",
       "    .dataframe thead th {\n",
       "        text-align: right;\n",
       "    }\n",
       "</style>\n",
       "<table border=\"1\" class=\"dataframe\">\n",
       "  <thead>\n",
       "    <tr style=\"text-align: right;\">\n",
       "      <th></th>\n",
       "      <th>credits_loaded_per_week</th>\n",
       "      <th>num_hrs_spend_on_net</th>\n",
       "      <th>mobile_data_usage(gb)</th>\n",
       "    </tr>\n",
       "    <tr>\n",
       "      <th>IMEI</th>\n",
       "      <th></th>\n",
       "      <th></th>\n",
       "      <th></th>\n",
       "    </tr>\n",
       "  </thead>\n",
       "  <tbody>\n",
       "    <tr>\n",
       "      <th>772605788289199</th>\n",
       "      <td>3690</td>\n",
       "      <td>369.8</td>\n",
       "      <td>205.68</td>\n",
       "    </tr>\n",
       "  </tbody>\n",
       "</table>\n",
       "</div>"
      ]
     },
     "metadata": {},
     "execution_count": 15
    }
   ],
   "metadata": {}
  },
  {
   "cell_type": "code",
   "execution_count": 16,
   "source": [
    "df2_sums"
   ],
   "outputs": [
    {
     "output_type": "execute_result",
     "data": {
      "text/plain": [
       "                  credits_loaded_per_week  num_hrs_spend_on_net  \\\n",
       "IMEI                                                              \n",
       "5969775737476310                    10420                 378.6   \n",
       "\n",
       "                  mobile_data_usage(gb)  \n",
       "IMEI                                     \n",
       "5969775737476310                  197.5  "
      ],
      "text/html": [
       "<div>\n",
       "<style scoped>\n",
       "    .dataframe tbody tr th:only-of-type {\n",
       "        vertical-align: middle;\n",
       "    }\n",
       "\n",
       "    .dataframe tbody tr th {\n",
       "        vertical-align: top;\n",
       "    }\n",
       "\n",
       "    .dataframe thead th {\n",
       "        text-align: right;\n",
       "    }\n",
       "</style>\n",
       "<table border=\"1\" class=\"dataframe\">\n",
       "  <thead>\n",
       "    <tr style=\"text-align: right;\">\n",
       "      <th></th>\n",
       "      <th>credits_loaded_per_week</th>\n",
       "      <th>num_hrs_spend_on_net</th>\n",
       "      <th>mobile_data_usage(gb)</th>\n",
       "    </tr>\n",
       "    <tr>\n",
       "      <th>IMEI</th>\n",
       "      <th></th>\n",
       "      <th></th>\n",
       "      <th></th>\n",
       "    </tr>\n",
       "  </thead>\n",
       "  <tbody>\n",
       "    <tr>\n",
       "      <th>5969775737476310</th>\n",
       "      <td>10420</td>\n",
       "      <td>378.6</td>\n",
       "      <td>197.5</td>\n",
       "    </tr>\n",
       "  </tbody>\n",
       "</table>\n",
       "</div>"
      ]
     },
     "metadata": {},
     "execution_count": 16
    }
   ],
   "metadata": {}
  },
  {
   "cell_type": "code",
   "execution_count": 17,
   "source": [
    "df3_sums"
   ],
   "outputs": [
    {
     "output_type": "execute_result",
     "data": {
      "text/plain": [
       "                 credits_loaded_per_week  num_hrs_spend_on_net  \\\n",
       "IMEI                                                             \n",
       "376328182885989                     1600                 348.1   \n",
       "\n",
       "                 mobile_data_usage(gb)  \n",
       "IMEI                                    \n",
       "376328182885989                 203.34  "
      ],
      "text/html": [
       "<div>\n",
       "<style scoped>\n",
       "    .dataframe tbody tr th:only-of-type {\n",
       "        vertical-align: middle;\n",
       "    }\n",
       "\n",
       "    .dataframe tbody tr th {\n",
       "        vertical-align: top;\n",
       "    }\n",
       "\n",
       "    .dataframe thead th {\n",
       "        text-align: right;\n",
       "    }\n",
       "</style>\n",
       "<table border=\"1\" class=\"dataframe\">\n",
       "  <thead>\n",
       "    <tr style=\"text-align: right;\">\n",
       "      <th></th>\n",
       "      <th>credits_loaded_per_week</th>\n",
       "      <th>num_hrs_spend_on_net</th>\n",
       "      <th>mobile_data_usage(gb)</th>\n",
       "    </tr>\n",
       "    <tr>\n",
       "      <th>IMEI</th>\n",
       "      <th></th>\n",
       "      <th></th>\n",
       "      <th></th>\n",
       "    </tr>\n",
       "  </thead>\n",
       "  <tbody>\n",
       "    <tr>\n",
       "      <th>376328182885989</th>\n",
       "      <td>1600</td>\n",
       "      <td>348.1</td>\n",
       "      <td>203.34</td>\n",
       "    </tr>\n",
       "  </tbody>\n",
       "</table>\n",
       "</div>"
      ]
     },
     "metadata": {},
     "execution_count": 17
    }
   ],
   "metadata": {}
  },
  {
   "cell_type": "code",
   "execution_count": 18,
   "source": [
    "av1 = average_similarity(df1_sums,df2_sums)\r\n",
    "av2 = average_similarity(df3_sums,df2_sums)"
   ],
   "outputs": [],
   "metadata": {}
  },
  {
   "cell_type": "code",
   "execution_count": 19,
   "source": [
    "ave_sim1 = sum(av1)/len(av1)*100\r\n",
    "ave_sim2 = sum(av2)/len(av2)*100\r\n",
    "print('Similarity is: {:.2f}%'.format(float(ave_sim1)))\r\n",
    "print('Similarity is: {:.2f}%'.format(float(ave_sim2)))"
   ],
   "outputs": [
    {
     "output_type": "stream",
     "name": "stdout",
     "text": [
      "Similarity is: 76.37%\n",
      "Similarity is: 68.14%\n"
     ]
    }
   ],
   "metadata": {}
  },
  {
   "cell_type": "markdown",
   "source": [
    "### Computing Similarity per Row and Computing the Average Similarity"
   ],
   "metadata": {}
  },
  {
   "cell_type": "code",
   "execution_count": 20,
   "source": [
    "df1.head(3)"
   ],
   "outputs": [
    {
     "output_type": "execute_result",
     "data": {
      "text/plain": [
       "       weeks             IMEI  phone_nums  credits_loaded_per_week  \\\n",
       "0 2018-04-17  772605788289199  9369298671                       20   \n",
       "1 2018-04-24  772605788289199  9369298671                      800   \n",
       "2 2018-05-01  772605788289199  9369298671                       30   \n",
       "\n",
       "   num_hrs_spend_on_net  mobile_data_usage(gb)  \n",
       "0                  17.9                   7.51  \n",
       "1                   1.1                   5.55  \n",
       "2                  20.1                   6.78  "
      ],
      "text/html": [
       "<div>\n",
       "<style scoped>\n",
       "    .dataframe tbody tr th:only-of-type {\n",
       "        vertical-align: middle;\n",
       "    }\n",
       "\n",
       "    .dataframe tbody tr th {\n",
       "        vertical-align: top;\n",
       "    }\n",
       "\n",
       "    .dataframe thead th {\n",
       "        text-align: right;\n",
       "    }\n",
       "</style>\n",
       "<table border=\"1\" class=\"dataframe\">\n",
       "  <thead>\n",
       "    <tr style=\"text-align: right;\">\n",
       "      <th></th>\n",
       "      <th>weeks</th>\n",
       "      <th>IMEI</th>\n",
       "      <th>phone_nums</th>\n",
       "      <th>credits_loaded_per_week</th>\n",
       "      <th>num_hrs_spend_on_net</th>\n",
       "      <th>mobile_data_usage(gb)</th>\n",
       "    </tr>\n",
       "  </thead>\n",
       "  <tbody>\n",
       "    <tr>\n",
       "      <th>0</th>\n",
       "      <td>2018-04-17</td>\n",
       "      <td>772605788289199</td>\n",
       "      <td>9369298671</td>\n",
       "      <td>20</td>\n",
       "      <td>17.9</td>\n",
       "      <td>7.51</td>\n",
       "    </tr>\n",
       "    <tr>\n",
       "      <th>1</th>\n",
       "      <td>2018-04-24</td>\n",
       "      <td>772605788289199</td>\n",
       "      <td>9369298671</td>\n",
       "      <td>800</td>\n",
       "      <td>1.1</td>\n",
       "      <td>5.55</td>\n",
       "    </tr>\n",
       "    <tr>\n",
       "      <th>2</th>\n",
       "      <td>2018-05-01</td>\n",
       "      <td>772605788289199</td>\n",
       "      <td>9369298671</td>\n",
       "      <td>30</td>\n",
       "      <td>20.1</td>\n",
       "      <td>6.78</td>\n",
       "    </tr>\n",
       "  </tbody>\n",
       "</table>\n",
       "</div>"
      ]
     },
     "metadata": {},
     "execution_count": 20
    }
   ],
   "metadata": {}
  },
  {
   "cell_type": "code",
   "execution_count": 21,
   "source": [
    "df2.head(3)"
   ],
   "outputs": [
    {
     "output_type": "execute_result",
     "data": {
      "text/plain": [
       "       weeks              IMEI  phone_nums  credits_loaded_per_week  \\\n",
       "0 2018-12-11  5969775737476310  9995451837                       50   \n",
       "1 2018-12-18  5969775737476310  9995451837                     1000   \n",
       "2 2018-12-25  5969775737476310  9995451837                       70   \n",
       "\n",
       "   num_hrs_spend_on_net  mobile_data_usage(gb)  \n",
       "0                  19.2                    7.5  \n",
       "1                   1.1                    4.0  \n",
       "2                  20.1                    6.8  "
      ],
      "text/html": [
       "<div>\n",
       "<style scoped>\n",
       "    .dataframe tbody tr th:only-of-type {\n",
       "        vertical-align: middle;\n",
       "    }\n",
       "\n",
       "    .dataframe tbody tr th {\n",
       "        vertical-align: top;\n",
       "    }\n",
       "\n",
       "    .dataframe thead th {\n",
       "        text-align: right;\n",
       "    }\n",
       "</style>\n",
       "<table border=\"1\" class=\"dataframe\">\n",
       "  <thead>\n",
       "    <tr style=\"text-align: right;\">\n",
       "      <th></th>\n",
       "      <th>weeks</th>\n",
       "      <th>IMEI</th>\n",
       "      <th>phone_nums</th>\n",
       "      <th>credits_loaded_per_week</th>\n",
       "      <th>num_hrs_spend_on_net</th>\n",
       "      <th>mobile_data_usage(gb)</th>\n",
       "    </tr>\n",
       "  </thead>\n",
       "  <tbody>\n",
       "    <tr>\n",
       "      <th>0</th>\n",
       "      <td>2018-12-11</td>\n",
       "      <td>5969775737476310</td>\n",
       "      <td>9995451837</td>\n",
       "      <td>50</td>\n",
       "      <td>19.2</td>\n",
       "      <td>7.5</td>\n",
       "    </tr>\n",
       "    <tr>\n",
       "      <th>1</th>\n",
       "      <td>2018-12-18</td>\n",
       "      <td>5969775737476310</td>\n",
       "      <td>9995451837</td>\n",
       "      <td>1000</td>\n",
       "      <td>1.1</td>\n",
       "      <td>4.0</td>\n",
       "    </tr>\n",
       "    <tr>\n",
       "      <th>2</th>\n",
       "      <td>2018-12-25</td>\n",
       "      <td>5969775737476310</td>\n",
       "      <td>9995451837</td>\n",
       "      <td>70</td>\n",
       "      <td>20.1</td>\n",
       "      <td>6.8</td>\n",
       "    </tr>\n",
       "  </tbody>\n",
       "</table>\n",
       "</div>"
      ]
     },
     "metadata": {},
     "execution_count": 21
    }
   ],
   "metadata": {}
  },
  {
   "cell_type": "code",
   "execution_count": 22,
   "source": [
    "vals = [[],[],[],[],[]]\r\n",
    "\r\n",
    "z=0\r\n",
    "for i in df1.columns[3:]:\r\n",
    "    for j in range(len(df1[i].tolist())):\r\n",
    "        x = 0\r\n",
    "        y = 0\r\n",
    "        if df1[i].tolist()[j] < df2[i].tolist()[j]:\r\n",
    "            x = df1[i].tolist()[j]\r\n",
    "            y = df2[i].tolist()[j]\r\n",
    "        else:\r\n",
    "            y = df1[i].tolist()[j]\r\n",
    "            x = df2[i].tolist()[j]\r\n",
    "        \r\n",
    "        if x == 0 and y == 0:\r\n",
    "            vals[z].append(100.00)\r\n",
    "        else:\r\n",
    "            vals[z].append(round((x/y)*100,2))\r\n",
    "    z+=1\r\n",
    "\r\n",
    "# I could have just used df1['column'] / df2['column'] or df2['column'] / df1['column'], but it does not check for division by 0s.\r\n",
    "# I also needed to check which value was lower as that will be the dividend."
   ],
   "outputs": [],
   "metadata": {}
  },
  {
   "cell_type": "code",
   "execution_count": 23,
   "source": [
    "data_dict = {}\r\n",
    "k=0\r\n",
    "for i in df1.columns[3:]:\r\n",
    "    data_dict[i] = vals[k]\r\n",
    "    k+=1\r\n",
    "\r\n",
    "sim_df = pd.DataFrame(data_dict)"
   ],
   "outputs": [],
   "metadata": {}
  },
  {
   "cell_type": "code",
   "execution_count": 24,
   "source": [
    "sim_df.head()"
   ],
   "outputs": [
    {
     "output_type": "execute_result",
     "data": {
      "text/plain": [
       "   credits_loaded_per_week  num_hrs_spend_on_net  mobile_data_usage(gb)\n",
       "0                    40.00                 93.23                  99.87\n",
       "1                    80.00                100.00                  72.07\n",
       "2                    42.86                100.00                  99.71\n",
       "3                    80.00                 93.80                  77.46\n",
       "4                   100.00                100.00                  94.55"
      ],
      "text/html": [
       "<div>\n",
       "<style scoped>\n",
       "    .dataframe tbody tr th:only-of-type {\n",
       "        vertical-align: middle;\n",
       "    }\n",
       "\n",
       "    .dataframe tbody tr th {\n",
       "        vertical-align: top;\n",
       "    }\n",
       "\n",
       "    .dataframe thead th {\n",
       "        text-align: right;\n",
       "    }\n",
       "</style>\n",
       "<table border=\"1\" class=\"dataframe\">\n",
       "  <thead>\n",
       "    <tr style=\"text-align: right;\">\n",
       "      <th></th>\n",
       "      <th>credits_loaded_per_week</th>\n",
       "      <th>num_hrs_spend_on_net</th>\n",
       "      <th>mobile_data_usage(gb)</th>\n",
       "    </tr>\n",
       "  </thead>\n",
       "  <tbody>\n",
       "    <tr>\n",
       "      <th>0</th>\n",
       "      <td>40.00</td>\n",
       "      <td>93.23</td>\n",
       "      <td>99.87</td>\n",
       "    </tr>\n",
       "    <tr>\n",
       "      <th>1</th>\n",
       "      <td>80.00</td>\n",
       "      <td>100.00</td>\n",
       "      <td>72.07</td>\n",
       "    </tr>\n",
       "    <tr>\n",
       "      <th>2</th>\n",
       "      <td>42.86</td>\n",
       "      <td>100.00</td>\n",
       "      <td>99.71</td>\n",
       "    </tr>\n",
       "    <tr>\n",
       "      <th>3</th>\n",
       "      <td>80.00</td>\n",
       "      <td>93.80</td>\n",
       "      <td>77.46</td>\n",
       "    </tr>\n",
       "    <tr>\n",
       "      <th>4</th>\n",
       "      <td>100.00</td>\n",
       "      <td>100.00</td>\n",
       "      <td>94.55</td>\n",
       "    </tr>\n",
       "  </tbody>\n",
       "</table>\n",
       "</div>"
      ]
     },
     "metadata": {},
     "execution_count": 24
    }
   ],
   "metadata": {}
  },
  {
   "cell_type": "code",
   "execution_count": 25,
   "source": [
    "sim_df['similarity'] = ((sim_df[sim_df.columns[0]] + sim_df[sim_df.columns[1]] + sim_df[sim_df.columns[2]])/300)*100\r\n",
    "sim_df.head()"
   ],
   "outputs": [
    {
     "output_type": "execute_result",
     "data": {
      "text/plain": [
       "   credits_loaded_per_week  num_hrs_spend_on_net  mobile_data_usage(gb)  \\\n",
       "0                    40.00                 93.23                  99.87   \n",
       "1                    80.00                100.00                  72.07   \n",
       "2                    42.86                100.00                  99.71   \n",
       "3                    80.00                 93.80                  77.46   \n",
       "4                   100.00                100.00                  94.55   \n",
       "\n",
       "   similarity  \n",
       "0   77.700000  \n",
       "1   84.023333  \n",
       "2   80.856667  \n",
       "3   83.753333  \n",
       "4   98.183333  "
      ],
      "text/html": [
       "<div>\n",
       "<style scoped>\n",
       "    .dataframe tbody tr th:only-of-type {\n",
       "        vertical-align: middle;\n",
       "    }\n",
       "\n",
       "    .dataframe tbody tr th {\n",
       "        vertical-align: top;\n",
       "    }\n",
       "\n",
       "    .dataframe thead th {\n",
       "        text-align: right;\n",
       "    }\n",
       "</style>\n",
       "<table border=\"1\" class=\"dataframe\">\n",
       "  <thead>\n",
       "    <tr style=\"text-align: right;\">\n",
       "      <th></th>\n",
       "      <th>credits_loaded_per_week</th>\n",
       "      <th>num_hrs_spend_on_net</th>\n",
       "      <th>mobile_data_usage(gb)</th>\n",
       "      <th>similarity</th>\n",
       "    </tr>\n",
       "  </thead>\n",
       "  <tbody>\n",
       "    <tr>\n",
       "      <th>0</th>\n",
       "      <td>40.00</td>\n",
       "      <td>93.23</td>\n",
       "      <td>99.87</td>\n",
       "      <td>77.700000</td>\n",
       "    </tr>\n",
       "    <tr>\n",
       "      <th>1</th>\n",
       "      <td>80.00</td>\n",
       "      <td>100.00</td>\n",
       "      <td>72.07</td>\n",
       "      <td>84.023333</td>\n",
       "    </tr>\n",
       "    <tr>\n",
       "      <th>2</th>\n",
       "      <td>42.86</td>\n",
       "      <td>100.00</td>\n",
       "      <td>99.71</td>\n",
       "      <td>80.856667</td>\n",
       "    </tr>\n",
       "    <tr>\n",
       "      <th>3</th>\n",
       "      <td>80.00</td>\n",
       "      <td>93.80</td>\n",
       "      <td>77.46</td>\n",
       "      <td>83.753333</td>\n",
       "    </tr>\n",
       "    <tr>\n",
       "      <th>4</th>\n",
       "      <td>100.00</td>\n",
       "      <td>100.00</td>\n",
       "      <td>94.55</td>\n",
       "      <td>98.183333</td>\n",
       "    </tr>\n",
       "  </tbody>\n",
       "</table>\n",
       "</div>"
      ]
     },
     "metadata": {},
     "execution_count": 25
    }
   ],
   "metadata": {}
  },
  {
   "cell_type": "code",
   "execution_count": 26,
   "source": [
    "sim_df['similarity'].mean()"
   ],
   "outputs": [
    {
     "output_type": "execute_result",
     "data": {
      "text/plain": [
       "76.68712643678163"
      ]
     },
     "metadata": {},
     "execution_count": 26
    }
   ],
   "metadata": {}
  },
  {
   "cell_type": "markdown",
   "source": [
    "### Similarity using Cosine Similarity"
   ],
   "metadata": {}
  },
  {
   "cell_type": "code",
   "execution_count": 27,
   "source": [
    "d1 = df1.iloc[:, 3:].copy()\r\n",
    "d2 = df2.iloc[:, 3:].copy()\r\n",
    "d3 = df3.iloc[:, 3:].copy()\r\n",
    "\r\n",
    "d1.head()"
   ],
   "outputs": [
    {
     "output_type": "execute_result",
     "data": {
      "text/plain": [
       "   credits_loaded_per_week  num_hrs_spend_on_net  mobile_data_usage(gb)\n",
       "0                       20                  17.9                   7.51\n",
       "1                      800                   1.1                   5.55\n",
       "2                       30                  20.1                   6.78\n",
       "3                      800                  12.9                   8.65\n",
       "4                        0                  14.8                   7.28"
      ],
      "text/html": [
       "<div>\n",
       "<style scoped>\n",
       "    .dataframe tbody tr th:only-of-type {\n",
       "        vertical-align: middle;\n",
       "    }\n",
       "\n",
       "    .dataframe tbody tr th {\n",
       "        vertical-align: top;\n",
       "    }\n",
       "\n",
       "    .dataframe thead th {\n",
       "        text-align: right;\n",
       "    }\n",
       "</style>\n",
       "<table border=\"1\" class=\"dataframe\">\n",
       "  <thead>\n",
       "    <tr style=\"text-align: right;\">\n",
       "      <th></th>\n",
       "      <th>credits_loaded_per_week</th>\n",
       "      <th>num_hrs_spend_on_net</th>\n",
       "      <th>mobile_data_usage(gb)</th>\n",
       "    </tr>\n",
       "  </thead>\n",
       "  <tbody>\n",
       "    <tr>\n",
       "      <th>0</th>\n",
       "      <td>20</td>\n",
       "      <td>17.9</td>\n",
       "      <td>7.51</td>\n",
       "    </tr>\n",
       "    <tr>\n",
       "      <th>1</th>\n",
       "      <td>800</td>\n",
       "      <td>1.1</td>\n",
       "      <td>5.55</td>\n",
       "    </tr>\n",
       "    <tr>\n",
       "      <th>2</th>\n",
       "      <td>30</td>\n",
       "      <td>20.1</td>\n",
       "      <td>6.78</td>\n",
       "    </tr>\n",
       "    <tr>\n",
       "      <th>3</th>\n",
       "      <td>800</td>\n",
       "      <td>12.9</td>\n",
       "      <td>8.65</td>\n",
       "    </tr>\n",
       "    <tr>\n",
       "      <th>4</th>\n",
       "      <td>0</td>\n",
       "      <td>14.8</td>\n",
       "      <td>7.28</td>\n",
       "    </tr>\n",
       "  </tbody>\n",
       "</table>\n",
       "</div>"
      ]
     },
     "metadata": {},
     "execution_count": 27
    }
   ],
   "metadata": {}
  },
  {
   "cell_type": "code",
   "execution_count": 28,
   "source": [
    "from sklearn.metrics.pairwise import cosine_similarity\r\n",
    "\r\n",
    "cs = cosine_similarity(d1,d2)\r\n",
    "len(cs)"
   ],
   "outputs": [
    {
     "output_type": "execute_result",
     "data": {
      "text/plain": [
       "29"
      ]
     },
     "metadata": {},
     "execution_count": 28
    }
   ],
   "metadata": {}
  },
  {
   "cell_type": "code",
   "execution_count": 29,
   "source": [
    "len(cs[0])"
   ],
   "outputs": [
    {
     "output_type": "execute_result",
     "data": {
      "text/plain": [
       "29"
      ]
     },
     "metadata": {},
     "execution_count": 29
    }
   ],
   "metadata": {}
  },
  {
   "cell_type": "code",
   "execution_count": 30,
   "source": [
    "# Column 4 Comparison (Rotational Churner/Same User)\r\n",
    "test1 = [df1.iloc[:, 4].copy().tolist()]\r\n",
    "test2 = [df2.iloc[:, 4].copy().tolist()]\r\n",
    "test1\r\n",
    "cosine_similarity(test1,test2)"
   ],
   "outputs": [
    {
     "output_type": "execute_result",
     "data": {
      "text/plain": [
       "array([[0.99769936]])"
      ]
     },
     "metadata": {},
     "execution_count": 30
    }
   ],
   "metadata": {}
  },
  {
   "cell_type": "code",
   "execution_count": 31,
   "source": [
    "# Column 4 Comparison (Different User)\r\n",
    "test1 = [df3.iloc[:, 4].copy().tolist()]\r\n",
    "test2 = [df2.iloc[:, 4].copy().tolist()]\r\n",
    "test1\r\n",
    "cosine_similarity(test1,test2)"
   ],
   "outputs": [
    {
     "output_type": "execute_result",
     "data": {
      "text/plain": [
       "array([[0.76925831]])"
      ]
     },
     "metadata": {},
     "execution_count": 31
    }
   ],
   "metadata": {}
  },
  {
   "cell_type": "code",
   "execution_count": null,
   "source": [],
   "outputs": [],
   "metadata": {}
  }
 ]
}