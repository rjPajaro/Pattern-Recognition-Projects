{
 "metadata": {
  "language_info": {
   "codemirror_mode": {
    "name": "ipython",
    "version": 3
   },
   "file_extension": ".py",
   "mimetype": "text/x-python",
   "name": "python",
   "nbconvert_exporter": "python",
   "pygments_lexer": "ipython3",
   "version": "3.8.3"
  },
  "orig_nbformat": 2,
  "kernelspec": {
   "name": "python383jvsc74a57bd080e949a67cf278127b748d188dfe995fcb9b6fe4ab79bb80686294a040d0359f",
   "display_name": "Python 3.8.3 64-bit ('base': conda)"
  }
 },
 "nbformat": 4,
 "nbformat_minor": 2,
 "cells": [
  {
   "source": [
    "# First Assignment | Diet Recommendation System | Group 6\n",
    "\n",
    "Instructions:\n",
    " - Develop a content-based recommendation system using python program.\n",
    " - Apply Cosine Similarity and Jaccard Similarity.\n",
    "\n",
    "Dataset:\n",
    " - The dataset to be used in this assignment will be the [Emoji Diet Nutritional Data](https://www.kaggle.com/ofrancisco/emoji-diet-nutritional-data-sr28?select=Personal+DRI.csv) from kaggle.\n",
    "\n",
    "About:\n",
    " - The assignment will be a diet recommendation system that would help the user with their diet by asking input from the user of the amount of calories, carbohydrates, sugars, proteins, fat, vitamins, and minerals.\n"
   ],
   "cell_type": "markdown",
   "metadata": {}
  },
  {
   "source": [
    "## Group 6 Members:\n",
    " - Timothy Chan\n",
    " - Rhyle Nodnylson Guinto\n",
    " - Chino Laguda\n",
    " - Randall Joseph Pajaro"
   ],
   "cell_type": "markdown",
   "metadata": {}
  },
  {
   "source": [
    "## Calorie Intake Recommendations\n",
    "\n",
    "Import dataset + essential libraries for viewing the dataset"
   ],
   "cell_type": "markdown",
   "metadata": {}
  },
  {
   "cell_type": "code",
   "execution_count": 1,
   "metadata": {},
   "outputs": [],
   "source": [
    "import pandas as pd\n",
    "import sklearn.metrics.pairwise as pw\n",
    "from scipy import sparse"
   ]
  },
  {
   "cell_type": "code",
   "execution_count": 2,
   "metadata": {},
   "outputs": [
    {
     "output_type": "execute_result",
     "data": {
      "text/plain": [
       "      ID                       FoodGroup  \\\n",
       "0  16116     Legumes and Legume Products   \n",
       "1  18316                  Baked Products   \n",
       "2  15261  Finfish and Shellfish Products   \n",
       "3   8417               Breakfast Cereals   \n",
       "4  20022         Cereal Grains and Pasta   \n",
       "\n",
       "                                             Descrip  Energy_kcal  Protein_g  \\\n",
       "0                       Soy flour, full-fat, roasted        441.0      34.80   \n",
       "1        Pie, coconut custard, commercially prepared        260.0       5.90   \n",
       "2                                 Fish, tilapia, raw         96.0      20.08   \n",
       "3  Cereals, QUAKER, Instant Oatmeal, Banana Bread...        368.0       8.97   \n",
       "4               Cornmeal, degermed, enriched, yellow        370.0       7.11   \n",
       "\n",
       "   Fat_g  Carb_g  Sugar_g  Fiber_g  VitA_mcg  ...  Folate_USRDA  Niacin_USRDA  \\\n",
       "0  21.86   33.67     7.61      9.7       6.0  ...        0.5675      0.205375   \n",
       "1  13.20   30.20     0.00      1.8      26.0  ...        0.0475      0.025188   \n",
       "2   1.70    0.00     0.00      0.0       0.0  ...        0.0600      0.243938   \n",
       "3   4.85   75.70    29.45      6.7       0.0  ...        0.0000      0.706875   \n",
       "4   1.75   79.45     1.61      3.9      11.0  ...        0.8375      0.310500   \n",
       "\n",
       "   Riboflavin_USRDA  Thiamin_USRDA  Calcium_USRDA  Copper_USRDA  \\\n",
       "0          0.723846       0.343333       0.156667      0.002468   \n",
       "1          0.113846       0.073333       0.067500      0.000070   \n",
       "2          0.048462       0.034167       0.008333      0.000083   \n",
       "3          0.769231       0.816667       0.230833      0.000000   \n",
       "4          0.293846       0.459167       0.002500      0.000084   \n",
       "\n",
       "   Magnesium_USRDA  Phosphorus_USRDA  Selenium_USRDA  Zinc_USRDA  \n",
       "0         0.878571          0.680000        0.136364    0.325455  \n",
       "1         0.042857          0.174286        0.116364    0.061818  \n",
       "2         0.064286          0.242857        0.760000    0.030000  \n",
       "3         0.219048          0.450000        0.000000    0.188182  \n",
       "4         0.076190          0.141429        0.190909    0.060000  \n",
       "\n",
       "[5 rows x 41 columns]"
      ],
      "text/html": "<div>\n<style scoped>\n    .dataframe tbody tr th:only-of-type {\n        vertical-align: middle;\n    }\n\n    .dataframe tbody tr th {\n        vertical-align: top;\n    }\n\n    .dataframe thead th {\n        text-align: right;\n    }\n</style>\n<table border=\"1\" class=\"dataframe\">\n  <thead>\n    <tr style=\"text-align: right;\">\n      <th></th>\n      <th>ID</th>\n      <th>FoodGroup</th>\n      <th>Descrip</th>\n      <th>Energy_kcal</th>\n      <th>Protein_g</th>\n      <th>Fat_g</th>\n      <th>Carb_g</th>\n      <th>Sugar_g</th>\n      <th>Fiber_g</th>\n      <th>VitA_mcg</th>\n      <th>...</th>\n      <th>Folate_USRDA</th>\n      <th>Niacin_USRDA</th>\n      <th>Riboflavin_USRDA</th>\n      <th>Thiamin_USRDA</th>\n      <th>Calcium_USRDA</th>\n      <th>Copper_USRDA</th>\n      <th>Magnesium_USRDA</th>\n      <th>Phosphorus_USRDA</th>\n      <th>Selenium_USRDA</th>\n      <th>Zinc_USRDA</th>\n    </tr>\n  </thead>\n  <tbody>\n    <tr>\n      <th>0</th>\n      <td>16116</td>\n      <td>Legumes and Legume Products</td>\n      <td>Soy flour, full-fat, roasted</td>\n      <td>441.0</td>\n      <td>34.80</td>\n      <td>21.86</td>\n      <td>33.67</td>\n      <td>7.61</td>\n      <td>9.7</td>\n      <td>6.0</td>\n      <td>...</td>\n      <td>0.5675</td>\n      <td>0.205375</td>\n      <td>0.723846</td>\n      <td>0.343333</td>\n      <td>0.156667</td>\n      <td>0.002468</td>\n      <td>0.878571</td>\n      <td>0.680000</td>\n      <td>0.136364</td>\n      <td>0.325455</td>\n    </tr>\n    <tr>\n      <th>1</th>\n      <td>18316</td>\n      <td>Baked Products</td>\n      <td>Pie, coconut custard, commercially prepared</td>\n      <td>260.0</td>\n      <td>5.90</td>\n      <td>13.20</td>\n      <td>30.20</td>\n      <td>0.00</td>\n      <td>1.8</td>\n      <td>26.0</td>\n      <td>...</td>\n      <td>0.0475</td>\n      <td>0.025188</td>\n      <td>0.113846</td>\n      <td>0.073333</td>\n      <td>0.067500</td>\n      <td>0.000070</td>\n      <td>0.042857</td>\n      <td>0.174286</td>\n      <td>0.116364</td>\n      <td>0.061818</td>\n    </tr>\n    <tr>\n      <th>2</th>\n      <td>15261</td>\n      <td>Finfish and Shellfish Products</td>\n      <td>Fish, tilapia, raw</td>\n      <td>96.0</td>\n      <td>20.08</td>\n      <td>1.70</td>\n      <td>0.00</td>\n      <td>0.00</td>\n      <td>0.0</td>\n      <td>0.0</td>\n      <td>...</td>\n      <td>0.0600</td>\n      <td>0.243938</td>\n      <td>0.048462</td>\n      <td>0.034167</td>\n      <td>0.008333</td>\n      <td>0.000083</td>\n      <td>0.064286</td>\n      <td>0.242857</td>\n      <td>0.760000</td>\n      <td>0.030000</td>\n    </tr>\n    <tr>\n      <th>3</th>\n      <td>8417</td>\n      <td>Breakfast Cereals</td>\n      <td>Cereals, QUAKER, Instant Oatmeal, Banana Bread...</td>\n      <td>368.0</td>\n      <td>8.97</td>\n      <td>4.85</td>\n      <td>75.70</td>\n      <td>29.45</td>\n      <td>6.7</td>\n      <td>0.0</td>\n      <td>...</td>\n      <td>0.0000</td>\n      <td>0.706875</td>\n      <td>0.769231</td>\n      <td>0.816667</td>\n      <td>0.230833</td>\n      <td>0.000000</td>\n      <td>0.219048</td>\n      <td>0.450000</td>\n      <td>0.000000</td>\n      <td>0.188182</td>\n    </tr>\n    <tr>\n      <th>4</th>\n      <td>20022</td>\n      <td>Cereal Grains and Pasta</td>\n      <td>Cornmeal, degermed, enriched, yellow</td>\n      <td>370.0</td>\n      <td>7.11</td>\n      <td>1.75</td>\n      <td>79.45</td>\n      <td>1.61</td>\n      <td>3.9</td>\n      <td>11.0</td>\n      <td>...</td>\n      <td>0.8375</td>\n      <td>0.310500</td>\n      <td>0.293846</td>\n      <td>0.459167</td>\n      <td>0.002500</td>\n      <td>0.000084</td>\n      <td>0.076190</td>\n      <td>0.141429</td>\n      <td>0.190909</td>\n      <td>0.060000</td>\n    </tr>\n  </tbody>\n</table>\n<p>5 rows × 41 columns</p>\n</div>"
     },
     "metadata": {},
     "execution_count": 2
    }
   ],
   "source": [
    "df = pd.read_csv('USDA_National_Nutrient_DB.csv')\n",
    "df.head()"
   ]
  },
  {
   "cell_type": "code",
   "execution_count": 3,
   "metadata": {},
   "outputs": [
    {
     "output_type": "execute_result",
     "data": {
      "text/plain": [
       "Index(['ID', 'FoodGroup', 'Descrip', 'Energy_kcal', 'Protein_g', 'Fat_g',\n",
       "       'Carb_g', 'Sugar_g', 'Fiber_g', 'VitA_mcg', 'VitB6_mg', 'VitB12_mcg',\n",
       "       'VitC_mg', 'VitE_mg', 'Folate_mcg', 'Niacin_mg', 'Riboflavin_mg',\n",
       "       'Thiamin_mg', 'Calcium_mg', 'Copper_mcg', 'Iron_mg', 'Magnesium_mg',\n",
       "       'Manganese_mg', 'Phosphorus_mg', 'Selenium_mcg', 'Zinc_mg',\n",
       "       'VitA_USRDA', 'VitB6_USRDA', 'VitB12_USRDA', 'VitC_USRDA', 'VitE_USRDA',\n",
       "       'Folate_USRDA', 'Niacin_USRDA', 'Riboflavin_USRDA', 'Thiamin_USRDA',\n",
       "       'Calcium_USRDA', 'Copper_USRDA', 'Magnesium_USRDA', 'Phosphorus_USRDA',\n",
       "       'Selenium_USRDA', 'Zinc_USRDA'],\n",
       "      dtype='object')"
      ]
     },
     "metadata": {},
     "execution_count": 3
    }
   ],
   "source": [
    "df.columns"
   ]
  },
  {
   "source": [
    "Calculating the total mean calories in each food group"
   ],
   "cell_type": "markdown",
   "metadata": {}
  },
  {
   "cell_type": "code",
   "execution_count": 4,
   "metadata": {},
   "outputs": [
    {
     "output_type": "execute_result",
     "data": {
      "text/plain": [
       "FoodGroup\n",
       "Fats and Oils                          647.733728\n",
       "Nut and Seed Products                  501.443396\n",
       "Snacks                                 441.713235\n",
       "Baked Products                         392.821705\n",
       "Breakfast Cereals                      344.837838\n",
       "Sweets                                 328.718519\n",
       "Cereal Grains and Pasta                277.402685\n",
       "Spices and Herbs                       249.489796\n",
       "Fast Foods                             248.962329\n",
       "Sausages and Luncheon Meats            242.424242\n",
       "Dairy and Egg Products                 230.857143\n",
       "Lamb, Veal, and Game Products          215.052632\n",
       "Pork Products                          214.722628\n",
       "Beef Products                          211.602362\n",
       "Restaurant Foods                       210.864198\n",
       "American Indian/Alaska Native Foods    204.958678\n",
       "Legumes and Legume Products            202.386885\n",
       "Poultry Products                       196.188498\n",
       "Meals, Entrees, and Side Dishes        175.915789\n",
       "Baby Foods                             155.826367\n",
       "Finfish and Shellfish Products         135.004525\n",
       "Beverages                              115.622490\n",
       "Fruits and Fruit Juices                 85.879725\n",
       "Soups, Sauces, and Gravies              77.346369\n",
       "Vegetables and Vegetable Products       63.572948\n",
       "Name: Energy_kcal, dtype: float64"
      ]
     },
     "metadata": {},
     "execution_count": 4
    }
   ],
   "source": [
    "df.groupby('FoodGroup')['Energy_kcal'].mean().sort_values(ascending=False)"
   ]
  },
  {
   "source": [
    "Calculating the total calories in each food group"
   ],
   "cell_type": "markdown",
   "metadata": {}
  },
  {
   "cell_type": "code",
   "execution_count": 5,
   "metadata": {},
   "outputs": [
    {
     "output_type": "execute_result",
     "data": {
      "text/plain": [
       "FoodGroup\n",
       "Beef Products                          762\n",
       "Vegetables and Vegetable Products      658\n",
       "Baked Products                         645\n",
       "Soups, Sauces, and Gravies             358\n",
       "Lamb, Veal, and Game Products          342\n",
       "Poultry Products                       313\n",
       "Baby Foods                             311\n",
       "Legumes and Legume Products            305\n",
       "Breakfast Cereals                      296\n",
       "Fast Foods                             292\n",
       "Fruits and Fruit Juices                291\n",
       "Pork Products                          274\n",
       "Sweets                                 270\n",
       "Beverages                              249\n",
       "Finfish and Shellfish Products         221\n",
       "Dairy and Egg Products                 203\n",
       "Sausages and Luncheon Meats            198\n",
       "Fats and Oils                          169\n",
       "Cereal Grains and Pasta                149\n",
       "Snacks                                 136\n",
       "American Indian/Alaska Native Foods    121\n",
       "Nut and Seed Products                  106\n",
       "Meals, Entrees, and Side Dishes         95\n",
       "Restaurant Foods                        81\n",
       "Spices and Herbs                        49\n",
       "Name: Energy_kcal, dtype: int64"
      ]
     },
     "metadata": {},
     "execution_count": 5
    }
   ],
   "source": [
    "df.groupby('FoodGroup')['Energy_kcal'].count().sort_values(ascending=False)"
   ]
  },
  {
   "cell_type": "code",
   "execution_count": 6,
   "metadata": {},
   "outputs": [
    {
     "output_type": "execute_result",
     "data": {
      "text/plain": [
       "                                                    Energy_kcal  \\\n",
       "Descrip                                                           \n",
       "APPLEBEE'S, 9 oz house sirloin steak                      189.0   \n",
       "APPLEBEE'S, Double Crunch Shrimp                          323.0   \n",
       "APPLEBEE'S, KRAFT, Macaroni & Cheese, from kid'...        143.0   \n",
       "APPLEBEE'S, chili                                         157.0   \n",
       "APPLEBEE'S, coleslaw                                      120.0   \n",
       "...                                                         ...   \n",
       "Yogurt, vanilla flavor, lowfat milk, sweetened ...         86.0   \n",
       "Yogurt, vanilla or lemon flavor, nonfat milk, s...         43.0   \n",
       "Yogurt, vanilla, low fat, 11 grams protein per ...         85.0   \n",
       "Yogurt, vanilla, low fat, 11 grams protein per ...         85.0   \n",
       "Zwieback                                                  426.0   \n",
       "\n",
       "                                                    Total Food Amt  \n",
       "Descrip                                                             \n",
       "APPLEBEE'S, 9 oz house sirloin steak                             1  \n",
       "APPLEBEE'S, Double Crunch Shrimp                                 1  \n",
       "APPLEBEE'S, KRAFT, Macaroni & Cheese, from kid'...               1  \n",
       "APPLEBEE'S, chili                                                1  \n",
       "APPLEBEE'S, coleslaw                                             1  \n",
       "...                                                            ...  \n",
       "Yogurt, vanilla flavor, lowfat milk, sweetened ...               1  \n",
       "Yogurt, vanilla or lemon flavor, nonfat milk, s...               1  \n",
       "Yogurt, vanilla, low fat, 11 grams protein per ...               1  \n",
       "Yogurt, vanilla, low fat, 11 grams protein per ...               1  \n",
       "Zwieback                                                         1  \n",
       "\n",
       "[6894 rows x 2 columns]"
      ],
      "text/html": "<div>\n<style scoped>\n    .dataframe tbody tr th:only-of-type {\n        vertical-align: middle;\n    }\n\n    .dataframe tbody tr th {\n        vertical-align: top;\n    }\n\n    .dataframe thead th {\n        text-align: right;\n    }\n</style>\n<table border=\"1\" class=\"dataframe\">\n  <thead>\n    <tr style=\"text-align: right;\">\n      <th></th>\n      <th>Energy_kcal</th>\n      <th>Total Food Amt</th>\n    </tr>\n    <tr>\n      <th>Descrip</th>\n      <th></th>\n      <th></th>\n    </tr>\n  </thead>\n  <tbody>\n    <tr>\n      <th>APPLEBEE'S, 9 oz house sirloin steak</th>\n      <td>189.0</td>\n      <td>1</td>\n    </tr>\n    <tr>\n      <th>APPLEBEE'S, Double Crunch Shrimp</th>\n      <td>323.0</td>\n      <td>1</td>\n    </tr>\n    <tr>\n      <th>APPLEBEE'S, KRAFT, Macaroni &amp; Cheese, from kid's menu</th>\n      <td>143.0</td>\n      <td>1</td>\n    </tr>\n    <tr>\n      <th>APPLEBEE'S, chili</th>\n      <td>157.0</td>\n      <td>1</td>\n    </tr>\n    <tr>\n      <th>APPLEBEE'S, coleslaw</th>\n      <td>120.0</td>\n      <td>1</td>\n    </tr>\n    <tr>\n      <th>...</th>\n      <td>...</td>\n      <td>...</td>\n    </tr>\n    <tr>\n      <th>Yogurt, vanilla flavor, lowfat milk, sweetened with low calorie sweetener</th>\n      <td>86.0</td>\n      <td>1</td>\n    </tr>\n    <tr>\n      <th>Yogurt, vanilla or lemon flavor, nonfat milk, sweetened with low-calorie sweetener, fortified with vitamin D</th>\n      <td>43.0</td>\n      <td>1</td>\n    </tr>\n    <tr>\n      <th>Yogurt, vanilla, low fat, 11 grams protein per 8 ounce</th>\n      <td>85.0</td>\n      <td>1</td>\n    </tr>\n    <tr>\n      <th>Yogurt, vanilla, low fat, 11 grams protein per 8 ounce, fortified with vitamin D</th>\n      <td>85.0</td>\n      <td>1</td>\n    </tr>\n    <tr>\n      <th>Zwieback</th>\n      <td>426.0</td>\n      <td>1</td>\n    </tr>\n  </tbody>\n</table>\n<p>6894 rows × 2 columns</p>\n</div>"
     },
     "metadata": {},
     "execution_count": 6
    }
   ],
   "source": [
    "calories = pd.DataFrame(df.groupby('Descrip')['Energy_kcal'].mean())\n",
    "calories['Total Food Amt'] = df.groupby('Descrip')['Energy_kcal'].count()\n",
    "calories"
   ]
  },
  {
   "cell_type": "code",
   "execution_count": 7,
   "metadata": {},
   "outputs": [
    {
     "output_type": "stream",
     "name": "stderr",
     "text": [
      "UsageError: Line magic function `%matplotlib.inline` not found.\n"
     ]
    }
   ],
   "source": [
    "#visualization imports\n",
    "import matplotlib.pyplot as plt\n",
    "import seaborn as sns\n",
    "sns.set_style('white')\n",
    "%matplotlib.inline"
   ]
  },
  {
   "cell_type": "code",
   "execution_count": 8,
   "metadata": {},
   "outputs": [
    {
     "output_type": "execute_result",
     "data": {
      "text/plain": [
       "<matplotlib.axes._subplots.AxesSubplot at 0x1f7d4218370>"
      ]
     },
     "metadata": {},
     "execution_count": 8
    },
    {
     "output_type": "display_data",
     "data": {
      "text/plain": "<Figure size 720x288 with 1 Axes>",
      "image/svg+xml": "<?xml version=\"1.0\" encoding=\"utf-8\" standalone=\"no\"?>\r\n<!DOCTYPE svg PUBLIC \"-//W3C//DTD SVG 1.1//EN\"\r\n  \"http://www.w3.org/Graphics/SVG/1.1/DTD/svg11.dtd\">\r\n<!-- Created with matplotlib (https://matplotlib.org/) -->\r\n<svg height=\"247.985313pt\" version=\"1.1\" viewBox=\"0 0 601.64375 247.985313\" width=\"601.64375pt\" xmlns=\"http://www.w3.org/2000/svg\" xmlns:xlink=\"http://www.w3.org/1999/xlink\">\r\n <defs>\r\n  <style type=\"text/css\">\r\n*{stroke-linecap:butt;stroke-linejoin:round;}\r\n  </style>\r\n </defs>\r\n <g id=\"figure_1\">\r\n  <g id=\"patch_1\">\r\n   <path d=\"M 0 247.985313 \r\nL 601.64375 247.985313 \r\nL 601.64375 0 \r\nL 0 0 \r\nz\r\n\" style=\"fill:#ffffff;\"/>\r\n  </g>\r\n  <g id=\"axes_1\">\r\n   <g id=\"patch_2\">\r\n    <path d=\"M 36.44375 224.64 \r\nL 594.44375 224.64 \r\nL 594.44375 7.2 \r\nL 36.44375 7.2 \r\nz\r\n\" style=\"fill:#ffffff;\"/>\r\n   </g>\r\n   <g id=\"matplotlib.axis_1\">\r\n    <g id=\"xtick_1\">\r\n     <g id=\"line2d_1\">\r\n      <path clip-path=\"url(#pda75ba4789)\" d=\"M 112.534659 224.64 \r\nL 112.534659 7.2 \r\n\" style=\"fill:none;stroke:#cccccc;stroke-linecap:round;stroke-width:0.8;\"/>\r\n     </g>\r\n     <g id=\"text_1\">\r\n      <!-- 0.6 -->\r\n      <defs>\r\n       <path d=\"M 4.15625 35.296875 \r\nQ 4.15625 48 6.765625 55.734375 \r\nQ 9.375 63.484375 14.515625 67.671875 \r\nQ 19.671875 71.875 27.484375 71.875 \r\nQ 33.25 71.875 37.59375 69.546875 \r\nQ 41.9375 67.234375 44.765625 62.859375 \r\nQ 47.609375 58.5 49.21875 52.21875 \r\nQ 50.828125 45.953125 50.828125 35.296875 \r\nQ 50.828125 22.703125 48.234375 14.96875 \r\nQ 45.65625 7.234375 40.5 3 \r\nQ 35.359375 -1.21875 27.484375 -1.21875 \r\nQ 17.140625 -1.21875 11.234375 6.203125 \r\nQ 4.15625 15.140625 4.15625 35.296875 \r\nz\r\nM 13.1875 35.296875 \r\nQ 13.1875 17.671875 17.3125 11.828125 \r\nQ 21.4375 6 27.484375 6 \r\nQ 33.546875 6 37.671875 11.859375 \r\nQ 41.796875 17.71875 41.796875 35.296875 \r\nQ 41.796875 52.984375 37.671875 58.78125 \r\nQ 33.546875 64.59375 27.390625 64.59375 \r\nQ 21.34375 64.59375 17.71875 59.46875 \r\nQ 13.1875 52.9375 13.1875 35.296875 \r\nz\r\n\" id=\"ArialMT-48\"/>\r\n       <path d=\"M 9.078125 0 \r\nL 9.078125 10.015625 \r\nL 19.09375 10.015625 \r\nL 19.09375 0 \r\nz\r\n\" id=\"ArialMT-46\"/>\r\n       <path d=\"M 49.75 54.046875 \r\nL 41.015625 53.375 \r\nQ 39.84375 58.546875 37.703125 60.890625 \r\nQ 34.125 64.65625 28.90625 64.65625 \r\nQ 24.703125 64.65625 21.53125 62.3125 \r\nQ 17.390625 59.28125 14.984375 53.46875 \r\nQ 12.59375 47.65625 12.5 36.921875 \r\nQ 15.671875 41.75 20.265625 44.09375 \r\nQ 24.859375 46.4375 29.890625 46.4375 \r\nQ 38.671875 46.4375 44.84375 39.96875 \r\nQ 51.03125 33.5 51.03125 23.25 \r\nQ 51.03125 16.5 48.125 10.71875 \r\nQ 45.21875 4.9375 40.140625 1.859375 \r\nQ 35.0625 -1.21875 28.609375 -1.21875 \r\nQ 17.625 -1.21875 10.6875 6.859375 \r\nQ 3.765625 14.9375 3.765625 33.5 \r\nQ 3.765625 54.25 11.421875 63.671875 \r\nQ 18.109375 71.875 29.4375 71.875 \r\nQ 37.890625 71.875 43.28125 67.140625 \r\nQ 48.6875 62.40625 49.75 54.046875 \r\nz\r\nM 13.875 23.1875 \r\nQ 13.875 18.65625 15.796875 14.5 \r\nQ 17.71875 10.359375 21.1875 8.171875 \r\nQ 24.65625 6 28.46875 6 \r\nQ 34.03125 6 38.03125 10.484375 \r\nQ 42.046875 14.984375 42.046875 22.703125 \r\nQ 42.046875 30.125 38.078125 34.390625 \r\nQ 34.125 38.671875 28.125 38.671875 \r\nQ 22.171875 38.671875 18.015625 34.390625 \r\nQ 13.875 30.125 13.875 23.1875 \r\nz\r\n\" id=\"ArialMT-54\"/>\r\n      </defs>\r\n      <g style=\"fill:#262626;\" transform=\"translate(105.584659 238.797813)scale(0.1 -0.1)\">\r\n       <use xlink:href=\"#ArialMT-48\"/>\r\n       <use x=\"55.615234\" xlink:href=\"#ArialMT-46\"/>\r\n       <use x=\"83.398438\" xlink:href=\"#ArialMT-54\"/>\r\n      </g>\r\n     </g>\r\n    </g>\r\n    <g id=\"xtick_2\">\r\n     <g id=\"line2d_2\">\r\n      <path clip-path=\"url(#pda75ba4789)\" d=\"M 213.989205 224.64 \r\nL 213.989205 7.2 \r\n\" style=\"fill:none;stroke:#cccccc;stroke-linecap:round;stroke-width:0.8;\"/>\r\n     </g>\r\n     <g id=\"text_2\">\r\n      <!-- 0.8 -->\r\n      <defs>\r\n       <path d=\"M 17.671875 38.8125 \r\nQ 12.203125 40.828125 9.5625 44.53125 \r\nQ 6.9375 48.25 6.9375 53.421875 \r\nQ 6.9375 61.234375 12.546875 66.546875 \r\nQ 18.171875 71.875 27.484375 71.875 \r\nQ 36.859375 71.875 42.578125 66.421875 \r\nQ 48.296875 60.984375 48.296875 53.171875 \r\nQ 48.296875 48.1875 45.671875 44.5 \r\nQ 43.0625 40.828125 37.75 38.8125 \r\nQ 44.34375 36.671875 47.78125 31.875 \r\nQ 51.21875 27.09375 51.21875 20.453125 \r\nQ 51.21875 11.28125 44.71875 5.03125 \r\nQ 38.234375 -1.21875 27.640625 -1.21875 \r\nQ 17.046875 -1.21875 10.546875 5.046875 \r\nQ 4.046875 11.328125 4.046875 20.703125 \r\nQ 4.046875 27.6875 7.59375 32.390625 \r\nQ 11.140625 37.109375 17.671875 38.8125 \r\nz\r\nM 15.921875 53.71875 \r\nQ 15.921875 48.640625 19.1875 45.40625 \r\nQ 22.46875 42.1875 27.6875 42.1875 \r\nQ 32.765625 42.1875 36.015625 45.375 \r\nQ 39.265625 48.578125 39.265625 53.21875 \r\nQ 39.265625 58.0625 35.90625 61.359375 \r\nQ 32.5625 64.65625 27.59375 64.65625 \r\nQ 22.5625 64.65625 19.234375 61.421875 \r\nQ 15.921875 58.203125 15.921875 53.71875 \r\nz\r\nM 13.09375 20.65625 \r\nQ 13.09375 16.890625 14.875 13.375 \r\nQ 16.65625 9.859375 20.171875 7.921875 \r\nQ 23.6875 6 27.734375 6 \r\nQ 34.03125 6 38.125 10.046875 \r\nQ 42.234375 14.109375 42.234375 20.359375 \r\nQ 42.234375 26.703125 38.015625 30.859375 \r\nQ 33.796875 35.015625 27.4375 35.015625 \r\nQ 21.234375 35.015625 17.15625 30.90625 \r\nQ 13.09375 26.8125 13.09375 20.65625 \r\nz\r\n\" id=\"ArialMT-56\"/>\r\n      </defs>\r\n      <g style=\"fill:#262626;\" transform=\"translate(207.039205 238.797813)scale(0.1 -0.1)\">\r\n       <use xlink:href=\"#ArialMT-48\"/>\r\n       <use x=\"55.615234\" xlink:href=\"#ArialMT-46\"/>\r\n       <use x=\"83.398438\" xlink:href=\"#ArialMT-56\"/>\r\n      </g>\r\n     </g>\r\n    </g>\r\n    <g id=\"xtick_3\">\r\n     <g id=\"line2d_3\">\r\n      <path clip-path=\"url(#pda75ba4789)\" d=\"M 315.44375 224.64 \r\nL 315.44375 7.2 \r\n\" style=\"fill:none;stroke:#cccccc;stroke-linecap:round;stroke-width:0.8;\"/>\r\n     </g>\r\n     <g id=\"text_3\">\r\n      <!-- 1.0 -->\r\n      <defs>\r\n       <path d=\"M 37.25 0 \r\nL 28.46875 0 \r\nL 28.46875 56 \r\nQ 25.296875 52.984375 20.140625 49.953125 \r\nQ 14.984375 46.921875 10.890625 45.40625 \r\nL 10.890625 53.90625 \r\nQ 18.265625 57.375 23.78125 62.296875 \r\nQ 29.296875 67.234375 31.59375 71.875 \r\nL 37.25 71.875 \r\nz\r\n\" id=\"ArialMT-49\"/>\r\n      </defs>\r\n      <g style=\"fill:#262626;\" transform=\"translate(308.49375 238.797813)scale(0.1 -0.1)\">\r\n       <use xlink:href=\"#ArialMT-49\"/>\r\n       <use x=\"55.615234\" xlink:href=\"#ArialMT-46\"/>\r\n       <use x=\"83.398438\" xlink:href=\"#ArialMT-48\"/>\r\n      </g>\r\n     </g>\r\n    </g>\r\n    <g id=\"xtick_4\">\r\n     <g id=\"line2d_4\">\r\n      <path clip-path=\"url(#pda75ba4789)\" d=\"M 416.898295 224.64 \r\nL 416.898295 7.2 \r\n\" style=\"fill:none;stroke:#cccccc;stroke-linecap:round;stroke-width:0.8;\"/>\r\n     </g>\r\n     <g id=\"text_4\">\r\n      <!-- 1.2 -->\r\n      <defs>\r\n       <path d=\"M 50.34375 8.453125 \r\nL 50.34375 0 \r\nL 3.03125 0 \r\nQ 2.9375 3.171875 4.046875 6.109375 \r\nQ 5.859375 10.9375 9.828125 15.625 \r\nQ 13.8125 20.3125 21.34375 26.46875 \r\nQ 33.015625 36.03125 37.109375 41.625 \r\nQ 41.21875 47.21875 41.21875 52.203125 \r\nQ 41.21875 57.421875 37.46875 61 \r\nQ 33.734375 64.59375 27.734375 64.59375 \r\nQ 21.390625 64.59375 17.578125 60.78125 \r\nQ 13.765625 56.984375 13.71875 50.25 \r\nL 4.6875 51.171875 \r\nQ 5.609375 61.28125 11.65625 66.578125 \r\nQ 17.71875 71.875 27.9375 71.875 \r\nQ 38.234375 71.875 44.234375 66.15625 \r\nQ 50.25 60.453125 50.25 52 \r\nQ 50.25 47.703125 48.484375 43.546875 \r\nQ 46.734375 39.40625 42.65625 34.8125 \r\nQ 38.578125 30.21875 29.109375 22.21875 \r\nQ 21.1875 15.578125 18.9375 13.203125 \r\nQ 16.703125 10.84375 15.234375 8.453125 \r\nz\r\n\" id=\"ArialMT-50\"/>\r\n      </defs>\r\n      <g style=\"fill:#262626;\" transform=\"translate(409.948295 238.797813)scale(0.1 -0.1)\">\r\n       <use xlink:href=\"#ArialMT-49\"/>\r\n       <use x=\"55.615234\" xlink:href=\"#ArialMT-46\"/>\r\n       <use x=\"83.398438\" xlink:href=\"#ArialMT-50\"/>\r\n      </g>\r\n     </g>\r\n    </g>\r\n    <g id=\"xtick_5\">\r\n     <g id=\"line2d_5\">\r\n      <path clip-path=\"url(#pda75ba4789)\" d=\"M 518.352841 224.64 \r\nL 518.352841 7.2 \r\n\" style=\"fill:none;stroke:#cccccc;stroke-linecap:round;stroke-width:0.8;\"/>\r\n     </g>\r\n     <g id=\"text_5\">\r\n      <!-- 1.4 -->\r\n      <defs>\r\n       <path d=\"M 32.328125 0 \r\nL 32.328125 17.140625 \r\nL 1.265625 17.140625 \r\nL 1.265625 25.203125 \r\nL 33.9375 71.578125 \r\nL 41.109375 71.578125 \r\nL 41.109375 25.203125 \r\nL 50.78125 25.203125 \r\nL 50.78125 17.140625 \r\nL 41.109375 17.140625 \r\nL 41.109375 0 \r\nz\r\nM 32.328125 25.203125 \r\nL 32.328125 57.46875 \r\nL 9.90625 25.203125 \r\nz\r\n\" id=\"ArialMT-52\"/>\r\n      </defs>\r\n      <g style=\"fill:#262626;\" transform=\"translate(511.402841 238.797813)scale(0.1 -0.1)\">\r\n       <use xlink:href=\"#ArialMT-49\"/>\r\n       <use x=\"55.615234\" xlink:href=\"#ArialMT-46\"/>\r\n       <use x=\"83.398438\" xlink:href=\"#ArialMT-52\"/>\r\n      </g>\r\n     </g>\r\n    </g>\r\n   </g>\r\n   <g id=\"matplotlib.axis_2\">\r\n    <g id=\"ytick_1\">\r\n     <g id=\"line2d_6\">\r\n      <path clip-path=\"url(#pda75ba4789)\" d=\"M 36.44375 224.64 \r\nL 594.44375 224.64 \r\n\" style=\"fill:none;stroke:#cccccc;stroke-linecap:round;stroke-width:0.8;\"/>\r\n     </g>\r\n     <g id=\"text_6\">\r\n      <!-- 0 -->\r\n      <g style=\"fill:#262626;\" transform=\"translate(23.882813 228.218906)scale(0.1 -0.1)\">\r\n       <use xlink:href=\"#ArialMT-48\"/>\r\n      </g>\r\n     </g>\r\n    </g>\r\n    <g id=\"ytick_2\">\r\n     <g id=\"line2d_7\">\r\n      <path clip-path=\"url(#pda75ba4789)\" d=\"M 36.44375 194.601457 \r\nL 594.44375 194.601457 \r\n\" style=\"fill:none;stroke:#cccccc;stroke-linecap:round;stroke-width:0.8;\"/>\r\n     </g>\r\n     <g id=\"text_7\">\r\n      <!-- 1000 -->\r\n      <g style=\"fill:#262626;\" transform=\"translate(7.2 198.180363)scale(0.1 -0.1)\">\r\n       <use xlink:href=\"#ArialMT-49\"/>\r\n       <use x=\"55.615234\" xlink:href=\"#ArialMT-48\"/>\r\n       <use x=\"111.230469\" xlink:href=\"#ArialMT-48\"/>\r\n       <use x=\"166.845703\" xlink:href=\"#ArialMT-48\"/>\r\n      </g>\r\n     </g>\r\n    </g>\r\n    <g id=\"ytick_3\">\r\n     <g id=\"line2d_8\">\r\n      <path clip-path=\"url(#pda75ba4789)\" d=\"M 36.44375 164.562914 \r\nL 594.44375 164.562914 \r\n\" style=\"fill:none;stroke:#cccccc;stroke-linecap:round;stroke-width:0.8;\"/>\r\n     </g>\r\n     <g id=\"text_8\">\r\n      <!-- 2000 -->\r\n      <g style=\"fill:#262626;\" transform=\"translate(7.2 168.141821)scale(0.1 -0.1)\">\r\n       <use xlink:href=\"#ArialMT-50\"/>\r\n       <use x=\"55.615234\" xlink:href=\"#ArialMT-48\"/>\r\n       <use x=\"111.230469\" xlink:href=\"#ArialMT-48\"/>\r\n       <use x=\"166.845703\" xlink:href=\"#ArialMT-48\"/>\r\n      </g>\r\n     </g>\r\n    </g>\r\n    <g id=\"ytick_4\">\r\n     <g id=\"line2d_9\">\r\n      <path clip-path=\"url(#pda75ba4789)\" d=\"M 36.44375 134.524372 \r\nL 594.44375 134.524372 \r\n\" style=\"fill:none;stroke:#cccccc;stroke-linecap:round;stroke-width:0.8;\"/>\r\n     </g>\r\n     <g id=\"text_9\">\r\n      <!-- 3000 -->\r\n      <defs>\r\n       <path d=\"M 4.203125 18.890625 \r\nL 12.984375 20.0625 \r\nQ 14.5 12.59375 18.140625 9.296875 \r\nQ 21.78125 6 27 6 \r\nQ 33.203125 6 37.46875 10.296875 \r\nQ 41.75 14.59375 41.75 20.953125 \r\nQ 41.75 27 37.796875 30.921875 \r\nQ 33.84375 34.859375 27.734375 34.859375 \r\nQ 25.25 34.859375 21.53125 33.890625 \r\nL 22.515625 41.609375 \r\nQ 23.390625 41.5 23.921875 41.5 \r\nQ 29.546875 41.5 34.03125 44.421875 \r\nQ 38.53125 47.359375 38.53125 53.46875 \r\nQ 38.53125 58.296875 35.25 61.46875 \r\nQ 31.984375 64.65625 26.8125 64.65625 \r\nQ 21.6875 64.65625 18.265625 61.421875 \r\nQ 14.84375 58.203125 13.875 51.765625 \r\nL 5.078125 53.328125 \r\nQ 6.6875 62.15625 12.390625 67.015625 \r\nQ 18.109375 71.875 26.609375 71.875 \r\nQ 32.46875 71.875 37.390625 69.359375 \r\nQ 42.328125 66.84375 44.9375 62.5 \r\nQ 47.5625 58.15625 47.5625 53.265625 \r\nQ 47.5625 48.640625 45.0625 44.828125 \r\nQ 42.578125 41.015625 37.703125 38.765625 \r\nQ 44.046875 37.3125 47.5625 32.6875 \r\nQ 51.078125 28.078125 51.078125 21.140625 \r\nQ 51.078125 11.765625 44.234375 5.25 \r\nQ 37.40625 -1.265625 26.953125 -1.265625 \r\nQ 17.53125 -1.265625 11.296875 4.34375 \r\nQ 5.078125 9.96875 4.203125 18.890625 \r\nz\r\n\" id=\"ArialMT-51\"/>\r\n      </defs>\r\n      <g style=\"fill:#262626;\" transform=\"translate(7.2 138.103278)scale(0.1 -0.1)\">\r\n       <use xlink:href=\"#ArialMT-51\"/>\r\n       <use x=\"55.615234\" xlink:href=\"#ArialMT-48\"/>\r\n       <use x=\"111.230469\" xlink:href=\"#ArialMT-48\"/>\r\n       <use x=\"166.845703\" xlink:href=\"#ArialMT-48\"/>\r\n      </g>\r\n     </g>\r\n    </g>\r\n    <g id=\"ytick_5\">\r\n     <g id=\"line2d_10\">\r\n      <path clip-path=\"url(#pda75ba4789)\" d=\"M 36.44375 104.485829 \r\nL 594.44375 104.485829 \r\n\" style=\"fill:none;stroke:#cccccc;stroke-linecap:round;stroke-width:0.8;\"/>\r\n     </g>\r\n     <g id=\"text_10\">\r\n      <!-- 4000 -->\r\n      <g style=\"fill:#262626;\" transform=\"translate(7.2 108.064735)scale(0.1 -0.1)\">\r\n       <use xlink:href=\"#ArialMT-52\"/>\r\n       <use x=\"55.615234\" xlink:href=\"#ArialMT-48\"/>\r\n       <use x=\"111.230469\" xlink:href=\"#ArialMT-48\"/>\r\n       <use x=\"166.845703\" xlink:href=\"#ArialMT-48\"/>\r\n      </g>\r\n     </g>\r\n    </g>\r\n    <g id=\"ytick_6\">\r\n     <g id=\"line2d_11\">\r\n      <path clip-path=\"url(#pda75ba4789)\" d=\"M 36.44375 74.447286 \r\nL 594.44375 74.447286 \r\n\" style=\"fill:none;stroke:#cccccc;stroke-linecap:round;stroke-width:0.8;\"/>\r\n     </g>\r\n     <g id=\"text_11\">\r\n      <!-- 5000 -->\r\n      <defs>\r\n       <path d=\"M 4.15625 18.75 \r\nL 13.375 19.53125 \r\nQ 14.40625 12.796875 18.140625 9.390625 \r\nQ 21.875 6 27.15625 6 \r\nQ 33.5 6 37.890625 10.78125 \r\nQ 42.28125 15.578125 42.28125 23.484375 \r\nQ 42.28125 31 38.0625 35.34375 \r\nQ 33.84375 39.703125 27 39.703125 \r\nQ 22.75 39.703125 19.328125 37.765625 \r\nQ 15.921875 35.84375 13.96875 32.765625 \r\nL 5.71875 33.84375 \r\nL 12.640625 70.609375 \r\nL 48.25 70.609375 \r\nL 48.25 62.203125 \r\nL 19.671875 62.203125 \r\nL 15.828125 42.96875 \r\nQ 22.265625 47.46875 29.34375 47.46875 \r\nQ 38.71875 47.46875 45.15625 40.96875 \r\nQ 51.609375 34.46875 51.609375 24.265625 \r\nQ 51.609375 14.546875 45.953125 7.46875 \r\nQ 39.0625 -1.21875 27.15625 -1.21875 \r\nQ 17.390625 -1.21875 11.203125 4.25 \r\nQ 5.03125 9.71875 4.15625 18.75 \r\nz\r\n\" id=\"ArialMT-53\"/>\r\n      </defs>\r\n      <g style=\"fill:#262626;\" transform=\"translate(7.2 78.026192)scale(0.1 -0.1)\">\r\n       <use xlink:href=\"#ArialMT-53\"/>\r\n       <use x=\"55.615234\" xlink:href=\"#ArialMT-48\"/>\r\n       <use x=\"111.230469\" xlink:href=\"#ArialMT-48\"/>\r\n       <use x=\"166.845703\" xlink:href=\"#ArialMT-48\"/>\r\n      </g>\r\n     </g>\r\n    </g>\r\n    <g id=\"ytick_7\">\r\n     <g id=\"line2d_12\">\r\n      <path clip-path=\"url(#pda75ba4789)\" d=\"M 36.44375 44.408743 \r\nL 594.44375 44.408743 \r\n\" style=\"fill:none;stroke:#cccccc;stroke-linecap:round;stroke-width:0.8;\"/>\r\n     </g>\r\n     <g id=\"text_12\">\r\n      <!-- 6000 -->\r\n      <g style=\"fill:#262626;\" transform=\"translate(7.2 47.987649)scale(0.1 -0.1)\">\r\n       <use xlink:href=\"#ArialMT-54\"/>\r\n       <use x=\"55.615234\" xlink:href=\"#ArialMT-48\"/>\r\n       <use x=\"111.230469\" xlink:href=\"#ArialMT-48\"/>\r\n       <use x=\"166.845703\" xlink:href=\"#ArialMT-48\"/>\r\n      </g>\r\n     </g>\r\n    </g>\r\n    <g id=\"ytick_8\">\r\n     <g id=\"line2d_13\">\r\n      <path clip-path=\"url(#pda75ba4789)\" d=\"M 36.44375 14.3702 \r\nL 594.44375 14.3702 \r\n\" style=\"fill:none;stroke:#cccccc;stroke-linecap:round;stroke-width:0.8;\"/>\r\n     </g>\r\n     <g id=\"text_13\">\r\n      <!-- 7000 -->\r\n      <defs>\r\n       <path d=\"M 4.734375 62.203125 \r\nL 4.734375 70.65625 \r\nL 51.078125 70.65625 \r\nL 51.078125 63.8125 \r\nQ 44.234375 56.546875 37.515625 44.484375 \r\nQ 30.8125 32.421875 27.15625 19.671875 \r\nQ 24.515625 10.6875 23.78125 0 \r\nL 14.75 0 \r\nQ 14.890625 8.453125 18.0625 20.40625 \r\nQ 21.234375 32.375 27.171875 43.484375 \r\nQ 33.109375 54.59375 39.796875 62.203125 \r\nz\r\n\" id=\"ArialMT-55\"/>\r\n      </defs>\r\n      <g style=\"fill:#262626;\" transform=\"translate(7.2 17.949106)scale(0.1 -0.1)\">\r\n       <use xlink:href=\"#ArialMT-55\"/>\r\n       <use x=\"55.615234\" xlink:href=\"#ArialMT-48\"/>\r\n       <use x=\"111.230469\" xlink:href=\"#ArialMT-48\"/>\r\n       <use x=\"166.845703\" xlink:href=\"#ArialMT-48\"/>\r\n      </g>\r\n     </g>\r\n    </g>\r\n   </g>\r\n   <g id=\"patch_3\">\r\n    <path clip-path=\"url(#pda75ba4789)\" d=\"M 61.807386 224.64 \r\nL 69.05414 224.64 \r\nL 69.05414 224.64 \r\nL 61.807386 224.64 \r\nz\r\n\" style=\"fill:#1f77b4;stroke:#ffffff;stroke-linejoin:miter;\"/>\r\n   </g>\r\n   <g id=\"patch_4\">\r\n    <path clip-path=\"url(#pda75ba4789)\" d=\"M 69.05414 224.64 \r\nL 76.300893 224.64 \r\nL 76.300893 224.64 \r\nL 69.05414 224.64 \r\nz\r\n\" style=\"fill:#1f77b4;stroke:#ffffff;stroke-linejoin:miter;\"/>\r\n   </g>\r\n   <g id=\"patch_5\">\r\n    <path clip-path=\"url(#pda75ba4789)\" d=\"M 76.300893 224.64 \r\nL 83.547646 224.64 \r\nL 83.547646 224.64 \r\nL 76.300893 224.64 \r\nz\r\n\" style=\"fill:#1f77b4;stroke:#ffffff;stroke-linejoin:miter;\"/>\r\n   </g>\r\n   <g id=\"patch_6\">\r\n    <path clip-path=\"url(#pda75ba4789)\" d=\"M 83.547646 224.64 \r\nL 90.794399 224.64 \r\nL 90.794399 224.64 \r\nL 83.547646 224.64 \r\nz\r\n\" style=\"fill:#1f77b4;stroke:#ffffff;stroke-linejoin:miter;\"/>\r\n   </g>\r\n   <g id=\"patch_7\">\r\n    <path clip-path=\"url(#pda75ba4789)\" d=\"M 90.794399 224.64 \r\nL 98.041153 224.64 \r\nL 98.041153 224.64 \r\nL 90.794399 224.64 \r\nz\r\n\" style=\"fill:#1f77b4;stroke:#ffffff;stroke-linejoin:miter;\"/>\r\n   </g>\r\n   <g id=\"patch_8\">\r\n    <path clip-path=\"url(#pda75ba4789)\" d=\"M 98.041153 224.64 \r\nL 105.287906 224.64 \r\nL 105.287906 224.64 \r\nL 98.041153 224.64 \r\nz\r\n\" style=\"fill:#1f77b4;stroke:#ffffff;stroke-linejoin:miter;\"/>\r\n   </g>\r\n   <g id=\"patch_9\">\r\n    <path clip-path=\"url(#pda75ba4789)\" d=\"M 105.287906 224.64 \r\nL 112.534659 224.64 \r\nL 112.534659 224.64 \r\nL 105.287906 224.64 \r\nz\r\n\" style=\"fill:#1f77b4;stroke:#ffffff;stroke-linejoin:miter;\"/>\r\n   </g>\r\n   <g id=\"patch_10\">\r\n    <path clip-path=\"url(#pda75ba4789)\" d=\"M 112.534659 224.64 \r\nL 119.781412 224.64 \r\nL 119.781412 224.64 \r\nL 112.534659 224.64 \r\nz\r\n\" style=\"fill:#1f77b4;stroke:#ffffff;stroke-linejoin:miter;\"/>\r\n   </g>\r\n   <g id=\"patch_11\">\r\n    <path clip-path=\"url(#pda75ba4789)\" d=\"M 119.781412 224.64 \r\nL 127.028166 224.64 \r\nL 127.028166 224.64 \r\nL 119.781412 224.64 \r\nz\r\n\" style=\"fill:#1f77b4;stroke:#ffffff;stroke-linejoin:miter;\"/>\r\n   </g>\r\n   <g id=\"patch_12\">\r\n    <path clip-path=\"url(#pda75ba4789)\" d=\"M 127.028166 224.64 \r\nL 134.274919 224.64 \r\nL 134.274919 224.64 \r\nL 127.028166 224.64 \r\nz\r\n\" style=\"fill:#1f77b4;stroke:#ffffff;stroke-linejoin:miter;\"/>\r\n   </g>\r\n   <g id=\"patch_13\">\r\n    <path clip-path=\"url(#pda75ba4789)\" d=\"M 134.274919 224.64 \r\nL 141.521672 224.64 \r\nL 141.521672 224.64 \r\nL 134.274919 224.64 \r\nz\r\n\" style=\"fill:#1f77b4;stroke:#ffffff;stroke-linejoin:miter;\"/>\r\n   </g>\r\n   <g id=\"patch_14\">\r\n    <path clip-path=\"url(#pda75ba4789)\" d=\"M 141.521672 224.64 \r\nL 148.768425 224.64 \r\nL 148.768425 224.64 \r\nL 141.521672 224.64 \r\nz\r\n\" style=\"fill:#1f77b4;stroke:#ffffff;stroke-linejoin:miter;\"/>\r\n   </g>\r\n   <g id=\"patch_15\">\r\n    <path clip-path=\"url(#pda75ba4789)\" d=\"M 148.768425 224.64 \r\nL 156.015179 224.64 \r\nL 156.015179 224.64 \r\nL 148.768425 224.64 \r\nz\r\n\" style=\"fill:#1f77b4;stroke:#ffffff;stroke-linejoin:miter;\"/>\r\n   </g>\r\n   <g id=\"patch_16\">\r\n    <path clip-path=\"url(#pda75ba4789)\" d=\"M 156.015179 224.64 \r\nL 163.261932 224.64 \r\nL 163.261932 224.64 \r\nL 156.015179 224.64 \r\nz\r\n\" style=\"fill:#1f77b4;stroke:#ffffff;stroke-linejoin:miter;\"/>\r\n   </g>\r\n   <g id=\"patch_17\">\r\n    <path clip-path=\"url(#pda75ba4789)\" d=\"M 163.261932 224.64 \r\nL 170.508685 224.64 \r\nL 170.508685 224.64 \r\nL 163.261932 224.64 \r\nz\r\n\" style=\"fill:#1f77b4;stroke:#ffffff;stroke-linejoin:miter;\"/>\r\n   </g>\r\n   <g id=\"patch_18\">\r\n    <path clip-path=\"url(#pda75ba4789)\" d=\"M 170.508685 224.64 \r\nL 177.755438 224.64 \r\nL 177.755438 224.64 \r\nL 170.508685 224.64 \r\nz\r\n\" style=\"fill:#1f77b4;stroke:#ffffff;stroke-linejoin:miter;\"/>\r\n   </g>\r\n   <g id=\"patch_19\">\r\n    <path clip-path=\"url(#pda75ba4789)\" d=\"M 177.755438 224.64 \r\nL 185.002192 224.64 \r\nL 185.002192 224.64 \r\nL 177.755438 224.64 \r\nz\r\n\" style=\"fill:#1f77b4;stroke:#ffffff;stroke-linejoin:miter;\"/>\r\n   </g>\r\n   <g id=\"patch_20\">\r\n    <path clip-path=\"url(#pda75ba4789)\" d=\"M 185.002192 224.64 \r\nL 192.248945 224.64 \r\nL 192.248945 224.64 \r\nL 185.002192 224.64 \r\nz\r\n\" style=\"fill:#1f77b4;stroke:#ffffff;stroke-linejoin:miter;\"/>\r\n   </g>\r\n   <g id=\"patch_21\">\r\n    <path clip-path=\"url(#pda75ba4789)\" d=\"M 192.248945 224.64 \r\nL 199.495698 224.64 \r\nL 199.495698 224.64 \r\nL 192.248945 224.64 \r\nz\r\n\" style=\"fill:#1f77b4;stroke:#ffffff;stroke-linejoin:miter;\"/>\r\n   </g>\r\n   <g id=\"patch_22\">\r\n    <path clip-path=\"url(#pda75ba4789)\" d=\"M 199.495698 224.64 \r\nL 206.742451 224.64 \r\nL 206.742451 224.64 \r\nL 199.495698 224.64 \r\nz\r\n\" style=\"fill:#1f77b4;stroke:#ffffff;stroke-linejoin:miter;\"/>\r\n   </g>\r\n   <g id=\"patch_23\">\r\n    <path clip-path=\"url(#pda75ba4789)\" d=\"M 206.742451 224.64 \r\nL 213.989205 224.64 \r\nL 213.989205 224.64 \r\nL 206.742451 224.64 \r\nz\r\n\" style=\"fill:#1f77b4;stroke:#ffffff;stroke-linejoin:miter;\"/>\r\n   </g>\r\n   <g id=\"patch_24\">\r\n    <path clip-path=\"url(#pda75ba4789)\" d=\"M 213.989205 224.64 \r\nL 221.235958 224.64 \r\nL 221.235958 224.64 \r\nL 213.989205 224.64 \r\nz\r\n\" style=\"fill:#1f77b4;stroke:#ffffff;stroke-linejoin:miter;\"/>\r\n   </g>\r\n   <g id=\"patch_25\">\r\n    <path clip-path=\"url(#pda75ba4789)\" d=\"M 221.235958 224.64 \r\nL 228.482711 224.64 \r\nL 228.482711 224.64 \r\nL 221.235958 224.64 \r\nz\r\n\" style=\"fill:#1f77b4;stroke:#ffffff;stroke-linejoin:miter;\"/>\r\n   </g>\r\n   <g id=\"patch_26\">\r\n    <path clip-path=\"url(#pda75ba4789)\" d=\"M 228.482711 224.64 \r\nL 235.729464 224.64 \r\nL 235.729464 224.64 \r\nL 228.482711 224.64 \r\nz\r\n\" style=\"fill:#1f77b4;stroke:#ffffff;stroke-linejoin:miter;\"/>\r\n   </g>\r\n   <g id=\"patch_27\">\r\n    <path clip-path=\"url(#pda75ba4789)\" d=\"M 235.729464 224.64 \r\nL 242.976218 224.64 \r\nL 242.976218 224.64 \r\nL 235.729464 224.64 \r\nz\r\n\" style=\"fill:#1f77b4;stroke:#ffffff;stroke-linejoin:miter;\"/>\r\n   </g>\r\n   <g id=\"patch_28\">\r\n    <path clip-path=\"url(#pda75ba4789)\" d=\"M 242.976218 224.64 \r\nL 250.222971 224.64 \r\nL 250.222971 224.64 \r\nL 242.976218 224.64 \r\nz\r\n\" style=\"fill:#1f77b4;stroke:#ffffff;stroke-linejoin:miter;\"/>\r\n   </g>\r\n   <g id=\"patch_29\">\r\n    <path clip-path=\"url(#pda75ba4789)\" d=\"M 250.222971 224.64 \r\nL 257.469724 224.64 \r\nL 257.469724 224.64 \r\nL 250.222971 224.64 \r\nz\r\n\" style=\"fill:#1f77b4;stroke:#ffffff;stroke-linejoin:miter;\"/>\r\n   </g>\r\n   <g id=\"patch_30\">\r\n    <path clip-path=\"url(#pda75ba4789)\" d=\"M 257.469724 224.64 \r\nL 264.716477 224.64 \r\nL 264.716477 224.64 \r\nL 257.469724 224.64 \r\nz\r\n\" style=\"fill:#1f77b4;stroke:#ffffff;stroke-linejoin:miter;\"/>\r\n   </g>\r\n   <g id=\"patch_31\">\r\n    <path clip-path=\"url(#pda75ba4789)\" d=\"M 264.716477 224.64 \r\nL 271.963231 224.64 \r\nL 271.963231 224.64 \r\nL 264.716477 224.64 \r\nz\r\n\" style=\"fill:#1f77b4;stroke:#ffffff;stroke-linejoin:miter;\"/>\r\n   </g>\r\n   <g id=\"patch_32\">\r\n    <path clip-path=\"url(#pda75ba4789)\" d=\"M 271.963231 224.64 \r\nL 279.209984 224.64 \r\nL 279.209984 224.64 \r\nL 271.963231 224.64 \r\nz\r\n\" style=\"fill:#1f77b4;stroke:#ffffff;stroke-linejoin:miter;\"/>\r\n   </g>\r\n   <g id=\"patch_33\">\r\n    <path clip-path=\"url(#pda75ba4789)\" d=\"M 279.209984 224.64 \r\nL 286.456737 224.64 \r\nL 286.456737 224.64 \r\nL 279.209984 224.64 \r\nz\r\n\" style=\"fill:#1f77b4;stroke:#ffffff;stroke-linejoin:miter;\"/>\r\n   </g>\r\n   <g id=\"patch_34\">\r\n    <path clip-path=\"url(#pda75ba4789)\" d=\"M 286.456737 224.64 \r\nL 293.70349 224.64 \r\nL 293.70349 224.64 \r\nL 286.456737 224.64 \r\nz\r\n\" style=\"fill:#1f77b4;stroke:#ffffff;stroke-linejoin:miter;\"/>\r\n   </g>\r\n   <g id=\"patch_35\">\r\n    <path clip-path=\"url(#pda75ba4789)\" d=\"M 293.70349 224.64 \r\nL 300.950244 224.64 \r\nL 300.950244 224.64 \r\nL 293.70349 224.64 \r\nz\r\n\" style=\"fill:#1f77b4;stroke:#ffffff;stroke-linejoin:miter;\"/>\r\n   </g>\r\n   <g id=\"patch_36\">\r\n    <path clip-path=\"url(#pda75ba4789)\" d=\"M 300.950244 224.64 \r\nL 308.196997 224.64 \r\nL 308.196997 224.64 \r\nL 300.950244 224.64 \r\nz\r\n\" style=\"fill:#1f77b4;stroke:#ffffff;stroke-linejoin:miter;\"/>\r\n   </g>\r\n   <g id=\"patch_37\">\r\n    <path clip-path=\"url(#pda75ba4789)\" d=\"M 308.196997 224.64 \r\nL 315.44375 224.64 \r\nL 315.44375 224.64 \r\nL 308.196997 224.64 \r\nz\r\n\" style=\"fill:#1f77b4;stroke:#ffffff;stroke-linejoin:miter;\"/>\r\n   </g>\r\n   <g id=\"patch_38\">\r\n    <path clip-path=\"url(#pda75ba4789)\" d=\"M 315.44375 224.64 \r\nL 322.690503 224.64 \r\nL 322.690503 17.554286 \r\nL 315.44375 17.554286 \r\nz\r\n\" style=\"fill:#1f77b4;stroke:#ffffff;stroke-linejoin:miter;\"/>\r\n   </g>\r\n   <g id=\"patch_39\">\r\n    <path clip-path=\"url(#pda75ba4789)\" d=\"M 322.690503 224.64 \r\nL 329.937256 224.64 \r\nL 329.937256 224.64 \r\nL 322.690503 224.64 \r\nz\r\n\" style=\"fill:#1f77b4;stroke:#ffffff;stroke-linejoin:miter;\"/>\r\n   </g>\r\n   <g id=\"patch_40\">\r\n    <path clip-path=\"url(#pda75ba4789)\" d=\"M 329.937256 224.64 \r\nL 337.18401 224.64 \r\nL 337.18401 224.64 \r\nL 329.937256 224.64 \r\nz\r\n\" style=\"fill:#1f77b4;stroke:#ffffff;stroke-linejoin:miter;\"/>\r\n   </g>\r\n   <g id=\"patch_41\">\r\n    <path clip-path=\"url(#pda75ba4789)\" d=\"M 337.18401 224.64 \r\nL 344.430763 224.64 \r\nL 344.430763 224.64 \r\nL 337.18401 224.64 \r\nz\r\n\" style=\"fill:#1f77b4;stroke:#ffffff;stroke-linejoin:miter;\"/>\r\n   </g>\r\n   <g id=\"patch_42\">\r\n    <path clip-path=\"url(#pda75ba4789)\" d=\"M 344.430763 224.64 \r\nL 351.677516 224.64 \r\nL 351.677516 224.64 \r\nL 344.430763 224.64 \r\nz\r\n\" style=\"fill:#1f77b4;stroke:#ffffff;stroke-linejoin:miter;\"/>\r\n   </g>\r\n   <g id=\"patch_43\">\r\n    <path clip-path=\"url(#pda75ba4789)\" d=\"M 351.677516 224.64 \r\nL 358.924269 224.64 \r\nL 358.924269 224.64 \r\nL 351.677516 224.64 \r\nz\r\n\" style=\"fill:#1f77b4;stroke:#ffffff;stroke-linejoin:miter;\"/>\r\n   </g>\r\n   <g id=\"patch_44\">\r\n    <path clip-path=\"url(#pda75ba4789)\" d=\"M 358.924269 224.64 \r\nL 366.171023 224.64 \r\nL 366.171023 224.64 \r\nL 358.924269 224.64 \r\nz\r\n\" style=\"fill:#1f77b4;stroke:#ffffff;stroke-linejoin:miter;\"/>\r\n   </g>\r\n   <g id=\"patch_45\">\r\n    <path clip-path=\"url(#pda75ba4789)\" d=\"M 366.171023 224.64 \r\nL 373.417776 224.64 \r\nL 373.417776 224.64 \r\nL 366.171023 224.64 \r\nz\r\n\" style=\"fill:#1f77b4;stroke:#ffffff;stroke-linejoin:miter;\"/>\r\n   </g>\r\n   <g id=\"patch_46\">\r\n    <path clip-path=\"url(#pda75ba4789)\" d=\"M 373.417776 224.64 \r\nL 380.664529 224.64 \r\nL 380.664529 224.64 \r\nL 373.417776 224.64 \r\nz\r\n\" style=\"fill:#1f77b4;stroke:#ffffff;stroke-linejoin:miter;\"/>\r\n   </g>\r\n   <g id=\"patch_47\">\r\n    <path clip-path=\"url(#pda75ba4789)\" d=\"M 380.664529 224.64 \r\nL 387.911282 224.64 \r\nL 387.911282 224.64 \r\nL 380.664529 224.64 \r\nz\r\n\" style=\"fill:#1f77b4;stroke:#ffffff;stroke-linejoin:miter;\"/>\r\n   </g>\r\n   <g id=\"patch_48\">\r\n    <path clip-path=\"url(#pda75ba4789)\" d=\"M 387.911282 224.64 \r\nL 395.158036 224.64 \r\nL 395.158036 224.64 \r\nL 387.911282 224.64 \r\nz\r\n\" style=\"fill:#1f77b4;stroke:#ffffff;stroke-linejoin:miter;\"/>\r\n   </g>\r\n   <g id=\"patch_49\">\r\n    <path clip-path=\"url(#pda75ba4789)\" d=\"M 395.158036 224.64 \r\nL 402.404789 224.64 \r\nL 402.404789 224.64 \r\nL 395.158036 224.64 \r\nz\r\n\" style=\"fill:#1f77b4;stroke:#ffffff;stroke-linejoin:miter;\"/>\r\n   </g>\r\n   <g id=\"patch_50\">\r\n    <path clip-path=\"url(#pda75ba4789)\" d=\"M 402.404789 224.64 \r\nL 409.651542 224.64 \r\nL 409.651542 224.64 \r\nL 402.404789 224.64 \r\nz\r\n\" style=\"fill:#1f77b4;stroke:#ffffff;stroke-linejoin:miter;\"/>\r\n   </g>\r\n   <g id=\"patch_51\">\r\n    <path clip-path=\"url(#pda75ba4789)\" d=\"M 409.651542 224.64 \r\nL 416.898295 224.64 \r\nL 416.898295 224.64 \r\nL 409.651542 224.64 \r\nz\r\n\" style=\"fill:#1f77b4;stroke:#ffffff;stroke-linejoin:miter;\"/>\r\n   </g>\r\n   <g id=\"patch_52\">\r\n    <path clip-path=\"url(#pda75ba4789)\" d=\"M 416.898295 224.64 \r\nL 424.145049 224.64 \r\nL 424.145049 224.64 \r\nL 416.898295 224.64 \r\nz\r\n\" style=\"fill:#1f77b4;stroke:#ffffff;stroke-linejoin:miter;\"/>\r\n   </g>\r\n   <g id=\"patch_53\">\r\n    <path clip-path=\"url(#pda75ba4789)\" d=\"M 424.145049 224.64 \r\nL 431.391802 224.64 \r\nL 431.391802 224.64 \r\nL 424.145049 224.64 \r\nz\r\n\" style=\"fill:#1f77b4;stroke:#ffffff;stroke-linejoin:miter;\"/>\r\n   </g>\r\n   <g id=\"patch_54\">\r\n    <path clip-path=\"url(#pda75ba4789)\" d=\"M 431.391802 224.64 \r\nL 438.638555 224.64 \r\nL 438.638555 224.64 \r\nL 431.391802 224.64 \r\nz\r\n\" style=\"fill:#1f77b4;stroke:#ffffff;stroke-linejoin:miter;\"/>\r\n   </g>\r\n   <g id=\"patch_55\">\r\n    <path clip-path=\"url(#pda75ba4789)\" d=\"M 438.638555 224.64 \r\nL 445.885308 224.64 \r\nL 445.885308 224.64 \r\nL 438.638555 224.64 \r\nz\r\n\" style=\"fill:#1f77b4;stroke:#ffffff;stroke-linejoin:miter;\"/>\r\n   </g>\r\n   <g id=\"patch_56\">\r\n    <path clip-path=\"url(#pda75ba4789)\" d=\"M 445.885308 224.64 \r\nL 453.132062 224.64 \r\nL 453.132062 224.64 \r\nL 445.885308 224.64 \r\nz\r\n\" style=\"fill:#1f77b4;stroke:#ffffff;stroke-linejoin:miter;\"/>\r\n   </g>\r\n   <g id=\"patch_57\">\r\n    <path clip-path=\"url(#pda75ba4789)\" d=\"M 453.132062 224.64 \r\nL 460.378815 224.64 \r\nL 460.378815 224.64 \r\nL 453.132062 224.64 \r\nz\r\n\" style=\"fill:#1f77b4;stroke:#ffffff;stroke-linejoin:miter;\"/>\r\n   </g>\r\n   <g id=\"patch_58\">\r\n    <path clip-path=\"url(#pda75ba4789)\" d=\"M 460.378815 224.64 \r\nL 467.625568 224.64 \r\nL 467.625568 224.64 \r\nL 460.378815 224.64 \r\nz\r\n\" style=\"fill:#1f77b4;stroke:#ffffff;stroke-linejoin:miter;\"/>\r\n   </g>\r\n   <g id=\"patch_59\">\r\n    <path clip-path=\"url(#pda75ba4789)\" d=\"M 467.625568 224.64 \r\nL 474.872321 224.64 \r\nL 474.872321 224.64 \r\nL 467.625568 224.64 \r\nz\r\n\" style=\"fill:#1f77b4;stroke:#ffffff;stroke-linejoin:miter;\"/>\r\n   </g>\r\n   <g id=\"patch_60\">\r\n    <path clip-path=\"url(#pda75ba4789)\" d=\"M 474.872321 224.64 \r\nL 482.119075 224.64 \r\nL 482.119075 224.64 \r\nL 474.872321 224.64 \r\nz\r\n\" style=\"fill:#1f77b4;stroke:#ffffff;stroke-linejoin:miter;\"/>\r\n   </g>\r\n   <g id=\"patch_61\">\r\n    <path clip-path=\"url(#pda75ba4789)\" d=\"M 482.119075 224.64 \r\nL 489.365828 224.64 \r\nL 489.365828 224.64 \r\nL 482.119075 224.64 \r\nz\r\n\" style=\"fill:#1f77b4;stroke:#ffffff;stroke-linejoin:miter;\"/>\r\n   </g>\r\n   <g id=\"patch_62\">\r\n    <path clip-path=\"url(#pda75ba4789)\" d=\"M 489.365828 224.64 \r\nL 496.612581 224.64 \r\nL 496.612581 224.64 \r\nL 489.365828 224.64 \r\nz\r\n\" style=\"fill:#1f77b4;stroke:#ffffff;stroke-linejoin:miter;\"/>\r\n   </g>\r\n   <g id=\"patch_63\">\r\n    <path clip-path=\"url(#pda75ba4789)\" d=\"M 496.612581 224.64 \r\nL 503.859334 224.64 \r\nL 503.859334 224.64 \r\nL 496.612581 224.64 \r\nz\r\n\" style=\"fill:#1f77b4;stroke:#ffffff;stroke-linejoin:miter;\"/>\r\n   </g>\r\n   <g id=\"patch_64\">\r\n    <path clip-path=\"url(#pda75ba4789)\" d=\"M 503.859334 224.64 \r\nL 511.106088 224.64 \r\nL 511.106088 224.64 \r\nL 503.859334 224.64 \r\nz\r\n\" style=\"fill:#1f77b4;stroke:#ffffff;stroke-linejoin:miter;\"/>\r\n   </g>\r\n   <g id=\"patch_65\">\r\n    <path clip-path=\"url(#pda75ba4789)\" d=\"M 511.106088 224.64 \r\nL 518.352841 224.64 \r\nL 518.352841 224.64 \r\nL 511.106088 224.64 \r\nz\r\n\" style=\"fill:#1f77b4;stroke:#ffffff;stroke-linejoin:miter;\"/>\r\n   </g>\r\n   <g id=\"patch_66\">\r\n    <path clip-path=\"url(#pda75ba4789)\" d=\"M 518.352841 224.64 \r\nL 525.599594 224.64 \r\nL 525.599594 224.64 \r\nL 518.352841 224.64 \r\nz\r\n\" style=\"fill:#1f77b4;stroke:#ffffff;stroke-linejoin:miter;\"/>\r\n   </g>\r\n   <g id=\"patch_67\">\r\n    <path clip-path=\"url(#pda75ba4789)\" d=\"M 525.599594 224.64 \r\nL 532.846347 224.64 \r\nL 532.846347 224.64 \r\nL 525.599594 224.64 \r\nz\r\n\" style=\"fill:#1f77b4;stroke:#ffffff;stroke-linejoin:miter;\"/>\r\n   </g>\r\n   <g id=\"patch_68\">\r\n    <path clip-path=\"url(#pda75ba4789)\" d=\"M 532.846347 224.64 \r\nL 540.093101 224.64 \r\nL 540.093101 224.64 \r\nL 532.846347 224.64 \r\nz\r\n\" style=\"fill:#1f77b4;stroke:#ffffff;stroke-linejoin:miter;\"/>\r\n   </g>\r\n   <g id=\"patch_69\">\r\n    <path clip-path=\"url(#pda75ba4789)\" d=\"M 540.093101 224.64 \r\nL 547.339854 224.64 \r\nL 547.339854 224.64 \r\nL 540.093101 224.64 \r\nz\r\n\" style=\"fill:#1f77b4;stroke:#ffffff;stroke-linejoin:miter;\"/>\r\n   </g>\r\n   <g id=\"patch_70\">\r\n    <path clip-path=\"url(#pda75ba4789)\" d=\"M 547.339854 224.64 \r\nL 554.586607 224.64 \r\nL 554.586607 224.64 \r\nL 547.339854 224.64 \r\nz\r\n\" style=\"fill:#1f77b4;stroke:#ffffff;stroke-linejoin:miter;\"/>\r\n   </g>\r\n   <g id=\"patch_71\">\r\n    <path clip-path=\"url(#pda75ba4789)\" d=\"M 554.586607 224.64 \r\nL 561.83336 224.64 \r\nL 561.83336 224.64 \r\nL 554.586607 224.64 \r\nz\r\n\" style=\"fill:#1f77b4;stroke:#ffffff;stroke-linejoin:miter;\"/>\r\n   </g>\r\n   <g id=\"patch_72\">\r\n    <path clip-path=\"url(#pda75ba4789)\" d=\"M 561.83336 224.64 \r\nL 569.080114 224.64 \r\nL 569.080114 224.64 \r\nL 561.83336 224.64 \r\nz\r\n\" style=\"fill:#1f77b4;stroke:#ffffff;stroke-linejoin:miter;\"/>\r\n   </g>\r\n   <g id=\"patch_73\">\r\n    <path d=\"M 36.44375 224.64 \r\nL 36.44375 7.2 \r\n\" style=\"fill:none;stroke:#262626;stroke-linecap:square;stroke-linejoin:miter;stroke-width:0.8;\"/>\r\n   </g>\r\n   <g id=\"patch_74\">\r\n    <path d=\"M 594.44375 224.64 \r\nL 594.44375 7.2 \r\n\" style=\"fill:none;stroke:#262626;stroke-linecap:square;stroke-linejoin:miter;stroke-width:0.8;\"/>\r\n   </g>\r\n   <g id=\"patch_75\">\r\n    <path d=\"M 36.44375 224.64 \r\nL 594.44375 224.64 \r\n\" style=\"fill:none;stroke:#262626;stroke-linecap:square;stroke-linejoin:miter;stroke-width:0.8;\"/>\r\n   </g>\r\n   <g id=\"patch_76\">\r\n    <path d=\"M 36.44375 7.2 \r\nL 594.44375 7.2 \r\n\" style=\"fill:none;stroke:#262626;stroke-linecap:square;stroke-linejoin:miter;stroke-width:0.8;\"/>\r\n   </g>\r\n  </g>\r\n </g>\r\n <defs>\r\n  <clipPath id=\"pda75ba4789\">\r\n   <rect height=\"217.44\" width=\"558\" x=\"36.44375\" y=\"7.2\"/>\r\n  </clipPath>\r\n </defs>\r\n</svg>\r\n",
      "image/png": "[encoded data removed]"
     },
     "metadata": {}
    }
   ],
   "source": [
    "#plot the graph of 'Total Food Amt' column\n",
    "plt.figure(figsize=(10,4))\n",
    "calories['Total Food Amt'].hist(bins=70)"
   ]
  },
  {
   "cell_type": "code",
   "execution_count": 9,
   "metadata": {},
   "outputs": [
    {
     "output_type": "execute_result",
     "data": {
      "text/plain": [
       "<matplotlib.axes._subplots.AxesSubplot at 0x1f7d6ab2730>"
      ]
     },
     "metadata": {},
     "execution_count": 9
    },
    {
     "output_type": "display_data",
     "data": {
      "text/plain": "<Figure size 720x288 with 1 Axes>",
      "image/svg+xml": "<?xml version=\"1.0\" encoding=\"utf-8\" standalone=\"no\"?>\r\n<!DOCTYPE svg PUBLIC \"-//W3C//DTD SVG 1.1//EN\"\r\n  \"http://www.w3.org/Graphics/SVG/1.1/DTD/svg11.dtd\">\r\n<!-- Created with matplotlib (https://matplotlib.org/) -->\r\n<svg height=\"247.985313pt\" version=\"1.1\" viewBox=\"0 0 596.082813 247.985313\" width=\"596.082813pt\" xmlns=\"http://www.w3.org/2000/svg\" xmlns:xlink=\"http://www.w3.org/1999/xlink\">\r\n <defs>\r\n  <style type=\"text/css\">\r\n*{stroke-linecap:butt;stroke-linejoin:round;}\r\n  </style>\r\n </defs>\r\n <g id=\"figure_1\">\r\n  <g id=\"patch_1\">\r\n   <path d=\"M 0 247.985313 \r\nL 596.082813 247.985313 \r\nL 596.082813 0 \r\nL 0 0 \r\nz\r\n\" style=\"fill:#ffffff;\"/>\r\n  </g>\r\n  <g id=\"axes_1\">\r\n   <g id=\"patch_2\">\r\n    <path d=\"M 30.882812 224.64 \r\nL 588.882812 224.64 \r\nL 588.882812 7.2 \r\nL 30.882812 7.2 \r\nz\r\n\" style=\"fill:#ffffff;\"/>\r\n   </g>\r\n   <g id=\"matplotlib.axis_1\">\r\n    <g id=\"xtick_1\">\r\n     <g id=\"line2d_1\">\r\n      <path clip-path=\"url(#pa152655b64)\" d=\"M 56.246449 224.64 \r\nL 56.246449 7.2 \r\n\" style=\"fill:none;stroke:#cccccc;stroke-linecap:round;stroke-width:0.8;\"/>\r\n     </g>\r\n     <g id=\"text_1\">\r\n      <!-- 0 -->\r\n      <defs>\r\n       <path d=\"M 4.15625 35.296875 \r\nQ 4.15625 48 6.765625 55.734375 \r\nQ 9.375 63.484375 14.515625 67.671875 \r\nQ 19.671875 71.875 27.484375 71.875 \r\nQ 33.25 71.875 37.59375 69.546875 \r\nQ 41.9375 67.234375 44.765625 62.859375 \r\nQ 47.609375 58.5 49.21875 52.21875 \r\nQ 50.828125 45.953125 50.828125 35.296875 \r\nQ 50.828125 22.703125 48.234375 14.96875 \r\nQ 45.65625 7.234375 40.5 3 \r\nQ 35.359375 -1.21875 27.484375 -1.21875 \r\nQ 17.140625 -1.21875 11.234375 6.203125 \r\nQ 4.15625 15.140625 4.15625 35.296875 \r\nz\r\nM 13.1875 35.296875 \r\nQ 13.1875 17.671875 17.3125 11.828125 \r\nQ 21.4375 6 27.484375 6 \r\nQ 33.546875 6 37.671875 11.859375 \r\nQ 41.796875 17.71875 41.796875 35.296875 \r\nQ 41.796875 52.984375 37.671875 58.78125 \r\nQ 33.546875 64.59375 27.390625 64.59375 \r\nQ 21.34375 64.59375 17.71875 59.46875 \r\nQ 13.1875 52.9375 13.1875 35.296875 \r\nz\r\n\" id=\"ArialMT-48\"/>\r\n      </defs>\r\n      <g style=\"fill:#262626;\" transform=\"translate(53.46598 238.797813)scale(0.1 -0.1)\">\r\n       <use xlink:href=\"#ArialMT-48\"/>\r\n      </g>\r\n     </g>\r\n    </g>\r\n    <g id=\"xtick_2\">\r\n     <g id=\"line2d_2\">\r\n      <path clip-path=\"url(#pa152655b64)\" d=\"M 168.723772 224.64 \r\nL 168.723772 7.2 \r\n\" style=\"fill:none;stroke:#cccccc;stroke-linecap:round;stroke-width:0.8;\"/>\r\n     </g>\r\n     <g id=\"text_2\">\r\n      <!-- 200 -->\r\n      <defs>\r\n       <path d=\"M 50.34375 8.453125 \r\nL 50.34375 0 \r\nL 3.03125 0 \r\nQ 2.9375 3.171875 4.046875 6.109375 \r\nQ 5.859375 10.9375 9.828125 15.625 \r\nQ 13.8125 20.3125 21.34375 26.46875 \r\nQ 33.015625 36.03125 37.109375 41.625 \r\nQ 41.21875 47.21875 41.21875 52.203125 \r\nQ 41.21875 57.421875 37.46875 61 \r\nQ 33.734375 64.59375 27.734375 64.59375 \r\nQ 21.390625 64.59375 17.578125 60.78125 \r\nQ 13.765625 56.984375 13.71875 50.25 \r\nL 4.6875 51.171875 \r\nQ 5.609375 61.28125 11.65625 66.578125 \r\nQ 17.71875 71.875 27.9375 71.875 \r\nQ 38.234375 71.875 44.234375 66.15625 \r\nQ 50.25 60.453125 50.25 52 \r\nQ 50.25 47.703125 48.484375 43.546875 \r\nQ 46.734375 39.40625 42.65625 34.8125 \r\nQ 38.578125 30.21875 29.109375 22.21875 \r\nQ 21.1875 15.578125 18.9375 13.203125 \r\nQ 16.703125 10.84375 15.234375 8.453125 \r\nz\r\n\" id=\"ArialMT-50\"/>\r\n      </defs>\r\n      <g style=\"fill:#262626;\" transform=\"translate(160.382366 238.797813)scale(0.1 -0.1)\">\r\n       <use xlink:href=\"#ArialMT-50\"/>\r\n       <use x=\"55.615234\" xlink:href=\"#ArialMT-48\"/>\r\n       <use x=\"111.230469\" xlink:href=\"#ArialMT-48\"/>\r\n      </g>\r\n     </g>\r\n    </g>\r\n    <g id=\"xtick_3\">\r\n     <g id=\"line2d_3\">\r\n      <path clip-path=\"url(#pa152655b64)\" d=\"M 281.201095 224.64 \r\nL 281.201095 7.2 \r\n\" style=\"fill:none;stroke:#cccccc;stroke-linecap:round;stroke-width:0.8;\"/>\r\n     </g>\r\n     <g id=\"text_3\">\r\n      <!-- 400 -->\r\n      <defs>\r\n       <path d=\"M 32.328125 0 \r\nL 32.328125 17.140625 \r\nL 1.265625 17.140625 \r\nL 1.265625 25.203125 \r\nL 33.9375 71.578125 \r\nL 41.109375 71.578125 \r\nL 41.109375 25.203125 \r\nL 50.78125 25.203125 \r\nL 50.78125 17.140625 \r\nL 41.109375 17.140625 \r\nL 41.109375 0 \r\nz\r\nM 32.328125 25.203125 \r\nL 32.328125 57.46875 \r\nL 9.90625 25.203125 \r\nz\r\n\" id=\"ArialMT-52\"/>\r\n      </defs>\r\n      <g style=\"fill:#262626;\" transform=\"translate(272.859689 238.797813)scale(0.1 -0.1)\">\r\n       <use xlink:href=\"#ArialMT-52\"/>\r\n       <use x=\"55.615234\" xlink:href=\"#ArialMT-48\"/>\r\n       <use x=\"111.230469\" xlink:href=\"#ArialMT-48\"/>\r\n      </g>\r\n     </g>\r\n    </g>\r\n    <g id=\"xtick_4\">\r\n     <g id=\"line2d_4\">\r\n      <path clip-path=\"url(#pa152655b64)\" d=\"M 393.678418 224.64 \r\nL 393.678418 7.2 \r\n\" style=\"fill:none;stroke:#cccccc;stroke-linecap:round;stroke-width:0.8;\"/>\r\n     </g>\r\n     <g id=\"text_4\">\r\n      <!-- 600 -->\r\n      <defs>\r\n       <path d=\"M 49.75 54.046875 \r\nL 41.015625 53.375 \r\nQ 39.84375 58.546875 37.703125 60.890625 \r\nQ 34.125 64.65625 28.90625 64.65625 \r\nQ 24.703125 64.65625 21.53125 62.3125 \r\nQ 17.390625 59.28125 14.984375 53.46875 \r\nQ 12.59375 47.65625 12.5 36.921875 \r\nQ 15.671875 41.75 20.265625 44.09375 \r\nQ 24.859375 46.4375 29.890625 46.4375 \r\nQ 38.671875 46.4375 44.84375 39.96875 \r\nQ 51.03125 33.5 51.03125 23.25 \r\nQ 51.03125 16.5 48.125 10.71875 \r\nQ 45.21875 4.9375 40.140625 1.859375 \r\nQ 35.0625 -1.21875 28.609375 -1.21875 \r\nQ 17.625 -1.21875 10.6875 6.859375 \r\nQ 3.765625 14.9375 3.765625 33.5 \r\nQ 3.765625 54.25 11.421875 63.671875 \r\nQ 18.109375 71.875 29.4375 71.875 \r\nQ 37.890625 71.875 43.28125 67.140625 \r\nQ 48.6875 62.40625 49.75 54.046875 \r\nz\r\nM 13.875 23.1875 \r\nQ 13.875 18.65625 15.796875 14.5 \r\nQ 17.71875 10.359375 21.1875 8.171875 \r\nQ 24.65625 6 28.46875 6 \r\nQ 34.03125 6 38.03125 10.484375 \r\nQ 42.046875 14.984375 42.046875 22.703125 \r\nQ 42.046875 30.125 38.078125 34.390625 \r\nQ 34.125 38.671875 28.125 38.671875 \r\nQ 22.171875 38.671875 18.015625 34.390625 \r\nQ 13.875 30.125 13.875 23.1875 \r\nz\r\n\" id=\"ArialMT-54\"/>\r\n      </defs>\r\n      <g style=\"fill:#262626;\" transform=\"translate(385.337012 238.797813)scale(0.1 -0.1)\">\r\n       <use xlink:href=\"#ArialMT-54\"/>\r\n       <use x=\"55.615234\" xlink:href=\"#ArialMT-48\"/>\r\n       <use x=\"111.230469\" xlink:href=\"#ArialMT-48\"/>\r\n      </g>\r\n     </g>\r\n    </g>\r\n    <g id=\"xtick_5\">\r\n     <g id=\"line2d_5\">\r\n      <path clip-path=\"url(#pa152655b64)\" d=\"M 506.155741 224.64 \r\nL 506.155741 7.2 \r\n\" style=\"fill:none;stroke:#cccccc;stroke-linecap:round;stroke-width:0.8;\"/>\r\n     </g>\r\n     <g id=\"text_5\">\r\n      <!-- 800 -->\r\n      <defs>\r\n       <path d=\"M 17.671875 38.8125 \r\nQ 12.203125 40.828125 9.5625 44.53125 \r\nQ 6.9375 48.25 6.9375 53.421875 \r\nQ 6.9375 61.234375 12.546875 66.546875 \r\nQ 18.171875 71.875 27.484375 71.875 \r\nQ 36.859375 71.875 42.578125 66.421875 \r\nQ 48.296875 60.984375 48.296875 53.171875 \r\nQ 48.296875 48.1875 45.671875 44.5 \r\nQ 43.0625 40.828125 37.75 38.8125 \r\nQ 44.34375 36.671875 47.78125 31.875 \r\nQ 51.21875 27.09375 51.21875 20.453125 \r\nQ 51.21875 11.28125 44.71875 5.03125 \r\nQ 38.234375 -1.21875 27.640625 -1.21875 \r\nQ 17.046875 -1.21875 10.546875 5.046875 \r\nQ 4.046875 11.328125 4.046875 20.703125 \r\nQ 4.046875 27.6875 7.59375 32.390625 \r\nQ 11.140625 37.109375 17.671875 38.8125 \r\nz\r\nM 15.921875 53.71875 \r\nQ 15.921875 48.640625 19.1875 45.40625 \r\nQ 22.46875 42.1875 27.6875 42.1875 \r\nQ 32.765625 42.1875 36.015625 45.375 \r\nQ 39.265625 48.578125 39.265625 53.21875 \r\nQ 39.265625 58.0625 35.90625 61.359375 \r\nQ 32.5625 64.65625 27.59375 64.65625 \r\nQ 22.5625 64.65625 19.234375 61.421875 \r\nQ 15.921875 58.203125 15.921875 53.71875 \r\nz\r\nM 13.09375 20.65625 \r\nQ 13.09375 16.890625 14.875 13.375 \r\nQ 16.65625 9.859375 20.171875 7.921875 \r\nQ 23.6875 6 27.734375 6 \r\nQ 34.03125 6 38.125 10.046875 \r\nQ 42.234375 14.109375 42.234375 20.359375 \r\nQ 42.234375 26.703125 38.015625 30.859375 \r\nQ 33.796875 35.015625 27.4375 35.015625 \r\nQ 21.234375 35.015625 17.15625 30.90625 \r\nQ 13.09375 26.8125 13.09375 20.65625 \r\nz\r\n\" id=\"ArialMT-56\"/>\r\n      </defs>\r\n      <g style=\"fill:#262626;\" transform=\"translate(497.814335 238.797813)scale(0.1 -0.1)\">\r\n       <use xlink:href=\"#ArialMT-56\"/>\r\n       <use x=\"55.615234\" xlink:href=\"#ArialMT-48\"/>\r\n       <use x=\"111.230469\" xlink:href=\"#ArialMT-48\"/>\r\n      </g>\r\n     </g>\r\n    </g>\r\n   </g>\r\n   <g id=\"matplotlib.axis_2\">\r\n    <g id=\"ytick_1\">\r\n     <g id=\"line2d_6\">\r\n      <path clip-path=\"url(#pa152655b64)\" d=\"M 30.882812 224.64 \r\nL 588.882812 224.64 \r\n\" style=\"fill:none;stroke:#cccccc;stroke-linecap:round;stroke-width:0.8;\"/>\r\n     </g>\r\n     <g id=\"text_6\">\r\n      <!-- 0 -->\r\n      <g style=\"fill:#262626;\" transform=\"translate(18.321875 228.218906)scale(0.1 -0.1)\">\r\n       <use xlink:href=\"#ArialMT-48\"/>\r\n      </g>\r\n     </g>\r\n    </g>\r\n    <g id=\"ytick_2\">\r\n     <g id=\"line2d_7\">\r\n      <path clip-path=\"url(#pa152655b64)\" d=\"M 30.882812 192.181424 \r\nL 588.882812 192.181424 \r\n\" style=\"fill:none;stroke:#cccccc;stroke-linecap:round;stroke-width:0.8;\"/>\r\n     </g>\r\n     <g id=\"text_7\">\r\n      <!-- 50 -->\r\n      <defs>\r\n       <path d=\"M 4.15625 18.75 \r\nL 13.375 19.53125 \r\nQ 14.40625 12.796875 18.140625 9.390625 \r\nQ 21.875 6 27.15625 6 \r\nQ 33.5 6 37.890625 10.78125 \r\nQ 42.28125 15.578125 42.28125 23.484375 \r\nQ 42.28125 31 38.0625 35.34375 \r\nQ 33.84375 39.703125 27 39.703125 \r\nQ 22.75 39.703125 19.328125 37.765625 \r\nQ 15.921875 35.84375 13.96875 32.765625 \r\nL 5.71875 33.84375 \r\nL 12.640625 70.609375 \r\nL 48.25 70.609375 \r\nL 48.25 62.203125 \r\nL 19.671875 62.203125 \r\nL 15.828125 42.96875 \r\nQ 22.265625 47.46875 29.34375 47.46875 \r\nQ 38.71875 47.46875 45.15625 40.96875 \r\nQ 51.609375 34.46875 51.609375 24.265625 \r\nQ 51.609375 14.546875 45.953125 7.46875 \r\nQ 39.0625 -1.21875 27.15625 -1.21875 \r\nQ 17.390625 -1.21875 11.203125 4.25 \r\nQ 5.03125 9.71875 4.15625 18.75 \r\nz\r\n\" id=\"ArialMT-53\"/>\r\n      </defs>\r\n      <g style=\"fill:#262626;\" transform=\"translate(12.760937 195.76033)scale(0.1 -0.1)\">\r\n       <use xlink:href=\"#ArialMT-53\"/>\r\n       <use x=\"55.615234\" xlink:href=\"#ArialMT-48\"/>\r\n      </g>\r\n     </g>\r\n    </g>\r\n    <g id=\"ytick_3\">\r\n     <g id=\"line2d_8\">\r\n      <path clip-path=\"url(#pa152655b64)\" d=\"M 30.882812 159.722848 \r\nL 588.882812 159.722848 \r\n\" style=\"fill:none;stroke:#cccccc;stroke-linecap:round;stroke-width:0.8;\"/>\r\n     </g>\r\n     <g id=\"text_8\">\r\n      <!-- 100 -->\r\n      <defs>\r\n       <path d=\"M 37.25 0 \r\nL 28.46875 0 \r\nL 28.46875 56 \r\nQ 25.296875 52.984375 20.140625 49.953125 \r\nQ 14.984375 46.921875 10.890625 45.40625 \r\nL 10.890625 53.90625 \r\nQ 18.265625 57.375 23.78125 62.296875 \r\nQ 29.296875 67.234375 31.59375 71.875 \r\nL 37.25 71.875 \r\nz\r\n\" id=\"ArialMT-49\"/>\r\n      </defs>\r\n      <g style=\"fill:#262626;\" transform=\"translate(7.2 163.301754)scale(0.1 -0.1)\">\r\n       <use xlink:href=\"#ArialMT-49\"/>\r\n       <use x=\"55.615234\" xlink:href=\"#ArialMT-48\"/>\r\n       <use x=\"111.230469\" xlink:href=\"#ArialMT-48\"/>\r\n      </g>\r\n     </g>\r\n    </g>\r\n    <g id=\"ytick_4\">\r\n     <g id=\"line2d_9\">\r\n      <path clip-path=\"url(#pa152655b64)\" d=\"M 30.882812 127.264272 \r\nL 588.882812 127.264272 \r\n\" style=\"fill:none;stroke:#cccccc;stroke-linecap:round;stroke-width:0.8;\"/>\r\n     </g>\r\n     <g id=\"text_9\">\r\n      <!-- 150 -->\r\n      <g style=\"fill:#262626;\" transform=\"translate(7.2 130.843179)scale(0.1 -0.1)\">\r\n       <use xlink:href=\"#ArialMT-49\"/>\r\n       <use x=\"55.615234\" xlink:href=\"#ArialMT-53\"/>\r\n       <use x=\"111.230469\" xlink:href=\"#ArialMT-48\"/>\r\n      </g>\r\n     </g>\r\n    </g>\r\n    <g id=\"ytick_5\">\r\n     <g id=\"line2d_10\">\r\n      <path clip-path=\"url(#pa152655b64)\" d=\"M 30.882812 94.805696 \r\nL 588.882812 94.805696 \r\n\" style=\"fill:none;stroke:#cccccc;stroke-linecap:round;stroke-width:0.8;\"/>\r\n     </g>\r\n     <g id=\"text_10\">\r\n      <!-- 200 -->\r\n      <g style=\"fill:#262626;\" transform=\"translate(7.2 98.384603)scale(0.1 -0.1)\">\r\n       <use xlink:href=\"#ArialMT-50\"/>\r\n       <use x=\"55.615234\" xlink:href=\"#ArialMT-48\"/>\r\n       <use x=\"111.230469\" xlink:href=\"#ArialMT-48\"/>\r\n      </g>\r\n     </g>\r\n    </g>\r\n    <g id=\"ytick_6\">\r\n     <g id=\"line2d_11\">\r\n      <path clip-path=\"url(#pa152655b64)\" d=\"M 30.882812 62.34712 \r\nL 588.882812 62.34712 \r\n\" style=\"fill:none;stroke:#cccccc;stroke-linecap:round;stroke-width:0.8;\"/>\r\n     </g>\r\n     <g id=\"text_11\">\r\n      <!-- 250 -->\r\n      <g style=\"fill:#262626;\" transform=\"translate(7.2 65.926027)scale(0.1 -0.1)\">\r\n       <use xlink:href=\"#ArialMT-50\"/>\r\n       <use x=\"55.615234\" xlink:href=\"#ArialMT-53\"/>\r\n       <use x=\"111.230469\" xlink:href=\"#ArialMT-48\"/>\r\n      </g>\r\n     </g>\r\n    </g>\r\n    <g id=\"ytick_7\">\r\n     <g id=\"line2d_12\">\r\n      <path clip-path=\"url(#pa152655b64)\" d=\"M 30.882812 29.888545 \r\nL 588.882812 29.888545 \r\n\" style=\"fill:none;stroke:#cccccc;stroke-linecap:round;stroke-width:0.8;\"/>\r\n     </g>\r\n     <g id=\"text_12\">\r\n      <!-- 300 -->\r\n      <defs>\r\n       <path d=\"M 4.203125 18.890625 \r\nL 12.984375 20.0625 \r\nQ 14.5 12.59375 18.140625 9.296875 \r\nQ 21.78125 6 27 6 \r\nQ 33.203125 6 37.46875 10.296875 \r\nQ 41.75 14.59375 41.75 20.953125 \r\nQ 41.75 27 37.796875 30.921875 \r\nQ 33.84375 34.859375 27.734375 34.859375 \r\nQ 25.25 34.859375 21.53125 33.890625 \r\nL 22.515625 41.609375 \r\nQ 23.390625 41.5 23.921875 41.5 \r\nQ 29.546875 41.5 34.03125 44.421875 \r\nQ 38.53125 47.359375 38.53125 53.46875 \r\nQ 38.53125 58.296875 35.25 61.46875 \r\nQ 31.984375 64.65625 26.8125 64.65625 \r\nQ 21.6875 64.65625 18.265625 61.421875 \r\nQ 14.84375 58.203125 13.875 51.765625 \r\nL 5.078125 53.328125 \r\nQ 6.6875 62.15625 12.390625 67.015625 \r\nQ 18.109375 71.875 26.609375 71.875 \r\nQ 32.46875 71.875 37.390625 69.359375 \r\nQ 42.328125 66.84375 44.9375 62.5 \r\nQ 47.5625 58.15625 47.5625 53.265625 \r\nQ 47.5625 48.640625 45.0625 44.828125 \r\nQ 42.578125 41.015625 37.703125 38.765625 \r\nQ 44.046875 37.3125 47.5625 32.6875 \r\nQ 51.078125 28.078125 51.078125 21.140625 \r\nQ 51.078125 11.765625 44.234375 5.25 \r\nQ 37.40625 -1.265625 26.953125 -1.265625 \r\nQ 17.53125 -1.265625 11.296875 4.34375 \r\nQ 5.078125 9.96875 4.203125 18.890625 \r\nz\r\n\" id=\"ArialMT-51\"/>\r\n      </defs>\r\n      <g style=\"fill:#262626;\" transform=\"translate(7.2 33.467451)scale(0.1 -0.1)\">\r\n       <use xlink:href=\"#ArialMT-51\"/>\r\n       <use x=\"55.615234\" xlink:href=\"#ArialMT-48\"/>\r\n       <use x=\"111.230469\" xlink:href=\"#ArialMT-48\"/>\r\n      </g>\r\n     </g>\r\n    </g>\r\n   </g>\r\n   <g id=\"patch_3\">\r\n    <path clip-path=\"url(#pa152655b64)\" d=\"M 56.246449 224.64 \r\nL 63.493202 224.64 \r\nL 63.493202 164.91622 \r\nL 56.246449 164.91622 \r\nz\r\n\" style=\"fill:#1f77b4;stroke:#ffffff;stroke-linejoin:miter;\"/>\r\n   </g>\r\n   <g id=\"patch_4\">\r\n    <path clip-path=\"url(#pa152655b64)\" d=\"M 63.493202 224.64 \r\nL 70.739955 224.64 \r\nL 70.739955 75.979722 \r\nL 63.493202 75.979722 \r\nz\r\n\" style=\"fill:#1f77b4;stroke:#ffffff;stroke-linejoin:miter;\"/>\r\n   </g>\r\n   <g id=\"patch_5\">\r\n    <path clip-path=\"url(#pa152655b64)\" d=\"M 70.739955 224.64 \r\nL 77.986709 224.64 \r\nL 77.986709 41.573632 \r\nL 70.739955 41.573632 \r\nz\r\n\" style=\"fill:#1f77b4;stroke:#ffffff;stroke-linejoin:miter;\"/>\r\n   </g>\r\n   <g id=\"patch_6\">\r\n    <path clip-path=\"url(#pa152655b64)\" d=\"M 77.986709 224.64 \r\nL 85.233462 224.64 \r\nL 85.233462 17.554286 \r\nL 77.986709 17.554286 \r\nz\r\n\" style=\"fill:#1f77b4;stroke:#ffffff;stroke-linejoin:miter;\"/>\r\n   </g>\r\n   <g id=\"patch_7\">\r\n    <path clip-path=\"url(#pa152655b64)\" d=\"M 85.233462 224.64 \r\nL 92.480215 224.64 \r\nL 92.480215 46.117833 \r\nL 85.233462 46.117833 \r\nz\r\n\" style=\"fill:#1f77b4;stroke:#ffffff;stroke-linejoin:miter;\"/>\r\n   </g>\r\n   <g id=\"patch_8\">\r\n    <path clip-path=\"url(#pa152655b64)\" d=\"M 92.480215 224.64 \r\nL 99.726968 224.64 \r\nL 99.726968 55.206234 \r\nL 92.480215 55.206234 \r\nz\r\n\" style=\"fill:#1f77b4;stroke:#ffffff;stroke-linejoin:miter;\"/>\r\n   </g>\r\n   <g id=\"patch_9\">\r\n    <path clip-path=\"url(#pa152655b64)\" d=\"M 99.726968 224.64 \r\nL 106.973722 224.64 \r\nL 106.973722 75.330551 \r\nL 99.726968 75.330551 \r\nz\r\n\" style=\"fill:#1f77b4;stroke:#ffffff;stroke-linejoin:miter;\"/>\r\n   </g>\r\n   <g id=\"patch_10\">\r\n    <path clip-path=\"url(#pa152655b64)\" d=\"M 106.973722 224.64 \r\nL 114.220475 224.64 \r\nL 114.220475 99.999069 \r\nL 106.973722 99.999069 \r\nz\r\n\" style=\"fill:#1f77b4;stroke:#ffffff;stroke-linejoin:miter;\"/>\r\n   </g>\r\n   <g id=\"patch_11\">\r\n    <path clip-path=\"url(#pa152655b64)\" d=\"M 114.220475 224.64 \r\nL 121.467228 224.64 \r\nL 121.467228 83.769781 \r\nL 114.220475 83.769781 \r\nz\r\n\" style=\"fill:#1f77b4;stroke:#ffffff;stroke-linejoin:miter;\"/>\r\n   </g>\r\n   <g id=\"patch_12\">\r\n    <path clip-path=\"url(#pa152655b64)\" d=\"M 121.467228 224.64 \r\nL 128.713981 224.64 \r\nL 128.713981 39.626117 \r\nL 121.467228 39.626117 \r\nz\r\n\" style=\"fill:#1f77b4;stroke:#ffffff;stroke-linejoin:miter;\"/>\r\n   </g>\r\n   <g id=\"patch_13\">\r\n    <path clip-path=\"url(#pa152655b64)\" d=\"M 128.713981 224.64 \r\nL 135.960735 224.64 \r\nL 135.960735 65.592978 \r\nL 128.713981 65.592978 \r\nz\r\n\" style=\"fill:#1f77b4;stroke:#ffffff;stroke-linejoin:miter;\"/>\r\n   </g>\r\n   <g id=\"patch_14\">\r\n    <path clip-path=\"url(#pa152655b64)\" d=\"M 135.960735 224.64 \r\nL 143.207488 224.64 \r\nL 143.207488 72.084693 \r\nL 135.960735 72.084693 \r\nz\r\n\" style=\"fill:#1f77b4;stroke:#ffffff;stroke-linejoin:miter;\"/>\r\n   </g>\r\n   <g id=\"patch_15\">\r\n    <path clip-path=\"url(#pa152655b64)\" d=\"M 143.207488 224.64 \r\nL 150.454241 224.64 \r\nL 150.454241 68.838836 \r\nL 143.207488 68.838836 \r\nz\r\n\" style=\"fill:#1f77b4;stroke:#ffffff;stroke-linejoin:miter;\"/>\r\n   </g>\r\n   <g id=\"patch_16\">\r\n    <path clip-path=\"url(#pa152655b64)\" d=\"M 150.454241 224.64 \r\nL 157.700994 224.64 \r\nL 157.700994 90.910667 \r\nL 150.454241 90.910667 \r\nz\r\n\" style=\"fill:#1f77b4;stroke:#ffffff;stroke-linejoin:miter;\"/>\r\n   </g>\r\n   <g id=\"patch_17\">\r\n    <path clip-path=\"url(#pa152655b64)\" d=\"M 157.700994 224.64 \r\nL 164.947748 224.64 \r\nL 164.947748 98.051554 \r\nL 157.700994 98.051554 \r\nz\r\n\" style=\"fill:#1f77b4;stroke:#ffffff;stroke-linejoin:miter;\"/>\r\n   </g>\r\n   <g id=\"patch_18\">\r\n    <path clip-path=\"url(#pa152655b64)\" d=\"M 164.947748 224.64 \r\nL 172.194501 224.64 \r\nL 172.194501 83.120609 \r\nL 164.947748 83.120609 \r\nz\r\n\" style=\"fill:#1f77b4;stroke:#ffffff;stroke-linejoin:miter;\"/>\r\n   </g>\r\n   <g id=\"patch_19\">\r\n    <path clip-path=\"url(#pa152655b64)\" d=\"M 172.194501 224.64 \r\nL 179.441254 224.64 \r\nL 179.441254 109.736641 \r\nL 172.194501 109.736641 \r\nz\r\n\" style=\"fill:#1f77b4;stroke:#ffffff;stroke-linejoin:miter;\"/>\r\n   </g>\r\n   <g id=\"patch_20\">\r\n    <path clip-path=\"url(#pa152655b64)\" d=\"M 179.441254 224.64 \r\nL 186.688007 224.64 \r\nL 186.688007 127.264272 \r\nL 179.441254 127.264272 \r\nz\r\n\" style=\"fill:#1f77b4;stroke:#ffffff;stroke-linejoin:miter;\"/>\r\n   </g>\r\n   <g id=\"patch_21\">\r\n    <path clip-path=\"url(#pa152655b64)\" d=\"M 186.688007 224.64 \r\nL 193.934761 224.64 \r\nL 193.934761 115.579185 \r\nL 186.688007 115.579185 \r\nz\r\n\" style=\"fill:#1f77b4;stroke:#ffffff;stroke-linejoin:miter;\"/>\r\n   </g>\r\n   <g id=\"patch_22\">\r\n    <path clip-path=\"url(#pa152655b64)\" d=\"M 193.934761 224.64 \r\nL 201.181514 224.64 \r\nL 201.181514 125.965929 \r\nL 193.934761 125.965929 \r\nz\r\n\" style=\"fill:#1f77b4;stroke:#ffffff;stroke-linejoin:miter;\"/>\r\n   </g>\r\n   <g id=\"patch_23\">\r\n    <path clip-path=\"url(#pa152655b64)\" d=\"M 201.181514 224.64 \r\nL 208.428267 224.64 \r\nL 208.428267 117.5267 \r\nL 201.181514 117.5267 \r\nz\r\n\" style=\"fill:#1f77b4;stroke:#ffffff;stroke-linejoin:miter;\"/>\r\n   </g>\r\n   <g id=\"patch_24\">\r\n    <path clip-path=\"url(#pa152655b64)\" d=\"M 208.428267 224.64 \r\nL 215.67502 224.64 \r\nL 215.67502 120.772557 \r\nL 208.428267 120.772557 \r\nz\r\n\" style=\"fill:#1f77b4;stroke:#ffffff;stroke-linejoin:miter;\"/>\r\n   </g>\r\n   <g id=\"patch_25\">\r\n    <path clip-path=\"url(#pa152655b64)\" d=\"M 215.67502 224.64 \r\nL 222.921774 224.64 \r\nL 222.921774 140.896874 \r\nL 215.67502 140.896874 \r\nz\r\n\" style=\"fill:#1f77b4;stroke:#ffffff;stroke-linejoin:miter;\"/>\r\n   </g>\r\n   <g id=\"patch_26\">\r\n    <path clip-path=\"url(#pa152655b64)\" d=\"M 222.921774 224.64 \r\nL 230.168527 224.64 \r\nL 230.168527 154.529476 \r\nL 222.921774 154.529476 \r\nz\r\n\" style=\"fill:#1f77b4;stroke:#ffffff;stroke-linejoin:miter;\"/>\r\n   </g>\r\n   <g id=\"patch_27\">\r\n    <path clip-path=\"url(#pa152655b64)\" d=\"M 230.168527 224.64 \r\nL 237.41528 224.64 \r\nL 237.41528 151.93279 \r\nL 230.168527 151.93279 \r\nz\r\n\" style=\"fill:#1f77b4;stroke:#ffffff;stroke-linejoin:miter;\"/>\r\n   </g>\r\n   <g id=\"patch_28\">\r\n    <path clip-path=\"url(#pa152655b64)\" d=\"M 237.41528 224.64 \r\nL 244.662033 224.64 \r\nL 244.662033 148.037761 \r\nL 237.41528 148.037761 \r\nz\r\n\" style=\"fill:#1f77b4;stroke:#ffffff;stroke-linejoin:miter;\"/>\r\n   </g>\r\n   <g id=\"patch_29\">\r\n    <path clip-path=\"url(#pa152655b64)\" d=\"M 244.662033 224.64 \r\nL 251.908787 224.64 \r\nL 251.908787 149.336104 \r\nL 244.662033 149.336104 \r\nz\r\n\" style=\"fill:#1f77b4;stroke:#ffffff;stroke-linejoin:miter;\"/>\r\n   </g>\r\n   <g id=\"patch_30\">\r\n    <path clip-path=\"url(#pa152655b64)\" d=\"M 251.908787 224.64 \r\nL 259.15554 224.64 \r\nL 259.15554 135.703502 \r\nL 251.908787 135.703502 \r\nz\r\n\" style=\"fill:#1f77b4;stroke:#ffffff;stroke-linejoin:miter;\"/>\r\n   </g>\r\n   <g id=\"patch_31\">\r\n    <path clip-path=\"url(#pa152655b64)\" d=\"M 259.15554 224.64 \r\nL 266.402293 224.64 \r\nL 266.402293 107.139955 \r\nL 259.15554 107.139955 \r\nz\r\n\" style=\"fill:#1f77b4;stroke:#ffffff;stroke-linejoin:miter;\"/>\r\n   </g>\r\n   <g id=\"patch_32\">\r\n    <path clip-path=\"url(#pa152655b64)\" d=\"M 266.402293 224.64 \r\nL 273.649046 224.64 \r\nL 273.649046 114.930013 \r\nL 266.402293 114.930013 \r\nz\r\n\" style=\"fill:#1f77b4;stroke:#ffffff;stroke-linejoin:miter;\"/>\r\n   </g>\r\n   <g id=\"patch_33\">\r\n    <path clip-path=\"url(#pa152655b64)\" d=\"M 273.649046 224.64 \r\nL 280.8958 224.64 \r\nL 280.8958 133.106816 \r\nL 273.649046 133.106816 \r\nz\r\n\" style=\"fill:#1f77b4;stroke:#ffffff;stroke-linejoin:miter;\"/>\r\n   </g>\r\n   <g id=\"patch_34\">\r\n    <path clip-path=\"url(#pa152655b64)\" d=\"M 280.8958 224.64 \r\nL 288.142553 224.64 \r\nL 288.142553 162.319534 \r\nL 280.8958 162.319534 \r\nz\r\n\" style=\"fill:#1f77b4;stroke:#ffffff;stroke-linejoin:miter;\"/>\r\n   </g>\r\n   <g id=\"patch_35\">\r\n    <path clip-path=\"url(#pa152655b64)\" d=\"M 288.142553 224.64 \r\nL 295.389306 224.64 \r\nL 295.389306 181.145508 \r\nL 288.142553 181.145508 \r\nz\r\n\" style=\"fill:#1f77b4;stroke:#ffffff;stroke-linejoin:miter;\"/>\r\n   </g>\r\n   <g id=\"patch_36\">\r\n    <path clip-path=\"url(#pa152655b64)\" d=\"M 295.389306 224.64 \r\nL 302.636059 224.64 \r\nL 302.636059 190.883081 \r\nL 295.389306 190.883081 \r\nz\r\n\" style=\"fill:#1f77b4;stroke:#ffffff;stroke-linejoin:miter;\"/>\r\n   </g>\r\n   <g id=\"patch_37\">\r\n    <path clip-path=\"url(#pa152655b64)\" d=\"M 302.636059 224.64 \r\nL 309.882812 224.64 \r\nL 309.882812 195.427282 \r\nL 302.636059 195.427282 \r\nz\r\n\" style=\"fill:#1f77b4;stroke:#ffffff;stroke-linejoin:miter;\"/>\r\n   </g>\r\n   <g id=\"patch_38\">\r\n    <path clip-path=\"url(#pa152655b64)\" d=\"M 309.882812 224.64 \r\nL 317.129566 224.64 \r\nL 317.129566 182.443851 \r\nL 309.882812 182.443851 \r\nz\r\n\" style=\"fill:#1f77b4;stroke:#ffffff;stroke-linejoin:miter;\"/>\r\n   </g>\r\n   <g id=\"patch_39\">\r\n    <path clip-path=\"url(#pa152655b64)\" d=\"M 317.129566 224.64 \r\nL 324.376319 224.64 \r\nL 324.376319 170.109592 \r\nL 317.129566 170.109592 \r\nz\r\n\" style=\"fill:#1f77b4;stroke:#ffffff;stroke-linejoin:miter;\"/>\r\n   </g>\r\n   <g id=\"patch_40\">\r\n    <path clip-path=\"url(#pa152655b64)\" d=\"M 324.376319 224.64 \r\nL 331.623072 224.64 \r\nL 331.623072 177.250479 \r\nL 324.376319 177.250479 \r\nz\r\n\" style=\"fill:#1f77b4;stroke:#ffffff;stroke-linejoin:miter;\"/>\r\n   </g>\r\n   <g id=\"patch_41\">\r\n    <path clip-path=\"url(#pa152655b64)\" d=\"M 331.623072 224.64 \r\nL 338.869825 224.64 \r\nL 338.869825 174.004622 \r\nL 331.623072 174.004622 \r\nz\r\n\" style=\"fill:#1f77b4;stroke:#ffffff;stroke-linejoin:miter;\"/>\r\n   </g>\r\n   <g id=\"patch_42\">\r\n    <path clip-path=\"url(#pa152655b64)\" d=\"M 338.869825 224.64 \r\nL 346.116579 224.64 \r\nL 346.116579 181.145508 \r\nL 338.869825 181.145508 \r\nz\r\n\" style=\"fill:#1f77b4;stroke:#ffffff;stroke-linejoin:miter;\"/>\r\n   </g>\r\n   <g id=\"patch_43\">\r\n    <path clip-path=\"url(#pa152655b64)\" d=\"M 346.116579 224.64 \r\nL 353.363332 224.64 \r\nL 353.363332 191.532253 \r\nL 346.116579 191.532253 \r\nz\r\n\" style=\"fill:#1f77b4;stroke:#ffffff;stroke-linejoin:miter;\"/>\r\n   </g>\r\n   <g id=\"patch_44\">\r\n    <path clip-path=\"url(#pa152655b64)\" d=\"M 353.363332 224.64 \r\nL 360.610085 224.64 \r\nL 360.610085 197.374796 \r\nL 353.363332 197.374796 \r\nz\r\n\" style=\"fill:#1f77b4;stroke:#ffffff;stroke-linejoin:miter;\"/>\r\n   </g>\r\n   <g id=\"patch_45\">\r\n    <path clip-path=\"url(#pa152655b64)\" d=\"M 360.610085 224.64 \r\nL 367.856838 224.64 \r\nL 367.856838 212.954913 \r\nL 360.610085 212.954913 \r\nz\r\n\" style=\"fill:#1f77b4;stroke:#ffffff;stroke-linejoin:miter;\"/>\r\n   </g>\r\n   <g id=\"patch_46\">\r\n    <path clip-path=\"url(#pa152655b64)\" d=\"M 367.856838 224.64 \r\nL 375.103592 224.64 \r\nL 375.103592 213.604084 \r\nL 367.856838 213.604084 \r\nz\r\n\" style=\"fill:#1f77b4;stroke:#ffffff;stroke-linejoin:miter;\"/>\r\n   </g>\r\n   <g id=\"patch_47\">\r\n    <path clip-path=\"url(#pa152655b64)\" d=\"M 375.103592 224.64 \r\nL 382.350345 224.64 \r\nL 382.350345 209.709055 \r\nL 375.103592 209.709055 \r\nz\r\n\" style=\"fill:#1f77b4;stroke:#ffffff;stroke-linejoin:miter;\"/>\r\n   </g>\r\n   <g id=\"patch_48\">\r\n    <path clip-path=\"url(#pa152655b64)\" d=\"M 382.350345 224.64 \r\nL 389.597098 224.64 \r\nL 389.597098 209.059884 \r\nL 382.350345 209.059884 \r\nz\r\n\" style=\"fill:#1f77b4;stroke:#ffffff;stroke-linejoin:miter;\"/>\r\n   </g>\r\n   <g id=\"patch_49\">\r\n    <path clip-path=\"url(#pa152655b64)\" d=\"M 389.597098 224.64 \r\nL 396.843851 224.64 \r\nL 396.843851 215.551599 \r\nL 389.597098 215.551599 \r\nz\r\n\" style=\"fill:#1f77b4;stroke:#ffffff;stroke-linejoin:miter;\"/>\r\n   </g>\r\n   <g id=\"patch_50\">\r\n    <path clip-path=\"url(#pa152655b64)\" d=\"M 396.843851 224.64 \r\nL 404.090605 224.64 \r\nL 404.090605 214.253256 \r\nL 396.843851 214.253256 \r\nz\r\n\" style=\"fill:#1f77b4;stroke:#ffffff;stroke-linejoin:miter;\"/>\r\n   </g>\r\n   <g id=\"patch_51\">\r\n    <path clip-path=\"url(#pa152655b64)\" d=\"M 404.090605 224.64 \r\nL 411.337358 224.64 \r\nL 411.337358 216.849942 \r\nL 404.090605 216.849942 \r\nz\r\n\" style=\"fill:#1f77b4;stroke:#ffffff;stroke-linejoin:miter;\"/>\r\n   </g>\r\n   <g id=\"patch_52\">\r\n    <path clip-path=\"url(#pa152655b64)\" d=\"M 411.337358 224.64 \r\nL 418.584111 224.64 \r\nL 418.584111 220.095799 \r\nL 411.337358 220.095799 \r\nz\r\n\" style=\"fill:#1f77b4;stroke:#ffffff;stroke-linejoin:miter;\"/>\r\n   </g>\r\n   <g id=\"patch_53\">\r\n    <path clip-path=\"url(#pa152655b64)\" d=\"M 418.584111 224.64 \r\nL 425.830864 224.64 \r\nL 425.830864 221.394142 \r\nL 418.584111 221.394142 \r\nz\r\n\" style=\"fill:#1f77b4;stroke:#ffffff;stroke-linejoin:miter;\"/>\r\n   </g>\r\n   <g id=\"patch_54\">\r\n    <path clip-path=\"url(#pa152655b64)\" d=\"M 425.830864 224.64 \r\nL 433.077618 224.64 \r\nL 433.077618 222.692485 \r\nL 425.830864 222.692485 \r\nz\r\n\" style=\"fill:#1f77b4;stroke:#ffffff;stroke-linejoin:miter;\"/>\r\n   </g>\r\n   <g id=\"patch_55\">\r\n    <path clip-path=\"url(#pa152655b64)\" d=\"M 433.077618 224.64 \r\nL 440.324371 224.64 \r\nL 440.324371 220.744971 \r\nL 433.077618 220.744971 \r\nz\r\n\" style=\"fill:#1f77b4;stroke:#ffffff;stroke-linejoin:miter;\"/>\r\n   </g>\r\n   <g id=\"patch_56\">\r\n    <path clip-path=\"url(#pa152655b64)\" d=\"M 440.324371 224.64 \r\nL 447.571124 224.64 \r\nL 447.571124 222.043314 \r\nL 440.324371 222.043314 \r\nz\r\n\" style=\"fill:#1f77b4;stroke:#ffffff;stroke-linejoin:miter;\"/>\r\n   </g>\r\n   <g id=\"patch_57\">\r\n    <path clip-path=\"url(#pa152655b64)\" d=\"M 447.571124 224.64 \r\nL 454.817877 224.64 \r\nL 454.817877 223.990828 \r\nL 447.571124 223.990828 \r\nz\r\n\" style=\"fill:#1f77b4;stroke:#ffffff;stroke-linejoin:miter;\"/>\r\n   </g>\r\n   <g id=\"patch_58\">\r\n    <path clip-path=\"url(#pa152655b64)\" d=\"M 454.817877 224.64 \r\nL 462.064631 224.64 \r\nL 462.064631 212.305741 \r\nL 454.817877 212.305741 \r\nz\r\n\" style=\"fill:#1f77b4;stroke:#ffffff;stroke-linejoin:miter;\"/>\r\n   </g>\r\n   <g id=\"patch_59\">\r\n    <path clip-path=\"url(#pa152655b64)\" d=\"M 462.064631 224.64 \r\nL 469.311384 224.64 \r\nL 469.311384 222.692485 \r\nL 462.064631 222.692485 \r\nz\r\n\" style=\"fill:#1f77b4;stroke:#ffffff;stroke-linejoin:miter;\"/>\r\n   </g>\r\n   <g id=\"patch_60\">\r\n    <path clip-path=\"url(#pa152655b64)\" d=\"M 469.311384 224.64 \r\nL 476.558137 224.64 \r\nL 476.558137 224.64 \r\nL 469.311384 224.64 \r\nz\r\n\" style=\"fill:#1f77b4;stroke:#ffffff;stroke-linejoin:miter;\"/>\r\n   </g>\r\n   <g id=\"patch_61\">\r\n    <path clip-path=\"url(#pa152655b64)\" d=\"M 476.558137 224.64 \r\nL 483.80489 224.64 \r\nL 483.80489 223.990828 \r\nL 476.558137 223.990828 \r\nz\r\n\" style=\"fill:#1f77b4;stroke:#ffffff;stroke-linejoin:miter;\"/>\r\n   </g>\r\n   <g id=\"patch_62\">\r\n    <path clip-path=\"url(#pa152655b64)\" d=\"M 483.80489 224.64 \r\nL 491.051644 224.64 \r\nL 491.051644 224.64 \r\nL 483.80489 224.64 \r\nz\r\n\" style=\"fill:#1f77b4;stroke:#ffffff;stroke-linejoin:miter;\"/>\r\n   </g>\r\n   <g id=\"patch_63\">\r\n    <path clip-path=\"url(#pa152655b64)\" d=\"M 491.051644 224.64 \r\nL 498.298397 224.64 \r\nL 498.298397 223.990828 \r\nL 491.051644 223.990828 \r\nz\r\n\" style=\"fill:#1f77b4;stroke:#ffffff;stroke-linejoin:miter;\"/>\r\n   </g>\r\n   <g id=\"patch_64\">\r\n    <path clip-path=\"url(#pa152655b64)\" d=\"M 498.298397 224.64 \r\nL 505.54515 224.64 \r\nL 505.54515 223.990828 \r\nL 498.298397 223.990828 \r\nz\r\n\" style=\"fill:#1f77b4;stroke:#ffffff;stroke-linejoin:miter;\"/>\r\n   </g>\r\n   <g id=\"patch_65\">\r\n    <path clip-path=\"url(#pa152655b64)\" d=\"M 505.54515 224.64 \r\nL 512.791903 224.64 \r\nL 512.791903 224.64 \r\nL 505.54515 224.64 \r\nz\r\n\" style=\"fill:#1f77b4;stroke:#ffffff;stroke-linejoin:miter;\"/>\r\n   </g>\r\n   <g id=\"patch_66\">\r\n    <path clip-path=\"url(#pa152655b64)\" d=\"M 512.791903 224.64 \r\nL 520.038657 224.64 \r\nL 520.038657 223.990828 \r\nL 512.791903 223.990828 \r\nz\r\n\" style=\"fill:#1f77b4;stroke:#ffffff;stroke-linejoin:miter;\"/>\r\n   </g>\r\n   <g id=\"patch_67\">\r\n    <path clip-path=\"url(#pa152655b64)\" d=\"M 520.038657 224.64 \r\nL 527.28541 224.64 \r\nL 527.28541 224.64 \r\nL 520.038657 224.64 \r\nz\r\n\" style=\"fill:#1f77b4;stroke:#ffffff;stroke-linejoin:miter;\"/>\r\n   </g>\r\n   <g id=\"patch_68\">\r\n    <path clip-path=\"url(#pa152655b64)\" d=\"M 527.28541 224.64 \r\nL 534.532163 224.64 \r\nL 534.532163 223.990828 \r\nL 527.28541 223.990828 \r\nz\r\n\" style=\"fill:#1f77b4;stroke:#ffffff;stroke-linejoin:miter;\"/>\r\n   </g>\r\n   <g id=\"patch_69\">\r\n    <path clip-path=\"url(#pa152655b64)\" d=\"M 534.532163 224.64 \r\nL 541.778916 224.64 \r\nL 541.778916 222.692485 \r\nL 534.532163 222.692485 \r\nz\r\n\" style=\"fill:#1f77b4;stroke:#ffffff;stroke-linejoin:miter;\"/>\r\n   </g>\r\n   <g id=\"patch_70\">\r\n    <path clip-path=\"url(#pa152655b64)\" d=\"M 541.778916 224.64 \r\nL 549.02567 224.64 \r\nL 549.02567 224.64 \r\nL 541.778916 224.64 \r\nz\r\n\" style=\"fill:#1f77b4;stroke:#ffffff;stroke-linejoin:miter;\"/>\r\n   </g>\r\n   <g id=\"patch_71\">\r\n    <path clip-path=\"url(#pa152655b64)\" d=\"M 549.02567 224.64 \r\nL 556.272423 224.64 \r\nL 556.272423 180.496337 \r\nL 549.02567 180.496337 \r\nz\r\n\" style=\"fill:#1f77b4;stroke:#ffffff;stroke-linejoin:miter;\"/>\r\n   </g>\r\n   <g id=\"patch_72\">\r\n    <path clip-path=\"url(#pa152655b64)\" d=\"M 556.272423 224.64 \r\nL 563.519176 224.64 \r\nL 563.519176 210.358227 \r\nL 556.272423 210.358227 \r\nz\r\n\" style=\"fill:#1f77b4;stroke:#ffffff;stroke-linejoin:miter;\"/>\r\n   </g>\r\n   <g id=\"patch_73\">\r\n    <path d=\"M 30.882812 224.64 \r\nL 30.882812 7.2 \r\n\" style=\"fill:none;stroke:#262626;stroke-linecap:square;stroke-linejoin:miter;stroke-width:0.8;\"/>\r\n   </g>\r\n   <g id=\"patch_74\">\r\n    <path d=\"M 588.882812 224.64 \r\nL 588.882812 7.2 \r\n\" style=\"fill:none;stroke:#262626;stroke-linecap:square;stroke-linejoin:miter;stroke-width:0.8;\"/>\r\n   </g>\r\n   <g id=\"patch_75\">\r\n    <path d=\"M 30.882812 224.64 \r\nL 588.882812 224.64 \r\n\" style=\"fill:none;stroke:#262626;stroke-linecap:square;stroke-linejoin:miter;stroke-width:0.8;\"/>\r\n   </g>\r\n   <g id=\"patch_76\">\r\n    <path d=\"M 30.882812 7.2 \r\nL 588.882812 7.2 \r\n\" style=\"fill:none;stroke:#262626;stroke-linecap:square;stroke-linejoin:miter;stroke-width:0.8;\"/>\r\n   </g>\r\n  </g>\r\n </g>\r\n <defs>\r\n  <clipPath id=\"pa152655b64\">\r\n   <rect height=\"217.44\" width=\"558\" x=\"30.882812\" y=\"7.2\"/>\r\n  </clipPath>\r\n </defs>\r\n</svg>\r\n",
      "image/png": "[encoded data removed]"
     },
     "metadata": {}
    }
   ],
   "source": [
    "#plot the graph of 'Energy_kcal' column\n",
    "plt.figure(figsize=(10,4))\n",
    "calories['Energy_kcal'].hist(bins=70)"
   ]
  },
  {
   "cell_type": "code",
   "execution_count": 10,
   "metadata": {},
   "outputs": [
    {
     "output_type": "execute_result",
     "data": {
      "text/plain": [
       "FoodGroup                                           American Indian/Alaska Native Foods  \\\n",
       "Descrip                                                                                   \n",
       "APPLEBEE'S, 9 oz house sirloin steak                                                NaN   \n",
       "APPLEBEE'S, Double Crunch Shrimp                                                    NaN   \n",
       "APPLEBEE'S, KRAFT, Macaroni & Cheese, from kid'...                                  NaN   \n",
       "APPLEBEE'S, chili                                                                   NaN   \n",
       "APPLEBEE'S, coleslaw                                                                NaN   \n",
       "APPLEBEE'S, crunchy onion rings                                                     NaN   \n",
       "APPLEBEE'S, mozzarella sticks                                                       NaN   \n",
       "ARCHWAY Home Style Cookies, Chocolate Chip Ice Box                                  NaN   \n",
       "ARCHWAY Home Style Cookies, Coconut Macaroon                                        NaN   \n",
       "ARCHWAY Home Style Cookies, Date Filled Oatmeal                                     NaN   \n",
       "\n",
       "FoodGroup                                           Baby Foods  \\\n",
       "Descrip                                                          \n",
       "APPLEBEE'S, 9 oz house sirloin steak                       NaN   \n",
       "APPLEBEE'S, Double Crunch Shrimp                           NaN   \n",
       "APPLEBEE'S, KRAFT, Macaroni & Cheese, from kid'...         NaN   \n",
       "APPLEBEE'S, chili                                          NaN   \n",
       "APPLEBEE'S, coleslaw                                       NaN   \n",
       "APPLEBEE'S, crunchy onion rings                            NaN   \n",
       "APPLEBEE'S, mozzarella sticks                              NaN   \n",
       "ARCHWAY Home Style Cookies, Chocolate Chip Ice Box         NaN   \n",
       "ARCHWAY Home Style Cookies, Coconut Macaroon               NaN   \n",
       "ARCHWAY Home Style Cookies, Date Filled Oatmeal            NaN   \n",
       "\n",
       "FoodGroup                                           Baked Products  \\\n",
       "Descrip                                                              \n",
       "APPLEBEE'S, 9 oz house sirloin steak                           NaN   \n",
       "APPLEBEE'S, Double Crunch Shrimp                               NaN   \n",
       "APPLEBEE'S, KRAFT, Macaroni & Cheese, from kid'...             NaN   \n",
       "APPLEBEE'S, chili                                              NaN   \n",
       "APPLEBEE'S, coleslaw                                           NaN   \n",
       "APPLEBEE'S, crunchy onion rings                                NaN   \n",
       "APPLEBEE'S, mozzarella sticks                                  NaN   \n",
       "ARCHWAY Home Style Cookies, Chocolate Chip Ice Box           497.0   \n",
       "ARCHWAY Home Style Cookies, Coconut Macaroon                 460.0   \n",
       "ARCHWAY Home Style Cookies, Date Filled Oatmeal              400.0   \n",
       "\n",
       "FoodGroup                                           Beef Products  Beverages  \\\n",
       "Descrip                                                                        \n",
       "APPLEBEE'S, 9 oz house sirloin steak                          NaN        NaN   \n",
       "APPLEBEE'S, Double Crunch Shrimp                              NaN        NaN   \n",
       "APPLEBEE'S, KRAFT, Macaroni & Cheese, from kid'...            NaN        NaN   \n",
       "APPLEBEE'S, chili                                             NaN        NaN   \n",
       "APPLEBEE'S, coleslaw                                          NaN        NaN   \n",
       "APPLEBEE'S, crunchy onion rings                               NaN        NaN   \n",
       "APPLEBEE'S, mozzarella sticks                                 NaN        NaN   \n",
       "ARCHWAY Home Style Cookies, Chocolate Chip Ice Box            NaN        NaN   \n",
       "ARCHWAY Home Style Cookies, Coconut Macaroon                  NaN        NaN   \n",
       "ARCHWAY Home Style Cookies, Date Filled Oatmeal               NaN        NaN   \n",
       "\n",
       "FoodGroup                                           Breakfast Cereals  \\\n",
       "Descrip                                                                 \n",
       "APPLEBEE'S, 9 oz house sirloin steak                              NaN   \n",
       "APPLEBEE'S, Double Crunch Shrimp                                  NaN   \n",
       "APPLEBEE'S, KRAFT, Macaroni & Cheese, from kid'...                NaN   \n",
       "APPLEBEE'S, chili                                                 NaN   \n",
       "APPLEBEE'S, coleslaw                                              NaN   \n",
       "APPLEBEE'S, crunchy onion rings                                   NaN   \n",
       "APPLEBEE'S, mozzarella sticks                                     NaN   \n",
       "ARCHWAY Home Style Cookies, Chocolate Chip Ice Box                NaN   \n",
       "ARCHWAY Home Style Cookies, Coconut Macaroon                      NaN   \n",
       "ARCHWAY Home Style Cookies, Date Filled Oatmeal                   NaN   \n",
       "\n",
       "FoodGroup                                           Cereal Grains and Pasta  \\\n",
       "Descrip                                                                       \n",
       "APPLEBEE'S, 9 oz house sirloin steak                                    NaN   \n",
       "APPLEBEE'S, Double Crunch Shrimp                                        NaN   \n",
       "APPLEBEE'S, KRAFT, Macaroni & Cheese, from kid'...                      NaN   \n",
       "APPLEBEE'S, chili                                                       NaN   \n",
       "APPLEBEE'S, coleslaw                                                    NaN   \n",
       "APPLEBEE'S, crunchy onion rings                                         NaN   \n",
       "APPLEBEE'S, mozzarella sticks                                           NaN   \n",
       "ARCHWAY Home Style Cookies, Chocolate Chip Ice Box                      NaN   \n",
       "ARCHWAY Home Style Cookies, Coconut Macaroon                            NaN   \n",
       "ARCHWAY Home Style Cookies, Date Filled Oatmeal                         NaN   \n",
       "\n",
       "FoodGroup                                           Dairy and Egg Products  \\\n",
       "Descrip                                                                      \n",
       "APPLEBEE'S, 9 oz house sirloin steak                                   NaN   \n",
       "APPLEBEE'S, Double Crunch Shrimp                                       NaN   \n",
       "APPLEBEE'S, KRAFT, Macaroni & Cheese, from kid'...                     NaN   \n",
       "APPLEBEE'S, chili                                                      NaN   \n",
       "APPLEBEE'S, coleslaw                                                   NaN   \n",
       "APPLEBEE'S, crunchy onion rings                                        NaN   \n",
       "APPLEBEE'S, mozzarella sticks                                          NaN   \n",
       "ARCHWAY Home Style Cookies, Chocolate Chip Ice Box                     NaN   \n",
       "ARCHWAY Home Style Cookies, Coconut Macaroon                           NaN   \n",
       "ARCHWAY Home Style Cookies, Date Filled Oatmeal                        NaN   \n",
       "\n",
       "FoodGroup                                           Fast Foods  Fats and Oils  \\\n",
       "Descrip                                                                         \n",
       "APPLEBEE'S, 9 oz house sirloin steak                       NaN            NaN   \n",
       "APPLEBEE'S, Double Crunch Shrimp                           NaN            NaN   \n",
       "APPLEBEE'S, KRAFT, Macaroni & Cheese, from kid'...         NaN            NaN   \n",
       "APPLEBEE'S, chili                                          NaN            NaN   \n",
       "APPLEBEE'S, coleslaw                                       NaN            NaN   \n",
       "APPLEBEE'S, crunchy onion rings                            NaN            NaN   \n",
       "APPLEBEE'S, mozzarella sticks                              NaN            NaN   \n",
       "ARCHWAY Home Style Cookies, Chocolate Chip Ice Box         NaN            NaN   \n",
       "ARCHWAY Home Style Cookies, Coconut Macaroon               NaN            NaN   \n",
       "ARCHWAY Home Style Cookies, Date Filled Oatmeal            NaN            NaN   \n",
       "\n",
       "FoodGroup                                           ...  \\\n",
       "Descrip                                             ...   \n",
       "APPLEBEE'S, 9 oz house sirloin steak                ...   \n",
       "APPLEBEE'S, Double Crunch Shrimp                    ...   \n",
       "APPLEBEE'S, KRAFT, Macaroni & Cheese, from kid'...  ...   \n",
       "APPLEBEE'S, chili                                   ...   \n",
       "APPLEBEE'S, coleslaw                                ...   \n",
       "APPLEBEE'S, crunchy onion rings                     ...   \n",
       "APPLEBEE'S, mozzarella sticks                       ...   \n",
       "ARCHWAY Home Style Cookies, Chocolate Chip Ice Box  ...   \n",
       "ARCHWAY Home Style Cookies, Coconut Macaroon        ...   \n",
       "ARCHWAY Home Style Cookies, Date Filled Oatmeal     ...   \n",
       "\n",
       "FoodGroup                                           Nut and Seed Products  \\\n",
       "Descrip                                                                     \n",
       "APPLEBEE'S, 9 oz house sirloin steak                                  NaN   \n",
       "APPLEBEE'S, Double Crunch Shrimp                                      NaN   \n",
       "APPLEBEE'S, KRAFT, Macaroni & Cheese, from kid'...                    NaN   \n",
       "APPLEBEE'S, chili                                                     NaN   \n",
       "APPLEBEE'S, coleslaw                                                  NaN   \n",
       "APPLEBEE'S, crunchy onion rings                                       NaN   \n",
       "APPLEBEE'S, mozzarella sticks                                         NaN   \n",
       "ARCHWAY Home Style Cookies, Chocolate Chip Ice Box                    NaN   \n",
       "ARCHWAY Home Style Cookies, Coconut Macaroon                          NaN   \n",
       "ARCHWAY Home Style Cookies, Date Filled Oatmeal                       NaN   \n",
       "\n",
       "FoodGroup                                           Pork Products  \\\n",
       "Descrip                                                             \n",
       "APPLEBEE'S, 9 oz house sirloin steak                          NaN   \n",
       "APPLEBEE'S, Double Crunch Shrimp                              NaN   \n",
       "APPLEBEE'S, KRAFT, Macaroni & Cheese, from kid'...            NaN   \n",
       "APPLEBEE'S, chili                                             NaN   \n",
       "APPLEBEE'S, coleslaw                                          NaN   \n",
       "APPLEBEE'S, crunchy onion rings                               NaN   \n",
       "APPLEBEE'S, mozzarella sticks                                 NaN   \n",
       "ARCHWAY Home Style Cookies, Chocolate Chip Ice Box            NaN   \n",
       "ARCHWAY Home Style Cookies, Coconut Macaroon                  NaN   \n",
       "ARCHWAY Home Style Cookies, Date Filled Oatmeal               NaN   \n",
       "\n",
       "FoodGroup                                           Poultry Products  \\\n",
       "Descrip                                                                \n",
       "APPLEBEE'S, 9 oz house sirloin steak                             NaN   \n",
       "APPLEBEE'S, Double Crunch Shrimp                                 NaN   \n",
       "APPLEBEE'S, KRAFT, Macaroni & Cheese, from kid'...               NaN   \n",
       "APPLEBEE'S, chili                                                NaN   \n",
       "APPLEBEE'S, coleslaw                                             NaN   \n",
       "APPLEBEE'S, crunchy onion rings                                  NaN   \n",
       "APPLEBEE'S, mozzarella sticks                                    NaN   \n",
       "ARCHWAY Home Style Cookies, Chocolate Chip Ice Box               NaN   \n",
       "ARCHWAY Home Style Cookies, Coconut Macaroon                     NaN   \n",
       "ARCHWAY Home Style Cookies, Date Filled Oatmeal                  NaN   \n",
       "\n",
       "FoodGroup                                           Restaurant Foods  \\\n",
       "Descrip                                                                \n",
       "APPLEBEE'S, 9 oz house sirloin steak                           189.0   \n",
       "APPLEBEE'S, Double Crunch Shrimp                               323.0   \n",
       "APPLEBEE'S, KRAFT, Macaroni & Cheese, from kid'...             143.0   \n",
       "APPLEBEE'S, chili                                              157.0   \n",
       "APPLEBEE'S, coleslaw                                           120.0   \n",
       "APPLEBEE'S, crunchy onion rings                                356.0   \n",
       "APPLEBEE'S, mozzarella sticks                                  316.0   \n",
       "ARCHWAY Home Style Cookies, Chocolate Chip Ice Box               NaN   \n",
       "ARCHWAY Home Style Cookies, Coconut Macaroon                     NaN   \n",
       "ARCHWAY Home Style Cookies, Date Filled Oatmeal                  NaN   \n",
       "\n",
       "FoodGroup                                           Sausages and Luncheon Meats  \\\n",
       "Descrip                                                                           \n",
       "APPLEBEE'S, 9 oz house sirloin steak                                        NaN   \n",
       "APPLEBEE'S, Double Crunch Shrimp                                            NaN   \n",
       "APPLEBEE'S, KRAFT, Macaroni & Cheese, from kid'...                          NaN   \n",
       "APPLEBEE'S, chili                                                           NaN   \n",
       "APPLEBEE'S, coleslaw                                                        NaN   \n",
       "APPLEBEE'S, crunchy onion rings                                             NaN   \n",
       "APPLEBEE'S, mozzarella sticks                                               NaN   \n",
       "ARCHWAY Home Style Cookies, Chocolate Chip Ice Box                          NaN   \n",
       "ARCHWAY Home Style Cookies, Coconut Macaroon                                NaN   \n",
       "ARCHWAY Home Style Cookies, Date Filled Oatmeal                             NaN   \n",
       "\n",
       "FoodGroup                                           Snacks  \\\n",
       "Descrip                                                      \n",
       "APPLEBEE'S, 9 oz house sirloin steak                   NaN   \n",
       "APPLEBEE'S, Double Crunch Shrimp                       NaN   \n",
       "APPLEBEE'S, KRAFT, Macaroni & Cheese, from kid'...     NaN   \n",
       "APPLEBEE'S, chili                                      NaN   \n",
       "APPLEBEE'S, coleslaw                                   NaN   \n",
       "APPLEBEE'S, crunchy onion rings                        NaN   \n",
       "APPLEBEE'S, mozzarella sticks                          NaN   \n",
       "ARCHWAY Home Style Cookies, Chocolate Chip Ice Box     NaN   \n",
       "ARCHWAY Home Style Cookies, Coconut Macaroon           NaN   \n",
       "ARCHWAY Home Style Cookies, Date Filled Oatmeal        NaN   \n",
       "\n",
       "FoodGroup                                           Soups, Sauces, and Gravies  \\\n",
       "Descrip                                                                          \n",
       "APPLEBEE'S, 9 oz house sirloin steak                                       NaN   \n",
       "APPLEBEE'S, Double Crunch Shrimp                                           NaN   \n",
       "APPLEBEE'S, KRAFT, Macaroni & Cheese, from kid'...                         NaN   \n",
       "APPLEBEE'S, chili                                                          NaN   \n",
       "APPLEBEE'S, coleslaw                                                       NaN   \n",
       "APPLEBEE'S, crunchy onion rings                                            NaN   \n",
       "APPLEBEE'S, mozzarella sticks                                              NaN   \n",
       "ARCHWAY Home Style Cookies, Chocolate Chip Ice Box                         NaN   \n",
       "ARCHWAY Home Style Cookies, Coconut Macaroon                               NaN   \n",
       "ARCHWAY Home Style Cookies, Date Filled Oatmeal                            NaN   \n",
       "\n",
       "FoodGroup                                           Spices and Herbs  Sweets  \\\n",
       "Descrip                                                                        \n",
       "APPLEBEE'S, 9 oz house sirloin steak                             NaN     NaN   \n",
       "APPLEBEE'S, Double Crunch Shrimp                                 NaN     NaN   \n",
       "APPLEBEE'S, KRAFT, Macaroni & Cheese, from kid'...               NaN     NaN   \n",
       "APPLEBEE'S, chili                                                NaN     NaN   \n",
       "APPLEBEE'S, coleslaw                                             NaN     NaN   \n",
       "APPLEBEE'S, crunchy onion rings                                  NaN     NaN   \n",
       "APPLEBEE'S, mozzarella sticks                                    NaN     NaN   \n",
       "ARCHWAY Home Style Cookies, Chocolate Chip Ice Box               NaN     NaN   \n",
       "ARCHWAY Home Style Cookies, Coconut Macaroon                     NaN     NaN   \n",
       "ARCHWAY Home Style Cookies, Date Filled Oatmeal                  NaN     NaN   \n",
       "\n",
       "FoodGroup                                           Vegetables and Vegetable Products  \n",
       "Descrip                                                                                \n",
       "APPLEBEE'S, 9 oz house sirloin steak                                              NaN  \n",
       "APPLEBEE'S, Double Crunch Shrimp                                                  NaN  \n",
       "APPLEBEE'S, KRAFT, Macaroni & Cheese, from kid'...                                NaN  \n",
       "APPLEBEE'S, chili                                                                 NaN  \n",
       "APPLEBEE'S, coleslaw                                                              NaN  \n",
       "APPLEBEE'S, crunchy onion rings                                                   NaN  \n",
       "APPLEBEE'S, mozzarella sticks                                                     NaN  \n",
       "ARCHWAY Home Style Cookies, Chocolate Chip Ice Box                                NaN  \n",
       "ARCHWAY Home Style Cookies, Coconut Macaroon                                      NaN  \n",
       "ARCHWAY Home Style Cookies, Date Filled Oatmeal                                   NaN  \n",
       "\n",
       "[10 rows x 25 columns]"
      ],
      "text/html": "<div>\n<style scoped>\n    .dataframe tbody tr th:only-of-type {\n        vertical-align: middle;\n    }\n\n    .dataframe tbody tr th {\n        vertical-align: top;\n    }\n\n    .dataframe thead th {\n        text-align: right;\n    }\n</style>\n<table border=\"1\" class=\"dataframe\">\n  <thead>\n    <tr style=\"text-align: right;\">\n      <th>FoodGroup</th>\n      <th>American Indian/Alaska Native Foods</th>\n      <th>Baby Foods</th>\n      <th>Baked Products</th>\n      <th>Beef Products</th>\n      <th>Beverages</th>\n      <th>Breakfast Cereals</th>\n      <th>Cereal Grains and Pasta</th>\n      <th>Dairy and Egg Products</th>\n      <th>Fast Foods</th>\n      <th>Fats and Oils</th>\n      <th>...</th>\n      <th>Nut and Seed Products</th>\n      <th>Pork Products</th>\n      <th>Poultry Products</th>\n      <th>Restaurant Foods</th>\n      <th>Sausages and Luncheon Meats</th>\n      <th>Snacks</th>\n      <th>Soups, Sauces, and Gravies</th>\n      <th>Spices and Herbs</th>\n      <th>Sweets</th>\n      <th>Vegetables and Vegetable Products</th>\n    </tr>\n    <tr>\n      <th>Descrip</th>\n      <th></th>\n      <th></th>\n      <th></th>\n      <th></th>\n      <th></th>\n      <th></th>\n      <th></th>\n      <th></th>\n      <th></th>\n      <th></th>\n      <th></th>\n      <th></th>\n      <th></th>\n      <th></th>\n      <th></th>\n      <th></th>\n      <th></th>\n      <th></th>\n      <th></th>\n      <th></th>\n      <th></th>\n    </tr>\n  </thead>\n  <tbody>\n    <tr>\n      <th>APPLEBEE'S, 9 oz house sirloin steak</th>\n      <td>NaN</td>\n      <td>NaN</td>\n      <td>NaN</td>\n      <td>NaN</td>\n      <td>NaN</td>\n      <td>NaN</td>\n      <td>NaN</td>\n      <td>NaN</td>\n      <td>NaN</td>\n      <td>NaN</td>\n      <td>...</td>\n      <td>NaN</td>\n      <td>NaN</td>\n      <td>NaN</td>\n      <td>189.0</td>\n      <td>NaN</td>\n      <td>NaN</td>\n      <td>NaN</td>\n      <td>NaN</td>\n      <td>NaN</td>\n      <td>NaN</td>\n    </tr>\n    <tr>\n      <th>APPLEBEE'S, Double Crunch Shrimp</th>\n      <td>NaN</td>\n      <td>NaN</td>\n      <td>NaN</td>\n      <td>NaN</td>\n      <td>NaN</td>\n      <td>NaN</td>\n      <td>NaN</td>\n      <td>NaN</td>\n      <td>NaN</td>\n      <td>NaN</td>\n      <td>...</td>\n      <td>NaN</td>\n      <td>NaN</td>\n      <td>NaN</td>\n      <td>323.0</td>\n      <td>NaN</td>\n      <td>NaN</td>\n      <td>NaN</td>\n      <td>NaN</td>\n      <td>NaN</td>\n      <td>NaN</td>\n    </tr>\n    <tr>\n      <th>APPLEBEE'S, KRAFT, Macaroni &amp; Cheese, from kid's menu</th>\n      <td>NaN</td>\n      <td>NaN</td>\n      <td>NaN</td>\n      <td>NaN</td>\n      <td>NaN</td>\n      <td>NaN</td>\n      <td>NaN</td>\n      <td>NaN</td>\n      <td>NaN</td>\n      <td>NaN</td>\n      <td>...</td>\n      <td>NaN</td>\n      <td>NaN</td>\n      <td>NaN</td>\n      <td>143.0</td>\n      <td>NaN</td>\n      <td>NaN</td>\n      <td>NaN</td>\n      <td>NaN</td>\n      <td>NaN</td>\n      <td>NaN</td>\n    </tr>\n    <tr>\n      <th>APPLEBEE'S, chili</th>\n      <td>NaN</td>\n      <td>NaN</td>\n      <td>NaN</td>\n      <td>NaN</td>\n      <td>NaN</td>\n      <td>NaN</td>\n      <td>NaN</td>\n      <td>NaN</td>\n      <td>NaN</td>\n      <td>NaN</td>\n      <td>...</td>\n      <td>NaN</td>\n      <td>NaN</td>\n      <td>NaN</td>\n      <td>157.0</td>\n      <td>NaN</td>\n      <td>NaN</td>\n      <td>NaN</td>\n      <td>NaN</td>\n      <td>NaN</td>\n      <td>NaN</td>\n    </tr>\n    <tr>\n      <th>APPLEBEE'S, coleslaw</th>\n      <td>NaN</td>\n      <td>NaN</td>\n      <td>NaN</td>\n      <td>NaN</td>\n      <td>NaN</td>\n      <td>NaN</td>\n      <td>NaN</td>\n      <td>NaN</td>\n      <td>NaN</td>\n      <td>NaN</td>\n      <td>...</td>\n      <td>NaN</td>\n      <td>NaN</td>\n      <td>NaN</td>\n      <td>120.0</td>\n      <td>NaN</td>\n      <td>NaN</td>\n      <td>NaN</td>\n      <td>NaN</td>\n      <td>NaN</td>\n      <td>NaN</td>\n    </tr>\n    <tr>\n      <th>APPLEBEE'S, crunchy onion rings</th>\n      <td>NaN</td>\n      <td>NaN</td>\n      <td>NaN</td>\n      <td>NaN</td>\n      <td>NaN</td>\n      <td>NaN</td>\n      <td>NaN</td>\n      <td>NaN</td>\n      <td>NaN</td>\n      <td>NaN</td>\n      <td>...</td>\n      <td>NaN</td>\n      <td>NaN</td>\n      <td>NaN</td>\n      <td>356.0</td>\n      <td>NaN</td>\n      <td>NaN</td>\n      <td>NaN</td>\n      <td>NaN</td>\n      <td>NaN</td>\n      <td>NaN</td>\n    </tr>\n    <tr>\n      <th>APPLEBEE'S, mozzarella sticks</th>\n      <td>NaN</td>\n      <td>NaN</td>\n      <td>NaN</td>\n      <td>NaN</td>\n      <td>NaN</td>\n      <td>NaN</td>\n      <td>NaN</td>\n      <td>NaN</td>\n      <td>NaN</td>\n      <td>NaN</td>\n      <td>...</td>\n      <td>NaN</td>\n      <td>NaN</td>\n      <td>NaN</td>\n      <td>316.0</td>\n      <td>NaN</td>\n      <td>NaN</td>\n      <td>NaN</td>\n      <td>NaN</td>\n      <td>NaN</td>\n      <td>NaN</td>\n    </tr>\n    <tr>\n      <th>ARCHWAY Home Style Cookies, Chocolate Chip Ice Box</th>\n      <td>NaN</td>\n      <td>NaN</td>\n      <td>497.0</td>\n      <td>NaN</td>\n      <td>NaN</td>\n      <td>NaN</td>\n      <td>NaN</td>\n      <td>NaN</td>\n      <td>NaN</td>\n      <td>NaN</td>\n      <td>...</td>\n      <td>NaN</td>\n      <td>NaN</td>\n      <td>NaN</td>\n      <td>NaN</td>\n      <td>NaN</td>\n      <td>NaN</td>\n      <td>NaN</td>\n      <td>NaN</td>\n      <td>NaN</td>\n      <td>NaN</td>\n    </tr>\n    <tr>\n      <th>ARCHWAY Home Style Cookies, Coconut Macaroon</th>\n      <td>NaN</td>\n      <td>NaN</td>\n      <td>460.0</td>\n      <td>NaN</td>\n      <td>NaN</td>\n      <td>NaN</td>\n      <td>NaN</td>\n      <td>NaN</td>\n      <td>NaN</td>\n      <td>NaN</td>\n      <td>...</td>\n      <td>NaN</td>\n      <td>NaN</td>\n      <td>NaN</td>\n      <td>NaN</td>\n      <td>NaN</td>\n      <td>NaN</td>\n      <td>NaN</td>\n      <td>NaN</td>\n      <td>NaN</td>\n      <td>NaN</td>\n    </tr>\n    <tr>\n      <th>ARCHWAY Home Style Cookies, Date Filled Oatmeal</th>\n      <td>NaN</td>\n      <td>NaN</td>\n      <td>400.0</td>\n      <td>NaN</td>\n      <td>NaN</td>\n      <td>NaN</td>\n      <td>NaN</td>\n      <td>NaN</td>\n      <td>NaN</td>\n      <td>NaN</td>\n      <td>...</td>\n      <td>NaN</td>\n      <td>NaN</td>\n      <td>NaN</td>\n      <td>NaN</td>\n      <td>NaN</td>\n      <td>NaN</td>\n      <td>NaN</td>\n      <td>NaN</td>\n      <td>NaN</td>\n      <td>NaN</td>\n    </tr>\n  </tbody>\n</table>\n<p>10 rows × 25 columns</p>\n</div>"
     },
     "metadata": {},
     "execution_count": 10
    }
   ],
   "source": [
    "#sort the values according to the 'Total Food Amt' colum and put it in pivot\n",
    "#table\n",
    "# This one simply arranges FoodGroups and their description in a pivot table\n",
    "foodgroup = df.pivot_table(index='Descrip',columns='FoodGroup',values='Energy_kcal')\n",
    "foodgroup.head(10)"
   ]
  },
  {
   "source": [
    "## Item-based Collaborative Recommender\n",
    "\n",
    "Uses cosine similarity to generate item ratings\n",
    "\n",
    "source: [Movie Recommender System](https://github.com/berkurka/MovieRecommender/blob/master/Movie_Recommender.ipynb)"
   ],
   "cell_type": "markdown",
   "metadata": {}
  },
  {
   "source": [
    "# For this recognition system, the ratings of each food item will be based on its calories\n",
    "def calorie_based_recommender(data,calorie_amt):\n",
    "    pivot_item_based = data.pivot_table(index='Descrip',columns='FoodGroup',values='Energy_kcal')\n",
    "    sparse_pivot = sparse.csr_matrix(pivot_item_based.fillna(0))\n",
    "    recommended_itm = pw.cosine_similarity(sparse_pivot)\n",
    "    recommended_df = pd.DataFrame(recommended_itm, columns=pivot_item_based.index, index=pivot_item_based.index)\n",
    "\n",
    "    cosine_df = pd.DataFrame(recommended_df[calorie_amt].sort_values(ascending=False))\n",
    "    cosine_df.reset_index(level=0, inplace=True)\n",
    "    cosine_df.columns = ['Food','Cosine_Sim']\n",
    "    return cosine_df"
   ],
   "cell_type": "code",
   "metadata": {},
   "execution_count": 11,
   "outputs": []
  },
  {
   "cell_type": "code",
   "execution_count": 12,
   "metadata": {},
   "outputs": [],
   "source": [
    "def generate_recommendations(data,calorie_amt,top_results):\n",
    "    print(\"== Diet Recommendation ==\")\n",
    "    print(\"Food Description: \", calorie_amt)\n",
    "    print(\"Here's a list of recommended food based on the calorie intake you need per 100g of food\")\n",
    "\n",
    "    cos_sim = calorie_based_recommender(data,calorie_amt)\n",
    "    display(cos_sim[1:top_results+1])"
   ]
  },
  {
   "cell_type": "code",
   "execution_count": 13,
   "metadata": {},
   "outputs": [
    {
     "output_type": "stream",
     "name": "stdout",
     "text": [
      "== Diet Recommendation ==\nFood Description:  Yogurt, fruit, low fat, 9 grams protein per 8 ounce\nHere's a list of recommended food based on the calorie intake you need per 100g of food\n"
     ]
    },
    {
     "output_type": "display_data",
     "data": {
      "text/plain": "                                                 Food  Cosine_Sim\n1   Milk, nonfat, fluid, with added vitamin A and ...         1.0\n2                 Cheese, cottage, lowfat, 1% milkfat         1.0\n3                Cheese, cottage, creamed, with fruit         1.0\n4       Cheese, cottage, creamed, large or small curd         1.0\n5                                       Cheese, colby         1.0\n6                      Cheese, cheddar, sharp, sliced         1.0\n7                 Cheese, cheddar, nonfat or fat free         1.0\n8                                     Cheese, cheddar         1.0\n9                  Cream substitute, flavored, liquid         1.0\n10               Cream substitute, flavored, powdered         1.0",
      "text/html": "<div>\n<style scoped>\n    .dataframe tbody tr th:only-of-type {\n        vertical-align: middle;\n    }\n\n    .dataframe tbody tr th {\n        vertical-align: top;\n    }\n\n    .dataframe thead th {\n        text-align: right;\n    }\n</style>\n<table border=\"1\" class=\"dataframe\">\n  <thead>\n    <tr style=\"text-align: right;\">\n      <th></th>\n      <th>Food</th>\n      <th>Cosine_Sim</th>\n    </tr>\n  </thead>\n  <tbody>\n    <tr>\n      <th>1</th>\n      <td>Milk, nonfat, fluid, with added vitamin A and ...</td>\n      <td>1.0</td>\n    </tr>\n    <tr>\n      <th>2</th>\n      <td>Cheese, cottage, lowfat, 1% milkfat</td>\n      <td>1.0</td>\n    </tr>\n    <tr>\n      <th>3</th>\n      <td>Cheese, cottage, creamed, with fruit</td>\n      <td>1.0</td>\n    </tr>\n    <tr>\n      <th>4</th>\n      <td>Cheese, cottage, creamed, large or small curd</td>\n      <td>1.0</td>\n    </tr>\n    <tr>\n      <th>5</th>\n      <td>Cheese, colby</td>\n      <td>1.0</td>\n    </tr>\n    <tr>\n      <th>6</th>\n      <td>Cheese, cheddar, sharp, sliced</td>\n      <td>1.0</td>\n    </tr>\n    <tr>\n      <th>7</th>\n      <td>Cheese, cheddar, nonfat or fat free</td>\n      <td>1.0</td>\n    </tr>\n    <tr>\n      <th>8</th>\n      <td>Cheese, cheddar</td>\n      <td>1.0</td>\n    </tr>\n    <tr>\n      <th>9</th>\n      <td>Cream substitute, flavored, liquid</td>\n      <td>1.0</td>\n    </tr>\n    <tr>\n      <th>10</th>\n      <td>Cream substitute, flavored, powdered</td>\n      <td>1.0</td>\n    </tr>\n  </tbody>\n</table>\n</div>"
     },
     "metadata": {}
    }
   ],
   "source": [
    "generate_recommendations(df,'Yogurt, fruit, low fat, 9 grams protein per 8 ounce',10)"
   ]
  },
  {
   "source": [
    "We think the reason as to why the cosine similarity results to values of either 1 or 0 only is due to the calorie values being closely related in value and that other products having a significantly different (higher or lower) in value in terms of similarity."
   ],
   "cell_type": "markdown",
   "metadata": {}
  },
  {
   "source": [
    "## User-Based Recommendations"
   ],
   "cell_type": "markdown",
   "metadata": {}
  },
  {
   "cell_type": "code",
   "execution_count": 14,
   "metadata": {},
   "outputs": [
    {
     "output_type": "execute_result",
     "data": {
      "text/plain": [
       "                                     Energy_kcal\n",
       "FoodGroup                                       \n",
       "Vegetables and Vegetable Products      63.572948\n",
       "Soups, Sauces, and Gravies             77.346369\n",
       "Fruits and Fruit Juices                85.879725\n",
       "Beverages                             115.622490\n",
       "Finfish and Shellfish Products        135.004525\n",
       "Baby Foods                            155.826367\n",
       "Meals, Entrees, and Side Dishes       175.915789\n",
       "Poultry Products                      196.188498\n",
       "Legumes and Legume Products           202.386885\n",
       "American Indian/Alaska Native Foods   204.958678\n",
       "Restaurant Foods                      210.864198\n",
       "Beef Products                         211.602362\n",
       "Pork Products                         214.722628\n",
       "Lamb, Veal, and Game Products         215.052632\n",
       "Dairy and Egg Products                230.857143\n",
       "Sausages and Luncheon Meats           242.424242\n",
       "Fast Foods                            248.962329\n",
       "Spices and Herbs                      249.489796\n",
       "Cereal Grains and Pasta               277.402685\n",
       "Sweets                                328.718519\n",
       "Breakfast Cereals                     344.837838\n",
       "Baked Products                        392.821705\n",
       "Snacks                                441.713235\n",
       "Nut and Seed Products                 501.443396\n",
       "Fats and Oils                         647.733728"
      ],
      "text/html": "<div>\n<style scoped>\n    .dataframe tbody tr th:only-of-type {\n        vertical-align: middle;\n    }\n\n    .dataframe tbody tr th {\n        vertical-align: top;\n    }\n\n    .dataframe thead th {\n        text-align: right;\n    }\n</style>\n<table border=\"1\" class=\"dataframe\">\n  <thead>\n    <tr style=\"text-align: right;\">\n      <th></th>\n      <th>Energy_kcal</th>\n    </tr>\n    <tr>\n      <th>FoodGroup</th>\n      <th></th>\n    </tr>\n  </thead>\n  <tbody>\n    <tr>\n      <th>Vegetables and Vegetable Products</th>\n      <td>63.572948</td>\n    </tr>\n    <tr>\n      <th>Soups, Sauces, and Gravies</th>\n      <td>77.346369</td>\n    </tr>\n    <tr>\n      <th>Fruits and Fruit Juices</th>\n      <td>85.879725</td>\n    </tr>\n    <tr>\n      <th>Beverages</th>\n      <td>115.622490</td>\n    </tr>\n    <tr>\n      <th>Finfish and Shellfish Products</th>\n      <td>135.004525</td>\n    </tr>\n    <tr>\n      <th>Baby Foods</th>\n      <td>155.826367</td>\n    </tr>\n    <tr>\n      <th>Meals, Entrees, and Side Dishes</th>\n      <td>175.915789</td>\n    </tr>\n    <tr>\n      <th>Poultry Products</th>\n      <td>196.188498</td>\n    </tr>\n    <tr>\n      <th>Legumes and Legume Products</th>\n      <td>202.386885</td>\n    </tr>\n    <tr>\n      <th>American Indian/Alaska Native Foods</th>\n      <td>204.958678</td>\n    </tr>\n    <tr>\n      <th>Restaurant Foods</th>\n      <td>210.864198</td>\n    </tr>\n    <tr>\n      <th>Beef Products</th>\n      <td>211.602362</td>\n    </tr>\n    <tr>\n      <th>Pork Products</th>\n      <td>214.722628</td>\n    </tr>\n    <tr>\n      <th>Lamb, Veal, and Game Products</th>\n      <td>215.052632</td>\n    </tr>\n    <tr>\n      <th>Dairy and Egg Products</th>\n      <td>230.857143</td>\n    </tr>\n    <tr>\n      <th>Sausages and Luncheon Meats</th>\n      <td>242.424242</td>\n    </tr>\n    <tr>\n      <th>Fast Foods</th>\n      <td>248.962329</td>\n    </tr>\n    <tr>\n      <th>Spices and Herbs</th>\n      <td>249.489796</td>\n    </tr>\n    <tr>\n      <th>Cereal Grains and Pasta</th>\n      <td>277.402685</td>\n    </tr>\n    <tr>\n      <th>Sweets</th>\n      <td>328.718519</td>\n    </tr>\n    <tr>\n      <th>Breakfast Cereals</th>\n      <td>344.837838</td>\n    </tr>\n    <tr>\n      <th>Baked Products</th>\n      <td>392.821705</td>\n    </tr>\n    <tr>\n      <th>Snacks</th>\n      <td>441.713235</td>\n    </tr>\n    <tr>\n      <th>Nut and Seed Products</th>\n      <td>501.443396</td>\n    </tr>\n    <tr>\n      <th>Fats and Oils</th>\n      <td>647.733728</td>\n    </tr>\n  </tbody>\n</table>\n</div>"
     },
     "metadata": {},
     "execution_count": 14
    }
   ],
   "source": [
    "FoodGroup = pd.DataFrame(df.groupby('FoodGroup')['Energy_kcal'].mean())\n",
    "FoodGroup = FoodGroup.sort_values(by=['Energy_kcal'])\n",
    "FoodGroup"
   ]
  },
  {
   "cell_type": "code",
   "execution_count": 15,
   "metadata": {},
   "outputs": [],
   "source": [
    "fg_input = input('Choose a Food Group: ')\n",
    "food_choices = df.loc[df['FoodGroup'] == fg_input]\n",
    "food_choices = food_choices.loc[:,'FoodGroup':'Energy_kcal']"
   ]
  },
  {
   "cell_type": "code",
   "execution_count": 16,
   "metadata": {},
   "outputs": [
    {
     "output_type": "execute_result",
     "data": {
      "text/plain": [
       "      FoodGroup                                            Descrip  \\\n",
       "0    Fast Foods  Fast foods, english muffin, with cheese and sa...   \n",
       "1    Fast Foods  Fast foods, oysters, battered or breaded, and ...   \n",
       "2    Fast Foods  DIGIORNO Pizza, cheese topping, rising crust, ...   \n",
       "3    Fast Foods  Fast foods, croissant, with egg, cheese, and s...   \n",
       "4    Fast Foods  Fast foods, hamburger; single, regular patty; ...   \n",
       "..          ...                                                ...   \n",
       "287  Fast Foods  Fast Foods, Fried Chicken, Wing, meat and skin...   \n",
       "288  Fast Foods                           McDONALD'S, Egg McMUFFIN   \n",
       "289  Fast Foods                     Fast foods, burrito, with beef   \n",
       "290  Fast Foods  BURGER KING, CROISSAN'WICH with Sausage and Ch...   \n",
       "291  Fast Foods  DOMINO'S 14\" Pepperoni Pizza, Classic Hand-Tos...   \n",
       "\n",
       "     Energy_kcal  \n",
       "0          338.0  \n",
       "1          265.0  \n",
       "2          256.0  \n",
       "3          308.0  \n",
       "4          263.0  \n",
       "..           ...  \n",
       "287        310.0  \n",
       "288        228.0  \n",
       "289        238.0  \n",
       "290        376.0  \n",
       "291        273.0  \n",
       "\n",
       "[292 rows x 3 columns]"
      ],
      "text/html": "<div>\n<style scoped>\n    .dataframe tbody tr th:only-of-type {\n        vertical-align: middle;\n    }\n\n    .dataframe tbody tr th {\n        vertical-align: top;\n    }\n\n    .dataframe thead th {\n        text-align: right;\n    }\n</style>\n<table border=\"1\" class=\"dataframe\">\n  <thead>\n    <tr style=\"text-align: right;\">\n      <th></th>\n      <th>FoodGroup</th>\n      <th>Descrip</th>\n      <th>Energy_kcal</th>\n    </tr>\n  </thead>\n  <tbody>\n    <tr>\n      <th>0</th>\n      <td>Fast Foods</td>\n      <td>Fast foods, english muffin, with cheese and sa...</td>\n      <td>338.0</td>\n    </tr>\n    <tr>\n      <th>1</th>\n      <td>Fast Foods</td>\n      <td>Fast foods, oysters, battered or breaded, and ...</td>\n      <td>265.0</td>\n    </tr>\n    <tr>\n      <th>2</th>\n      <td>Fast Foods</td>\n      <td>DIGIORNO Pizza, cheese topping, rising crust, ...</td>\n      <td>256.0</td>\n    </tr>\n    <tr>\n      <th>3</th>\n      <td>Fast Foods</td>\n      <td>Fast foods, croissant, with egg, cheese, and s...</td>\n      <td>308.0</td>\n    </tr>\n    <tr>\n      <th>4</th>\n      <td>Fast Foods</td>\n      <td>Fast foods, hamburger; single, regular patty; ...</td>\n      <td>263.0</td>\n    </tr>\n    <tr>\n      <th>...</th>\n      <td>...</td>\n      <td>...</td>\n      <td>...</td>\n    </tr>\n    <tr>\n      <th>287</th>\n      <td>Fast Foods</td>\n      <td>Fast Foods, Fried Chicken, Wing, meat and skin...</td>\n      <td>310.0</td>\n    </tr>\n    <tr>\n      <th>288</th>\n      <td>Fast Foods</td>\n      <td>McDONALD'S, Egg McMUFFIN</td>\n      <td>228.0</td>\n    </tr>\n    <tr>\n      <th>289</th>\n      <td>Fast Foods</td>\n      <td>Fast foods, burrito, with beef</td>\n      <td>238.0</td>\n    </tr>\n    <tr>\n      <th>290</th>\n      <td>Fast Foods</td>\n      <td>BURGER KING, CROISSAN'WICH with Sausage and Ch...</td>\n      <td>376.0</td>\n    </tr>\n    <tr>\n      <th>291</th>\n      <td>Fast Foods</td>\n      <td>DOMINO'S 14\" Pepperoni Pizza, Classic Hand-Tos...</td>\n      <td>273.0</td>\n    </tr>\n  </tbody>\n</table>\n<p>292 rows × 3 columns</p>\n</div>"
     },
     "metadata": {},
     "execution_count": 16
    }
   ],
   "source": [
    "food_choices = food_choices.reset_index(drop=True)\n",
    "food_choices"
   ]
  },
  {
   "cell_type": "code",
   "execution_count": 19,
   "metadata": {},
   "outputs": [
    {
     "output_type": "stream",
     "name": "stdout",
     "text": [
      "== Diet Recommendation ==\nFood Description:  Fast foods, burrito, with beef\nHere's a list of recommended food based on the calorie intake you need per 100g of food\n"
     ]
    },
    {
     "output_type": "display_data",
     "data": {
      "text/plain": "                                                 Food  Cosine_Sim\n1   KFC, Fried Chicken, ORIGINAL RECIPE, Wing, mea...         1.0\n2                       Fast foods, sundae, hot fudge         1.0\n3                              Fast foods, taco salad         1.0\n4         Fast foods, taco salad with chili con carne         1.0\n5   Fast foods, taco with beef, cheese and lettuce...         1.0\n6          Fast foods, tostada, with beans and cheese         1.0\n7   Fast foods, tostada, with beans, beef, and cheese         1.0\n8           Fast foods, tostada, with beef and cheese         1.0\n9   Fast foods, vanilla, light, soft-serve ice cre...         1.0\n10                                       KFC, biscuit         1.0",
      "text/html": "<div>\n<style scoped>\n    .dataframe tbody tr th:only-of-type {\n        vertical-align: middle;\n    }\n\n    .dataframe tbody tr th {\n        vertical-align: top;\n    }\n\n    .dataframe thead th {\n        text-align: right;\n    }\n</style>\n<table border=\"1\" class=\"dataframe\">\n  <thead>\n    <tr style=\"text-align: right;\">\n      <th></th>\n      <th>Food</th>\n      <th>Cosine_Sim</th>\n    </tr>\n  </thead>\n  <tbody>\n    <tr>\n      <th>1</th>\n      <td>KFC, Fried Chicken, ORIGINAL RECIPE, Wing, mea...</td>\n      <td>1.0</td>\n    </tr>\n    <tr>\n      <th>2</th>\n      <td>Fast foods, sundae, hot fudge</td>\n      <td>1.0</td>\n    </tr>\n    <tr>\n      <th>3</th>\n      <td>Fast foods, taco salad</td>\n      <td>1.0</td>\n    </tr>\n    <tr>\n      <th>4</th>\n      <td>Fast foods, taco salad with chili con carne</td>\n      <td>1.0</td>\n    </tr>\n    <tr>\n      <th>5</th>\n      <td>Fast foods, taco with beef, cheese and lettuce...</td>\n      <td>1.0</td>\n    </tr>\n    <tr>\n      <th>6</th>\n      <td>Fast foods, tostada, with beans and cheese</td>\n      <td>1.0</td>\n    </tr>\n    <tr>\n      <th>7</th>\n      <td>Fast foods, tostada, with beans, beef, and cheese</td>\n      <td>1.0</td>\n    </tr>\n    <tr>\n      <th>8</th>\n      <td>Fast foods, tostada, with beef and cheese</td>\n      <td>1.0</td>\n    </tr>\n    <tr>\n      <th>9</th>\n      <td>Fast foods, vanilla, light, soft-serve ice cre...</td>\n      <td>1.0</td>\n    </tr>\n    <tr>\n      <th>10</th>\n      <td>KFC, biscuit</td>\n      <td>1.0</td>\n    </tr>\n  </tbody>\n</table>\n</div>"
     },
     "metadata": {}
    }
   ],
   "source": [
    "food_input = input('Get same calories of: ')\n",
    "top_recs = input('Recommendation List Size?: ')\n",
    "\n",
    "generate_recommendations(df,food_input,int(top_recs))"
   ]
  },
  {
   "cell_type": "code",
   "execution_count": null,
   "metadata": {},
   "outputs": [],
   "source": []
  }
 ]
}