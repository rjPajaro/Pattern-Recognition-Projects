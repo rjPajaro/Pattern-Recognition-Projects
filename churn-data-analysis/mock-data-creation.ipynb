{
 "metadata": {
  "language_info": {
   "codemirror_mode": {
    "name": "ipython",
    "version": 3
   },
   "file_extension": ".py",
   "mimetype": "text/x-python",
   "name": "python",
   "nbconvert_exporter": "python",
   "pygments_lexer": "ipython3",
   "version": "3.8.3"
  },
  "orig_nbformat": 4,
  "kernelspec": {
   "name": "python3",
   "display_name": "Python 3.8.3 64-bit ('base': conda)"
  },
  "interpreter": {
   "hash": "80e949a67cf278127b748d188dfe995fcb9b6fe4ab79bb80686294a040d0359f"
  }
 },
 "nbformat": 4,
 "nbformat_minor": 2,
 "cells": [
  {
   "source": [
    "# Creating Mock Rotational Churn Data"
   ],
   "cell_type": "markdown",
   "metadata": {}
  },
  {
   "cell_type": "code",
   "execution_count": 1,
   "metadata": {},
   "outputs": [],
   "source": [
    "import numpy as np\n",
    "import pandas as pd\n",
    "from random import seed\n",
    "from random import randint\n",
    "\n",
    "# My python script for creating mock data\n",
    "import mock_data_script as mds"
   ]
  },
  {
   "cell_type": "code",
   "execution_count": 2,
   "metadata": {},
   "outputs": [
    {
     "output_type": "stream",
     "name": "stdout",
     "text": [
      "We will be generating 3 instances of the user.\n"
     ]
    }
   ],
   "source": [
    "# Function for randomizing how many times users would appear in the data to simulate creating multiple unique call entries (1-15)\n",
    "\n",
    "inst = mds.instances()\n",
    "print('We will be generating {} instances of the user.'.format(inst))"
   ]
  },
  {
   "source": [
    "# Creating Unique Entries"
   ],
   "cell_type": "markdown",
   "metadata": {}
  },
  {
   "cell_type": "code",
   "execution_count": 3,
   "metadata": {},
   "outputs": [],
   "source": [
    "def unique_entry(ins):\n",
    "    user_imei = []\n",
    "    user_imsi = []\n",
    "    user_msisdn = []\n",
    "    user_phone_num = []\n",
    "    contacted_nums = []\n",
    "    called_nums = []\n",
    "    texted_nums = []\n",
    "    call_site = []\n",
    "    text_site = []\n",
    "    \n",
    "    uni_imei = mds.generate_IMEI()\n",
    "    uni_imsi = mds.generate_IMSI()\n",
    "    uni_msisdn = mds.generate_MSISDN()\n",
    "    uni_pn = mds.generate_PN()\n",
    "\n",
    "    for _ in range(ins):\n",
    "        user_imei.append(uni_imei)\n",
    "        user_imsi.append(uni_imsi)\n",
    "        user_msisdn.append(uni_msisdn)\n",
    "        user_phone_num.append(uni_pn)\n",
    "\n",
    "        uni_called = mds.generate_YN()\n",
    "        uni_texted = mds.generate_YN()\n",
    "        called_nums.append(uni_called)\n",
    "        texted_nums.append(uni_texted)\n",
    "        call_site.append(mds.generate_cell_tower(uni_called))\n",
    "        text_site.append(mds.generate_cell_tower(uni_texted))\n",
    "        \n",
    "        # Just in case the generated called number is equal to one's own number.\n",
    "        valid=True\n",
    "        while(valid):\n",
    "            contacted = mds.generate_PN()        \n",
    "            if contacted != uni_pn:\n",
    "                contacted_nums.append(mds.generate_PN())\n",
    "                valid=False\n",
    "\n",
    "    return user_imei, user_imsi, user_msisdn, user_phone_num, contacted_nums, called_nums, texted_nums, call_site, text_site"
   ]
  },
  {
   "cell_type": "code",
   "execution_count": 4,
   "metadata": {},
   "outputs": [
    {
     "output_type": "stream",
     "name": "stdout",
     "text": [
      "['812636859343229', '812636859343229', '812636859343229']\n['515022030046586', '515022030046586', '515022030046586']\n['63644528781131', '63644528781131', '63644528781131']\n['09810307638', '09810307638', '09810307638']\n['09473518334', '0997272813', '09364967620']\n['no', 'no', 'no']\n['yes', 'yes', 'no']\n['No Service', 'No Service', 'No Service']\n['T10011', 'T8857', 'No Service']\n"
     ]
    }
   ],
   "source": [
    "IMEIs, IMSIs, MSISDNs, PNs, Contacted, Called, Texted, cSite, tSite = unique_entry(inst)\n",
    "print(IMEIs)\n",
    "print(IMSIs)\n",
    "print(MSISDNs)\n",
    "print(PNs)\n",
    "print(Contacted)\n",
    "print(Called)\n",
    "print(Texted)\n",
    "print(cSite)\n",
    "print(tSite)"
   ]
  },
  {
   "cell_type": "code",
   "execution_count": null,
   "metadata": {},
   "outputs": [],
   "source": []
  }
 ]
}