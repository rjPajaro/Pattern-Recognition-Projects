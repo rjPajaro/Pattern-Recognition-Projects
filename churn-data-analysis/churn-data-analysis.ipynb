{
 "metadata": {
  "language_info": {
   "codemirror_mode": {
    "name": "ipython",
    "version": 3
   },
   "file_extension": ".py",
   "mimetype": "text/x-python",
   "name": "python",
   "nbconvert_exporter": "python",
   "pygments_lexer": "ipython3",
   "version": "3.8.3"
  },
  "orig_nbformat": 4,
  "kernelspec": {
   "name": "python3",
   "display_name": "Python 3.8.3 64-bit ('base': conda)"
  },
  "interpreter": {
   "hash": "80e949a67cf278127b748d188dfe995fcb9b6fe4ab79bb80686294a040d0359f"
  }
 },
 "nbformat": 4,
 "nbformat_minor": 2,
 "cells": [
  {
   "source": [
    "# Mock Data"
   ],
   "cell_type": "markdown",
   "metadata": {}
  },
  {
   "cell_type": "code",
   "execution_count": 1,
   "metadata": {},
   "outputs": [],
   "source": [
    "import numpy as np\n",
    "import pandas as pd"
   ]
  },
  {
   "cell_type": "code",
   "execution_count": 2,
   "metadata": {},
   "outputs": [
    {
     "output_type": "execute_result",
     "data": {
      "text/plain": [
       "   Unnamed: 0  CustomerID  Count        Country       State         City  \\\n",
       "0           0  3668-QPYBK      1  United States  California  Los Angeles   \n",
       "1           1  9237-HQITU      1  United States  California  Los Angeles   \n",
       "2           2  9305-CDSKC      1  United States  California  Los Angeles   \n",
       "3           3  7892-POOKP      1  United States  California  Los Angeles   \n",
       "4           4  0280-XJGEX      1  United States  California  Los Angeles   \n",
       "\n",
       "   Zip Code                Lat Long   Latitude   Longitude  ...  \\\n",
       "0     90003  33.964131, -118.272783  33.964131 -118.272783  ...   \n",
       "1     90005   34.059281, -118.30742  34.059281 -118.307420  ...   \n",
       "2     90006  34.048013, -118.293953  34.048013 -118.293953  ...   \n",
       "3     90010  34.062125, -118.315709  34.062125 -118.315709  ...   \n",
       "4     90015  34.039224, -118.266293  34.039224 -118.266293  ...   \n",
       "\n",
       "         Contract Paperless Billing             Payment Method  \\\n",
       "0  Month-to-month               Yes               Mailed check   \n",
       "1  Month-to-month               Yes           Electronic check   \n",
       "2  Month-to-month               Yes           Electronic check   \n",
       "3  Month-to-month               Yes           Electronic check   \n",
       "4  Month-to-month               Yes  Bank transfer (automatic)   \n",
       "\n",
       "  Monthly Charges  Total Charges Churn Label Churn Value Churn Score  CLTV  \\\n",
       "0           53.85         108.15         Yes           1          86  3239   \n",
       "1           70.70         151.65         Yes           1          67  2701   \n",
       "2           99.65          820.5         Yes           1          86  5372   \n",
       "3          104.80        3046.05         Yes           1          84  5003   \n",
       "4          103.70         5036.3         Yes           1          89  5340   \n",
       "\n",
       "                    Churn Reason  \n",
       "0   Competitor made better offer  \n",
       "1                          Moved  \n",
       "2                          Moved  \n",
       "3                          Moved  \n",
       "4  Competitor had better devices  \n",
       "\n",
       "[5 rows x 34 columns]"
      ],
      "text/html": "<div>\n<style scoped>\n    .dataframe tbody tr th:only-of-type {\n        vertical-align: middle;\n    }\n\n    .dataframe tbody tr th {\n        vertical-align: top;\n    }\n\n    .dataframe thead th {\n        text-align: right;\n    }\n</style>\n<table border=\"1\" class=\"dataframe\">\n  <thead>\n    <tr style=\"text-align: right;\">\n      <th></th>\n      <th>Unnamed: 0</th>\n      <th>CustomerID</th>\n      <th>Count</th>\n      <th>Country</th>\n      <th>State</th>\n      <th>City</th>\n      <th>Zip Code</th>\n      <th>Lat Long</th>\n      <th>Latitude</th>\n      <th>Longitude</th>\n      <th>...</th>\n      <th>Contract</th>\n      <th>Paperless Billing</th>\n      <th>Payment Method</th>\n      <th>Monthly Charges</th>\n      <th>Total Charges</th>\n      <th>Churn Label</th>\n      <th>Churn Value</th>\n      <th>Churn Score</th>\n      <th>CLTV</th>\n      <th>Churn Reason</th>\n    </tr>\n  </thead>\n  <tbody>\n    <tr>\n      <th>0</th>\n      <td>0</td>\n      <td>3668-QPYBK</td>\n      <td>1</td>\n      <td>United States</td>\n      <td>California</td>\n      <td>Los Angeles</td>\n      <td>90003</td>\n      <td>33.964131, -118.272783</td>\n      <td>33.964131</td>\n      <td>-118.272783</td>\n      <td>...</td>\n      <td>Month-to-month</td>\n      <td>Yes</td>\n      <td>Mailed check</td>\n      <td>53.85</td>\n      <td>108.15</td>\n      <td>Yes</td>\n      <td>1</td>\n      <td>86</td>\n      <td>3239</td>\n      <td>Competitor made better offer</td>\n    </tr>\n    <tr>\n      <th>1</th>\n      <td>1</td>\n      <td>9237-HQITU</td>\n      <td>1</td>\n      <td>United States</td>\n      <td>California</td>\n      <td>Los Angeles</td>\n      <td>90005</td>\n      <td>34.059281, -118.30742</td>\n      <td>34.059281</td>\n      <td>-118.307420</td>\n      <td>...</td>\n      <td>Month-to-month</td>\n      <td>Yes</td>\n      <td>Electronic check</td>\n      <td>70.70</td>\n      <td>151.65</td>\n      <td>Yes</td>\n      <td>1</td>\n      <td>67</td>\n      <td>2701</td>\n      <td>Moved</td>\n    </tr>\n    <tr>\n      <th>2</th>\n      <td>2</td>\n      <td>9305-CDSKC</td>\n      <td>1</td>\n      <td>United States</td>\n      <td>California</td>\n      <td>Los Angeles</td>\n      <td>90006</td>\n      <td>34.048013, -118.293953</td>\n      <td>34.048013</td>\n      <td>-118.293953</td>\n      <td>...</td>\n      <td>Month-to-month</td>\n      <td>Yes</td>\n      <td>Electronic check</td>\n      <td>99.65</td>\n      <td>820.5</td>\n      <td>Yes</td>\n      <td>1</td>\n      <td>86</td>\n      <td>5372</td>\n      <td>Moved</td>\n    </tr>\n    <tr>\n      <th>3</th>\n      <td>3</td>\n      <td>7892-POOKP</td>\n      <td>1</td>\n      <td>United States</td>\n      <td>California</td>\n      <td>Los Angeles</td>\n      <td>90010</td>\n      <td>34.062125, -118.315709</td>\n      <td>34.062125</td>\n      <td>-118.315709</td>\n      <td>...</td>\n      <td>Month-to-month</td>\n      <td>Yes</td>\n      <td>Electronic check</td>\n      <td>104.80</td>\n      <td>3046.05</td>\n      <td>Yes</td>\n      <td>1</td>\n      <td>84</td>\n      <td>5003</td>\n      <td>Moved</td>\n    </tr>\n    <tr>\n      <th>4</th>\n      <td>4</td>\n      <td>0280-XJGEX</td>\n      <td>1</td>\n      <td>United States</td>\n      <td>California</td>\n      <td>Los Angeles</td>\n      <td>90015</td>\n      <td>34.039224, -118.266293</td>\n      <td>34.039224</td>\n      <td>-118.266293</td>\n      <td>...</td>\n      <td>Month-to-month</td>\n      <td>Yes</td>\n      <td>Bank transfer (automatic)</td>\n      <td>103.70</td>\n      <td>5036.3</td>\n      <td>Yes</td>\n      <td>1</td>\n      <td>89</td>\n      <td>5340</td>\n      <td>Competitor had better devices</td>\n    </tr>\n  </tbody>\n</table>\n<p>5 rows × 34 columns</p>\n</div>"
     },
     "metadata": {},
     "execution_count": 2
    }
   ],
   "source": [
    "ibm_data = 'data/kaggle/IBM_telco_churn_data.csv'\n",
    "sample_data = 'data/archive/telecom_sampledata.csv'\n",
    "\n",
    "df = pd.read_csv(ibm_data)\n",
    "df.head()"
   ]
  },
  {
   "cell_type": "code",
   "execution_count": 3,
   "metadata": {},
   "outputs": [
    {
     "output_type": "execute_result",
     "data": {
      "text/plain": [
       "Index(['Unnamed: 0', 'CustomerID', 'Count', 'Country', 'State', 'City',\n",
       "       'Zip Code', 'Lat Long', 'Latitude', 'Longitude', 'Gender',\n",
       "       'Senior Citizen', 'Partner', 'Dependents', 'Tenure Months',\n",
       "       'Phone Service', 'Multiple Lines', 'Internet Service',\n",
       "       'Online Security', 'Online Backup', 'Device Protection', 'Tech Support',\n",
       "       'Streaming TV', 'Streaming Movies', 'Contract', 'Paperless Billing',\n",
       "       'Payment Method', 'Monthly Charges', 'Total Charges', 'Churn Label',\n",
       "       'Churn Value', 'Churn Score', 'CLTV', 'Churn Reason'],\n",
       "      dtype='object')"
      ]
     },
     "metadata": {},
     "execution_count": 3
    }
   ],
   "source": [
    "df.columns"
   ]
  },
  {
   "cell_type": "code",
   "execution_count": 4,
   "metadata": {},
   "outputs": [
    {
     "output_type": "execute_result",
     "data": {
      "text/plain": [
       "7043"
      ]
     },
     "metadata": {},
     "execution_count": 4
    }
   ],
   "source": [
    "len(df)"
   ]
  },
  {
   "cell_type": "code",
   "execution_count": 5,
   "metadata": {},
   "outputs": [
    {
     "output_type": "execute_result",
     "data": {
      "text/plain": [
       "   CustomerID  Count        Country       State         City  Zip Code  \\\n",
       "0  3668-QPYBK      1  United States  California  Los Angeles     90003   \n",
       "1  9237-HQITU      1  United States  California  Los Angeles     90005   \n",
       "2  9305-CDSKC      1  United States  California  Los Angeles     90006   \n",
       "3  7892-POOKP      1  United States  California  Los Angeles     90010   \n",
       "4  0280-XJGEX      1  United States  California  Los Angeles     90015   \n",
       "\n",
       "                 Lat Long   Latitude   Longitude  Gender  ...        Contract  \\\n",
       "0  33.964131, -118.272783  33.964131 -118.272783    Male  ...  Month-to-month   \n",
       "1   34.059281, -118.30742  34.059281 -118.307420  Female  ...  Month-to-month   \n",
       "2  34.048013, -118.293953  34.048013 -118.293953  Female  ...  Month-to-month   \n",
       "3  34.062125, -118.315709  34.062125 -118.315709  Female  ...  Month-to-month   \n",
       "4  34.039224, -118.266293  34.039224 -118.266293    Male  ...  Month-to-month   \n",
       "\n",
       "  Paperless Billing             Payment Method  Monthly Charges Total Charges  \\\n",
       "0               Yes               Mailed check            53.85        108.15   \n",
       "1               Yes           Electronic check            70.70        151.65   \n",
       "2               Yes           Electronic check            99.65         820.5   \n",
       "3               Yes           Electronic check           104.80       3046.05   \n",
       "4               Yes  Bank transfer (automatic)           103.70        5036.3   \n",
       "\n",
       "  Churn Label Churn Value Churn Score  CLTV                   Churn Reason  \n",
       "0         Yes           1          86  3239   Competitor made better offer  \n",
       "1         Yes           1          67  2701                          Moved  \n",
       "2         Yes           1          86  5372                          Moved  \n",
       "3         Yes           1          84  5003                          Moved  \n",
       "4         Yes           1          89  5340  Competitor had better devices  \n",
       "\n",
       "[5 rows x 33 columns]"
      ],
      "text/html": "<div>\n<style scoped>\n    .dataframe tbody tr th:only-of-type {\n        vertical-align: middle;\n    }\n\n    .dataframe tbody tr th {\n        vertical-align: top;\n    }\n\n    .dataframe thead th {\n        text-align: right;\n    }\n</style>\n<table border=\"1\" class=\"dataframe\">\n  <thead>\n    <tr style=\"text-align: right;\">\n      <th></th>\n      <th>CustomerID</th>\n      <th>Count</th>\n      <th>Country</th>\n      <th>State</th>\n      <th>City</th>\n      <th>Zip Code</th>\n      <th>Lat Long</th>\n      <th>Latitude</th>\n      <th>Longitude</th>\n      <th>Gender</th>\n      <th>...</th>\n      <th>Contract</th>\n      <th>Paperless Billing</th>\n      <th>Payment Method</th>\n      <th>Monthly Charges</th>\n      <th>Total Charges</th>\n      <th>Churn Label</th>\n      <th>Churn Value</th>\n      <th>Churn Score</th>\n      <th>CLTV</th>\n      <th>Churn Reason</th>\n    </tr>\n  </thead>\n  <tbody>\n    <tr>\n      <th>0</th>\n      <td>3668-QPYBK</td>\n      <td>1</td>\n      <td>United States</td>\n      <td>California</td>\n      <td>Los Angeles</td>\n      <td>90003</td>\n      <td>33.964131, -118.272783</td>\n      <td>33.964131</td>\n      <td>-118.272783</td>\n      <td>Male</td>\n      <td>...</td>\n      <td>Month-to-month</td>\n      <td>Yes</td>\n      <td>Mailed check</td>\n      <td>53.85</td>\n      <td>108.15</td>\n      <td>Yes</td>\n      <td>1</td>\n      <td>86</td>\n      <td>3239</td>\n      <td>Competitor made better offer</td>\n    </tr>\n    <tr>\n      <th>1</th>\n      <td>9237-HQITU</td>\n      <td>1</td>\n      <td>United States</td>\n      <td>California</td>\n      <td>Los Angeles</td>\n      <td>90005</td>\n      <td>34.059281, -118.30742</td>\n      <td>34.059281</td>\n      <td>-118.307420</td>\n      <td>Female</td>\n      <td>...</td>\n      <td>Month-to-month</td>\n      <td>Yes</td>\n      <td>Electronic check</td>\n      <td>70.70</td>\n      <td>151.65</td>\n      <td>Yes</td>\n      <td>1</td>\n      <td>67</td>\n      <td>2701</td>\n      <td>Moved</td>\n    </tr>\n    <tr>\n      <th>2</th>\n      <td>9305-CDSKC</td>\n      <td>1</td>\n      <td>United States</td>\n      <td>California</td>\n      <td>Los Angeles</td>\n      <td>90006</td>\n      <td>34.048013, -118.293953</td>\n      <td>34.048013</td>\n      <td>-118.293953</td>\n      <td>Female</td>\n      <td>...</td>\n      <td>Month-to-month</td>\n      <td>Yes</td>\n      <td>Electronic check</td>\n      <td>99.65</td>\n      <td>820.5</td>\n      <td>Yes</td>\n      <td>1</td>\n      <td>86</td>\n      <td>5372</td>\n      <td>Moved</td>\n    </tr>\n    <tr>\n      <th>3</th>\n      <td>7892-POOKP</td>\n      <td>1</td>\n      <td>United States</td>\n      <td>California</td>\n      <td>Los Angeles</td>\n      <td>90010</td>\n      <td>34.062125, -118.315709</td>\n      <td>34.062125</td>\n      <td>-118.315709</td>\n      <td>Female</td>\n      <td>...</td>\n      <td>Month-to-month</td>\n      <td>Yes</td>\n      <td>Electronic check</td>\n      <td>104.80</td>\n      <td>3046.05</td>\n      <td>Yes</td>\n      <td>1</td>\n      <td>84</td>\n      <td>5003</td>\n      <td>Moved</td>\n    </tr>\n    <tr>\n      <th>4</th>\n      <td>0280-XJGEX</td>\n      <td>1</td>\n      <td>United States</td>\n      <td>California</td>\n      <td>Los Angeles</td>\n      <td>90015</td>\n      <td>34.039224, -118.266293</td>\n      <td>34.039224</td>\n      <td>-118.266293</td>\n      <td>Male</td>\n      <td>...</td>\n      <td>Month-to-month</td>\n      <td>Yes</td>\n      <td>Bank transfer (automatic)</td>\n      <td>103.70</td>\n      <td>5036.3</td>\n      <td>Yes</td>\n      <td>1</td>\n      <td>89</td>\n      <td>5340</td>\n      <td>Competitor had better devices</td>\n    </tr>\n  </tbody>\n</table>\n<p>5 rows × 33 columns</p>\n</div>"
     },
     "metadata": {},
     "execution_count": 5
    }
   ],
   "source": [
    "df = df.drop(columns=df.columns[0])\n",
    "df.head()"
   ]
  },
  {
   "source": [
    "### Establishing Fake Dates in order to create the illusion of a time-series data\n",
    "\n"
   ],
   "cell_type": "markdown",
   "metadata": {}
  },
  {
   "cell_type": "code",
   "execution_count": 6,
   "metadata": {},
   "outputs": [
    {
     "output_type": "execute_result",
     "data": {
      "text/plain": [
       "array(['2019-11-16T00:00:00.000000000', '2019-07-14T00:00:00.000000000',\n",
       "       '2019-09-22T00:00:00.000000000', ...,\n",
       "       '2019-09-24T00:00:00.000000000', '2019-08-31T00:00:00.000000000',\n",
       "       '2018-02-15T00:00:00.000000000'], dtype='datetime64[ns]')"
      ]
     },
     "metadata": {},
     "execution_count": 6
    }
   ],
   "source": [
    "# creating mock data called date-of-churn\n",
    "np.random.seed(0)\n",
    "churn_dates = np.random.choice(pd.date_range('2018-01-01','2020-08-01'), len(df))\n",
    "churn_dates"
   ]
  },
  {
   "cell_type": "code",
   "execution_count": 7,
   "metadata": {},
   "outputs": [],
   "source": [
    "# insert mock data to the dataframe\n",
    "df.insert(loc=28, column='churn_date', value=churn_dates)"
   ]
  },
  {
   "cell_type": "code",
   "execution_count": 8,
   "metadata": {},
   "outputs": [
    {
     "output_type": "execute_result",
     "data": {
      "text/plain": [
       "   CustomerID  Count        Country       State         City  Zip Code  \\\n",
       "0  3668-QPYBK      1  United States  California  Los Angeles     90003   \n",
       "1  9237-HQITU      1  United States  California  Los Angeles     90005   \n",
       "2  9305-CDSKC      1  United States  California  Los Angeles     90006   \n",
       "3  7892-POOKP      1  United States  California  Los Angeles     90010   \n",
       "4  0280-XJGEX      1  United States  California  Los Angeles     90015   \n",
       "\n",
       "                 Lat Long   Latitude   Longitude  Gender  ...  \\\n",
       "0  33.964131, -118.272783  33.964131 -118.272783    Male  ...   \n",
       "1   34.059281, -118.30742  34.059281 -118.307420  Female  ...   \n",
       "2  34.048013, -118.293953  34.048013 -118.293953  Female  ...   \n",
       "3  34.062125, -118.315709  34.062125 -118.315709  Female  ...   \n",
       "4  34.039224, -118.266293  34.039224 -118.266293    Male  ...   \n",
       "\n",
       "  Paperless Billing             Payment Method Monthly Charges  Total Charges  \\\n",
       "0               Yes               Mailed check           53.85         108.15   \n",
       "1               Yes           Electronic check           70.70         151.65   \n",
       "2               Yes           Electronic check           99.65          820.5   \n",
       "3               Yes           Electronic check          104.80        3046.05   \n",
       "4               Yes  Bank transfer (automatic)          103.70         5036.3   \n",
       "\n",
       "  churn_date Churn Label Churn Value Churn Score  CLTV  \\\n",
       "0 2019-11-16         Yes           1          86  3239   \n",
       "1 2019-07-14         Yes           1          67  2701   \n",
       "2 2019-09-22         Yes           1          86  5372   \n",
       "3 2018-07-12         Yes           1          84  5003   \n",
       "4 2020-04-15         Yes           1          89  5340   \n",
       "\n",
       "                    Churn Reason  \n",
       "0   Competitor made better offer  \n",
       "1                          Moved  \n",
       "2                          Moved  \n",
       "3                          Moved  \n",
       "4  Competitor had better devices  \n",
       "\n",
       "[5 rows x 34 columns]"
      ],
      "text/html": "<div>\n<style scoped>\n    .dataframe tbody tr th:only-of-type {\n        vertical-align: middle;\n    }\n\n    .dataframe tbody tr th {\n        vertical-align: top;\n    }\n\n    .dataframe thead th {\n        text-align: right;\n    }\n</style>\n<table border=\"1\" class=\"dataframe\">\n  <thead>\n    <tr style=\"text-align: right;\">\n      <th></th>\n      <th>CustomerID</th>\n      <th>Count</th>\n      <th>Country</th>\n      <th>State</th>\n      <th>City</th>\n      <th>Zip Code</th>\n      <th>Lat Long</th>\n      <th>Latitude</th>\n      <th>Longitude</th>\n      <th>Gender</th>\n      <th>...</th>\n      <th>Paperless Billing</th>\n      <th>Payment Method</th>\n      <th>Monthly Charges</th>\n      <th>Total Charges</th>\n      <th>churn_date</th>\n      <th>Churn Label</th>\n      <th>Churn Value</th>\n      <th>Churn Score</th>\n      <th>CLTV</th>\n      <th>Churn Reason</th>\n    </tr>\n  </thead>\n  <tbody>\n    <tr>\n      <th>0</th>\n      <td>3668-QPYBK</td>\n      <td>1</td>\n      <td>United States</td>\n      <td>California</td>\n      <td>Los Angeles</td>\n      <td>90003</td>\n      <td>33.964131, -118.272783</td>\n      <td>33.964131</td>\n      <td>-118.272783</td>\n      <td>Male</td>\n      <td>...</td>\n      <td>Yes</td>\n      <td>Mailed check</td>\n      <td>53.85</td>\n      <td>108.15</td>\n      <td>2019-11-16</td>\n      <td>Yes</td>\n      <td>1</td>\n      <td>86</td>\n      <td>3239</td>\n      <td>Competitor made better offer</td>\n    </tr>\n    <tr>\n      <th>1</th>\n      <td>9237-HQITU</td>\n      <td>1</td>\n      <td>United States</td>\n      <td>California</td>\n      <td>Los Angeles</td>\n      <td>90005</td>\n      <td>34.059281, -118.30742</td>\n      <td>34.059281</td>\n      <td>-118.307420</td>\n      <td>Female</td>\n      <td>...</td>\n      <td>Yes</td>\n      <td>Electronic check</td>\n      <td>70.70</td>\n      <td>151.65</td>\n      <td>2019-07-14</td>\n      <td>Yes</td>\n      <td>1</td>\n      <td>67</td>\n      <td>2701</td>\n      <td>Moved</td>\n    </tr>\n    <tr>\n      <th>2</th>\n      <td>9305-CDSKC</td>\n      <td>1</td>\n      <td>United States</td>\n      <td>California</td>\n      <td>Los Angeles</td>\n      <td>90006</td>\n      <td>34.048013, -118.293953</td>\n      <td>34.048013</td>\n      <td>-118.293953</td>\n      <td>Female</td>\n      <td>...</td>\n      <td>Yes</td>\n      <td>Electronic check</td>\n      <td>99.65</td>\n      <td>820.5</td>\n      <td>2019-09-22</td>\n      <td>Yes</td>\n      <td>1</td>\n      <td>86</td>\n      <td>5372</td>\n      <td>Moved</td>\n    </tr>\n    <tr>\n      <th>3</th>\n      <td>7892-POOKP</td>\n      <td>1</td>\n      <td>United States</td>\n      <td>California</td>\n      <td>Los Angeles</td>\n      <td>90010</td>\n      <td>34.062125, -118.315709</td>\n      <td>34.062125</td>\n      <td>-118.315709</td>\n      <td>Female</td>\n      <td>...</td>\n      <td>Yes</td>\n      <td>Electronic check</td>\n      <td>104.80</td>\n      <td>3046.05</td>\n      <td>2018-07-12</td>\n      <td>Yes</td>\n      <td>1</td>\n      <td>84</td>\n      <td>5003</td>\n      <td>Moved</td>\n    </tr>\n    <tr>\n      <th>4</th>\n      <td>0280-XJGEX</td>\n      <td>1</td>\n      <td>United States</td>\n      <td>California</td>\n      <td>Los Angeles</td>\n      <td>90015</td>\n      <td>34.039224, -118.266293</td>\n      <td>34.039224</td>\n      <td>-118.266293</td>\n      <td>Male</td>\n      <td>...</td>\n      <td>Yes</td>\n      <td>Bank transfer (automatic)</td>\n      <td>103.70</td>\n      <td>5036.3</td>\n      <td>2020-04-15</td>\n      <td>Yes</td>\n      <td>1</td>\n      <td>89</td>\n      <td>5340</td>\n      <td>Competitor had better devices</td>\n    </tr>\n  </tbody>\n</table>\n<p>5 rows × 34 columns</p>\n</div>"
     },
     "metadata": {},
     "execution_count": 8
    }
   ],
   "source": [
    "df.head()"
   ]
  },
  {
   "cell_type": "code",
   "execution_count": 9,
   "metadata": {},
   "outputs": [
    {
     "output_type": "execute_result",
     "data": {
      "text/plain": [
       "      CustomerID  Count        Country       State           City  Zip Code  \\\n",
       "627   1623-NLDOT      1  United States  California      Lancaster     93534   \n",
       "1549  0733-VUNUW      1  United States  California  San Francisco     94114   \n",
       "4597  1137-DGOWI      1  United States  California      Coachella     92236   \n",
       "1048  2860-RANUS      1  United States  California    Mc Kittrick     93251   \n",
       "3012  9957-YODKZ      1  United States  California          Canby     96015   \n",
       "\n",
       "                    Lat Long   Latitude   Longitude  Gender  ...  \\\n",
       "627   34.727529, -118.153098  34.727529 -118.153098  Female  ...   \n",
       "1549  37.758085, -122.434801  37.758085 -122.434801    Male  ...   \n",
       "4597  33.680031, -116.171678  33.680031 -116.171678  Female  ...   \n",
       "1048   35.38381, -119.730885  35.383810 -119.730885  Female  ...   \n",
       "3012  41.486953, -120.913975  41.486953 -120.913975    Male  ...   \n",
       "\n",
       "     Paperless Billing             Payment Method Monthly Charges  \\\n",
       "627                 No               Mailed check           33.55   \n",
       "1549               Yes  Bank transfer (automatic)           55.65   \n",
       "4597                No  Bank transfer (automatic)           70.25   \n",
       "1048               Yes    Credit card (automatic)           85.80   \n",
       "3012               Yes           Electronic check           80.80   \n",
       "\n",
       "      Total Charges churn_date Churn Label Churn Value Churn Score  CLTV  \\\n",
       "627          1445.3 2018-01-01         Yes           1          82  2044   \n",
       "1549        1400.55 2018-01-01         Yes           1          97  4126   \n",
       "4597         2198.9 2018-01-01          No           0          66  5417   \n",
       "1048         1727.5 2018-01-01         Yes           1          75  3336   \n",
       "3012          457.1 2018-01-01          No           0          68  5611   \n",
       "\n",
       "                       Churn Reason  \n",
       "627   Competitor had better devices  \n",
       "1549  Competitor had better devices  \n",
       "4597                            NaN  \n",
       "1048                 Price too high  \n",
       "3012                            NaN  \n",
       "\n",
       "[5 rows x 34 columns]"
      ],
      "text/html": "<div>\n<style scoped>\n    .dataframe tbody tr th:only-of-type {\n        vertical-align: middle;\n    }\n\n    .dataframe tbody tr th {\n        vertical-align: top;\n    }\n\n    .dataframe thead th {\n        text-align: right;\n    }\n</style>\n<table border=\"1\" class=\"dataframe\">\n  <thead>\n    <tr style=\"text-align: right;\">\n      <th></th>\n      <th>CustomerID</th>\n      <th>Count</th>\n      <th>Country</th>\n      <th>State</th>\n      <th>City</th>\n      <th>Zip Code</th>\n      <th>Lat Long</th>\n      <th>Latitude</th>\n      <th>Longitude</th>\n      <th>Gender</th>\n      <th>...</th>\n      <th>Paperless Billing</th>\n      <th>Payment Method</th>\n      <th>Monthly Charges</th>\n      <th>Total Charges</th>\n      <th>churn_date</th>\n      <th>Churn Label</th>\n      <th>Churn Value</th>\n      <th>Churn Score</th>\n      <th>CLTV</th>\n      <th>Churn Reason</th>\n    </tr>\n  </thead>\n  <tbody>\n    <tr>\n      <th>627</th>\n      <td>1623-NLDOT</td>\n      <td>1</td>\n      <td>United States</td>\n      <td>California</td>\n      <td>Lancaster</td>\n      <td>93534</td>\n      <td>34.727529, -118.153098</td>\n      <td>34.727529</td>\n      <td>-118.153098</td>\n      <td>Female</td>\n      <td>...</td>\n      <td>No</td>\n      <td>Mailed check</td>\n      <td>33.55</td>\n      <td>1445.3</td>\n      <td>2018-01-01</td>\n      <td>Yes</td>\n      <td>1</td>\n      <td>82</td>\n      <td>2044</td>\n      <td>Competitor had better devices</td>\n    </tr>\n    <tr>\n      <th>1549</th>\n      <td>0733-VUNUW</td>\n      <td>1</td>\n      <td>United States</td>\n      <td>California</td>\n      <td>San Francisco</td>\n      <td>94114</td>\n      <td>37.758085, -122.434801</td>\n      <td>37.758085</td>\n      <td>-122.434801</td>\n      <td>Male</td>\n      <td>...</td>\n      <td>Yes</td>\n      <td>Bank transfer (automatic)</td>\n      <td>55.65</td>\n      <td>1400.55</td>\n      <td>2018-01-01</td>\n      <td>Yes</td>\n      <td>1</td>\n      <td>97</td>\n      <td>4126</td>\n      <td>Competitor had better devices</td>\n    </tr>\n    <tr>\n      <th>4597</th>\n      <td>1137-DGOWI</td>\n      <td>1</td>\n      <td>United States</td>\n      <td>California</td>\n      <td>Coachella</td>\n      <td>92236</td>\n      <td>33.680031, -116.171678</td>\n      <td>33.680031</td>\n      <td>-116.171678</td>\n      <td>Female</td>\n      <td>...</td>\n      <td>No</td>\n      <td>Bank transfer (automatic)</td>\n      <td>70.25</td>\n      <td>2198.9</td>\n      <td>2018-01-01</td>\n      <td>No</td>\n      <td>0</td>\n      <td>66</td>\n      <td>5417</td>\n      <td>NaN</td>\n    </tr>\n    <tr>\n      <th>1048</th>\n      <td>2860-RANUS</td>\n      <td>1</td>\n      <td>United States</td>\n      <td>California</td>\n      <td>Mc Kittrick</td>\n      <td>93251</td>\n      <td>35.38381, -119.730885</td>\n      <td>35.383810</td>\n      <td>-119.730885</td>\n      <td>Female</td>\n      <td>...</td>\n      <td>Yes</td>\n      <td>Credit card (automatic)</td>\n      <td>85.80</td>\n      <td>1727.5</td>\n      <td>2018-01-01</td>\n      <td>Yes</td>\n      <td>1</td>\n      <td>75</td>\n      <td>3336</td>\n      <td>Price too high</td>\n    </tr>\n    <tr>\n      <th>3012</th>\n      <td>9957-YODKZ</td>\n      <td>1</td>\n      <td>United States</td>\n      <td>California</td>\n      <td>Canby</td>\n      <td>96015</td>\n      <td>41.486953, -120.913975</td>\n      <td>41.486953</td>\n      <td>-120.913975</td>\n      <td>Male</td>\n      <td>...</td>\n      <td>Yes</td>\n      <td>Electronic check</td>\n      <td>80.80</td>\n      <td>457.1</td>\n      <td>2018-01-01</td>\n      <td>No</td>\n      <td>0</td>\n      <td>68</td>\n      <td>5611</td>\n      <td>NaN</td>\n    </tr>\n  </tbody>\n</table>\n<p>5 rows × 34 columns</p>\n</div>"
     },
     "metadata": {},
     "execution_count": 9
    }
   ],
   "source": [
    "df = df.sort_values(by='churn_date')\n",
    "df.head()"
   ]
  },
  {
   "cell_type": "code",
   "execution_count": null,
   "metadata": {},
   "outputs": [],
   "source": []
  }
 ]
}