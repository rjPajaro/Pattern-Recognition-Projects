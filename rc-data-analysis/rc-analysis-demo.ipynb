{
 "metadata": {
  "language_info": {
   "codemirror_mode": {
    "name": "ipython",
    "version": 3
   },
   "file_extension": ".py",
   "mimetype": "text/x-python",
   "name": "python",
   "nbconvert_exporter": "python",
   "pygments_lexer": "ipython3",
   "version": "3.8.3"
  },
  "orig_nbformat": 4,
  "kernelspec": {
   "name": "python3",
   "display_name": "Python 3.8.3 64-bit ('base': conda)"
  },
  "interpreter": {
   "hash": "80e949a67cf278127b748d188dfe995fcb9b6fe4ab79bb80686294a040d0359f"
  }
 },
 "nbformat": 4,
 "nbformat_minor": 2,
 "cells": [
  {
   "cell_type": "markdown",
   "source": [
    "# Analyzing Data for Rotational Churners"
   ],
   "metadata": {}
  },
  {
   "cell_type": "markdown",
   "source": [
    "**Group 6**\r\n",
    " - Timothy Chan\r\n",
    " - Rhyle Nodnylson Guinto\r\n",
    " - Chino Laguda\r\n",
    " - Randall Joseph Pajaro"
   ],
   "metadata": {}
  },
  {
   "cell_type": "markdown",
   "source": [
    "Loading the churner data and data of the newer/more recent users"
   ],
   "metadata": {}
  },
  {
   "cell_type": "code",
   "execution_count": 1,
   "source": [
    "import numpy as np\r\n",
    "import pandas as pd\r\n",
    "\r\n",
    "dfs = pd.ExcelFile('data/mock/sample_mock_c_data.xlsx')\r\n",
    "sheets = dfs.sheet_names\r\n",
    "d = []\r\n",
    "for i in range(10):\r\n",
    "    d.append(dfs.parse(sheet_name=sheets[i]))\r\n",
    "\r\n",
    "newer_users = pd.read_excel('data/mock/sample_mock_rc_data.xlsx')"
   ],
   "outputs": [],
   "metadata": {}
  },
  {
   "cell_type": "code",
   "execution_count": 2,
   "source": [
    "d[0].head()"
   ],
   "outputs": [
    {
     "output_type": "execute_result",
     "data": {
      "text/plain": [
       "       weeks             IMEI  phone_nums  credits_loaded_per_week  \\\n",
       "0 2018-04-17  772605788289199  9369298671                       20   \n",
       "1 2018-04-24  772605788289199  9369298671                      800   \n",
       "2 2018-05-01  772605788289199  9369298671                       30   \n",
       "3 2018-05-08  772605788289199  9369298671                      800   \n",
       "4 2018-05-15  772605788289199  9369298671                        0   \n",
       "\n",
       "   num_hrs_spend_on_net  mobile_data_usage(gb)  promos_used  active_times  \\\n",
       "0                  17.9                   7.51            7             2   \n",
       "1                   1.1                   5.55            0             2   \n",
       "2                  20.1                   6.78            8             2   \n",
       "3                  12.9                   8.65            7             1   \n",
       "4                  14.8                   7.28            3             0   \n",
       "\n",
       "   activity_status  \n",
       "0                0  \n",
       "1                0  \n",
       "2                0  \n",
       "3                0  \n",
       "4                0  "
      ],
      "text/html": [
       "<div>\n",
       "<style scoped>\n",
       "    .dataframe tbody tr th:only-of-type {\n",
       "        vertical-align: middle;\n",
       "    }\n",
       "\n",
       "    .dataframe tbody tr th {\n",
       "        vertical-align: top;\n",
       "    }\n",
       "\n",
       "    .dataframe thead th {\n",
       "        text-align: right;\n",
       "    }\n",
       "</style>\n",
       "<table border=\"1\" class=\"dataframe\">\n",
       "  <thead>\n",
       "    <tr style=\"text-align: right;\">\n",
       "      <th></th>\n",
       "      <th>weeks</th>\n",
       "      <th>IMEI</th>\n",
       "      <th>phone_nums</th>\n",
       "      <th>credits_loaded_per_week</th>\n",
       "      <th>num_hrs_spend_on_net</th>\n",
       "      <th>mobile_data_usage(gb)</th>\n",
       "      <th>promos_used</th>\n",
       "      <th>active_times</th>\n",
       "      <th>activity_status</th>\n",
       "    </tr>\n",
       "  </thead>\n",
       "  <tbody>\n",
       "    <tr>\n",
       "      <th>0</th>\n",
       "      <td>2018-04-17</td>\n",
       "      <td>772605788289199</td>\n",
       "      <td>9369298671</td>\n",
       "      <td>20</td>\n",
       "      <td>17.9</td>\n",
       "      <td>7.51</td>\n",
       "      <td>7</td>\n",
       "      <td>2</td>\n",
       "      <td>0</td>\n",
       "    </tr>\n",
       "    <tr>\n",
       "      <th>1</th>\n",
       "      <td>2018-04-24</td>\n",
       "      <td>772605788289199</td>\n",
       "      <td>9369298671</td>\n",
       "      <td>800</td>\n",
       "      <td>1.1</td>\n",
       "      <td>5.55</td>\n",
       "      <td>0</td>\n",
       "      <td>2</td>\n",
       "      <td>0</td>\n",
       "    </tr>\n",
       "    <tr>\n",
       "      <th>2</th>\n",
       "      <td>2018-05-01</td>\n",
       "      <td>772605788289199</td>\n",
       "      <td>9369298671</td>\n",
       "      <td>30</td>\n",
       "      <td>20.1</td>\n",
       "      <td>6.78</td>\n",
       "      <td>8</td>\n",
       "      <td>2</td>\n",
       "      <td>0</td>\n",
       "    </tr>\n",
       "    <tr>\n",
       "      <th>3</th>\n",
       "      <td>2018-05-08</td>\n",
       "      <td>772605788289199</td>\n",
       "      <td>9369298671</td>\n",
       "      <td>800</td>\n",
       "      <td>12.9</td>\n",
       "      <td>8.65</td>\n",
       "      <td>7</td>\n",
       "      <td>1</td>\n",
       "      <td>0</td>\n",
       "    </tr>\n",
       "    <tr>\n",
       "      <th>4</th>\n",
       "      <td>2018-05-15</td>\n",
       "      <td>772605788289199</td>\n",
       "      <td>9369298671</td>\n",
       "      <td>0</td>\n",
       "      <td>14.8</td>\n",
       "      <td>7.28</td>\n",
       "      <td>3</td>\n",
       "      <td>0</td>\n",
       "      <td>0</td>\n",
       "    </tr>\n",
       "  </tbody>\n",
       "</table>\n",
       "</div>"
      ]
     },
     "metadata": {},
     "execution_count": 2
    }
   ],
   "metadata": {}
  },
  {
   "cell_type": "code",
   "execution_count": 3,
   "source": [
    "newer_users.head()"
   ],
   "outputs": [
    {
     "output_type": "execute_result",
     "data": {
      "text/plain": [
       "       weeks              IMEI  phone_nums  credits_loaded_per_week  \\\n",
       "0 2018-12-11  5969775737476310  9995451837                       50   \n",
       "1 2018-12-18  5969775737476310  9995451837                     1000   \n",
       "2 2018-12-25  5969775737476310  9995451837                       70   \n",
       "3 2019-01-01  5969775737476310  9995451837                     1000   \n",
       "4 2019-01-08  5969775737476310  9995451837                        0   \n",
       "\n",
       "   num_hrs_spend_on_net  mobile_data_usage(gb)  promos_used  active_times  \\\n",
       "0                  19.2                    7.5            9             0   \n",
       "1                   1.1                    4.0            1             2   \n",
       "2                  20.1                    6.8            7             2   \n",
       "3                  12.1                    6.7            5             1   \n",
       "4                  14.8                    7.7            2             1   \n",
       "\n",
       "   activity_status  \n",
       "0                0  \n",
       "1                0  \n",
       "2                0  \n",
       "3                0  \n",
       "4                0  "
      ],
      "text/html": [
       "<div>\n",
       "<style scoped>\n",
       "    .dataframe tbody tr th:only-of-type {\n",
       "        vertical-align: middle;\n",
       "    }\n",
       "\n",
       "    .dataframe tbody tr th {\n",
       "        vertical-align: top;\n",
       "    }\n",
       "\n",
       "    .dataframe thead th {\n",
       "        text-align: right;\n",
       "    }\n",
       "</style>\n",
       "<table border=\"1\" class=\"dataframe\">\n",
       "  <thead>\n",
       "    <tr style=\"text-align: right;\">\n",
       "      <th></th>\n",
       "      <th>weeks</th>\n",
       "      <th>IMEI</th>\n",
       "      <th>phone_nums</th>\n",
       "      <th>credits_loaded_per_week</th>\n",
       "      <th>num_hrs_spend_on_net</th>\n",
       "      <th>mobile_data_usage(gb)</th>\n",
       "      <th>promos_used</th>\n",
       "      <th>active_times</th>\n",
       "      <th>activity_status</th>\n",
       "    </tr>\n",
       "  </thead>\n",
       "  <tbody>\n",
       "    <tr>\n",
       "      <th>0</th>\n",
       "      <td>2018-12-11</td>\n",
       "      <td>5969775737476310</td>\n",
       "      <td>9995451837</td>\n",
       "      <td>50</td>\n",
       "      <td>19.2</td>\n",
       "      <td>7.5</td>\n",
       "      <td>9</td>\n",
       "      <td>0</td>\n",
       "      <td>0</td>\n",
       "    </tr>\n",
       "    <tr>\n",
       "      <th>1</th>\n",
       "      <td>2018-12-18</td>\n",
       "      <td>5969775737476310</td>\n",
       "      <td>9995451837</td>\n",
       "      <td>1000</td>\n",
       "      <td>1.1</td>\n",
       "      <td>4.0</td>\n",
       "      <td>1</td>\n",
       "      <td>2</td>\n",
       "      <td>0</td>\n",
       "    </tr>\n",
       "    <tr>\n",
       "      <th>2</th>\n",
       "      <td>2018-12-25</td>\n",
       "      <td>5969775737476310</td>\n",
       "      <td>9995451837</td>\n",
       "      <td>70</td>\n",
       "      <td>20.1</td>\n",
       "      <td>6.8</td>\n",
       "      <td>7</td>\n",
       "      <td>2</td>\n",
       "      <td>0</td>\n",
       "    </tr>\n",
       "    <tr>\n",
       "      <th>3</th>\n",
       "      <td>2019-01-01</td>\n",
       "      <td>5969775737476310</td>\n",
       "      <td>9995451837</td>\n",
       "      <td>1000</td>\n",
       "      <td>12.1</td>\n",
       "      <td>6.7</td>\n",
       "      <td>5</td>\n",
       "      <td>1</td>\n",
       "      <td>0</td>\n",
       "    </tr>\n",
       "    <tr>\n",
       "      <th>4</th>\n",
       "      <td>2019-01-08</td>\n",
       "      <td>5969775737476310</td>\n",
       "      <td>9995451837</td>\n",
       "      <td>0</td>\n",
       "      <td>14.8</td>\n",
       "      <td>7.7</td>\n",
       "      <td>2</td>\n",
       "      <td>1</td>\n",
       "      <td>0</td>\n",
       "    </tr>\n",
       "  </tbody>\n",
       "</table>\n",
       "</div>"
      ]
     },
     "metadata": {},
     "execution_count": 3
    }
   ],
   "metadata": {}
  },
  {
   "cell_type": "code",
   "execution_count": 4,
   "source": [
    "df1 = d[0].iloc[:-4, :-3]\r\n",
    "df2 = newer_users.iloc[:len(df1), :-3]\r\n",
    "df3 = d[3].iloc[:len(df1), :-3]\r\n",
    "print(len(df1), ' ', len(df2), ' ', len(df3))"
   ],
   "outputs": [
    {
     "output_type": "stream",
     "name": "stdout",
     "text": [
      "29   29   29\n"
     ]
    }
   ],
   "metadata": {}
  },
  {
   "cell_type": "markdown",
   "source": [
    "# Using Euclidean Distance to Compare how Similar the New User is to a Churner"
   ],
   "metadata": {}
  },
  {
   "cell_type": "code",
   "execution_count": 5,
   "source": [
    "def Euclidean_Dist(df1, df2, cols=d[0].columns[3:-3]):\r\n",
    "    return (np.linalg.norm(df1[cols].values - df2[cols].values, axis=1))"
   ],
   "outputs": [],
   "metadata": {}
  },
  {
   "cell_type": "code",
   "execution_count": 6,
   "source": [
    "df1.head()"
   ],
   "outputs": [
    {
     "output_type": "execute_result",
     "data": {
      "text/plain": [
       "       weeks             IMEI  phone_nums  credits_loaded_per_week  \\\n",
       "0 2018-04-17  772605788289199  9369298671                       20   \n",
       "1 2018-04-24  772605788289199  9369298671                      800   \n",
       "2 2018-05-01  772605788289199  9369298671                       30   \n",
       "3 2018-05-08  772605788289199  9369298671                      800   \n",
       "4 2018-05-15  772605788289199  9369298671                        0   \n",
       "\n",
       "   num_hrs_spend_on_net  mobile_data_usage(gb)  \n",
       "0                  17.9                   7.51  \n",
       "1                   1.1                   5.55  \n",
       "2                  20.1                   6.78  \n",
       "3                  12.9                   8.65  \n",
       "4                  14.8                   7.28  "
      ],
      "text/html": [
       "<div>\n",
       "<style scoped>\n",
       "    .dataframe tbody tr th:only-of-type {\n",
       "        vertical-align: middle;\n",
       "    }\n",
       "\n",
       "    .dataframe tbody tr th {\n",
       "        vertical-align: top;\n",
       "    }\n",
       "\n",
       "    .dataframe thead th {\n",
       "        text-align: right;\n",
       "    }\n",
       "</style>\n",
       "<table border=\"1\" class=\"dataframe\">\n",
       "  <thead>\n",
       "    <tr style=\"text-align: right;\">\n",
       "      <th></th>\n",
       "      <th>weeks</th>\n",
       "      <th>IMEI</th>\n",
       "      <th>phone_nums</th>\n",
       "      <th>credits_loaded_per_week</th>\n",
       "      <th>num_hrs_spend_on_net</th>\n",
       "      <th>mobile_data_usage(gb)</th>\n",
       "    </tr>\n",
       "  </thead>\n",
       "  <tbody>\n",
       "    <tr>\n",
       "      <th>0</th>\n",
       "      <td>2018-04-17</td>\n",
       "      <td>772605788289199</td>\n",
       "      <td>9369298671</td>\n",
       "      <td>20</td>\n",
       "      <td>17.9</td>\n",
       "      <td>7.51</td>\n",
       "    </tr>\n",
       "    <tr>\n",
       "      <th>1</th>\n",
       "      <td>2018-04-24</td>\n",
       "      <td>772605788289199</td>\n",
       "      <td>9369298671</td>\n",
       "      <td>800</td>\n",
       "      <td>1.1</td>\n",
       "      <td>5.55</td>\n",
       "    </tr>\n",
       "    <tr>\n",
       "      <th>2</th>\n",
       "      <td>2018-05-01</td>\n",
       "      <td>772605788289199</td>\n",
       "      <td>9369298671</td>\n",
       "      <td>30</td>\n",
       "      <td>20.1</td>\n",
       "      <td>6.78</td>\n",
       "    </tr>\n",
       "    <tr>\n",
       "      <th>3</th>\n",
       "      <td>2018-05-08</td>\n",
       "      <td>772605788289199</td>\n",
       "      <td>9369298671</td>\n",
       "      <td>800</td>\n",
       "      <td>12.9</td>\n",
       "      <td>8.65</td>\n",
       "    </tr>\n",
       "    <tr>\n",
       "      <th>4</th>\n",
       "      <td>2018-05-15</td>\n",
       "      <td>772605788289199</td>\n",
       "      <td>9369298671</td>\n",
       "      <td>0</td>\n",
       "      <td>14.8</td>\n",
       "      <td>7.28</td>\n",
       "    </tr>\n",
       "  </tbody>\n",
       "</table>\n",
       "</div>"
      ]
     },
     "metadata": {},
     "execution_count": 6
    }
   ],
   "metadata": {}
  },
  {
   "cell_type": "code",
   "execution_count": 7,
   "source": [
    "distances = Euclidean_Dist(df1, df2)\r\n",
    "distances"
   ],
   "outputs": [
    {
     "output_type": "execute_result",
     "data": {
      "text/plain": [
       "array([3.00281551e+01, 2.00006006e+02, 4.00000050e+01, 2.00011106e+02,\n",
       "       4.20000000e-01, 3.00331167e+01, 8.00001379e+02, 9.10000811e+02,\n",
       "       9.20000000e-01, 2.68000000e+00, 5.00143989e+01, 2.00000225e+01,\n",
       "       3.01935771e+01, 2.61007663e+00, 9.80000862e+02, 1.10040901e+00,\n",
       "       1.80277564e+00, 9.50002981e+02, 7.00003959e+02, 1.50053324e+00,\n",
       "       9.10002831e+02, 5.00636435e+01, 2.00090205e+01, 1.68237927e+00,\n",
       "       3.01552798e+01, 9.30003098e+02, 1.50000000e+02, 3.00004817e+02,\n",
       "       2.58000000e+00])"
      ]
     },
     "metadata": {},
     "execution_count": 7
    }
   ],
   "metadata": {}
  },
  {
   "cell_type": "code",
   "execution_count": 8,
   "source": [
    "distances.mean()"
   ],
   "outputs": [
    {
     "output_type": "execute_result",
     "data": {
      "text/plain": [
       "253.3045256480743"
      ]
     },
     "metadata": {},
     "execution_count": 8
    }
   ],
   "metadata": {}
  },
  {
   "cell_type": "code",
   "execution_count": 9,
   "source": [
    "# comparing it to another user who is not related\r\n",
    "distances1 = Euclidean_Dist(df2, df3)\r\n",
    "distances1"
   ],
   "outputs": [
    {
     "output_type": "execute_result",
     "data": {
      "text/plain": [
       "array([  30.09007311, 1000.01516334,   50.71197985,  950.00601203,\n",
       "          8.62160658,   31.66172611, 1000.01957086, 1000.02617411,\n",
       "          2.50008   ,    7.2510413 ,  100.69451028,   81.05189449,\n",
       "         30.9141149 ,   17.67399219, 1000.00388144,    5.970335  ,\n",
       "         10.40461917,  910.16896761,  950.09294893,    8.17273516,\n",
       "        200.30027459,   70.46020153,   22.08241155,    1.13507709,\n",
       "         17.37475467, 1000.10919609,   60.66125287,  500.10574492,\n",
       "          3.80426077])"
      ]
     },
     "metadata": {},
     "execution_count": 9
    }
   ],
   "metadata": {}
  },
  {
   "cell_type": "code",
   "execution_count": 10,
   "source": [
    "distances1.mean()"
   ],
   "outputs": [
    {
     "output_type": "execute_result",
     "data": {
      "text/plain": [
       "312.8305034665228"
      ]
     },
     "metadata": {},
     "execution_count": 10
    }
   ],
   "metadata": {}
  },
  {
   "cell_type": "markdown",
   "source": [
    "### As we can see, the new user is much more similar to churner 1 compared to churner 2 when using euclidean distance."
   ],
   "metadata": {}
  },
  {
   "cell_type": "code",
   "execution_count": 11,
   "source": [
    "df1_sums = df1.groupby('IMEI')[d[0].columns[3:-3]].sum()\r\n",
    "df2_sums = df2.groupby('IMEI')[d[0].columns[3:-3]].sum()\r\n",
    "df3_sums = df3.groupby('IMEI')[d[0].columns[3:-3]].sum()"
   ],
   "outputs": [],
   "metadata": {}
  },
  {
   "cell_type": "code",
   "execution_count": 12,
   "source": [
    "# Modifying the Euchlidean Distance function\r\n",
    "def Mod_Euclidean_Dist(df1,df2,cols=d[0].columns[3:-3]):\r\n",
    "    x = df1.groupby('IMEI')[cols].sum()\r\n",
    "    y = df2.groupby('IMEI')[cols].sum()\r\n",
    "\r\n",
    "    return np.linalg.norm(x.values - y.values,\r\n",
    "                   axis=1)"
   ],
   "outputs": [],
   "metadata": {}
  },
  {
   "cell_type": "code",
   "execution_count": 13,
   "source": [
    "mod_distances = Mod_Euclidean_Dist(df1,df2)\r\n",
    "mod_distances \r\n",
    "\r\n",
    "# the first euclidean distance result produced a much better result in terms of comparing the difference of the 2 dataframes"
   ],
   "outputs": [
    {
     "output_type": "execute_result",
     "data": {
      "text/plain": [
       "array([6730.01072454])"
      ]
     },
     "metadata": {},
     "execution_count": 13
    }
   ],
   "metadata": {}
  },
  {
   "cell_type": "markdown",
   "source": [
    "# Different Mathematical Approach for Comparing\r\n",
    "\r\n",
    "Computation:\r\n",
    " - a = list of sums in each column of df1\r\n",
    " - b = list of sums in each column of df2\r\n",
    " - c = l/h (list of similarities per column; l = lower value in a certain index of lists a and b; h = higher value)\r\n",
    "\r\n",
    " similarity = (sum(c)/len(c))*100"
   ],
   "metadata": {}
  },
  {
   "cell_type": "code",
   "execution_count": 14,
   "source": [
    "def average_similarity(df1_sums, df2_sums):\r\n",
    "    percent_sim = []\r\n",
    "\r\n",
    "    for i in range(len(df1_sums.columns.tolist())):\r\n",
    "        x = 0\r\n",
    "        y = 0\r\n",
    "        if df1_sums[df1_sums.columns.tolist()[i]].tolist() < df2_sums[df2_sums.columns.tolist()[i]].tolist():\r\n",
    "            x = df1_sums[df1_sums.columns.tolist()[i]].tolist()[0]\r\n",
    "            y = df2_sums[df2_sums.columns.tolist()[i]].tolist()[0]\r\n",
    "        else:\r\n",
    "            x = df2_sums[df2_sums.columns.tolist()[i]].tolist()[0]\r\n",
    "            y = df1_sums[df1_sums.columns.tolist()[i]].tolist()[0]\r\n",
    "        percent_sim.append(x/y)\r\n",
    "        \r\n",
    "    return percent_sim"
   ],
   "outputs": [],
   "metadata": {}
  },
  {
   "cell_type": "code",
   "execution_count": 15,
   "source": [
    "df1_sums"
   ],
   "outputs": [
    {
     "output_type": "execute_result",
     "data": {
      "text/plain": [
       "                 credits_loaded_per_week  num_hrs_spend_on_net  \\\n",
       "IMEI                                                             \n",
       "772605788289199                     3690                 369.8   \n",
       "\n",
       "                 mobile_data_usage(gb)  \n",
       "IMEI                                    \n",
       "772605788289199                 205.68  "
      ],
      "text/html": [
       "<div>\n",
       "<style scoped>\n",
       "    .dataframe tbody tr th:only-of-type {\n",
       "        vertical-align: middle;\n",
       "    }\n",
       "\n",
       "    .dataframe tbody tr th {\n",
       "        vertical-align: top;\n",
       "    }\n",
       "\n",
       "    .dataframe thead th {\n",
       "        text-align: right;\n",
       "    }\n",
       "</style>\n",
       "<table border=\"1\" class=\"dataframe\">\n",
       "  <thead>\n",
       "    <tr style=\"text-align: right;\">\n",
       "      <th></th>\n",
       "      <th>credits_loaded_per_week</th>\n",
       "      <th>num_hrs_spend_on_net</th>\n",
       "      <th>mobile_data_usage(gb)</th>\n",
       "    </tr>\n",
       "    <tr>\n",
       "      <th>IMEI</th>\n",
       "      <th></th>\n",
       "      <th></th>\n",
       "      <th></th>\n",
       "    </tr>\n",
       "  </thead>\n",
       "  <tbody>\n",
       "    <tr>\n",
       "      <th>772605788289199</th>\n",
       "      <td>3690</td>\n",
       "      <td>369.8</td>\n",
       "      <td>205.68</td>\n",
       "    </tr>\n",
       "  </tbody>\n",
       "</table>\n",
       "</div>"
      ]
     },
     "metadata": {},
     "execution_count": 15
    }
   ],
   "metadata": {}
  },
  {
   "cell_type": "code",
   "execution_count": 16,
   "source": [
    "df2_sums"
   ],
   "outputs": [
    {
     "output_type": "execute_result",
     "data": {
      "text/plain": [
       "                  credits_loaded_per_week  num_hrs_spend_on_net  \\\n",
       "IMEI                                                              \n",
       "5969775737476310                    10420                 378.6   \n",
       "\n",
       "                  mobile_data_usage(gb)  \n",
       "IMEI                                     \n",
       "5969775737476310                  197.5  "
      ],
      "text/html": [
       "<div>\n",
       "<style scoped>\n",
       "    .dataframe tbody tr th:only-of-type {\n",
       "        vertical-align: middle;\n",
       "    }\n",
       "\n",
       "    .dataframe tbody tr th {\n",
       "        vertical-align: top;\n",
       "    }\n",
       "\n",
       "    .dataframe thead th {\n",
       "        text-align: right;\n",
       "    }\n",
       "</style>\n",
       "<table border=\"1\" class=\"dataframe\">\n",
       "  <thead>\n",
       "    <tr style=\"text-align: right;\">\n",
       "      <th></th>\n",
       "      <th>credits_loaded_per_week</th>\n",
       "      <th>num_hrs_spend_on_net</th>\n",
       "      <th>mobile_data_usage(gb)</th>\n",
       "    </tr>\n",
       "    <tr>\n",
       "      <th>IMEI</th>\n",
       "      <th></th>\n",
       "      <th></th>\n",
       "      <th></th>\n",
       "    </tr>\n",
       "  </thead>\n",
       "  <tbody>\n",
       "    <tr>\n",
       "      <th>5969775737476310</th>\n",
       "      <td>10420</td>\n",
       "      <td>378.6</td>\n",
       "      <td>197.5</td>\n",
       "    </tr>\n",
       "  </tbody>\n",
       "</table>\n",
       "</div>"
      ]
     },
     "metadata": {},
     "execution_count": 16
    }
   ],
   "metadata": {}
  },
  {
   "cell_type": "code",
   "execution_count": 17,
   "source": [
    "df3_sums"
   ],
   "outputs": [
    {
     "output_type": "execute_result",
     "data": {
      "text/plain": [
       "                 credits_loaded_per_week  num_hrs_spend_on_net  \\\n",
       "IMEI                                                             \n",
       "376328182885989                     1600                 348.1   \n",
       "\n",
       "                 mobile_data_usage(gb)  \n",
       "IMEI                                    \n",
       "376328182885989                 203.34  "
      ],
      "text/html": [
       "<div>\n",
       "<style scoped>\n",
       "    .dataframe tbody tr th:only-of-type {\n",
       "        vertical-align: middle;\n",
       "    }\n",
       "\n",
       "    .dataframe tbody tr th {\n",
       "        vertical-align: top;\n",
       "    }\n",
       "\n",
       "    .dataframe thead th {\n",
       "        text-align: right;\n",
       "    }\n",
       "</style>\n",
       "<table border=\"1\" class=\"dataframe\">\n",
       "  <thead>\n",
       "    <tr style=\"text-align: right;\">\n",
       "      <th></th>\n",
       "      <th>credits_loaded_per_week</th>\n",
       "      <th>num_hrs_spend_on_net</th>\n",
       "      <th>mobile_data_usage(gb)</th>\n",
       "    </tr>\n",
       "    <tr>\n",
       "      <th>IMEI</th>\n",
       "      <th></th>\n",
       "      <th></th>\n",
       "      <th></th>\n",
       "    </tr>\n",
       "  </thead>\n",
       "  <tbody>\n",
       "    <tr>\n",
       "      <th>376328182885989</th>\n",
       "      <td>1600</td>\n",
       "      <td>348.1</td>\n",
       "      <td>203.34</td>\n",
       "    </tr>\n",
       "  </tbody>\n",
       "</table>\n",
       "</div>"
      ]
     },
     "metadata": {},
     "execution_count": 17
    }
   ],
   "metadata": {}
  },
  {
   "cell_type": "code",
   "execution_count": 18,
   "source": [
    "av1 = average_similarity(df1_sums,df2_sums)\r\n",
    "av2 = average_similarity(df3_sums,df2_sums)"
   ],
   "outputs": [],
   "metadata": {}
  },
  {
   "cell_type": "code",
   "execution_count": 19,
   "source": [
    "ave_sim1 = sum(av1)/len(av1)*100\r\n",
    "ave_sim2 = sum(av2)/len(av2)*100\r\n",
    "print('Similarity is: {:.2f}%'.format(float(ave_sim1)))\r\n",
    "print('Similarity is: {:.2f}%'.format(float(ave_sim2)))"
   ],
   "outputs": [
    {
     "output_type": "stream",
     "name": "stdout",
     "text": [
      "Similarity is: 76.37%\n",
      "Similarity is: 68.14%\n"
     ]
    }
   ],
   "metadata": {}
  },
  {
   "cell_type": "markdown",
   "source": [
    "### Computing Similarity per Row and Computing the Average Similarity"
   ],
   "metadata": {}
  },
  {
   "cell_type": "code",
   "execution_count": 20,
   "source": [
    "df1.head(3)"
   ],
   "outputs": [
    {
     "output_type": "execute_result",
     "data": {
      "text/plain": [
       "       weeks             IMEI  phone_nums  credits_loaded_per_week  \\\n",
       "0 2018-04-17  772605788289199  9369298671                       20   \n",
       "1 2018-04-24  772605788289199  9369298671                      800   \n",
       "2 2018-05-01  772605788289199  9369298671                       30   \n",
       "\n",
       "   num_hrs_spend_on_net  mobile_data_usage(gb)  \n",
       "0                  17.9                   7.51  \n",
       "1                   1.1                   5.55  \n",
       "2                  20.1                   6.78  "
      ],
      "text/html": [
       "<div>\n",
       "<style scoped>\n",
       "    .dataframe tbody tr th:only-of-type {\n",
       "        vertical-align: middle;\n",
       "    }\n",
       "\n",
       "    .dataframe tbody tr th {\n",
       "        vertical-align: top;\n",
       "    }\n",
       "\n",
       "    .dataframe thead th {\n",
       "        text-align: right;\n",
       "    }\n",
       "</style>\n",
       "<table border=\"1\" class=\"dataframe\">\n",
       "  <thead>\n",
       "    <tr style=\"text-align: right;\">\n",
       "      <th></th>\n",
       "      <th>weeks</th>\n",
       "      <th>IMEI</th>\n",
       "      <th>phone_nums</th>\n",
       "      <th>credits_loaded_per_week</th>\n",
       "      <th>num_hrs_spend_on_net</th>\n",
       "      <th>mobile_data_usage(gb)</th>\n",
       "    </tr>\n",
       "  </thead>\n",
       "  <tbody>\n",
       "    <tr>\n",
       "      <th>0</th>\n",
       "      <td>2018-04-17</td>\n",
       "      <td>772605788289199</td>\n",
       "      <td>9369298671</td>\n",
       "      <td>20</td>\n",
       "      <td>17.9</td>\n",
       "      <td>7.51</td>\n",
       "    </tr>\n",
       "    <tr>\n",
       "      <th>1</th>\n",
       "      <td>2018-04-24</td>\n",
       "      <td>772605788289199</td>\n",
       "      <td>9369298671</td>\n",
       "      <td>800</td>\n",
       "      <td>1.1</td>\n",
       "      <td>5.55</td>\n",
       "    </tr>\n",
       "    <tr>\n",
       "      <th>2</th>\n",
       "      <td>2018-05-01</td>\n",
       "      <td>772605788289199</td>\n",
       "      <td>9369298671</td>\n",
       "      <td>30</td>\n",
       "      <td>20.1</td>\n",
       "      <td>6.78</td>\n",
       "    </tr>\n",
       "  </tbody>\n",
       "</table>\n",
       "</div>"
      ]
     },
     "metadata": {},
     "execution_count": 20
    }
   ],
   "metadata": {}
  },
  {
   "cell_type": "code",
   "execution_count": 21,
   "source": [
    "df2.head(3)"
   ],
   "outputs": [
    {
     "output_type": "execute_result",
     "data": {
      "text/plain": [
       "       weeks              IMEI  phone_nums  credits_loaded_per_week  \\\n",
       "0 2018-12-11  5969775737476310  9995451837                       50   \n",
       "1 2018-12-18  5969775737476310  9995451837                     1000   \n",
       "2 2018-12-25  5969775737476310  9995451837                       70   \n",
       "\n",
       "   num_hrs_spend_on_net  mobile_data_usage(gb)  \n",
       "0                  19.2                    7.5  \n",
       "1                   1.1                    4.0  \n",
       "2                  20.1                    6.8  "
      ],
      "text/html": [
       "<div>\n",
       "<style scoped>\n",
       "    .dataframe tbody tr th:only-of-type {\n",
       "        vertical-align: middle;\n",
       "    }\n",
       "\n",
       "    .dataframe tbody tr th {\n",
       "        vertical-align: top;\n",
       "    }\n",
       "\n",
       "    .dataframe thead th {\n",
       "        text-align: right;\n",
       "    }\n",
       "</style>\n",
       "<table border=\"1\" class=\"dataframe\">\n",
       "  <thead>\n",
       "    <tr style=\"text-align: right;\">\n",
       "      <th></th>\n",
       "      <th>weeks</th>\n",
       "      <th>IMEI</th>\n",
       "      <th>phone_nums</th>\n",
       "      <th>credits_loaded_per_week</th>\n",
       "      <th>num_hrs_spend_on_net</th>\n",
       "      <th>mobile_data_usage(gb)</th>\n",
       "    </tr>\n",
       "  </thead>\n",
       "  <tbody>\n",
       "    <tr>\n",
       "      <th>0</th>\n",
       "      <td>2018-12-11</td>\n",
       "      <td>5969775737476310</td>\n",
       "      <td>9995451837</td>\n",
       "      <td>50</td>\n",
       "      <td>19.2</td>\n",
       "      <td>7.5</td>\n",
       "    </tr>\n",
       "    <tr>\n",
       "      <th>1</th>\n",
       "      <td>2018-12-18</td>\n",
       "      <td>5969775737476310</td>\n",
       "      <td>9995451837</td>\n",
       "      <td>1000</td>\n",
       "      <td>1.1</td>\n",
       "      <td>4.0</td>\n",
       "    </tr>\n",
       "    <tr>\n",
       "      <th>2</th>\n",
       "      <td>2018-12-25</td>\n",
       "      <td>5969775737476310</td>\n",
       "      <td>9995451837</td>\n",
       "      <td>70</td>\n",
       "      <td>20.1</td>\n",
       "      <td>6.8</td>\n",
       "    </tr>\n",
       "  </tbody>\n",
       "</table>\n",
       "</div>"
      ]
     },
     "metadata": {},
     "execution_count": 21
    }
   ],
   "metadata": {}
  },
  {
   "cell_type": "code",
   "execution_count": 22,
   "source": [
    "vals = [[],[],[],[],[]]\r\n",
    "\r\n",
    "z=0\r\n",
    "for i in df1.columns[3:]:\r\n",
    "    for j in range(len(df1[i].tolist())):\r\n",
    "        x = 0\r\n",
    "        y = 0\r\n",
    "        if df1[i].tolist()[j] < df2[i].tolist()[j]:\r\n",
    "            x = df1[i].tolist()[j]\r\n",
    "            y = df2[i].tolist()[j]\r\n",
    "        else:\r\n",
    "            y = df1[i].tolist()[j]\r\n",
    "            x = df2[i].tolist()[j]\r\n",
    "        \r\n",
    "        if x == 0 and y == 0:\r\n",
    "            vals[z].append(100.00)\r\n",
    "        else:\r\n",
    "            vals[z].append(round((x/y)*100,2))\r\n",
    "    z+=1\r\n",
    "\r\n",
    "# I could have just used df1['column'] / df2['column'] or df2['column'] / df1['column'], but it does not check for division by 0s.\r\n",
    "# I also needed to check which value was lower as that will be the dividend."
   ],
   "outputs": [],
   "metadata": {}
  },
  {
   "cell_type": "code",
   "execution_count": 23,
   "source": [
    "data_dict = {}\r\n",
    "k=0\r\n",
    "for i in df1.columns[3:]:\r\n",
    "    data_dict[i] = vals[k]\r\n",
    "    k+=1\r\n",
    "\r\n",
    "sim_df = pd.DataFrame(data_dict)"
   ],
   "outputs": [],
   "metadata": {}
  },
  {
   "cell_type": "code",
   "execution_count": 24,
   "source": [
    "sim_df.head()"
   ],
   "outputs": [
    {
     "output_type": "execute_result",
     "data": {
      "text/plain": [
       "   credits_loaded_per_week  num_hrs_spend_on_net  mobile_data_usage(gb)\n",
       "0                    40.00                 93.23                  99.87\n",
       "1                    80.00                100.00                  72.07\n",
       "2                    42.86                100.00                  99.71\n",
       "3                    80.00                 93.80                  77.46\n",
       "4                   100.00                100.00                  94.55"
      ],
      "text/html": [
       "<div>\n",
       "<style scoped>\n",
       "    .dataframe tbody tr th:only-of-type {\n",
       "        vertical-align: middle;\n",
       "    }\n",
       "\n",
       "    .dataframe tbody tr th {\n",
       "        vertical-align: top;\n",
       "    }\n",
       "\n",
       "    .dataframe thead th {\n",
       "        text-align: right;\n",
       "    }\n",
       "</style>\n",
       "<table border=\"1\" class=\"dataframe\">\n",
       "  <thead>\n",
       "    <tr style=\"text-align: right;\">\n",
       "      <th></th>\n",
       "      <th>credits_loaded_per_week</th>\n",
       "      <th>num_hrs_spend_on_net</th>\n",
       "      <th>mobile_data_usage(gb)</th>\n",
       "    </tr>\n",
       "  </thead>\n",
       "  <tbody>\n",
       "    <tr>\n",
       "      <th>0</th>\n",
       "      <td>40.00</td>\n",
       "      <td>93.23</td>\n",
       "      <td>99.87</td>\n",
       "    </tr>\n",
       "    <tr>\n",
       "      <th>1</th>\n",
       "      <td>80.00</td>\n",
       "      <td>100.00</td>\n",
       "      <td>72.07</td>\n",
       "    </tr>\n",
       "    <tr>\n",
       "      <th>2</th>\n",
       "      <td>42.86</td>\n",
       "      <td>100.00</td>\n",
       "      <td>99.71</td>\n",
       "    </tr>\n",
       "    <tr>\n",
       "      <th>3</th>\n",
       "      <td>80.00</td>\n",
       "      <td>93.80</td>\n",
       "      <td>77.46</td>\n",
       "    </tr>\n",
       "    <tr>\n",
       "      <th>4</th>\n",
       "      <td>100.00</td>\n",
       "      <td>100.00</td>\n",
       "      <td>94.55</td>\n",
       "    </tr>\n",
       "  </tbody>\n",
       "</table>\n",
       "</div>"
      ]
     },
     "metadata": {},
     "execution_count": 24
    }
   ],
   "metadata": {}
  },
  {
   "cell_type": "code",
   "execution_count": 25,
   "source": [
    "sim_df['similarity'] = ((sim_df[sim_df.columns[0]] + sim_df[sim_df.columns[1]] + sim_df[sim_df.columns[2]])/300)*100\r\n",
    "sim_df.head()"
   ],
   "outputs": [
    {
     "output_type": "execute_result",
     "data": {
      "text/plain": [
       "   credits_loaded_per_week  num_hrs_spend_on_net  mobile_data_usage(gb)  \\\n",
       "0                    40.00                 93.23                  99.87   \n",
       "1                    80.00                100.00                  72.07   \n",
       "2                    42.86                100.00                  99.71   \n",
       "3                    80.00                 93.80                  77.46   \n",
       "4                   100.00                100.00                  94.55   \n",
       "\n",
       "   similarity  \n",
       "0   77.700000  \n",
       "1   84.023333  \n",
       "2   80.856667  \n",
       "3   83.753333  \n",
       "4   98.183333  "
      ],
      "text/html": [
       "<div>\n",
       "<style scoped>\n",
       "    .dataframe tbody tr th:only-of-type {\n",
       "        vertical-align: middle;\n",
       "    }\n",
       "\n",
       "    .dataframe tbody tr th {\n",
       "        vertical-align: top;\n",
       "    }\n",
       "\n",
       "    .dataframe thead th {\n",
       "        text-align: right;\n",
       "    }\n",
       "</style>\n",
       "<table border=\"1\" class=\"dataframe\">\n",
       "  <thead>\n",
       "    <tr style=\"text-align: right;\">\n",
       "      <th></th>\n",
       "      <th>credits_loaded_per_week</th>\n",
       "      <th>num_hrs_spend_on_net</th>\n",
       "      <th>mobile_data_usage(gb)</th>\n",
       "      <th>similarity</th>\n",
       "    </tr>\n",
       "  </thead>\n",
       "  <tbody>\n",
       "    <tr>\n",
       "      <th>0</th>\n",
       "      <td>40.00</td>\n",
       "      <td>93.23</td>\n",
       "      <td>99.87</td>\n",
       "      <td>77.700000</td>\n",
       "    </tr>\n",
       "    <tr>\n",
       "      <th>1</th>\n",
       "      <td>80.00</td>\n",
       "      <td>100.00</td>\n",
       "      <td>72.07</td>\n",
       "      <td>84.023333</td>\n",
       "    </tr>\n",
       "    <tr>\n",
       "      <th>2</th>\n",
       "      <td>42.86</td>\n",
       "      <td>100.00</td>\n",
       "      <td>99.71</td>\n",
       "      <td>80.856667</td>\n",
       "    </tr>\n",
       "    <tr>\n",
       "      <th>3</th>\n",
       "      <td>80.00</td>\n",
       "      <td>93.80</td>\n",
       "      <td>77.46</td>\n",
       "      <td>83.753333</td>\n",
       "    </tr>\n",
       "    <tr>\n",
       "      <th>4</th>\n",
       "      <td>100.00</td>\n",
       "      <td>100.00</td>\n",
       "      <td>94.55</td>\n",
       "      <td>98.183333</td>\n",
       "    </tr>\n",
       "  </tbody>\n",
       "</table>\n",
       "</div>"
      ]
     },
     "metadata": {},
     "execution_count": 25
    }
   ],
   "metadata": {}
  },
  {
   "cell_type": "code",
   "execution_count": 26,
   "source": [
    "sim_df['similarity'].mean()"
   ],
   "outputs": [
    {
     "output_type": "execute_result",
     "data": {
      "text/plain": [
       "76.68712643678163"
      ]
     },
     "metadata": {},
     "execution_count": 26
    }
   ],
   "metadata": {}
  },
  {
   "cell_type": "markdown",
   "source": [
    "### Computing using Pandas DataFrame method"
   ],
   "metadata": {}
  },
  {
   "cell_type": "code",
   "execution_count": 27,
   "source": [
    "sim_df2 = pd.DataFrame()\r\n",
    "\r\n",
    "sim_df2['sim1'] = df1['credits_loaded_per_week']/df2['credits_loaded_per_week']\r\n",
    "sim_df2['sim2'] = df1['num_hrs_spend_on_net']/df2['num_hrs_spend_on_net']\r\n",
    "sim_df2['sim3'] = df1['mobile_data_usage(gb)']/df2['mobile_data_usage(gb)']\r\n",
    "sim_df2.loc[sim_df2['sim1']>1,'sim1'] = 1/sim_df2['sim1']\r\n",
    "sim_df2.loc[sim_df2['sim2']>1,'sim2'] = 1/sim_df2['sim2']\r\n",
    "sim_df2.loc[sim_df2['sim3']>1,'sim3'] = 1/sim_df2['sim3']\r\n",
    "sim_df2['sim1'] *= 100\r\n",
    "sim_df2['sim2'] *= 100\r\n",
    "sim_df2['sim3'] *= 100\r\n",
    "sim_df2['similarity'] = ((sim_df2['sim1'] + sim_df2['sim2'] + sim_df2['sim3'])/300)*100\r\n",
    "\r\n",
    "sim_df3 = pd.DataFrame()\r\n",
    "sim_df3['sim1'] = df3['credits_loaded_per_week']/df2['credits_loaded_per_week']\r\n",
    "sim_df3['sim2'] = df3['num_hrs_spend_on_net']/df2['num_hrs_spend_on_net']\r\n",
    "sim_df3['sim3'] = df3['mobile_data_usage(gb)']/df2['mobile_data_usage(gb)']\r\n",
    "sim_df3.loc[sim_df3['sim1']>1,'sim1'] = 1/sim_df3['sim1']\r\n",
    "sim_df3.loc[sim_df3['sim2']>1,'sim2'] = 1/sim_df3['sim2']\r\n",
    "sim_df3.loc[sim_df3['sim3']>1,'sim3'] = 1/sim_df3['sim3']\r\n",
    "sim_df3['sim1'] *= 100\r\n",
    "sim_df3['sim2'] *= 100\r\n",
    "sim_df3['sim3'] *= 100\r\n",
    "sim_df3['similarity'] = ((sim_df3['sim1'] + sim_df3['sim2'] + sim_df3['sim3'])/300)*100\r\n",
    "\r\n",
    "print('Similarity is: {:.2f}%'.format(sim_df2['similarity'].mean()))\r\n",
    "print('Similarity is: {:.2f}%'.format(sim_df3['similarity'].mean()))"
   ],
   "outputs": [
    {
     "output_type": "execute_result",
     "data": {
      "text/plain": [
       "68.99026443575166"
      ]
     },
     "metadata": {},
     "execution_count": 27
    }
   ],
   "metadata": {}
  },
  {
   "cell_type": "markdown",
   "source": [
    "# Similarity using Cosine Similarity"
   ],
   "metadata": {}
  },
  {
   "cell_type": "code",
   "execution_count": 28,
   "source": [
    "d1 = df1.iloc[:, 3:].copy()\r\n",
    "d2 = df2.iloc[:, 3:].copy()\r\n",
    "d3 = df3.iloc[:, 3:].copy()\r\n",
    "\r\n",
    "d1.head()"
   ],
   "outputs": [
    {
     "output_type": "execute_result",
     "data": {
      "text/plain": [
       "   credits_loaded_per_week  num_hrs_spend_on_net  mobile_data_usage(gb)\n",
       "0                       20                  17.9                   7.51\n",
       "1                      800                   1.1                   5.55\n",
       "2                       30                  20.1                   6.78\n",
       "3                      800                  12.9                   8.65\n",
       "4                        0                  14.8                   7.28"
      ],
      "text/html": [
       "<div>\n",
       "<style scoped>\n",
       "    .dataframe tbody tr th:only-of-type {\n",
       "        vertical-align: middle;\n",
       "    }\n",
       "\n",
       "    .dataframe tbody tr th {\n",
       "        vertical-align: top;\n",
       "    }\n",
       "\n",
       "    .dataframe thead th {\n",
       "        text-align: right;\n",
       "    }\n",
       "</style>\n",
       "<table border=\"1\" class=\"dataframe\">\n",
       "  <thead>\n",
       "    <tr style=\"text-align: right;\">\n",
       "      <th></th>\n",
       "      <th>credits_loaded_per_week</th>\n",
       "      <th>num_hrs_spend_on_net</th>\n",
       "      <th>mobile_data_usage(gb)</th>\n",
       "    </tr>\n",
       "  </thead>\n",
       "  <tbody>\n",
       "    <tr>\n",
       "      <th>0</th>\n",
       "      <td>20</td>\n",
       "      <td>17.9</td>\n",
       "      <td>7.51</td>\n",
       "    </tr>\n",
       "    <tr>\n",
       "      <th>1</th>\n",
       "      <td>800</td>\n",
       "      <td>1.1</td>\n",
       "      <td>5.55</td>\n",
       "    </tr>\n",
       "    <tr>\n",
       "      <th>2</th>\n",
       "      <td>30</td>\n",
       "      <td>20.1</td>\n",
       "      <td>6.78</td>\n",
       "    </tr>\n",
       "    <tr>\n",
       "      <th>3</th>\n",
       "      <td>800</td>\n",
       "      <td>12.9</td>\n",
       "      <td>8.65</td>\n",
       "    </tr>\n",
       "    <tr>\n",
       "      <th>4</th>\n",
       "      <td>0</td>\n",
       "      <td>14.8</td>\n",
       "      <td>7.28</td>\n",
       "    </tr>\n",
       "  </tbody>\n",
       "</table>\n",
       "</div>"
      ]
     },
     "metadata": {},
     "execution_count": 28
    }
   ],
   "metadata": {}
  },
  {
   "cell_type": "markdown",
   "source": [
    "Instead of comparing each value from a column to other columns as it would generate a matrix, cosine similarities would be utilized to compare the similarities between similar columns of the dataframes. (cosine_sim(df1_col1,df2_col1))"
   ],
   "metadata": {}
  },
  {
   "cell_type": "code",
   "execution_count": 29,
   "source": [
    "from sklearn.metrics.pairwise import cosine_similarity\r\n",
    "\r\n",
    "cs1 = cosine_similarity([d1[i].tolist() for i in d1.columns],[d2[i].tolist() for i in d2.columns])\r\n",
    "cs2 = cosine_similarity([d3[i].tolist() for i in d3.columns],[d2[i].tolist() for i in d2.columns])\r\n",
    "average_sim1 = (sum(cs1.diagonal().tolist())/len(cs1.diagonal().tolist()))*100\r\n",
    "average_sim2 = (sum(cs2.diagonal().tolist())/len(cs2.diagonal().tolist()))*100\r\n",
    "\r\n",
    "print('Average Similarity of {} and {} is {:.2f}%'.format(df1['phone_nums'][0], df2['phone_nums'][0], average_sim1))\r\n",
    "print('Average Similarity of {} and {} is {:.2f}%'.format(df3['phone_nums'][0], df2['phone_nums'][0], average_sim2))"
   ],
   "outputs": [
    {
     "output_type": "stream",
     "name": "stdout",
     "text": [
      "Average Similarity of 9369298671 and 9995451837 is 88.79%\n",
      "Average Similarity of 9471296631 and 9995451837 is 72.85%\n"
     ]
    }
   ],
   "metadata": {}
  },
  {
   "cell_type": "markdown",
   "source": [
    "# Data Visualizations"
   ],
   "metadata": {}
  },
  {
   "cell_type": "code",
   "execution_count": 30,
   "source": [
    "from matplotlib import pyplot as plt"
   ],
   "outputs": [],
   "metadata": {}
  },
  {
   "cell_type": "code",
   "execution_count": 31,
   "source": [
    "dv1 = pd.DataFrame({\r\n",
    "    'c{}_phone_nums'.format(0):df1['phone_nums'].tolist(),\r\n",
    "    'c{}_credits_loaded_per_week'.format(0):df1['credits_loaded_per_week'].tolist(),\r\n",
    "    'c{}_num_hrs_spend_on_net'.format(0):df1['num_hrs_spend_on_net'].tolist(),\r\n",
    "    'c{}_mobile_data_usage(gb)'.format(0):df1['mobile_data_usage(gb)'].tolist(),\r\n",
    "    'rc{}_phone_nums'.format(0):df2['phone_nums'].tolist(),\r\n",
    "    'rc{}_credits_loaded_per_week'.format(0):df2['credits_loaded_per_week'].tolist(),\r\n",
    "    'rc{}_num_hrs_spend_on_net'.format(0):df2['num_hrs_spend_on_net'].tolist(),\r\n",
    "    'rc{}_mobile_data_usage(gb)'.format(0):df2['mobile_data_usage(gb)'].tolist()\r\n",
    "    })\r\n",
    "\r\n",
    "dv2 = pd.DataFrame({\r\n",
    "    'c{}_phone_nums'.format(3):df3['phone_nums'].tolist(),\r\n",
    "    'c{}_credits_loaded_per_week'.format(3):df3['credits_loaded_per_week'].tolist(),\r\n",
    "    'c{}_num_hrs_spend_on_net'.format(3):df3['num_hrs_spend_on_net'].tolist(),\r\n",
    "    'c{}_mobile_data_usage(gb)'.format(3):df3['mobile_data_usage(gb)'].tolist(),\r\n",
    "    'rc{}_phone_nums'.format(0):df2['phone_nums'].tolist(),\r\n",
    "    'rc{}_credits_loaded_per_week'.format(0):df2['credits_loaded_per_week'].tolist(),\r\n",
    "    'rc{}_num_hrs_spend_on_net'.format(0):df2['num_hrs_spend_on_net'].tolist(),\r\n",
    "    'rc{}_mobile_data_usage(gb)'.format(0):df2['mobile_data_usage(gb)'].tolist()\r\n",
    "    })\r\n",
    "\r\n",
    "dv1.head()"
   ],
   "outputs": [
    {
     "output_type": "execute_result",
     "data": {
      "text/plain": [
       "   c0_phone_nums  c0_credits_loaded_per_week  c0_num_hrs_spend_on_net  \\\n",
       "0     9369298671                          20                     17.9   \n",
       "1     9369298671                         800                      1.1   \n",
       "2     9369298671                          30                     20.1   \n",
       "3     9369298671                         800                     12.9   \n",
       "4     9369298671                           0                     14.8   \n",
       "\n",
       "   c0_mobile_data_usage(gb)  rc0_phone_nums  rc0_credits_loaded_per_week  \\\n",
       "0                      7.51      9995451837                           50   \n",
       "1                      5.55      9995451837                         1000   \n",
       "2                      6.78      9995451837                           70   \n",
       "3                      8.65      9995451837                         1000   \n",
       "4                      7.28      9995451837                            0   \n",
       "\n",
       "   rc0_num_hrs_spend_on_net  rc0_mobile_data_usage(gb)  \n",
       "0                      19.2                        7.5  \n",
       "1                       1.1                        4.0  \n",
       "2                      20.1                        6.8  \n",
       "3                      12.1                        6.7  \n",
       "4                      14.8                        7.7  "
      ],
      "text/html": [
       "<div>\n",
       "<style scoped>\n",
       "    .dataframe tbody tr th:only-of-type {\n",
       "        vertical-align: middle;\n",
       "    }\n",
       "\n",
       "    .dataframe tbody tr th {\n",
       "        vertical-align: top;\n",
       "    }\n",
       "\n",
       "    .dataframe thead th {\n",
       "        text-align: right;\n",
       "    }\n",
       "</style>\n",
       "<table border=\"1\" class=\"dataframe\">\n",
       "  <thead>\n",
       "    <tr style=\"text-align: right;\">\n",
       "      <th></th>\n",
       "      <th>c0_phone_nums</th>\n",
       "      <th>c0_credits_loaded_per_week</th>\n",
       "      <th>c0_num_hrs_spend_on_net</th>\n",
       "      <th>c0_mobile_data_usage(gb)</th>\n",
       "      <th>rc0_phone_nums</th>\n",
       "      <th>rc0_credits_loaded_per_week</th>\n",
       "      <th>rc0_num_hrs_spend_on_net</th>\n",
       "      <th>rc0_mobile_data_usage(gb)</th>\n",
       "    </tr>\n",
       "  </thead>\n",
       "  <tbody>\n",
       "    <tr>\n",
       "      <th>0</th>\n",
       "      <td>9369298671</td>\n",
       "      <td>20</td>\n",
       "      <td>17.9</td>\n",
       "      <td>7.51</td>\n",
       "      <td>9995451837</td>\n",
       "      <td>50</td>\n",
       "      <td>19.2</td>\n",
       "      <td>7.5</td>\n",
       "    </tr>\n",
       "    <tr>\n",
       "      <th>1</th>\n",
       "      <td>9369298671</td>\n",
       "      <td>800</td>\n",
       "      <td>1.1</td>\n",
       "      <td>5.55</td>\n",
       "      <td>9995451837</td>\n",
       "      <td>1000</td>\n",
       "      <td>1.1</td>\n",
       "      <td>4.0</td>\n",
       "    </tr>\n",
       "    <tr>\n",
       "      <th>2</th>\n",
       "      <td>9369298671</td>\n",
       "      <td>30</td>\n",
       "      <td>20.1</td>\n",
       "      <td>6.78</td>\n",
       "      <td>9995451837</td>\n",
       "      <td>70</td>\n",
       "      <td>20.1</td>\n",
       "      <td>6.8</td>\n",
       "    </tr>\n",
       "    <tr>\n",
       "      <th>3</th>\n",
       "      <td>9369298671</td>\n",
       "      <td>800</td>\n",
       "      <td>12.9</td>\n",
       "      <td>8.65</td>\n",
       "      <td>9995451837</td>\n",
       "      <td>1000</td>\n",
       "      <td>12.1</td>\n",
       "      <td>6.7</td>\n",
       "    </tr>\n",
       "    <tr>\n",
       "      <th>4</th>\n",
       "      <td>9369298671</td>\n",
       "      <td>0</td>\n",
       "      <td>14.8</td>\n",
       "      <td>7.28</td>\n",
       "      <td>9995451837</td>\n",
       "      <td>0</td>\n",
       "      <td>14.8</td>\n",
       "      <td>7.7</td>\n",
       "    </tr>\n",
       "  </tbody>\n",
       "</table>\n",
       "</div>"
      ]
     },
     "metadata": {},
     "execution_count": 31
    }
   ],
   "metadata": {}
  },
  {
   "cell_type": "markdown",
   "source": [
    "## Comparison of Number of Hrs spent on the Internet of a New User from Different Churners"
   ],
   "metadata": {}
  },
  {
   "cell_type": "code",
   "execution_count": 32,
   "source": [
    "plt.rcParams[\"figure.figsize\"] = (24,8)\r\n",
    "\r\n",
    "plt.subplot(1,2,1)\r\n",
    "ax1 = dv1.plot.line(y=['c0_num_hrs_spend_on_net','rc0_num_hrs_spend_on_net'], ax=plt.gca())\r\n",
    "plt.xlabel('weeks')\r\n",
    "plt.ylabel('hours')\r\n",
    "\r\n",
    "plt.subplot(1,2,2)\r\n",
    "ax2 = dv2.plot.line(y=['c3_num_hrs_spend_on_net','rc0_num_hrs_spend_on_net'], ax=plt.gca())\r\n",
    "plt.xlabel('weeks')\r\n",
    "plt.ylabel('hours')\r\n",
    "\r\n",
    "plt.show()"
   ],
   "outputs": [
    {
     "output_type": "display_data",
     "data": {
      "text/plain": [
       "<Figure size 1728x576 with 2 Axes>"
      ],
      "image/png": "[encoded data removed]"
     },
     "metadata": {
      "needs_background": "light"
     }
    }
   ],
   "metadata": {}
  },
  {
   "cell_type": "code",
   "execution_count": 33,
   "source": [
    "plt.subplot(1,2,1)\r\n",
    "ax1 = dv1.plot.line(y=['c0_mobile_data_usage(gb)','rc0_mobile_data_usage(gb)'], ax=plt.gca())\r\n",
    "plt.xlabel('weeks')\r\n",
    "plt.ylabel('hours')\r\n",
    "\r\n",
    "plt.subplot(1,2,2)\r\n",
    "ax2 = dv2.plot.line(y=['c3_mobile_data_usage(gb)','rc0_mobile_data_usage(gb)'], ax=plt.gca())\r\n",
    "plt.xlabel('weeks')\r\n",
    "plt.ylabel('hours')\r\n",
    "\r\n",
    "plt.show()"
   ],
   "outputs": [
    {
     "output_type": "display_data",
     "data": {
      "text/plain": [
       "<Figure size 1728x576 with 2 Axes>"
      ],
      "image/png": "[encoded data removed]"
     },
     "metadata": {
      "needs_background": "light"
     }
    }
   ],
   "metadata": {}
  },
  {
   "cell_type": "code",
   "execution_count": null,
   "source": [],
   "outputs": [],
   "metadata": {}
  }
 ]
}