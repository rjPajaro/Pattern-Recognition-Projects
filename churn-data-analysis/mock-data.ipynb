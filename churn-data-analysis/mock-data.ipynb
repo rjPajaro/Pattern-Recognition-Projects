{
 "metadata": {
  "language_info": {
   "codemirror_mode": {
    "name": "ipython",
    "version": 3
   },
   "file_extension": ".py",
   "mimetype": "text/x-python",
   "name": "python",
   "nbconvert_exporter": "python",
   "pygments_lexer": "ipython3",
   "version": "3.8.3"
  },
  "orig_nbformat": 4,
  "kernelspec": {
   "name": "python3",
   "display_name": "Python 3.8.3 64-bit ('base': conda)"
  },
  "interpreter": {
   "hash": "80e949a67cf278127b748d188dfe995fcb9b6fe4ab79bb80686294a040d0359f"
  }
 },
 "nbformat": 4,
 "nbformat_minor": 2,
 "cells": [
  {
   "source": [
    "# Mock Data Creation"
   ],
   "cell_type": "markdown",
   "metadata": {}
  },
  {
   "cell_type": "code",
   "execution_count": 1,
   "metadata": {},
   "outputs": [],
   "source": [
    "import pandas as pd\n",
    "from mock_data_script import mock_data_generation as mds"
   ]
  },
  {
   "cell_type": "code",
   "execution_count": 2,
   "metadata": {},
   "outputs": [],
   "source": [
    "d = []\n",
    "\n",
    "for _ in range(10):\n",
    "    weeks, IMEIs, credits_loaded, num_hrs, mdu, promos, times, active = mds.mock_churner_data()\n",
    "    d.append(pd.DataFrame({\n",
    "        'weeks':weeks, \n",
    "        'IMEI':IMEIs,\n",
    "        'credits_loaded_per_week':credits_loaded,\n",
    "        'num_hrs_spend_on_net':num_hrs,\n",
    "        'mobile_data_usage(gb)':mdu,\n",
    "        'promos_used':promos,\n",
    "        'active_times':times,\n",
    "        'activity_status':active\n",
    "        }))"
   ]
  },
  {
   "cell_type": "code",
   "execution_count": 3,
   "metadata": {},
   "outputs": [
    {
     "output_type": "execute_result",
     "data": {
      "text/plain": [
       "        weeks             IMEI  credits_loaded_per_week  num_hrs_spend_on_net  \\\n",
       "0  2019-07-17  823865145970266                      100                   5.3   \n",
       "1  2019-07-24  823865145970266                        0                  17.4   \n",
       "2  2019-07-31  823865145970266                      200                  15.5   \n",
       "3  2019-08-07  823865145970266                       20                  13.2   \n",
       "4  2019-08-14  823865145970266                        0                   2.7   \n",
       "5  2019-08-21  823865145970266                       30                  14.4   \n",
       "6  2019-08-28  823865145970266                        0                  14.0   \n",
       "7  2019-09-04  823865145970266                        0                   4.3   \n",
       "8  2019-09-11  823865145970266                       30                   3.2   \n",
       "9  2019-09-18  823865145970266                      800                   5.1   \n",
       "10 2019-09-25  823865145970266                        0                   8.0   \n",
       "11 2019-10-02  823865145970266                        0                  21.6   \n",
       "12 2019-10-09  823865145970266                       20                  15.1   \n",
       "13 2019-10-16  823865145970266                        0                  10.0   \n",
       "14 2019-10-23  823865145970266                       90                   8.8   \n",
       "15 2019-10-30  823865145970266                        0                   6.6   \n",
       "16 2019-11-06  823865145970266                        0                  12.3   \n",
       "17 2019-11-13  823865145970266                        0                  22.6   \n",
       "18 2019-11-20  823865145970266                        0                  14.6   \n",
       "19 2019-11-27  823865145970266                       50                   5.7   \n",
       "20 2019-12-04  823865145970266                      500                   2.8   \n",
       "21 2019-12-11  823865145970266                        0                   9.3   \n",
       "22 2019-12-18  823865145970266                      100                  15.4   \n",
       "23 2019-12-25  823865145970266                        0                   0.7   \n",
       "24 2020-01-01  823865145970266                     1000                   4.1   \n",
       "25 2020-01-08  823865145970266                        0                   1.4   \n",
       "26 2020-01-15  823865145970266                        0                   0.0   \n",
       "27 2020-01-22  823865145970266                        0                   0.0   \n",
       "28 2020-01-29  823865145970266                        0                   0.0   \n",
       "29 2020-02-05  823865145970266                        0                   0.0   \n",
       "\n",
       "    mobile_data_usage(gb)  promos_used  active_times  activity_status  \n",
       "0                    8.07            0             1                0  \n",
       "1                    8.60            0             0                0  \n",
       "2                    5.23            2             1                0  \n",
       "3                    6.87            2             0                0  \n",
       "4                    5.59            3             0                0  \n",
       "5                    6.87            0             2                0  \n",
       "6                    7.15            3             0                0  \n",
       "7                    6.63            2             2                0  \n",
       "8                    6.84            4             1                0  \n",
       "9                    6.39            1             2                0  \n",
       "10                   6.49            2             1                0  \n",
       "11                   7.91            0             1                0  \n",
       "12                   5.06            1             1                0  \n",
       "13                   7.72            6             1                0  \n",
       "14                   8.36            5             0                0  \n",
       "15                   7.13            0             0                0  \n",
       "16                   5.82            4             1                0  \n",
       "17                   8.05            5             2                0  \n",
       "18                   7.17            1             1                0  \n",
       "19                   5.58            3             0                0  \n",
       "20                   8.05            1             1                0  \n",
       "21                   5.89            1             1                0  \n",
       "22                   6.06            0             1                0  \n",
       "23                   6.76            0             2                0  \n",
       "24                   5.16            1             1                0  \n",
       "25                   8.69            3             0                0  \n",
       "26                   0.00            0             0                1  \n",
       "27                   0.00            0             0                1  \n",
       "28                   0.00            0             0                1  \n",
       "29                   0.00            0             0                1  "
      ],
      "text/html": "<div>\n<style scoped>\n    .dataframe tbody tr th:only-of-type {\n        vertical-align: middle;\n    }\n\n    .dataframe tbody tr th {\n        vertical-align: top;\n    }\n\n    .dataframe thead th {\n        text-align: right;\n    }\n</style>\n<table border=\"1\" class=\"dataframe\">\n  <thead>\n    <tr style=\"text-align: right;\">\n      <th></th>\n      <th>weeks</th>\n      <th>IMEI</th>\n      <th>credits_loaded_per_week</th>\n      <th>num_hrs_spend_on_net</th>\n      <th>mobile_data_usage(gb)</th>\n      <th>promos_used</th>\n      <th>active_times</th>\n      <th>activity_status</th>\n    </tr>\n  </thead>\n  <tbody>\n    <tr>\n      <th>0</th>\n      <td>2019-07-17</td>\n      <td>823865145970266</td>\n      <td>100</td>\n      <td>5.3</td>\n      <td>8.07</td>\n      <td>0</td>\n      <td>1</td>\n      <td>0</td>\n    </tr>\n    <tr>\n      <th>1</th>\n      <td>2019-07-24</td>\n      <td>823865145970266</td>\n      <td>0</td>\n      <td>17.4</td>\n      <td>8.60</td>\n      <td>0</td>\n      <td>0</td>\n      <td>0</td>\n    </tr>\n    <tr>\n      <th>2</th>\n      <td>2019-07-31</td>\n      <td>823865145970266</td>\n      <td>200</td>\n      <td>15.5</td>\n      <td>5.23</td>\n      <td>2</td>\n      <td>1</td>\n      <td>0</td>\n    </tr>\n    <tr>\n      <th>3</th>\n      <td>2019-08-07</td>\n      <td>823865145970266</td>\n      <td>20</td>\n      <td>13.2</td>\n      <td>6.87</td>\n      <td>2</td>\n      <td>0</td>\n      <td>0</td>\n    </tr>\n    <tr>\n      <th>4</th>\n      <td>2019-08-14</td>\n      <td>823865145970266</td>\n      <td>0</td>\n      <td>2.7</td>\n      <td>5.59</td>\n      <td>3</td>\n      <td>0</td>\n      <td>0</td>\n    </tr>\n    <tr>\n      <th>5</th>\n      <td>2019-08-21</td>\n      <td>823865145970266</td>\n      <td>30</td>\n      <td>14.4</td>\n      <td>6.87</td>\n      <td>0</td>\n      <td>2</td>\n      <td>0</td>\n    </tr>\n    <tr>\n      <th>6</th>\n      <td>2019-08-28</td>\n      <td>823865145970266</td>\n      <td>0</td>\n      <td>14.0</td>\n      <td>7.15</td>\n      <td>3</td>\n      <td>0</td>\n      <td>0</td>\n    </tr>\n    <tr>\n      <th>7</th>\n      <td>2019-09-04</td>\n      <td>823865145970266</td>\n      <td>0</td>\n      <td>4.3</td>\n      <td>6.63</td>\n      <td>2</td>\n      <td>2</td>\n      <td>0</td>\n    </tr>\n    <tr>\n      <th>8</th>\n      <td>2019-09-11</td>\n      <td>823865145970266</td>\n      <td>30</td>\n      <td>3.2</td>\n      <td>6.84</td>\n      <td>4</td>\n      <td>1</td>\n      <td>0</td>\n    </tr>\n    <tr>\n      <th>9</th>\n      <td>2019-09-18</td>\n      <td>823865145970266</td>\n      <td>800</td>\n      <td>5.1</td>\n      <td>6.39</td>\n      <td>1</td>\n      <td>2</td>\n      <td>0</td>\n    </tr>\n    <tr>\n      <th>10</th>\n      <td>2019-09-25</td>\n      <td>823865145970266</td>\n      <td>0</td>\n      <td>8.0</td>\n      <td>6.49</td>\n      <td>2</td>\n      <td>1</td>\n      <td>0</td>\n    </tr>\n    <tr>\n      <th>11</th>\n      <td>2019-10-02</td>\n      <td>823865145970266</td>\n      <td>0</td>\n      <td>21.6</td>\n      <td>7.91</td>\n      <td>0</td>\n      <td>1</td>\n      <td>0</td>\n    </tr>\n    <tr>\n      <th>12</th>\n      <td>2019-10-09</td>\n      <td>823865145970266</td>\n      <td>20</td>\n      <td>15.1</td>\n      <td>5.06</td>\n      <td>1</td>\n      <td>1</td>\n      <td>0</td>\n    </tr>\n    <tr>\n      <th>13</th>\n      <td>2019-10-16</td>\n      <td>823865145970266</td>\n      <td>0</td>\n      <td>10.0</td>\n      <td>7.72</td>\n      <td>6</td>\n      <td>1</td>\n      <td>0</td>\n    </tr>\n    <tr>\n      <th>14</th>\n      <td>2019-10-23</td>\n      <td>823865145970266</td>\n      <td>90</td>\n      <td>8.8</td>\n      <td>8.36</td>\n      <td>5</td>\n      <td>0</td>\n      <td>0</td>\n    </tr>\n    <tr>\n      <th>15</th>\n      <td>2019-10-30</td>\n      <td>823865145970266</td>\n      <td>0</td>\n      <td>6.6</td>\n      <td>7.13</td>\n      <td>0</td>\n      <td>0</td>\n      <td>0</td>\n    </tr>\n    <tr>\n      <th>16</th>\n      <td>2019-11-06</td>\n      <td>823865145970266</td>\n      <td>0</td>\n      <td>12.3</td>\n      <td>5.82</td>\n      <td>4</td>\n      <td>1</td>\n      <td>0</td>\n    </tr>\n    <tr>\n      <th>17</th>\n      <td>2019-11-13</td>\n      <td>823865145970266</td>\n      <td>0</td>\n      <td>22.6</td>\n      <td>8.05</td>\n      <td>5</td>\n      <td>2</td>\n      <td>0</td>\n    </tr>\n    <tr>\n      <th>18</th>\n      <td>2019-11-20</td>\n      <td>823865145970266</td>\n      <td>0</td>\n      <td>14.6</td>\n      <td>7.17</td>\n      <td>1</td>\n      <td>1</td>\n      <td>0</td>\n    </tr>\n    <tr>\n      <th>19</th>\n      <td>2019-11-27</td>\n      <td>823865145970266</td>\n      <td>50</td>\n      <td>5.7</td>\n      <td>5.58</td>\n      <td>3</td>\n      <td>0</td>\n      <td>0</td>\n    </tr>\n    <tr>\n      <th>20</th>\n      <td>2019-12-04</td>\n      <td>823865145970266</td>\n      <td>500</td>\n      <td>2.8</td>\n      <td>8.05</td>\n      <td>1</td>\n      <td>1</td>\n      <td>0</td>\n    </tr>\n    <tr>\n      <th>21</th>\n      <td>2019-12-11</td>\n      <td>823865145970266</td>\n      <td>0</td>\n      <td>9.3</td>\n      <td>5.89</td>\n      <td>1</td>\n      <td>1</td>\n      <td>0</td>\n    </tr>\n    <tr>\n      <th>22</th>\n      <td>2019-12-18</td>\n      <td>823865145970266</td>\n      <td>100</td>\n      <td>15.4</td>\n      <td>6.06</td>\n      <td>0</td>\n      <td>1</td>\n      <td>0</td>\n    </tr>\n    <tr>\n      <th>23</th>\n      <td>2019-12-25</td>\n      <td>823865145970266</td>\n      <td>0</td>\n      <td>0.7</td>\n      <td>6.76</td>\n      <td>0</td>\n      <td>2</td>\n      <td>0</td>\n    </tr>\n    <tr>\n      <th>24</th>\n      <td>2020-01-01</td>\n      <td>823865145970266</td>\n      <td>1000</td>\n      <td>4.1</td>\n      <td>5.16</td>\n      <td>1</td>\n      <td>1</td>\n      <td>0</td>\n    </tr>\n    <tr>\n      <th>25</th>\n      <td>2020-01-08</td>\n      <td>823865145970266</td>\n      <td>0</td>\n      <td>1.4</td>\n      <td>8.69</td>\n      <td>3</td>\n      <td>0</td>\n      <td>0</td>\n    </tr>\n    <tr>\n      <th>26</th>\n      <td>2020-01-15</td>\n      <td>823865145970266</td>\n      <td>0</td>\n      <td>0.0</td>\n      <td>0.00</td>\n      <td>0</td>\n      <td>0</td>\n      <td>1</td>\n    </tr>\n    <tr>\n      <th>27</th>\n      <td>2020-01-22</td>\n      <td>823865145970266</td>\n      <td>0</td>\n      <td>0.0</td>\n      <td>0.00</td>\n      <td>0</td>\n      <td>0</td>\n      <td>1</td>\n    </tr>\n    <tr>\n      <th>28</th>\n      <td>2020-01-29</td>\n      <td>823865145970266</td>\n      <td>0</td>\n      <td>0.0</td>\n      <td>0.00</td>\n      <td>0</td>\n      <td>0</td>\n      <td>1</td>\n    </tr>\n    <tr>\n      <th>29</th>\n      <td>2020-02-05</td>\n      <td>823865145970266</td>\n      <td>0</td>\n      <td>0.0</td>\n      <td>0.00</td>\n      <td>0</td>\n      <td>0</td>\n      <td>1</td>\n    </tr>\n  </tbody>\n</table>\n</div>"
     },
     "metadata": {},
     "execution_count": 3
    }
   ],
   "source": [
    "d[0] # sample output"
   ]
  },
  {
   "cell_type": "code",
   "execution_count": 4,
   "metadata": {},
   "outputs": [
    {
     "output_type": "stream",
     "name": "stdout",
     "text": [
      "30 weeks\n53 weeks\n59 weeks\n26 weeks\n62 weeks\n43 weeks\n42 weeks\n33 weeks\n39 weeks\n51 weeks\n"
     ]
    }
   ],
   "source": [
    "# records of the weeks prior to confirming that each user has churned\n",
    "for i in range(len(d)):\n",
    "    print(len(d[i]),'weeks')"
   ]
  },
  {
   "cell_type": "code",
   "execution_count": 5,
   "metadata": {},
   "outputs": [
    {
     "output_type": "execute_result",
     "data": {
      "text/plain": [
       "10"
      ]
     },
     "metadata": {},
     "execution_count": 5
    }
   ],
   "source": [
    "len(d) # number of users"
   ]
  },
  {
   "source": [
    "### Putting Datas in Separate Sheets in an Excel File"
   ],
   "cell_type": "markdown",
   "metadata": {}
  },
  {
   "cell_type": "code",
   "execution_count": 6,
   "metadata": {},
   "outputs": [],
   "source": [
    "with pd.ExcelWriter('data/mock/sample_mock_rc_data.xlsx') as writer:\n",
    "    for i in range(len(d)):\n",
    "        d[i].to_excel(writer, sheet_name=('d{}'.format(i)), index=False)"
   ]
  },
  {
   "source": [
    "# Generating Rotational Churners"
   ],
   "cell_type": "markdown",
   "metadata": {}
  },
  {
   "cell_type": "code",
   "execution_count": 1,
   "metadata": {},
   "outputs": [],
   "source": [
    "import numpy as np\n",
    "import pandas as pd\n",
    "from mock_data_script import mock_data_generation as mdg\n",
    "\n",
    "dfs = pd.ExcelFile('data/mock/sample_mock_rc_data.xlsx')\n",
    "sheets = dfs.sheet_names\n",
    "d = []\n",
    "for i in range(10):\n",
    "    d.append(dfs.parse(sheet_name=sheets[i]))"
   ]
  },
  {
   "cell_type": "code",
   "execution_count": 7,
   "metadata": {},
   "outputs": [
    {
     "output_type": "execute_result",
     "data": {
      "text/plain": [
       "       weeks             IMEI  credits_loaded_per_week  num_hrs_spend_on_net  \\\n",
       "0 2019-07-17  823865145970266                      100                   5.3   \n",
       "1 2019-07-24  823865145970266                        0                  17.4   \n",
       "2 2019-07-31  823865145970266                      200                  15.5   \n",
       "3 2019-08-07  823865145970266                       20                  13.2   \n",
       "4 2019-08-14  823865145970266                        0                   2.7   \n",
       "\n",
       "   mobile_data_usage(gb)  promos_used  active_times  activity_status  \n",
       "0                   8.07            0             1                0  \n",
       "1                   8.60            0             0                0  \n",
       "2                   5.23            2             1                0  \n",
       "3                   6.87            2             0                0  \n",
       "4                   5.59            3             0                0  "
      ],
      "text/html": "<div>\n<style scoped>\n    .dataframe tbody tr th:only-of-type {\n        vertical-align: middle;\n    }\n\n    .dataframe tbody tr th {\n        vertical-align: top;\n    }\n\n    .dataframe thead th {\n        text-align: right;\n    }\n</style>\n<table border=\"1\" class=\"dataframe\">\n  <thead>\n    <tr style=\"text-align: right;\">\n      <th></th>\n      <th>weeks</th>\n      <th>IMEI</th>\n      <th>credits_loaded_per_week</th>\n      <th>num_hrs_spend_on_net</th>\n      <th>mobile_data_usage(gb)</th>\n      <th>promos_used</th>\n      <th>active_times</th>\n      <th>activity_status</th>\n    </tr>\n  </thead>\n  <tbody>\n    <tr>\n      <th>0</th>\n      <td>2019-07-17</td>\n      <td>823865145970266</td>\n      <td>100</td>\n      <td>5.3</td>\n      <td>8.07</td>\n      <td>0</td>\n      <td>1</td>\n      <td>0</td>\n    </tr>\n    <tr>\n      <th>1</th>\n      <td>2019-07-24</td>\n      <td>823865145970266</td>\n      <td>0</td>\n      <td>17.4</td>\n      <td>8.60</td>\n      <td>0</td>\n      <td>0</td>\n      <td>0</td>\n    </tr>\n    <tr>\n      <th>2</th>\n      <td>2019-07-31</td>\n      <td>823865145970266</td>\n      <td>200</td>\n      <td>15.5</td>\n      <td>5.23</td>\n      <td>2</td>\n      <td>1</td>\n      <td>0</td>\n    </tr>\n    <tr>\n      <th>3</th>\n      <td>2019-08-07</td>\n      <td>823865145970266</td>\n      <td>20</td>\n      <td>13.2</td>\n      <td>6.87</td>\n      <td>2</td>\n      <td>0</td>\n      <td>0</td>\n    </tr>\n    <tr>\n      <th>4</th>\n      <td>2019-08-14</td>\n      <td>823865145970266</td>\n      <td>0</td>\n      <td>2.7</td>\n      <td>5.59</td>\n      <td>3</td>\n      <td>0</td>\n      <td>0</td>\n    </tr>\n  </tbody>\n</table>\n</div>"
     },
     "metadata": {},
     "execution_count": 7
    }
   ],
   "source": [
    "d[0].head()"
   ]
  },
  {
   "cell_type": "code",
   "execution_count": 3,
   "metadata": {},
   "outputs": [],
   "source": [
    "weeks, IMEIs, credits_loaded, num_hrs, mdu, promos, times, active = mdg.mock_rc_data(d[0]['weeks'][25].strftime('%Y-%m-%d'), len(d[0])-4)"
   ]
  },
  {
   "cell_type": "code",
   "execution_count": 4,
   "metadata": {},
   "outputs": [
    {
     "output_type": "execute_result",
     "data": {
      "text/plain": [
       "26"
      ]
     },
     "metadata": {},
     "execution_count": 4
    }
   ],
   "source": [
    "len(weeks)"
   ]
  },
  {
   "cell_type": "code",
   "execution_count": 34,
   "metadata": {},
   "outputs": [],
   "source": [
    "l = d[0]['credits_loaded_per_week'].tolist()\n",
    "uni = d[0]['credits_loaded_per_week'].unique().tolist()\n",
    "x = d[0]['credits_loaded_per_week'].value_counts().reset_index().to_numpy().tolist()"
   ]
  },
  {
   "cell_type": "code",
   "execution_count": 60,
   "metadata": {},
   "outputs": [
    {
     "output_type": "execute_result",
     "data": {
      "text/plain": [
       "'credits_loaded_per_week'"
      ]
     },
     "metadata": {},
     "execution_count": 60
    }
   ],
   "source": [
    "d[0].columns[2]"
   ]
  },
  {
   "cell_type": "code",
   "execution_count": 45,
   "metadata": {},
   "outputs": [
    {
     "output_type": "execute_result",
     "data": {
      "text/plain": [
       "[0, 18]"
      ]
     },
     "metadata": {},
     "execution_count": 45
    }
   ],
   "source": [
    "x[0]"
   ]
  },
  {
   "cell_type": "code",
   "execution_count": 55,
   "metadata": {},
   "outputs": [
    {
     "output_type": "execute_result",
     "data": {
      "text/plain": [
       "[1, 2, 1, 2, 1, 18, 1, 2, 1, 1]"
      ]
     },
     "metadata": {},
     "execution_count": 55
    }
   ],
   "source": [
    "import random\n",
    "pota = [i[1] for i in x]\n",
    "random.shuffle(pota)\n",
    "pota"
   ]
  },
  {
   "cell_type": "code",
   "execution_count": 57,
   "metadata": {},
   "outputs": [
    {
     "output_type": "execute_result",
     "data": {
      "text/plain": [
       "[[0, 1],\n",
       " [30, 2],\n",
       " [20, 1],\n",
       " [100, 2],\n",
       " [90, 1],\n",
       " [500, 18],\n",
       " [50, 1],\n",
       " [200, 2],\n",
       " [800, 1],\n",
       " [1000, 1]]"
      ]
     },
     "metadata": {},
     "execution_count": 57
    }
   ],
   "source": [
    "for j in range(len(x)):\n",
    "    x[j][1] = pota[j]\n",
    "\n",
    "x"
   ]
  },
  {
   "cell_type": "code",
   "execution_count": 61,
   "metadata": {},
   "outputs": [
    {
     "output_type": "execute_result",
     "data": {
      "text/plain": [
       "[100,\n",
       " 0,\n",
       " 200,\n",
       " 20,\n",
       " 0,\n",
       " 30,\n",
       " 0,\n",
       " 0,\n",
       " 30,\n",
       " 800,\n",
       " 0,\n",
       " 0,\n",
       " 20,\n",
       " 0,\n",
       " 90,\n",
       " 0,\n",
       " 0,\n",
       " 0,\n",
       " 0,\n",
       " 50,\n",
       " 500,\n",
       " 0,\n",
       " 100,\n",
       " 0,\n",
       " 1000,\n",
       " 0,\n",
       " 0,\n",
       " 0,\n",
       " 0,\n",
       " 0]"
      ]
     },
     "metadata": {},
     "execution_count": 61
    }
   ],
   "source": [
    "n = []\n",
    "\n",
    "while True:\n",
    "    r = 0\n",
    "    t = x[r][0]\n",
    "\n",
    "    m = x[r][1]\n",
    "    for i in range(m):\n",
    "        n.append(t)\n",
    "    \n",
    "    r+=1\n",
    "\n",
    "    if r >= len(x):\n",
    "        break "
   ]
  },
  {
   "cell_type": "code",
   "execution_count": 66,
   "metadata": {},
   "outputs": [],
   "source": [
    "h = d[0]['credits_loaded_per_week'].values.tolist()"
   ]
  },
  {
   "cell_type": "code",
   "execution_count": null,
   "metadata": {},
   "outputs": [],
   "source": []
  }
 ]
}