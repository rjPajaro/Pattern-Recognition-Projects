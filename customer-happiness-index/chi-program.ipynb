{
 "metadata": {
  "language_info": {
   "codemirror_mode": {
    "name": "ipython",
    "version": 3
   },
   "file_extension": ".py",
   "mimetype": "text/x-python",
   "name": "python",
   "nbconvert_exporter": "python",
   "pygments_lexer": "ipython3",
   "version": "3.8.3"
  },
  "orig_nbformat": 4,
  "kernelspec": {
   "name": "python3",
   "display_name": "Python 3.8.3 64-bit ('base': conda)"
  },
  "interpreter": {
   "hash": "80e949a67cf278127b748d188dfe995fcb9b6fe4ab79bb80686294a040d0359f"
  }
 },
 "nbformat": 4,
 "nbformat_minor": 2,
 "cells": [
  {
   "source": [
    "# Customer Happiness Index Prediction\n",
    "\n",
    "**Made by: Group 6 in partial completion of Pattern Recognition Class**\n",
    " - Timothy Chan\n",
    " - Rhyle Nodnylson Guinto\n",
    " - Chino Laguda\n",
    " - Randall Joseph Pajaro"
   ],
   "cell_type": "markdown",
   "metadata": {}
  },
  {
   "source": [
    "## Importing required libraries and dataset"
   ],
   "cell_type": "markdown",
   "metadata": {}
  },
  {
   "cell_type": "code",
   "execution_count": 1,
   "metadata": {},
   "outputs": [],
   "source": [
    "import numpy as np\n",
    "import pandas as pd"
   ]
  },
  {
   "cell_type": "code",
   "execution_count": 2,
   "metadata": {},
   "outputs": [
    {
     "output_type": "execute_result",
     "data": {
      "text/plain": [
       "       Customer_ID subscription_type  start_date  years_active  \\\n",
       "0  0917-2849660931          postpaid  04/06/2010          9.30   \n",
       "1  0917-3521446959           prepaid  05/07/2014          5.16   \n",
       "2  0917-6526588656          postpaid  09/06/2017          1.78   \n",
       "3  0917-8987002220           prepaid  10/08/2013          5.75   \n",
       "4  0917-5353179110           prepaid   7/28/2011          7.98   \n",
       "\n",
       "   no_of_other_postpaid_accounts  frequent_availed_top_up_amount_30days  \\\n",
       "0                              0                                    116   \n",
       "1                              0                                    100   \n",
       "2                              0                                    200   \n",
       "3                              0                                    300   \n",
       "4                              0                                    100   \n",
       "\n",
       "   postpaid_plan_30days  monthly_revenue  no_of_top_ups_30days  \\\n",
       "0                   999             1115                     1   \n",
       "1                     0              300                     2   \n",
       "2                   599              799                     1   \n",
       "3                     0              499                     2   \n",
       "4                     0              400                     5   \n",
       "\n",
       "  last_date_top_up  ...  no_of_days_subscribed_to_OtherApps_30days  \\\n",
       "0        5/19/2019  ...                                         23   \n",
       "1        4/14/2019  ...                                          3   \n",
       "2        5/18/2019  ...                                         26   \n",
       "3        5/30/2019  ...                                         26   \n",
       "4        4/23/2019  ...                                          0   \n",
       "\n",
       "  total_hours_internet_usage_30days  total_hours_OtherApps_usage_30days  \\\n",
       "0                               234                                 234   \n",
       "1                               136                                  20   \n",
       "2                               139                                 247   \n",
       "3                                78                                 119   \n",
       "4                               258                                 113   \n",
       "\n",
       "   no_of_failed_Call_Text_30days  no_of_failed_Surfing_30days  \\\n",
       "0                             20                           18   \n",
       "1                             28                           20   \n",
       "2                              5                            4   \n",
       "3                             17                           27   \n",
       "4                             30                           11   \n",
       "\n",
       "   no_of_failed_143hotline_30days  no_of_call_records_Complaint_30days  \\\n",
       "0                               7                                    4   \n",
       "1                              11                                    5   \n",
       "2                               6                                    9   \n",
       "3                              25                                    4   \n",
       "4                               9                                    2   \n",
       "\n",
       "   mins_of_call_records_Complaint_30days  no_of_logged_GlobeOne_30days  \\\n",
       "0                                      3                            14   \n",
       "1                                     23                             9   \n",
       "2                                     13                             9   \n",
       "3                                     27                            16   \n",
       "4                                      3                             1   \n",
       "\n",
       "   Survey_Score  \n",
       "0             7  \n",
       "1             3  \n",
       "2             0  \n",
       "3             0  \n",
       "4             0  \n",
       "\n",
       "[5 rows x 25 columns]"
      ],
      "text/html": "<div>\n<style scoped>\n    .dataframe tbody tr th:only-of-type {\n        vertical-align: middle;\n    }\n\n    .dataframe tbody tr th {\n        vertical-align: top;\n    }\n\n    .dataframe thead th {\n        text-align: right;\n    }\n</style>\n<table border=\"1\" class=\"dataframe\">\n  <thead>\n    <tr style=\"text-align: right;\">\n      <th></th>\n      <th>Customer_ID</th>\n      <th>subscription_type</th>\n      <th>start_date</th>\n      <th>years_active</th>\n      <th>no_of_other_postpaid_accounts</th>\n      <th>frequent_availed_top_up_amount_30days</th>\n      <th>postpaid_plan_30days</th>\n      <th>monthly_revenue</th>\n      <th>no_of_top_ups_30days</th>\n      <th>last_date_top_up</th>\n      <th>...</th>\n      <th>no_of_days_subscribed_to_OtherApps_30days</th>\n      <th>total_hours_internet_usage_30days</th>\n      <th>total_hours_OtherApps_usage_30days</th>\n      <th>no_of_failed_Call_Text_30days</th>\n      <th>no_of_failed_Surfing_30days</th>\n      <th>no_of_failed_143hotline_30days</th>\n      <th>no_of_call_records_Complaint_30days</th>\n      <th>mins_of_call_records_Complaint_30days</th>\n      <th>no_of_logged_GlobeOne_30days</th>\n      <th>Survey_Score</th>\n    </tr>\n  </thead>\n  <tbody>\n    <tr>\n      <th>0</th>\n      <td>0917-2849660931</td>\n      <td>postpaid</td>\n      <td>04/06/2010</td>\n      <td>9.30</td>\n      <td>0</td>\n      <td>116</td>\n      <td>999</td>\n      <td>1115</td>\n      <td>1</td>\n      <td>5/19/2019</td>\n      <td>...</td>\n      <td>23</td>\n      <td>234</td>\n      <td>234</td>\n      <td>20</td>\n      <td>18</td>\n      <td>7</td>\n      <td>4</td>\n      <td>3</td>\n      <td>14</td>\n      <td>7</td>\n    </tr>\n    <tr>\n      <th>1</th>\n      <td>0917-3521446959</td>\n      <td>prepaid</td>\n      <td>05/07/2014</td>\n      <td>5.16</td>\n      <td>0</td>\n      <td>100</td>\n      <td>0</td>\n      <td>300</td>\n      <td>2</td>\n      <td>4/14/2019</td>\n      <td>...</td>\n      <td>3</td>\n      <td>136</td>\n      <td>20</td>\n      <td>28</td>\n      <td>20</td>\n      <td>11</td>\n      <td>5</td>\n      <td>23</td>\n      <td>9</td>\n      <td>3</td>\n    </tr>\n    <tr>\n      <th>2</th>\n      <td>0917-6526588656</td>\n      <td>postpaid</td>\n      <td>09/06/2017</td>\n      <td>1.78</td>\n      <td>0</td>\n      <td>200</td>\n      <td>599</td>\n      <td>799</td>\n      <td>1</td>\n      <td>5/18/2019</td>\n      <td>...</td>\n      <td>26</td>\n      <td>139</td>\n      <td>247</td>\n      <td>5</td>\n      <td>4</td>\n      <td>6</td>\n      <td>9</td>\n      <td>13</td>\n      <td>9</td>\n      <td>0</td>\n    </tr>\n    <tr>\n      <th>3</th>\n      <td>0917-8987002220</td>\n      <td>prepaid</td>\n      <td>10/08/2013</td>\n      <td>5.75</td>\n      <td>0</td>\n      <td>300</td>\n      <td>0</td>\n      <td>499</td>\n      <td>2</td>\n      <td>5/30/2019</td>\n      <td>...</td>\n      <td>26</td>\n      <td>78</td>\n      <td>119</td>\n      <td>17</td>\n      <td>27</td>\n      <td>25</td>\n      <td>4</td>\n      <td>27</td>\n      <td>16</td>\n      <td>0</td>\n    </tr>\n    <tr>\n      <th>4</th>\n      <td>0917-5353179110</td>\n      <td>prepaid</td>\n      <td>7/28/2011</td>\n      <td>7.98</td>\n      <td>0</td>\n      <td>100</td>\n      <td>0</td>\n      <td>400</td>\n      <td>5</td>\n      <td>4/23/2019</td>\n      <td>...</td>\n      <td>0</td>\n      <td>258</td>\n      <td>113</td>\n      <td>30</td>\n      <td>11</td>\n      <td>9</td>\n      <td>2</td>\n      <td>3</td>\n      <td>1</td>\n      <td>0</td>\n    </tr>\n  </tbody>\n</table>\n<p>5 rows × 25 columns</p>\n</div>"
     },
     "metadata": {},
     "execution_count": 2
    }
   ],
   "source": [
    "df = pd.read_csv('telco_dataset.csv')\n",
    "df.head()"
   ]
  },
  {
   "source": [
    "## User Profile"
   ],
   "cell_type": "markdown",
   "metadata": {}
  },
  {
   "cell_type": "code",
   "execution_count": 3,
   "metadata": {},
   "outputs": [],
   "source": [
    "# For cleanliness and understanding purposes, the results of the ratings shall be placed in a new dataframe called \"data\"\n",
    "data = pd.DataFrame()\n",
    "\n",
    "# sub_type_rating\n",
    "data['subscription_type_score'] = np.where(df['subscription_type']=='postpaid', 10, 5)\n",
    "\n",
    "\n",
    "# years_active_rating\n",
    "conditions = [\n",
    "    (df['years_active'] < 1),\n",
    "    (df['years_active'] >= 1) & (df['years_active'] <= 2),\n",
    "    (df['years_active'] > 2) & (df['years_active'] <= 4),\n",
    "    (df['years_active'] > 4) & (df['years_active'] <= 6),\n",
    "    (df['years_active'] > 6) & (df['years_active'] <= 8),\n",
    "    (df['years_active'] > 8)    \n",
    "]\n",
    "values = [5, 6, 7, 8, 9, 10]\n",
    "data['years_active_rating'] = np.select(conditions, values)\n",
    "\n",
    "\n",
    "# other_postpaid_accts rating\n",
    "conditions = [\n",
    "    (df['no_of_other_postpaid_accounts'] >= 0) & (df['no_of_other_postpaid_accounts'] <= 1),\n",
    "    (df['no_of_other_postpaid_accounts'] >= 2) & (df['no_of_other_postpaid_accounts'] <= 3),\n",
    "    (df['no_of_other_postpaid_accounts'] >= 4) & (df['no_of_other_postpaid_accounts'] <= 5)\n",
    "]\n",
    "values = [8, 9, 10]\n",
    "data['other_accts_rating'] = np.select(conditions, values)"
   ]
  },
  {
   "cell_type": "code",
   "execution_count": 4,
   "metadata": {},
   "outputs": [
    {
     "output_type": "execute_result",
     "data": {
      "text/plain": [
       "   subscription_type_score  years_active_rating  other_accts_rating\n",
       "0                       10                   10                   8\n",
       "1                        5                    8                   8\n",
       "2                       10                    6                   8\n",
       "3                        5                    8                   8\n",
       "4                        5                    9                   8"
      ],
      "text/html": "<div>\n<style scoped>\n    .dataframe tbody tr th:only-of-type {\n        vertical-align: middle;\n    }\n\n    .dataframe tbody tr th {\n        vertical-align: top;\n    }\n\n    .dataframe thead th {\n        text-align: right;\n    }\n</style>\n<table border=\"1\" class=\"dataframe\">\n  <thead>\n    <tr style=\"text-align: right;\">\n      <th></th>\n      <th>subscription_type_score</th>\n      <th>years_active_rating</th>\n      <th>other_accts_rating</th>\n    </tr>\n  </thead>\n  <tbody>\n    <tr>\n      <th>0</th>\n      <td>10</td>\n      <td>10</td>\n      <td>8</td>\n    </tr>\n    <tr>\n      <th>1</th>\n      <td>5</td>\n      <td>8</td>\n      <td>8</td>\n    </tr>\n    <tr>\n      <th>2</th>\n      <td>10</td>\n      <td>6</td>\n      <td>8</td>\n    </tr>\n    <tr>\n      <th>3</th>\n      <td>5</td>\n      <td>8</td>\n      <td>8</td>\n    </tr>\n    <tr>\n      <th>4</th>\n      <td>5</td>\n      <td>9</td>\n      <td>8</td>\n    </tr>\n  </tbody>\n</table>\n</div>"
     },
     "metadata": {},
     "execution_count": 4
    }
   ],
   "source": [
    "data.head()"
   ]
  },
  {
   "source": [
    "## Load Profile"
   ],
   "cell_type": "markdown",
   "metadata": {}
  },
  {
   "cell_type": "code",
   "execution_count": 5,
   "metadata": {},
   "outputs": [],
   "source": [
    "# frequent_availed_top_up_amount_30days rating\n",
    "conditions = [\n",
    "    (df['frequent_availed_top_up_amount_30days'] == 0),\n",
    "    (df['frequent_availed_top_up_amount_30days'] > 0) & (df['frequent_availed_top_up_amount_30days'] <= 50),\n",
    "    (df['frequent_availed_top_up_amount_30days'] > 50) & (df['frequent_availed_top_up_amount_30days'] <= 100),\n",
    "    (df['frequent_availed_top_up_amount_30days'] > 100) & (df['frequent_availed_top_up_amount_30days'] <= 200),\n",
    "    (df['frequent_availed_top_up_amount_30days'] > 200) & (df['frequent_availed_top_up_amount_30days'] <= 300),\n",
    "    (df['frequent_availed_top_up_amount_30days'] > 300) & (df['frequent_availed_top_up_amount_30days'] <= 500),\n",
    "    (df['frequent_availed_top_up_amount_30days'] > 500)\n",
    "]\n",
    "values = [0,3,5,7,8,9,10]\n",
    "data['freq_avail_top_up_30d_rating'] = np.select(conditions, values)\n",
    "\n",
    "\n",
    "# no_of_top_ups_30days rating\n",
    "conditions = [\n",
    "    (df['no_of_top_ups_30days'] == 0),\n",
    "    (df['no_of_top_ups_30days'] == 1),\n",
    "    (df['no_of_top_ups_30days'] == 2),\n",
    "    (df['no_of_top_ups_30days'] >= 3) & (df['no_of_top_ups_30days'] <= 4),\n",
    "    (df['no_of_top_ups_30days'] >= 5) & (df['no_of_top_ups_30days'] <= 7),\n",
    "    (df['no_of_top_ups_30days'] >= 8) & (df['no_of_top_ups_30days'] <= 10)\n",
    "]\n",
    "values = [0,5,6,7,9,10]\n",
    "data['no_of_top_ups_30days_rating'] = np.select(conditions, values)\n",
    "\n",
    "\n",
    "# days_since_last_two_top_ups rating\n",
    "conditions = [\n",
    "    (df['days_since_last_two_top_ups'] > 51),\n",
    "    (df['days_since_last_two_top_ups'] >= 41) & (df['days_since_last_two_top_ups'] <= 50),\n",
    "    (df['days_since_last_two_top_ups'] >= 31) & (df['days_since_last_two_top_ups'] <= 40),\n",
    "    (df['days_since_last_two_top_ups'] >= 22) & (df['days_since_last_two_top_ups'] <= 30),\n",
    "    (df['days_since_last_two_top_ups'] >= 15) & (df['days_since_last_two_top_ups'] <= 21),\n",
    "    (df['days_since_last_two_top_ups'] >= 10) & (df['days_since_last_two_top_ups'] <= 14),\n",
    "    (df['days_since_last_two_top_ups'] < 10)  \n",
    "]\n",
    "values = [0,3,5,7,8,9,10]\n",
    "data['days_since_last_two_top_ups_rating'] = np.select(conditions, values)"
   ]
  },
  {
   "cell_type": "code",
   "execution_count": 6,
   "metadata": {},
   "outputs": [
    {
     "output_type": "execute_result",
     "data": {
      "text/plain": [
       "   subscription_type_score  years_active_rating  other_accts_rating  \\\n",
       "0                       10                   10                   8   \n",
       "1                        5                    8                   8   \n",
       "2                       10                    6                   8   \n",
       "3                        5                    8                   8   \n",
       "4                        5                    9                   8   \n",
       "\n",
       "   freq_avail_top_up_30d_rating  no_of_top_ups_30days_rating  \\\n",
       "0                             7                            5   \n",
       "1                             5                            6   \n",
       "2                             7                            5   \n",
       "3                             8                            6   \n",
       "4                             5                            9   \n",
       "\n",
       "   days_since_last_two_top_ups_rating  \n",
       "0                                   8  \n",
       "1                                   0  \n",
       "2                                   8  \n",
       "3                                  10  \n",
       "4                                   3  "
      ],
      "text/html": "<div>\n<style scoped>\n    .dataframe tbody tr th:only-of-type {\n        vertical-align: middle;\n    }\n\n    .dataframe tbody tr th {\n        vertical-align: top;\n    }\n\n    .dataframe thead th {\n        text-align: right;\n    }\n</style>\n<table border=\"1\" class=\"dataframe\">\n  <thead>\n    <tr style=\"text-align: right;\">\n      <th></th>\n      <th>subscription_type_score</th>\n      <th>years_active_rating</th>\n      <th>other_accts_rating</th>\n      <th>freq_avail_top_up_30d_rating</th>\n      <th>no_of_top_ups_30days_rating</th>\n      <th>days_since_last_two_top_ups_rating</th>\n    </tr>\n  </thead>\n  <tbody>\n    <tr>\n      <th>0</th>\n      <td>10</td>\n      <td>10</td>\n      <td>8</td>\n      <td>7</td>\n      <td>5</td>\n      <td>8</td>\n    </tr>\n    <tr>\n      <th>1</th>\n      <td>5</td>\n      <td>8</td>\n      <td>8</td>\n      <td>5</td>\n      <td>6</td>\n      <td>0</td>\n    </tr>\n    <tr>\n      <th>2</th>\n      <td>10</td>\n      <td>6</td>\n      <td>8</td>\n      <td>7</td>\n      <td>5</td>\n      <td>8</td>\n    </tr>\n    <tr>\n      <th>3</th>\n      <td>5</td>\n      <td>8</td>\n      <td>8</td>\n      <td>8</td>\n      <td>6</td>\n      <td>10</td>\n    </tr>\n    <tr>\n      <th>4</th>\n      <td>5</td>\n      <td>9</td>\n      <td>8</td>\n      <td>5</td>\n      <td>9</td>\n      <td>3</td>\n    </tr>\n  </tbody>\n</table>\n</div>"
     },
     "metadata": {},
     "execution_count": 6
    }
   ],
   "source": [
    "data.head()"
   ]
  },
  {
   "source": [
    "## Subscription Profile"
   ],
   "cell_type": "markdown",
   "metadata": {}
  },
  {
   "cell_type": "code",
   "execution_count": 7,
   "metadata": {},
   "outputs": [],
   "source": [
    "# no_of_days_subscribed_to_Call_Text_30days rating\n",
    "conditions = [\n",
    "    (df['no_of_days_subscribed_to_Call_Text_30days'] == 0),\n",
    "    (df['no_of_days_subscribed_to_Call_Text_30days'] >= 1) & (df['no_of_days_subscribed_to_Call_Text_30days'] <= 2),\n",
    "    (df['no_of_days_subscribed_to_Call_Text_30days'] >= 3) & (df['no_of_days_subscribed_to_Call_Text_30days'] <= 7),\n",
    "    (df['no_of_days_subscribed_to_Call_Text_30days'] >= 8) & (df['no_of_days_subscribed_to_Call_Text_30days'] <= 14),\n",
    "    (df['no_of_days_subscribed_to_Call_Text_30days'] >= 15) & (df['no_of_days_subscribed_to_Call_Text_30days'] <= 21),\n",
    "    (df['no_of_days_subscribed_to_Call_Text_30days'] >= 21) & (df['no_of_days_subscribed_to_Call_Text_30days'] <= 29),\n",
    "    (df['no_of_days_subscribed_to_Call_Text_30days'] == 30)\n",
    "]\n",
    "values = [1,3,5,7,8,9,10]\n",
    "data['no_of_days_subscribed_to_Call_Text_30days_rating'] = np.select(conditions, values)\n",
    "\n",
    "# no_of_days_subscribed_to_GoSurf_30days rating\n",
    "conditions = [\n",
    "    (df['no_of_days_subscribed_to_GoSurf_30days'] == 0),\n",
    "    (df['no_of_days_subscribed_to_GoSurf_30days'] >= 1) & (df['no_of_days_subscribed_to_GoSurf_30days'] <= 2),\n",
    "    (df['no_of_days_subscribed_to_GoSurf_30days'] >= 3) & (df['no_of_days_subscribed_to_GoSurf_30days'] <= 7),\n",
    "    (df['no_of_days_subscribed_to_GoSurf_30days'] >= 8) & (df['no_of_days_subscribed_to_GoSurf_30days'] <= 14),\n",
    "    (df['no_of_days_subscribed_to_GoSurf_30days'] >= 15) & (df['no_of_days_subscribed_to_GoSurf_30days'] <= 21),\n",
    "    (df['no_of_days_subscribed_to_GoSurf_30days'] >= 21) & (df['no_of_days_subscribed_to_GoSurf_30days'] <= 29),\n",
    "    (df['no_of_days_subscribed_to_GoSurf_30days'] == 30)\n",
    "]\n",
    "values = [1,3,5,7,8,9,10]\n",
    "data['no_of_days_subscribed_to_GoSurf_30days_rating'] = np.select(conditions, values)\n",
    "\n",
    "\n",
    "# no_of_days_subscribed_to_GoWatch_30days rating\n",
    "conditions = [\n",
    "    (df['no_of_days_subscribed_to_GoWatch_30days'] >= 0) & (df['no_of_days_subscribed_to_GoWatch_30days'] <= 2),\n",
    "    (df['no_of_days_subscribed_to_GoWatch_30days'] >= 3) & (df['no_of_days_subscribed_to_GoWatch_30days'] <= 7),\n",
    "    (df['no_of_days_subscribed_to_GoWatch_30days'] >= 8) & (df['no_of_days_subscribed_to_GoWatch_30days'] <= 14),\n",
    "    (df['no_of_days_subscribed_to_GoWatch_30days'] >= 15) & (df['no_of_days_subscribed_to_GoWatch_30days'] <= 21),\n",
    "    (df['no_of_days_subscribed_to_GoWatch_30days'] >= 21) & (df['no_of_days_subscribed_to_GoWatch_30days'] <= 29),\n",
    "    (df['no_of_days_subscribed_to_GoWatch_30days'] == 30)\n",
    "]\n",
    "values = [5,6,7,8,9,10]\n",
    "data['no_of_days_subscribed_to_GoWatch_30days_rating'] = np.select(conditions, values)\n",
    "\n",
    "\n",
    "# no_of_days_subscribed_to_OtherApps_30days rating\n",
    "conditions = [\n",
    "    (df['no_of_days_subscribed_to_OtherApps_30days'] >= 0) & (df['no_of_days_subscribed_to_OtherApps_30days'] <= 2),\n",
    "    (df['no_of_days_subscribed_to_OtherApps_30days'] >= 3) & (df['no_of_days_subscribed_to_OtherApps_30days'] <= 7),\n",
    "    (df['no_of_days_subscribed_to_OtherApps_30days'] >= 8) & (df['no_of_days_subscribed_to_OtherApps_30days'] <= 14),\n",
    "    (df['no_of_days_subscribed_to_OtherApps_30days'] >= 15) & (df['no_of_days_subscribed_to_OtherApps_30days'] <= 21),\n",
    "    (df['no_of_days_subscribed_to_OtherApps_30days'] >= 21) & (df['no_of_days_subscribed_to_OtherApps_30days'] <= 29),\n",
    "    (df['no_of_days_subscribed_to_OtherApps_30days'] == 30)\n",
    "]\n",
    "values = [5,6,7,8,9,10]\n",
    "data['no_of_days_subscribed_to_OtherApps_30days_rating'] = np.select(conditions, values)"
   ]
  },
  {
   "cell_type": "code",
   "execution_count": 8,
   "metadata": {},
   "outputs": [
    {
     "output_type": "execute_result",
     "data": {
      "text/plain": [
       "   subscription_type_score  years_active_rating  other_accts_rating  \\\n",
       "0                       10                   10                   8   \n",
       "1                        5                    8                   8   \n",
       "2                       10                    6                   8   \n",
       "3                        5                    8                   8   \n",
       "4                        5                    9                   8   \n",
       "\n",
       "   freq_avail_top_up_30d_rating  no_of_top_ups_30days_rating  \\\n",
       "0                             7                            5   \n",
       "1                             5                            6   \n",
       "2                             7                            5   \n",
       "3                             8                            6   \n",
       "4                             5                            9   \n",
       "\n",
       "   days_since_last_two_top_ups_rating  \\\n",
       "0                                   8   \n",
       "1                                   0   \n",
       "2                                   8   \n",
       "3                                  10   \n",
       "4                                   3   \n",
       "\n",
       "   no_of_days_subscribed_to_Call_Text_30days_rating  \\\n",
       "0                                                10   \n",
       "1                                                 8   \n",
       "2                                                10   \n",
       "3                                                 9   \n",
       "4                                                 5   \n",
       "\n",
       "   no_of_days_subscribed_to_GoSurf_30days_rating  \\\n",
       "0                                             10   \n",
       "1                                              7   \n",
       "2                                             10   \n",
       "3                                              7   \n",
       "4                                              5   \n",
       "\n",
       "   no_of_days_subscribed_to_GoWatch_30days_rating  \\\n",
       "0                                               8   \n",
       "1                                               8   \n",
       "2                                               7   \n",
       "3                                               8   \n",
       "4                                              10   \n",
       "\n",
       "   no_of_days_subscribed_to_OtherApps_30days_rating  \n",
       "0                                                 9  \n",
       "1                                                 6  \n",
       "2                                                 9  \n",
       "3                                                 9  \n",
       "4                                                 5  "
      ],
      "text/html": "<div>\n<style scoped>\n    .dataframe tbody tr th:only-of-type {\n        vertical-align: middle;\n    }\n\n    .dataframe tbody tr th {\n        vertical-align: top;\n    }\n\n    .dataframe thead th {\n        text-align: right;\n    }\n</style>\n<table border=\"1\" class=\"dataframe\">\n  <thead>\n    <tr style=\"text-align: right;\">\n      <th></th>\n      <th>subscription_type_score</th>\n      <th>years_active_rating</th>\n      <th>other_accts_rating</th>\n      <th>freq_avail_top_up_30d_rating</th>\n      <th>no_of_top_ups_30days_rating</th>\n      <th>days_since_last_two_top_ups_rating</th>\n      <th>no_of_days_subscribed_to_Call_Text_30days_rating</th>\n      <th>no_of_days_subscribed_to_GoSurf_30days_rating</th>\n      <th>no_of_days_subscribed_to_GoWatch_30days_rating</th>\n      <th>no_of_days_subscribed_to_OtherApps_30days_rating</th>\n    </tr>\n  </thead>\n  <tbody>\n    <tr>\n      <th>0</th>\n      <td>10</td>\n      <td>10</td>\n      <td>8</td>\n      <td>7</td>\n      <td>5</td>\n      <td>8</td>\n      <td>10</td>\n      <td>10</td>\n      <td>8</td>\n      <td>9</td>\n    </tr>\n    <tr>\n      <th>1</th>\n      <td>5</td>\n      <td>8</td>\n      <td>8</td>\n      <td>5</td>\n      <td>6</td>\n      <td>0</td>\n      <td>8</td>\n      <td>7</td>\n      <td>8</td>\n      <td>6</td>\n    </tr>\n    <tr>\n      <th>2</th>\n      <td>10</td>\n      <td>6</td>\n      <td>8</td>\n      <td>7</td>\n      <td>5</td>\n      <td>8</td>\n      <td>10</td>\n      <td>10</td>\n      <td>7</td>\n      <td>9</td>\n    </tr>\n    <tr>\n      <th>3</th>\n      <td>5</td>\n      <td>8</td>\n      <td>8</td>\n      <td>8</td>\n      <td>6</td>\n      <td>10</td>\n      <td>9</td>\n      <td>7</td>\n      <td>8</td>\n      <td>9</td>\n    </tr>\n    <tr>\n      <th>4</th>\n      <td>5</td>\n      <td>9</td>\n      <td>8</td>\n      <td>5</td>\n      <td>9</td>\n      <td>3</td>\n      <td>5</td>\n      <td>5</td>\n      <td>10</td>\n      <td>5</td>\n    </tr>\n  </tbody>\n</table>\n</div>"
     },
     "metadata": {},
     "execution_count": 8
    }
   ],
   "source": [
    "data.head()"
   ]
  },
  {
   "source": [
    "## Customer Experience Profile"
   ],
   "cell_type": "markdown",
   "metadata": {}
  },
  {
   "cell_type": "code",
   "execution_count": 9,
   "metadata": {},
   "outputs": [],
   "source": [
    "# no_of_failed_Call_Text_30days rating\n",
    "conditions = [\n",
    "    (df['no_of_failed_Call_Text_30days'] > 29),\n",
    "    (df['no_of_failed_Call_Text_30days'] >= 26) & (df['no_of_failed_Call_Text_30days'] <= 28),\n",
    "    (df['no_of_failed_Call_Text_30days'] >= 21) & (df['no_of_failed_Call_Text_30days'] <= 25),\n",
    "    (df['no_of_failed_Call_Text_30days'] >= 16) & (df['no_of_failed_Call_Text_30days'] <= 20),\n",
    "    (df['no_of_failed_Call_Text_30days'] >= 11) & (df['no_of_failed_Call_Text_30days'] <= 15),\n",
    "    (df['no_of_failed_Call_Text_30days'] >= 6) & (df['no_of_failed_Call_Text_30days'] <= 10),\n",
    "    (df['no_of_failed_Call_Text_30days'] >= 0) & (df['no_of_failed_Call_Text_30days'] <= 5)\n",
    "]\n",
    "values = [0,1,3,5,7,9,10]\n",
    "data['no_of_failed_Call_Text_30days_rating'] = np.select(conditions, values)\n",
    "\n",
    "\n",
    "# no_of_failed_Surfing_30days rating\n",
    "conditions = [\n",
    "    (df['no_of_failed_Surfing_30days'] > 29),\n",
    "    (df['no_of_failed_Surfing_30days'] >= 26) & (df['no_of_failed_Surfing_30days'] <= 28),\n",
    "    (df['no_of_failed_Surfing_30days'] >= 21) & (df['no_of_failed_Surfing_30days'] <= 25),\n",
    "    (df['no_of_failed_Surfing_30days'] >= 16) & (df['no_of_failed_Surfing_30days'] <= 20),\n",
    "    (df['no_of_failed_Surfing_30days'] >= 11) & (df['no_of_failed_Surfing_30days'] <= 15),\n",
    "    (df['no_of_failed_Surfing_30days'] >= 6) & (df['no_of_failed_Surfing_30days'] <= 10),\n",
    "    (df['no_of_failed_Surfing_30days'] >= 0) & (df['no_of_failed_Surfing_30days'] <= 5)\n",
    "]\n",
    "values = [0,1,3,5,7,9,10]\n",
    "data['no_of_failed_Surfing_30days_rating'] = np.select(conditions, values)\n",
    "\n",
    "\n",
    "# no_of_failed_143hotline_30days rating\n",
    "conditions = [\n",
    "    (df['no_of_failed_143hotline_30days'] > 29),\n",
    "    (df['no_of_failed_143hotline_30days'] >= 26) & (df['no_of_failed_143hotline_30days'] <= 28),\n",
    "    (df['no_of_failed_143hotline_30days'] >= 21) & (df['no_of_failed_143hotline_30days'] <= 25),\n",
    "    (df['no_of_failed_143hotline_30days'] >= 16) & (df['no_of_failed_143hotline_30days'] <= 20),\n",
    "    (df['no_of_failed_143hotline_30days'] >= 11) & (df['no_of_failed_143hotline_30days'] <= 15),\n",
    "    (df['no_of_failed_143hotline_30days'] >= 6) & (df['no_of_failed_143hotline_30days'] <= 10),\n",
    "    (df['no_of_failed_143hotline_30days'] >= 0) & (df['no_of_failed_143hotline_30days'] <= 5)\n",
    "]\n",
    "values = [0,1,3,5,7,9,10]\n",
    "data['no_of_failed_143hotline_30days_rating'] = np.select(conditions, values)"
   ]
  },
  {
   "cell_type": "code",
   "execution_count": 10,
   "metadata": {},
   "outputs": [
    {
     "output_type": "execute_result",
     "data": {
      "text/plain": [
       "   subscription_type_score  years_active_rating  other_accts_rating  \\\n",
       "0                       10                   10                   8   \n",
       "1                        5                    8                   8   \n",
       "2                       10                    6                   8   \n",
       "3                        5                    8                   8   \n",
       "4                        5                    9                   8   \n",
       "\n",
       "   freq_avail_top_up_30d_rating  no_of_top_ups_30days_rating  \\\n",
       "0                             7                            5   \n",
       "1                             5                            6   \n",
       "2                             7                            5   \n",
       "3                             8                            6   \n",
       "4                             5                            9   \n",
       "\n",
       "   days_since_last_two_top_ups_rating  \\\n",
       "0                                   8   \n",
       "1                                   0   \n",
       "2                                   8   \n",
       "3                                  10   \n",
       "4                                   3   \n",
       "\n",
       "   no_of_days_subscribed_to_Call_Text_30days_rating  \\\n",
       "0                                                10   \n",
       "1                                                 8   \n",
       "2                                                10   \n",
       "3                                                 9   \n",
       "4                                                 5   \n",
       "\n",
       "   no_of_days_subscribed_to_GoSurf_30days_rating  \\\n",
       "0                                             10   \n",
       "1                                              7   \n",
       "2                                             10   \n",
       "3                                              7   \n",
       "4                                              5   \n",
       "\n",
       "   no_of_days_subscribed_to_GoWatch_30days_rating  \\\n",
       "0                                               8   \n",
       "1                                               8   \n",
       "2                                               7   \n",
       "3                                               8   \n",
       "4                                              10   \n",
       "\n",
       "   no_of_days_subscribed_to_OtherApps_30days_rating  \\\n",
       "0                                                 9   \n",
       "1                                                 6   \n",
       "2                                                 9   \n",
       "3                                                 9   \n",
       "4                                                 5   \n",
       "\n",
       "   no_of_failed_Call_Text_30days_rating  no_of_failed_Surfing_30days_rating  \\\n",
       "0                                     5                                   5   \n",
       "1                                     1                                   5   \n",
       "2                                    10                                  10   \n",
       "3                                     5                                   1   \n",
       "4                                     0                                   7   \n",
       "\n",
       "   no_of_failed_143hotline_30days_rating  \n",
       "0                                      9  \n",
       "1                                      7  \n",
       "2                                      9  \n",
       "3                                      3  \n",
       "4                                      9  "
      ],
      "text/html": "<div>\n<style scoped>\n    .dataframe tbody tr th:only-of-type {\n        vertical-align: middle;\n    }\n\n    .dataframe tbody tr th {\n        vertical-align: top;\n    }\n\n    .dataframe thead th {\n        text-align: right;\n    }\n</style>\n<table border=\"1\" class=\"dataframe\">\n  <thead>\n    <tr style=\"text-align: right;\">\n      <th></th>\n      <th>subscription_type_score</th>\n      <th>years_active_rating</th>\n      <th>other_accts_rating</th>\n      <th>freq_avail_top_up_30d_rating</th>\n      <th>no_of_top_ups_30days_rating</th>\n      <th>days_since_last_two_top_ups_rating</th>\n      <th>no_of_days_subscribed_to_Call_Text_30days_rating</th>\n      <th>no_of_days_subscribed_to_GoSurf_30days_rating</th>\n      <th>no_of_days_subscribed_to_GoWatch_30days_rating</th>\n      <th>no_of_days_subscribed_to_OtherApps_30days_rating</th>\n      <th>no_of_failed_Call_Text_30days_rating</th>\n      <th>no_of_failed_Surfing_30days_rating</th>\n      <th>no_of_failed_143hotline_30days_rating</th>\n    </tr>\n  </thead>\n  <tbody>\n    <tr>\n      <th>0</th>\n      <td>10</td>\n      <td>10</td>\n      <td>8</td>\n      <td>7</td>\n      <td>5</td>\n      <td>8</td>\n      <td>10</td>\n      <td>10</td>\n      <td>8</td>\n      <td>9</td>\n      <td>5</td>\n      <td>5</td>\n      <td>9</td>\n    </tr>\n    <tr>\n      <th>1</th>\n      <td>5</td>\n      <td>8</td>\n      <td>8</td>\n      <td>5</td>\n      <td>6</td>\n      <td>0</td>\n      <td>8</td>\n      <td>7</td>\n      <td>8</td>\n      <td>6</td>\n      <td>1</td>\n      <td>5</td>\n      <td>7</td>\n    </tr>\n    <tr>\n      <th>2</th>\n      <td>10</td>\n      <td>6</td>\n      <td>8</td>\n      <td>7</td>\n      <td>5</td>\n      <td>8</td>\n      <td>10</td>\n      <td>10</td>\n      <td>7</td>\n      <td>9</td>\n      <td>10</td>\n      <td>10</td>\n      <td>9</td>\n    </tr>\n    <tr>\n      <th>3</th>\n      <td>5</td>\n      <td>8</td>\n      <td>8</td>\n      <td>8</td>\n      <td>6</td>\n      <td>10</td>\n      <td>9</td>\n      <td>7</td>\n      <td>8</td>\n      <td>9</td>\n      <td>5</td>\n      <td>1</td>\n      <td>3</td>\n    </tr>\n    <tr>\n      <th>4</th>\n      <td>5</td>\n      <td>9</td>\n      <td>8</td>\n      <td>5</td>\n      <td>9</td>\n      <td>3</td>\n      <td>5</td>\n      <td>5</td>\n      <td>10</td>\n      <td>5</td>\n      <td>0</td>\n      <td>7</td>\n      <td>9</td>\n    </tr>\n  </tbody>\n</table>\n</div>"
     },
     "metadata": {},
     "execution_count": 10
    }
   ],
   "source": [
    "data.head()"
   ]
  },
  {
   "source": [
    "## Customer Support Engagement Profile"
   ],
   "cell_type": "markdown",
   "metadata": {}
  },
  {
   "cell_type": "code",
   "execution_count": 11,
   "metadata": {},
   "outputs": [],
   "source": [
    "# no_of_call_records_Complaint_30days rating\n",
    "conditions = [\n",
    "    (df['no_of_call_records_Complaint_30days'] == 10),\n",
    "    (df['no_of_call_records_Complaint_30days'] >= 8) & (df['no_of_call_records_Complaint_30days'] <= 9),\n",
    "    (df['no_of_call_records_Complaint_30days'] >= 6) & (df['no_of_call_records_Complaint_30days'] <= 7),\n",
    "    (df['no_of_call_records_Complaint_30days'] >= 4) & (df['no_of_call_records_Complaint_30days'] <= 5),\n",
    "    (df['no_of_call_records_Complaint_30days'] >= 2) & (df['no_of_call_records_Complaint_30days'] <= 3),\n",
    "    (df['no_of_call_records_Complaint_30days'] >= 0) & (df['no_of_call_records_Complaint_30days'] <= 1)\n",
    "]\n",
    "values = [0,2,5,7,9,10]\n",
    "data['no_of_call_records_Complaint_30days_rating'] = np.select(conditions, values)\n",
    "\n",
    "\n",
    "# mins_of_call_records_Complaint_30days rating\n",
    "conditions = [\n",
    "    (df['mins_of_call_records_Complaint_30days'] > 25),\n",
    "    (df['mins_of_call_records_Complaint_30days'] >= 21) & (df['mins_of_call_records_Complaint_30days'] <= 25),\n",
    "    (df['mins_of_call_records_Complaint_30days'] >= 16) & (df['mins_of_call_records_Complaint_30days'] <= 20),\n",
    "    (df['mins_of_call_records_Complaint_30days'] >= 11) & (df['mins_of_call_records_Complaint_30days'] <= 15),\n",
    "    (df['mins_of_call_records_Complaint_30days'] >= 6) & (df['mins_of_call_records_Complaint_30days'] <= 10),\n",
    "    (df['mins_of_call_records_Complaint_30days'] >= 1) & (df['mins_of_call_records_Complaint_30days'] <= 5),\n",
    "    (df['mins_of_call_records_Complaint_30days'] == 0)\n",
    "]\n",
    "values = [0,2,4,6,8,9,10]\n",
    "data['mins_of_call_records_Complaint_30days_rating'] = np.select(conditions, values)\n",
    "\n",
    "\n",
    "# no_of_logged_GlobeOne_30days rating\n",
    "conditions = [\n",
    "    (df['no_of_logged_GlobeOne_30days'] >= 0) & (df['no_of_logged_GlobeOne_30days'] <= 2),\n",
    "    (df['no_of_logged_GlobeOne_30days'] >= 3) & (df['no_of_logged_GlobeOne_30days'] <= 7),\n",
    "    (df['no_of_logged_GlobeOne_30days'] >= 8) & (df['no_of_logged_GlobeOne_30days'] <= 14),\n",
    "    (df['no_of_logged_GlobeOne_30days'] >= 15) & (df['no_of_logged_GlobeOne_30days'] <= 21),\n",
    "    (df['no_of_logged_GlobeOne_30days'] >= 21) & (df['no_of_logged_GlobeOne_30days'] <= 29),\n",
    "    (df['no_of_logged_GlobeOne_30days'] == 30)\n",
    "]\n",
    "values = [5,6,7,8,9,10]\n",
    "data['no_of_logged_GlobeOne_30days_rating'] = np.select(conditions, values)"
   ]
  },
  {
   "cell_type": "code",
   "execution_count": 12,
   "metadata": {},
   "outputs": [
    {
     "output_type": "execute_result",
     "data": {
      "text/plain": [
       "   subscription_type_score  years_active_rating  other_accts_rating  \\\n",
       "0                       10                   10                   8   \n",
       "1                        5                    8                   8   \n",
       "2                       10                    6                   8   \n",
       "3                        5                    8                   8   \n",
       "4                        5                    9                   8   \n",
       "\n",
       "   freq_avail_top_up_30d_rating  no_of_top_ups_30days_rating  \\\n",
       "0                             7                            5   \n",
       "1                             5                            6   \n",
       "2                             7                            5   \n",
       "3                             8                            6   \n",
       "4                             5                            9   \n",
       "\n",
       "   days_since_last_two_top_ups_rating  \\\n",
       "0                                   8   \n",
       "1                                   0   \n",
       "2                                   8   \n",
       "3                                  10   \n",
       "4                                   3   \n",
       "\n",
       "   no_of_days_subscribed_to_Call_Text_30days_rating  \\\n",
       "0                                                10   \n",
       "1                                                 8   \n",
       "2                                                10   \n",
       "3                                                 9   \n",
       "4                                                 5   \n",
       "\n",
       "   no_of_days_subscribed_to_GoSurf_30days_rating  \\\n",
       "0                                             10   \n",
       "1                                              7   \n",
       "2                                             10   \n",
       "3                                              7   \n",
       "4                                              5   \n",
       "\n",
       "   no_of_days_subscribed_to_GoWatch_30days_rating  \\\n",
       "0                                               8   \n",
       "1                                               8   \n",
       "2                                               7   \n",
       "3                                               8   \n",
       "4                                              10   \n",
       "\n",
       "   no_of_days_subscribed_to_OtherApps_30days_rating  \\\n",
       "0                                                 9   \n",
       "1                                                 6   \n",
       "2                                                 9   \n",
       "3                                                 9   \n",
       "4                                                 5   \n",
       "\n",
       "   no_of_failed_Call_Text_30days_rating  no_of_failed_Surfing_30days_rating  \\\n",
       "0                                     5                                   5   \n",
       "1                                     1                                   5   \n",
       "2                                    10                                  10   \n",
       "3                                     5                                   1   \n",
       "4                                     0                                   7   \n",
       "\n",
       "   no_of_failed_143hotline_30days_rating  \\\n",
       "0                                      9   \n",
       "1                                      7   \n",
       "2                                      9   \n",
       "3                                      3   \n",
       "4                                      9   \n",
       "\n",
       "   no_of_call_records_Complaint_30days_rating  \\\n",
       "0                                           7   \n",
       "1                                           7   \n",
       "2                                           2   \n",
       "3                                           7   \n",
       "4                                           9   \n",
       "\n",
       "   mins_of_call_records_Complaint_30days_rating  \\\n",
       "0                                             9   \n",
       "1                                             2   \n",
       "2                                             6   \n",
       "3                                             0   \n",
       "4                                             9   \n",
       "\n",
       "   no_of_logged_GlobeOne_30days_rating  \n",
       "0                                    7  \n",
       "1                                    7  \n",
       "2                                    7  \n",
       "3                                    8  \n",
       "4                                    5  "
      ],
      "text/html": "<div>\n<style scoped>\n    .dataframe tbody tr th:only-of-type {\n        vertical-align: middle;\n    }\n\n    .dataframe tbody tr th {\n        vertical-align: top;\n    }\n\n    .dataframe thead th {\n        text-align: right;\n    }\n</style>\n<table border=\"1\" class=\"dataframe\">\n  <thead>\n    <tr style=\"text-align: right;\">\n      <th></th>\n      <th>subscription_type_score</th>\n      <th>years_active_rating</th>\n      <th>other_accts_rating</th>\n      <th>freq_avail_top_up_30d_rating</th>\n      <th>no_of_top_ups_30days_rating</th>\n      <th>days_since_last_two_top_ups_rating</th>\n      <th>no_of_days_subscribed_to_Call_Text_30days_rating</th>\n      <th>no_of_days_subscribed_to_GoSurf_30days_rating</th>\n      <th>no_of_days_subscribed_to_GoWatch_30days_rating</th>\n      <th>no_of_days_subscribed_to_OtherApps_30days_rating</th>\n      <th>no_of_failed_Call_Text_30days_rating</th>\n      <th>no_of_failed_Surfing_30days_rating</th>\n      <th>no_of_failed_143hotline_30days_rating</th>\n      <th>no_of_call_records_Complaint_30days_rating</th>\n      <th>mins_of_call_records_Complaint_30days_rating</th>\n      <th>no_of_logged_GlobeOne_30days_rating</th>\n    </tr>\n  </thead>\n  <tbody>\n    <tr>\n      <th>0</th>\n      <td>10</td>\n      <td>10</td>\n      <td>8</td>\n      <td>7</td>\n      <td>5</td>\n      <td>8</td>\n      <td>10</td>\n      <td>10</td>\n      <td>8</td>\n      <td>9</td>\n      <td>5</td>\n      <td>5</td>\n      <td>9</td>\n      <td>7</td>\n      <td>9</td>\n      <td>7</td>\n    </tr>\n    <tr>\n      <th>1</th>\n      <td>5</td>\n      <td>8</td>\n      <td>8</td>\n      <td>5</td>\n      <td>6</td>\n      <td>0</td>\n      <td>8</td>\n      <td>7</td>\n      <td>8</td>\n      <td>6</td>\n      <td>1</td>\n      <td>5</td>\n      <td>7</td>\n      <td>7</td>\n      <td>2</td>\n      <td>7</td>\n    </tr>\n    <tr>\n      <th>2</th>\n      <td>10</td>\n      <td>6</td>\n      <td>8</td>\n      <td>7</td>\n      <td>5</td>\n      <td>8</td>\n      <td>10</td>\n      <td>10</td>\n      <td>7</td>\n      <td>9</td>\n      <td>10</td>\n      <td>10</td>\n      <td>9</td>\n      <td>2</td>\n      <td>6</td>\n      <td>7</td>\n    </tr>\n    <tr>\n      <th>3</th>\n      <td>5</td>\n      <td>8</td>\n      <td>8</td>\n      <td>8</td>\n      <td>6</td>\n      <td>10</td>\n      <td>9</td>\n      <td>7</td>\n      <td>8</td>\n      <td>9</td>\n      <td>5</td>\n      <td>1</td>\n      <td>3</td>\n      <td>7</td>\n      <td>0</td>\n      <td>8</td>\n    </tr>\n    <tr>\n      <th>4</th>\n      <td>5</td>\n      <td>9</td>\n      <td>8</td>\n      <td>5</td>\n      <td>9</td>\n      <td>3</td>\n      <td>5</td>\n      <td>5</td>\n      <td>10</td>\n      <td>5</td>\n      <td>0</td>\n      <td>7</td>\n      <td>9</td>\n      <td>9</td>\n      <td>9</td>\n      <td>5</td>\n    </tr>\n  </tbody>\n</table>\n</div>"
     },
     "metadata": {},
     "execution_count": 12
    }
   ],
   "source": [
    "data.head()"
   ]
  },
  {
   "source": [
    "## Customer Profile"
   ],
   "cell_type": "markdown",
   "metadata": {}
  },
  {
   "cell_type": "code",
   "execution_count": 13,
   "metadata": {},
   "outputs": [],
   "source": [
    "# creating a dataframe called cp (customer profile) with the rating contents of user profile, load profile, sub profile, customer exp, and customer support engagement\n",
    "cp = pd.DataFrame()\n",
    "\n",
    "cp = cp.assign(user_profile=((data['subscription_type_score'] + data['years_active_rating'] + data['other_accts_rating'])/30)*100)\n",
    "cp = cp.assign(load_profile=((data['freq_avail_top_up_30d_rating'] + data['no_of_top_ups_30days_rating'] + data['days_since_last_two_top_ups_rating'])/30)*100)\n",
    "cp = cp.assign(subscription_profile=((data['no_of_days_subscribed_to_Call_Text_30days_rating'] + data['no_of_days_subscribed_to_GoSurf_30days_rating'] + data['no_of_days_subscribed_to_GoWatch_30days_rating'] + data['no_of_days_subscribed_to_OtherApps_30days_rating'])/40)*100)\n",
    "cp = cp.assign(customer_experience_profile=(((data['no_of_failed_Call_Text_30days_rating'] + data['no_of_failed_Surfing_30days_rating'] + data['no_of_failed_143hotline_30days_rating'])/30)*100))\n",
    "cp = cp.assign(customer_support_engagement_profile=(((data['no_of_call_records_Complaint_30days_rating'] + data['mins_of_call_records_Complaint_30days_rating'] + data['no_of_logged_GlobeOne_30days_rating'])/30)*100))"
   ]
  },
  {
   "cell_type": "code",
   "execution_count": 14,
   "metadata": {},
   "outputs": [],
   "source": [
    "cp = cp.assign(customer_profile=((cp['user_profile'] + cp['load_profile'] + cp['subscription_profile'] + cp['customer_experience_profile'] + cp['customer_support_engagement_profile'])/500)*100).astype('int')"
   ]
  },
  {
   "cell_type": "code",
   "execution_count": 15,
   "metadata": {},
   "outputs": [
    {
     "output_type": "execute_result",
     "data": {
      "text/plain": [
       "   user_profile  load_profile  subscription_profile  \\\n",
       "0            93            66                    92   \n",
       "1            70            36                    72   \n",
       "2            80            66                    90   \n",
       "3            70            80                    82   \n",
       "4            73            56                    62   \n",
       "\n",
       "   customer_experience_profile  customer_support_engagement_profile  \\\n",
       "0                           63                                   76   \n",
       "1                           43                                   53   \n",
       "2                           96                                   50   \n",
       "3                           30                                   50   \n",
       "4                           53                                   76   \n",
       "\n",
       "   customer_profile  \n",
       "0                78  \n",
       "1                55  \n",
       "2                76  \n",
       "3                62  \n",
       "4                64  "
      ],
      "text/html": "<div>\n<style scoped>\n    .dataframe tbody tr th:only-of-type {\n        vertical-align: middle;\n    }\n\n    .dataframe tbody tr th {\n        vertical-align: top;\n    }\n\n    .dataframe thead th {\n        text-align: right;\n    }\n</style>\n<table border=\"1\" class=\"dataframe\">\n  <thead>\n    <tr style=\"text-align: right;\">\n      <th></th>\n      <th>user_profile</th>\n      <th>load_profile</th>\n      <th>subscription_profile</th>\n      <th>customer_experience_profile</th>\n      <th>customer_support_engagement_profile</th>\n      <th>customer_profile</th>\n    </tr>\n  </thead>\n  <tbody>\n    <tr>\n      <th>0</th>\n      <td>93</td>\n      <td>66</td>\n      <td>92</td>\n      <td>63</td>\n      <td>76</td>\n      <td>78</td>\n    </tr>\n    <tr>\n      <th>1</th>\n      <td>70</td>\n      <td>36</td>\n      <td>72</td>\n      <td>43</td>\n      <td>53</td>\n      <td>55</td>\n    </tr>\n    <tr>\n      <th>2</th>\n      <td>80</td>\n      <td>66</td>\n      <td>90</td>\n      <td>96</td>\n      <td>50</td>\n      <td>76</td>\n    </tr>\n    <tr>\n      <th>3</th>\n      <td>70</td>\n      <td>80</td>\n      <td>82</td>\n      <td>30</td>\n      <td>50</td>\n      <td>62</td>\n    </tr>\n    <tr>\n      <th>4</th>\n      <td>73</td>\n      <td>56</td>\n      <td>62</td>\n      <td>53</td>\n      <td>76</td>\n      <td>64</td>\n    </tr>\n  </tbody>\n</table>\n</div>"
     },
     "metadata": {},
     "execution_count": 15
    }
   ],
   "source": [
    "cp.head()"
   ]
  },
  {
   "cell_type": "code",
   "execution_count": 16,
   "metadata": {},
   "outputs": [],
   "source": [
    "conditions = [\n",
    "    (cp['customer_profile'] >= 91) & (cp['customer_profile'] <= 100),\n",
    "    (cp['customer_profile'] >= 75) & (cp['customer_profile'] <= 90),\n",
    "    (cp['customer_profile'] >= 60) & (cp['customer_profile'] <= 74),\n",
    "    (cp['customer_profile'] >= 50) & (cp['customer_profile'] <= 59),\n",
    "    (cp['customer_profile'] < 50)\n",
    "]\n",
    "values = ['Very Happy','Happy','Neutral','Not Happy','Not Very Happy']\n",
    "cp['customer_happiness_index'] = np.select(conditions,values)"
   ]
  },
  {
   "cell_type": "code",
   "execution_count": 17,
   "metadata": {},
   "outputs": [
    {
     "output_type": "execute_result",
     "data": {
      "text/plain": [
       "0        Happy\n",
       "1    Not Happy\n",
       "2        Happy\n",
       "3      Neutral\n",
       "4      Neutral\n",
       "Name: customer_happiness_index, dtype: object"
      ]
     },
     "metadata": {},
     "execution_count": 17
    }
   ],
   "source": [
    "cp['customer_happiness_index'].head()"
   ]
  },
  {
   "source": [
    "# ML Algorithm Prediction"
   ],
   "cell_type": "markdown",
   "metadata": {}
  },
  {
   "cell_type": "code",
   "execution_count": 18,
   "metadata": {},
   "outputs": [],
   "source": [
    "x = cp.loc[:,'user_profile':'customer_support_engagement_profile']\n",
    "y = cp.loc[:,'customer_happiness_index']"
   ]
  },
  {
   "cell_type": "code",
   "execution_count": 19,
   "metadata": {},
   "outputs": [
    {
     "output_type": "stream",
     "name": "stderr",
     "text": [
      "E:\\Coding\\Anaconda\\lib\\site-packages\\sklearn\\linear_model\\_logistic.py:762: ConvergenceWarning: lbfgs failed to converge (status=1):\nSTOP: TOTAL NO. of ITERATIONS REACHED LIMIT.\n\nIncrease the number of iterations (max_iter) or scale the data as shown in:\n    https://scikit-learn.org/stable/modules/preprocessing.html\nPlease also refer to the documentation for alternative solver options:\n    https://scikit-learn.org/stable/modules/linear_model.html#logistic-regression\n  n_iter_i = _check_optimize_result(\n"
     ]
    },
    {
     "output_type": "execute_result",
     "data": {
      "text/plain": [
       "LogisticRegression(max_iter=330, random_state=0)"
      ]
     },
     "metadata": {},
     "execution_count": 19
    }
   ],
   "source": [
    "from sklearn.linear_model import LogisticRegression\n",
    "from sklearn.model_selection import train_test_split\n",
    "\n",
    "x_train, x_test, y_train, y_test = train_test_split(x, y, test_size=0.2, random_state=0)\n",
    "\n",
    "model = LogisticRegression(random_state=0, max_iter=330)\n",
    "model.fit(x_train, y_train)"
   ]
  },
  {
   "cell_type": "code",
   "execution_count": 20,
   "metadata": {},
   "outputs": [
    {
     "output_type": "execute_result",
     "data": {
      "text/plain": [
       "      Actual  Predicted\n",
       "0    Neutral    Neutral\n",
       "1    Neutral    Neutral\n",
       "2  Not Happy  Not Happy\n",
       "3    Neutral    Neutral\n",
       "4    Neutral    Neutral"
      ],
      "text/html": "<div>\n<style scoped>\n    .dataframe tbody tr th:only-of-type {\n        vertical-align: middle;\n    }\n\n    .dataframe tbody tr th {\n        vertical-align: top;\n    }\n\n    .dataframe thead th {\n        text-align: right;\n    }\n</style>\n<table border=\"1\" class=\"dataframe\">\n  <thead>\n    <tr style=\"text-align: right;\">\n      <th></th>\n      <th>Actual</th>\n      <th>Predicted</th>\n    </tr>\n  </thead>\n  <tbody>\n    <tr>\n      <th>0</th>\n      <td>Neutral</td>\n      <td>Neutral</td>\n    </tr>\n    <tr>\n      <th>1</th>\n      <td>Neutral</td>\n      <td>Neutral</td>\n    </tr>\n    <tr>\n      <th>2</th>\n      <td>Not Happy</td>\n      <td>Not Happy</td>\n    </tr>\n    <tr>\n      <th>3</th>\n      <td>Neutral</td>\n      <td>Neutral</td>\n    </tr>\n    <tr>\n      <th>4</th>\n      <td>Neutral</td>\n      <td>Neutral</td>\n    </tr>\n  </tbody>\n</table>\n</div>"
     },
     "metadata": {},
     "execution_count": 20
    }
   ],
   "source": [
    "pred = model.predict(x_test)\n",
    "\n",
    "test_comparison = pd.DataFrame({'Actual':y_test,'Predicted':pred}).reset_index(drop=True)\n",
    "test_comparison.head()"
   ]
  },
  {
   "cell_type": "code",
   "execution_count": 21,
   "metadata": {},
   "outputs": [
    {
     "output_type": "execute_result",
     "data": {
      "text/plain": [
       "0.9"
      ]
     },
     "metadata": {},
     "execution_count": 21
    }
   ],
   "source": [
    "model.score(x_test, y_test)"
   ]
  },
  {
   "cell_type": "code",
   "execution_count": 22,
   "metadata": {},
   "outputs": [],
   "source": [
    "incorr_vals = pd.DataFrame()\n",
    "incorr_vals['Actual'] = ''\n",
    "incorr_vals['Incorrect-Prediction'] = ''\n",
    "\n",
    "for i in range(len(test_comparison)):\n",
    "    if(test_comparison['Actual'][i] != test_comparison['Predicted'][i]):\n",
    "        incorr_vals = incorr_vals.append({'Actual':test_comparison['Actual'][i],'Incorrect-Prediction':test_comparison['Predicted'][i]}, ignore_index=True)"
   ]
  },
  {
   "cell_type": "code",
   "execution_count": 23,
   "metadata": {},
   "outputs": [
    {
     "output_type": "execute_result",
     "data": {
      "text/plain": [
       "           Actual Incorrect-Prediction\n",
       "0  Not Very Happy            Not Happy\n",
       "1       Not Happy              Neutral\n",
       "2           Happy              Neutral\n",
       "3  Not Very Happy            Not Happy\n",
       "4  Not Very Happy            Not Happy"
      ],
      "text/html": "<div>\n<style scoped>\n    .dataframe tbody tr th:only-of-type {\n        vertical-align: middle;\n    }\n\n    .dataframe tbody tr th {\n        vertical-align: top;\n    }\n\n    .dataframe thead th {\n        text-align: right;\n    }\n</style>\n<table border=\"1\" class=\"dataframe\">\n  <thead>\n    <tr style=\"text-align: right;\">\n      <th></th>\n      <th>Actual</th>\n      <th>Incorrect-Prediction</th>\n    </tr>\n  </thead>\n  <tbody>\n    <tr>\n      <th>0</th>\n      <td>Not Very Happy</td>\n      <td>Not Happy</td>\n    </tr>\n    <tr>\n      <th>1</th>\n      <td>Not Happy</td>\n      <td>Neutral</td>\n    </tr>\n    <tr>\n      <th>2</th>\n      <td>Happy</td>\n      <td>Neutral</td>\n    </tr>\n    <tr>\n      <th>3</th>\n      <td>Not Very Happy</td>\n      <td>Not Happy</td>\n    </tr>\n    <tr>\n      <th>4</th>\n      <td>Not Very Happy</td>\n      <td>Not Happy</td>\n    </tr>\n  </tbody>\n</table>\n</div>"
     },
     "metadata": {},
     "execution_count": 23
    }
   ],
   "source": [
    "incorr_vals.head()"
   ]
  },
  {
   "cell_type": "code",
   "execution_count": 25,
   "metadata": {},
   "outputs": [
    {
     "output_type": "stream",
     "name": "stdout",
     "text": [
      "Number of Incorrect values: 40 / 400\n"
     ]
    }
   ],
   "source": [
    "print('Number of Incorrect values:', len(incorr_vals),'/',len(test_comparison))"
   ]
  },
  {
   "cell_type": "code",
   "execution_count": null,
   "metadata": {},
   "outputs": [],
   "source": []
  }
 ]
}