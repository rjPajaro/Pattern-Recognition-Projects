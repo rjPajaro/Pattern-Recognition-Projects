{
 "metadata": {
  "language_info": {
   "codemirror_mode": {
    "name": "ipython",
    "version": 3
   },
   "file_extension": ".py",
   "mimetype": "text/x-python",
   "name": "python",
   "nbconvert_exporter": "python",
   "pygments_lexer": "ipython3",
   "version": "3.8.3"
  },
  "orig_nbformat": 4,
  "kernelspec": {
   "name": "python3",
   "display_name": "Python 3.8.3 64-bit ('base': conda)"
  },
  "interpreter": {
   "hash": "80e949a67cf278127b748d188dfe995fcb9b6fe4ab79bb80686294a040d0359f"
  }
 },
 "nbformat": 4,
 "nbformat_minor": 2,
 "cells": [
  {
   "cell_type": "code",
   "execution_count": 1,
   "metadata": {},
   "outputs": [],
   "source": [
    "import pandas as pd\n",
    "import mock_data_script as mds"
   ]
  },
  {
   "cell_type": "code",
   "execution_count": 2,
   "metadata": {},
   "outputs": [],
   "source": [
    "def mock_data():\n",
    "    weeks = mds.generate_weeks()\n",
    "\n",
    "    ids = mds.generate_IMEI()\n",
    "    IMEIs = []\n",
    "    credits_loaded = []\n",
    "    num_hrs = []\n",
    "    mdu = []\n",
    "    promos = []\n",
    "    times = []\n",
    "    active = []\n",
    "\n",
    "    for _ in range(len(weeks)):\n",
    "        IMEIs.append(ids)\n",
    "\n",
    "        credit = mds.generate_credit_load()\n",
    "        hrs = mds.generate_num_of_hrs()\n",
    "        md_usage = mds.generate_md_usage()\n",
    "        promo = mds.generate_promos()\n",
    "        active_time = mds.generate_active_time()\n",
    "        activity = credit + hrs + md_usage + promo + active_time\n",
    "\n",
    "        credits_loaded.append(credit)\n",
    "        num_hrs.append(hrs)\n",
    "        mdu.append(md_usage)\n",
    "        promos.append(promo)\n",
    "        times.append(active_time)\n",
    "\n",
    "        if activity == 0:\n",
    "            active.append(1)\n",
    "        else:\n",
    "            active.append(0)\n",
    "\n",
    "    for i in range(len(weeks)):\n",
    "        if i == len(weeks)-4 or i == len(weeks)-3 or i == len(weeks)-2 or i == len(weeks)-1:\n",
    "            credits_loaded[i] = 0\n",
    "            num_hrs[i] = 0\n",
    "            mdu[i] = 0\n",
    "            promos[i] = 0\n",
    "            times[i] = 0\n",
    "            active[i] = 1\n",
    "\n",
    "    return weeks, IMEIs, credits_loaded, num_hrs, mdu, promos, times, active"
   ]
  },
  {
   "cell_type": "code",
   "execution_count": 3,
   "metadata": {},
   "outputs": [],
   "source": [
    "d = []\n",
    "\n",
    "for _ in range(10):\n",
    "    weeks, IMEIs, credits_loaded, num_hrs, mdu, promos, times, active = mock_data()\n",
    "    d.append(pd.DataFrame({\n",
    "        'weeks':weeks, \n",
    "        'IMEI':IMEIs,\n",
    "        'credits_loaded_per_week':credits_loaded,\n",
    "        'num_hrs_spend_on_net':num_hrs,\n",
    "        'mobile_data_usage(gb)':mdu,\n",
    "        'promos_used':promos,\n",
    "        'active_times':times,\n",
    "        'activity_status':active\n",
    "        }))"
   ]
  },
  {
   "cell_type": "code",
   "execution_count": 4,
   "metadata": {},
   "outputs": [
    {
     "output_type": "execute_result",
     "data": {
      "text/plain": [
       "        weeks             IMEI  credits_loaded_per_week  num_hrs_spend_on_net  \\\n",
       "0  2019-02-13  783112016469716                        0                   4.0   \n",
       "1  2019-02-20  783112016469716                      100                  15.2   \n",
       "2  2019-02-27  783112016469716                        0                  20.6   \n",
       "3  2019-03-06  783112016469716                        0                   4.8   \n",
       "4  2019-03-13  783112016469716                       30                  16.5   \n",
       "5  2019-03-20  783112016469716                        0                  11.1   \n",
       "6  2019-03-27  783112016469716                        0                  19.4   \n",
       "7  2019-04-03  783112016469716                      800                  17.1   \n",
       "8  2019-04-10  783112016469716                        0                  19.7   \n",
       "9  2019-04-17  783112016469716                        0                  19.8   \n",
       "10 2019-04-24  783112016469716                      500                  18.8   \n",
       "11 2019-05-01  783112016469716                        0                  19.8   \n",
       "12 2019-05-08  783112016469716                        0                  15.5   \n",
       "13 2019-05-15  783112016469716                     1000                  18.3   \n",
       "14 2019-05-22  783112016469716                        0                   0.2   \n",
       "15 2019-05-29  783112016469716                        0                   9.0   \n",
       "16 2019-06-05  783112016469716                       20                  19.7   \n",
       "17 2019-06-12  783112016469716                        0                  19.8   \n",
       "18 2019-06-19  783112016469716                        0                   5.6   \n",
       "19 2019-06-26  783112016469716                       30                   0.6   \n",
       "20 2019-07-03  783112016469716                       20                   8.5   \n",
       "21 2019-07-10  783112016469716                        0                  16.0   \n",
       "22 2019-07-17  783112016469716                        0                  15.5   \n",
       "23 2019-07-24  783112016469716                        0                   8.4   \n",
       "24 2019-07-31  783112016469716                       70                   3.3   \n",
       "25 2019-08-07  783112016469716                        0                  10.7   \n",
       "26 2019-08-14  783112016469716                        0                   0.4   \n",
       "27 2019-08-21  783112016469716                        0                  17.8   \n",
       "28 2019-08-28  783112016469716                      200                  14.9   \n",
       "29 2019-09-04  783112016469716                     1000                  13.7   \n",
       "30 2019-09-11  783112016469716                        0                  12.4   \n",
       "31 2019-09-18  783112016469716                       50                  13.1   \n",
       "32 2019-09-25  783112016469716                       30                  22.5   \n",
       "33 2019-10-02  783112016469716                       50                   5.6   \n",
       "34 2019-10-09  783112016469716                       30                  17.2   \n",
       "35 2019-10-16  783112016469716                      800                   2.0   \n",
       "36 2019-10-23  783112016469716                        0                  12.6   \n",
       "37 2019-10-30  783112016469716                       50                  15.2   \n",
       "38 2019-11-06  783112016469716                        0                   2.5   \n",
       "39 2019-11-13  783112016469716                       70                   2.0   \n",
       "40 2019-11-20  783112016469716                        0                  14.1   \n",
       "41 2019-11-27  783112016469716                        0                   0.0   \n",
       "42 2019-12-04  783112016469716                        0                   0.0   \n",
       "43 2019-12-11  783112016469716                        0                   0.0   \n",
       "44 2019-12-18  783112016469716                        0                   0.0   \n",
       "\n",
       "    mobile_data_usage(gb)  promos_used  active_times  activity_status  \n",
       "0                    8.95            0             1                0  \n",
       "1                    8.83            5             0                0  \n",
       "2                    8.16            2             0                0  \n",
       "3                    8.03            0             0                0  \n",
       "4                    7.18            3             1                0  \n",
       "5                    6.89            2             2                0  \n",
       "6                    6.55            0             0                0  \n",
       "7                    6.07            3             0                0  \n",
       "8                    6.99            0             0                0  \n",
       "9                    7.89            0             2                0  \n",
       "10                   8.86            0             2                0  \n",
       "11                   8.80            1             2                0  \n",
       "12                   7.57            1             0                0  \n",
       "13                   8.48            4             1                0  \n",
       "14                   6.04            0             2                0  \n",
       "15                   7.99            5             1                0  \n",
       "16                   6.77            0             0                0  \n",
       "17                   8.23            2             1                0  \n",
       "18                   5.68            0             2                0  \n",
       "19                   8.95            3             2                0  \n",
       "20                   5.56            2             2                0  \n",
       "21                   5.90            0             2                0  \n",
       "22                   8.95            6             2                0  \n",
       "23                   7.91            2             2                0  \n",
       "24                   6.52            6             1                0  \n",
       "25                   5.79            4             1                0  \n",
       "26                   8.76            5             2                0  \n",
       "27                   6.66            3             1                0  \n",
       "28                   8.30            3             2                0  \n",
       "29                   7.35            0             0                0  \n",
       "30                   9.00            1             0                0  \n",
       "31                   7.68            2             2                0  \n",
       "32                   7.06            5             2                0  \n",
       "33                   5.25            1             2                0  \n",
       "34                   7.67            3             2                0  \n",
       "35                   6.49            4             2                0  \n",
       "36                   5.14            2             0                0  \n",
       "37                   7.56            0             1                0  \n",
       "38                   8.04            0             0                0  \n",
       "39                   6.33            0             0                0  \n",
       "40                   8.60            2             0                0  \n",
       "41                   0.00            0             0                1  \n",
       "42                   0.00            0             0                1  \n",
       "43                   0.00            0             0                1  \n",
       "44                   0.00            0             0                1  "
      ],
      "text/html": "<div>\n<style scoped>\n    .dataframe tbody tr th:only-of-type {\n        vertical-align: middle;\n    }\n\n    .dataframe tbody tr th {\n        vertical-align: top;\n    }\n\n    .dataframe thead th {\n        text-align: right;\n    }\n</style>\n<table border=\"1\" class=\"dataframe\">\n  <thead>\n    <tr style=\"text-align: right;\">\n      <th></th>\n      <th>weeks</th>\n      <th>IMEI</th>\n      <th>credits_loaded_per_week</th>\n      <th>num_hrs_spend_on_net</th>\n      <th>mobile_data_usage(gb)</th>\n      <th>promos_used</th>\n      <th>active_times</th>\n      <th>activity_status</th>\n    </tr>\n  </thead>\n  <tbody>\n    <tr>\n      <th>0</th>\n      <td>2019-02-13</td>\n      <td>783112016469716</td>\n      <td>0</td>\n      <td>4.0</td>\n      <td>8.95</td>\n      <td>0</td>\n      <td>1</td>\n      <td>0</td>\n    </tr>\n    <tr>\n      <th>1</th>\n      <td>2019-02-20</td>\n      <td>783112016469716</td>\n      <td>100</td>\n      <td>15.2</td>\n      <td>8.83</td>\n      <td>5</td>\n      <td>0</td>\n      <td>0</td>\n    </tr>\n    <tr>\n      <th>2</th>\n      <td>2019-02-27</td>\n      <td>783112016469716</td>\n      <td>0</td>\n      <td>20.6</td>\n      <td>8.16</td>\n      <td>2</td>\n      <td>0</td>\n      <td>0</td>\n    </tr>\n    <tr>\n      <th>3</th>\n      <td>2019-03-06</td>\n      <td>783112016469716</td>\n      <td>0</td>\n      <td>4.8</td>\n      <td>8.03</td>\n      <td>0</td>\n      <td>0</td>\n      <td>0</td>\n    </tr>\n    <tr>\n      <th>4</th>\n      <td>2019-03-13</td>\n      <td>783112016469716</td>\n      <td>30</td>\n      <td>16.5</td>\n      <td>7.18</td>\n      <td>3</td>\n      <td>1</td>\n      <td>0</td>\n    </tr>\n    <tr>\n      <th>5</th>\n      <td>2019-03-20</td>\n      <td>783112016469716</td>\n      <td>0</td>\n      <td>11.1</td>\n      <td>6.89</td>\n      <td>2</td>\n      <td>2</td>\n      <td>0</td>\n    </tr>\n    <tr>\n      <th>6</th>\n      <td>2019-03-27</td>\n      <td>783112016469716</td>\n      <td>0</td>\n      <td>19.4</td>\n      <td>6.55</td>\n      <td>0</td>\n      <td>0</td>\n      <td>0</td>\n    </tr>\n    <tr>\n      <th>7</th>\n      <td>2019-04-03</td>\n      <td>783112016469716</td>\n      <td>800</td>\n      <td>17.1</td>\n      <td>6.07</td>\n      <td>3</td>\n      <td>0</td>\n      <td>0</td>\n    </tr>\n    <tr>\n      <th>8</th>\n      <td>2019-04-10</td>\n      <td>783112016469716</td>\n      <td>0</td>\n      <td>19.7</td>\n      <td>6.99</td>\n      <td>0</td>\n      <td>0</td>\n      <td>0</td>\n    </tr>\n    <tr>\n      <th>9</th>\n      <td>2019-04-17</td>\n      <td>783112016469716</td>\n      <td>0</td>\n      <td>19.8</td>\n      <td>7.89</td>\n      <td>0</td>\n      <td>2</td>\n      <td>0</td>\n    </tr>\n    <tr>\n      <th>10</th>\n      <td>2019-04-24</td>\n      <td>783112016469716</td>\n      <td>500</td>\n      <td>18.8</td>\n      <td>8.86</td>\n      <td>0</td>\n      <td>2</td>\n      <td>0</td>\n    </tr>\n    <tr>\n      <th>11</th>\n      <td>2019-05-01</td>\n      <td>783112016469716</td>\n      <td>0</td>\n      <td>19.8</td>\n      <td>8.80</td>\n      <td>1</td>\n      <td>2</td>\n      <td>0</td>\n    </tr>\n    <tr>\n      <th>12</th>\n      <td>2019-05-08</td>\n      <td>783112016469716</td>\n      <td>0</td>\n      <td>15.5</td>\n      <td>7.57</td>\n      <td>1</td>\n      <td>0</td>\n      <td>0</td>\n    </tr>\n    <tr>\n      <th>13</th>\n      <td>2019-05-15</td>\n      <td>783112016469716</td>\n      <td>1000</td>\n      <td>18.3</td>\n      <td>8.48</td>\n      <td>4</td>\n      <td>1</td>\n      <td>0</td>\n    </tr>\n    <tr>\n      <th>14</th>\n      <td>2019-05-22</td>\n      <td>783112016469716</td>\n      <td>0</td>\n      <td>0.2</td>\n      <td>6.04</td>\n      <td>0</td>\n      <td>2</td>\n      <td>0</td>\n    </tr>\n    <tr>\n      <th>15</th>\n      <td>2019-05-29</td>\n      <td>783112016469716</td>\n      <td>0</td>\n      <td>9.0</td>\n      <td>7.99</td>\n      <td>5</td>\n      <td>1</td>\n      <td>0</td>\n    </tr>\n    <tr>\n      <th>16</th>\n      <td>2019-06-05</td>\n      <td>783112016469716</td>\n      <td>20</td>\n      <td>19.7</td>\n      <td>6.77</td>\n      <td>0</td>\n      <td>0</td>\n      <td>0</td>\n    </tr>\n    <tr>\n      <th>17</th>\n      <td>2019-06-12</td>\n      <td>783112016469716</td>\n      <td>0</td>\n      <td>19.8</td>\n      <td>8.23</td>\n      <td>2</td>\n      <td>1</td>\n      <td>0</td>\n    </tr>\n    <tr>\n      <th>18</th>\n      <td>2019-06-19</td>\n      <td>783112016469716</td>\n      <td>0</td>\n      <td>5.6</td>\n      <td>5.68</td>\n      <td>0</td>\n      <td>2</td>\n      <td>0</td>\n    </tr>\n    <tr>\n      <th>19</th>\n      <td>2019-06-26</td>\n      <td>783112016469716</td>\n      <td>30</td>\n      <td>0.6</td>\n      <td>8.95</td>\n      <td>3</td>\n      <td>2</td>\n      <td>0</td>\n    </tr>\n    <tr>\n      <th>20</th>\n      <td>2019-07-03</td>\n      <td>783112016469716</td>\n      <td>20</td>\n      <td>8.5</td>\n      <td>5.56</td>\n      <td>2</td>\n      <td>2</td>\n      <td>0</td>\n    </tr>\n    <tr>\n      <th>21</th>\n      <td>2019-07-10</td>\n      <td>783112016469716</td>\n      <td>0</td>\n      <td>16.0</td>\n      <td>5.90</td>\n      <td>0</td>\n      <td>2</td>\n      <td>0</td>\n    </tr>\n    <tr>\n      <th>22</th>\n      <td>2019-07-17</td>\n      <td>783112016469716</td>\n      <td>0</td>\n      <td>15.5</td>\n      <td>8.95</td>\n      <td>6</td>\n      <td>2</td>\n      <td>0</td>\n    </tr>\n    <tr>\n      <th>23</th>\n      <td>2019-07-24</td>\n      <td>783112016469716</td>\n      <td>0</td>\n      <td>8.4</td>\n      <td>7.91</td>\n      <td>2</td>\n      <td>2</td>\n      <td>0</td>\n    </tr>\n    <tr>\n      <th>24</th>\n      <td>2019-07-31</td>\n      <td>783112016469716</td>\n      <td>70</td>\n      <td>3.3</td>\n      <td>6.52</td>\n      <td>6</td>\n      <td>1</td>\n      <td>0</td>\n    </tr>\n    <tr>\n      <th>25</th>\n      <td>2019-08-07</td>\n      <td>783112016469716</td>\n      <td>0</td>\n      <td>10.7</td>\n      <td>5.79</td>\n      <td>4</td>\n      <td>1</td>\n      <td>0</td>\n    </tr>\n    <tr>\n      <th>26</th>\n      <td>2019-08-14</td>\n      <td>783112016469716</td>\n      <td>0</td>\n      <td>0.4</td>\n      <td>8.76</td>\n      <td>5</td>\n      <td>2</td>\n      <td>0</td>\n    </tr>\n    <tr>\n      <th>27</th>\n      <td>2019-08-21</td>\n      <td>783112016469716</td>\n      <td>0</td>\n      <td>17.8</td>\n      <td>6.66</td>\n      <td>3</td>\n      <td>1</td>\n      <td>0</td>\n    </tr>\n    <tr>\n      <th>28</th>\n      <td>2019-08-28</td>\n      <td>783112016469716</td>\n      <td>200</td>\n      <td>14.9</td>\n      <td>8.30</td>\n      <td>3</td>\n      <td>2</td>\n      <td>0</td>\n    </tr>\n    <tr>\n      <th>29</th>\n      <td>2019-09-04</td>\n      <td>783112016469716</td>\n      <td>1000</td>\n      <td>13.7</td>\n      <td>7.35</td>\n      <td>0</td>\n      <td>0</td>\n      <td>0</td>\n    </tr>\n    <tr>\n      <th>30</th>\n      <td>2019-09-11</td>\n      <td>783112016469716</td>\n      <td>0</td>\n      <td>12.4</td>\n      <td>9.00</td>\n      <td>1</td>\n      <td>0</td>\n      <td>0</td>\n    </tr>\n    <tr>\n      <th>31</th>\n      <td>2019-09-18</td>\n      <td>783112016469716</td>\n      <td>50</td>\n      <td>13.1</td>\n      <td>7.68</td>\n      <td>2</td>\n      <td>2</td>\n      <td>0</td>\n    </tr>\n    <tr>\n      <th>32</th>\n      <td>2019-09-25</td>\n      <td>783112016469716</td>\n      <td>30</td>\n      <td>22.5</td>\n      <td>7.06</td>\n      <td>5</td>\n      <td>2</td>\n      <td>0</td>\n    </tr>\n    <tr>\n      <th>33</th>\n      <td>2019-10-02</td>\n      <td>783112016469716</td>\n      <td>50</td>\n      <td>5.6</td>\n      <td>5.25</td>\n      <td>1</td>\n      <td>2</td>\n      <td>0</td>\n    </tr>\n    <tr>\n      <th>34</th>\n      <td>2019-10-09</td>\n      <td>783112016469716</td>\n      <td>30</td>\n      <td>17.2</td>\n      <td>7.67</td>\n      <td>3</td>\n      <td>2</td>\n      <td>0</td>\n    </tr>\n    <tr>\n      <th>35</th>\n      <td>2019-10-16</td>\n      <td>783112016469716</td>\n      <td>800</td>\n      <td>2.0</td>\n      <td>6.49</td>\n      <td>4</td>\n      <td>2</td>\n      <td>0</td>\n    </tr>\n    <tr>\n      <th>36</th>\n      <td>2019-10-23</td>\n      <td>783112016469716</td>\n      <td>0</td>\n      <td>12.6</td>\n      <td>5.14</td>\n      <td>2</td>\n      <td>0</td>\n      <td>0</td>\n    </tr>\n    <tr>\n      <th>37</th>\n      <td>2019-10-30</td>\n      <td>783112016469716</td>\n      <td>50</td>\n      <td>15.2</td>\n      <td>7.56</td>\n      <td>0</td>\n      <td>1</td>\n      <td>0</td>\n    </tr>\n    <tr>\n      <th>38</th>\n      <td>2019-11-06</td>\n      <td>783112016469716</td>\n      <td>0</td>\n      <td>2.5</td>\n      <td>8.04</td>\n      <td>0</td>\n      <td>0</td>\n      <td>0</td>\n    </tr>\n    <tr>\n      <th>39</th>\n      <td>2019-11-13</td>\n      <td>783112016469716</td>\n      <td>70</td>\n      <td>2.0</td>\n      <td>6.33</td>\n      <td>0</td>\n      <td>0</td>\n      <td>0</td>\n    </tr>\n    <tr>\n      <th>40</th>\n      <td>2019-11-20</td>\n      <td>783112016469716</td>\n      <td>0</td>\n      <td>14.1</td>\n      <td>8.60</td>\n      <td>2</td>\n      <td>0</td>\n      <td>0</td>\n    </tr>\n    <tr>\n      <th>41</th>\n      <td>2019-11-27</td>\n      <td>783112016469716</td>\n      <td>0</td>\n      <td>0.0</td>\n      <td>0.00</td>\n      <td>0</td>\n      <td>0</td>\n      <td>1</td>\n    </tr>\n    <tr>\n      <th>42</th>\n      <td>2019-12-04</td>\n      <td>783112016469716</td>\n      <td>0</td>\n      <td>0.0</td>\n      <td>0.00</td>\n      <td>0</td>\n      <td>0</td>\n      <td>1</td>\n    </tr>\n    <tr>\n      <th>43</th>\n      <td>2019-12-11</td>\n      <td>783112016469716</td>\n      <td>0</td>\n      <td>0.0</td>\n      <td>0.00</td>\n      <td>0</td>\n      <td>0</td>\n      <td>1</td>\n    </tr>\n    <tr>\n      <th>44</th>\n      <td>2019-12-18</td>\n      <td>783112016469716</td>\n      <td>0</td>\n      <td>0.0</td>\n      <td>0.00</td>\n      <td>0</td>\n      <td>0</td>\n      <td>1</td>\n    </tr>\n  </tbody>\n</table>\n</div>"
     },
     "metadata": {},
     "execution_count": 4
    }
   ],
   "source": [
    "d[0]"
   ]
  },
  {
   "cell_type": "code",
   "execution_count": 5,
   "metadata": {},
   "outputs": [
    {
     "output_type": "execute_result",
     "data": {
      "text/plain": [
       "45"
      ]
     },
     "metadata": {},
     "execution_count": 5
    }
   ],
   "source": [
    "len(d[0])"
   ]
  },
  {
   "cell_type": "code",
   "execution_count": 6,
   "metadata": {},
   "outputs": [
    {
     "output_type": "execute_result",
     "data": {
      "text/plain": [
       "10"
      ]
     },
     "metadata": {},
     "execution_count": 6
    }
   ],
   "source": [
    "len(d)"
   ]
  },
  {
   "cell_type": "code",
   "execution_count": 7,
   "metadata": {},
   "outputs": [],
   "source": [
    "with pd.ExcelWriter('data/mock/sample_mock_rc_data.xlsx') as writer:\n",
    "    for i in range(len(d)):\n",
    "        d[i].to_excel(writer, sheet_name=('d{}'.format(i)), index=False)\n",
    "#_.to_csv('data/mock/sample_mock_rc_data.csv','possible_rc')"
   ]
  },
  {
   "cell_type": "code",
   "execution_count": 8,
   "metadata": {},
   "outputs": [],
   "source": [
    "import numpy as np\n",
    "import pandas as pd\n",
    "\n",
    "dfs = pd.ExcelFile('data/mock/sample_mock_rc_data.xlsx')\n",
    "sheets = dfs.sheet_names\n",
    "d = []\n",
    "for i in range(10):\n",
    "    d.append(dfs.parse(sheet_name=sheets[i]))"
   ]
  },
  {
   "cell_type": "code",
   "execution_count": 9,
   "metadata": {},
   "outputs": [],
   "source": [
    "def Euclidean_Dist(df1, df2, cols=d[0].columns[2:]):\n",
    "    return np.linalg.norm(df1[cols].values - df2[cols].values,\n",
    "                   axis=1)"
   ]
  },
  {
   "cell_type": "code",
   "execution_count": 10,
   "metadata": {},
   "outputs": [
    {
     "output_type": "execute_result",
     "data": {
      "text/plain": [
       "        weeks             IMEI  credits_loaded_per_week  num_hrs_spend_on_net  \\\n",
       "0  2019-02-13  783112016469716                        0                   4.0   \n",
       "1  2019-02-20  783112016469716                      100                  15.2   \n",
       "2  2019-02-27  783112016469716                        0                  20.6   \n",
       "3  2019-03-06  783112016469716                        0                   4.8   \n",
       "4  2019-03-13  783112016469716                       30                  16.5   \n",
       "5  2019-03-20  783112016469716                        0                  11.1   \n",
       "6  2019-03-27  783112016469716                        0                  19.4   \n",
       "7  2019-04-03  783112016469716                      800                  17.1   \n",
       "8  2019-04-10  783112016469716                        0                  19.7   \n",
       "9  2019-04-17  783112016469716                        0                  19.8   \n",
       "10 2019-04-24  783112016469716                      500                  18.8   \n",
       "11 2019-05-01  783112016469716                        0                  19.8   \n",
       "12 2019-05-08  783112016469716                        0                  15.5   \n",
       "13 2019-05-15  783112016469716                     1000                  18.3   \n",
       "14 2019-05-22  783112016469716                        0                   0.2   \n",
       "15 2019-05-29  783112016469716                        0                   9.0   \n",
       "16 2019-06-05  783112016469716                       20                  19.7   \n",
       "17 2019-06-12  783112016469716                        0                  19.8   \n",
       "18 2019-06-19  783112016469716                        0                   5.6   \n",
       "19 2019-06-26  783112016469716                       30                   0.6   \n",
       "20 2019-07-03  783112016469716                       20                   8.5   \n",
       "21 2019-07-10  783112016469716                        0                  16.0   \n",
       "22 2019-07-17  783112016469716                        0                  15.5   \n",
       "23 2019-07-24  783112016469716                        0                   8.4   \n",
       "24 2019-07-31  783112016469716                       70                   3.3   \n",
       "25 2019-08-07  783112016469716                        0                  10.7   \n",
       "26 2019-08-14  783112016469716                        0                   0.4   \n",
       "27 2019-08-21  783112016469716                        0                  17.8   \n",
       "28 2019-08-28  783112016469716                      200                  14.9   \n",
       "29 2019-09-04  783112016469716                     1000                  13.7   \n",
       "30 2019-09-11  783112016469716                        0                  12.4   \n",
       "31 2019-09-18  783112016469716                       50                  13.1   \n",
       "32 2019-09-25  783112016469716                       30                  22.5   \n",
       "33 2019-10-02  783112016469716                       50                   5.6   \n",
       "34 2019-10-09  783112016469716                       30                  17.2   \n",
       "35 2019-10-16  783112016469716                      800                   2.0   \n",
       "36 2019-10-23  783112016469716                        0                  12.6   \n",
       "37 2019-10-30  783112016469716                       50                  15.2   \n",
       "38 2019-11-06  783112016469716                        0                   2.5   \n",
       "39 2019-11-13  783112016469716                       70                   2.0   \n",
       "40 2019-11-20  783112016469716                        0                  14.1   \n",
       "41 2019-11-27  783112016469716                        0                   0.0   \n",
       "42 2019-12-04  783112016469716                        0                   0.0   \n",
       "43 2019-12-11  783112016469716                        0                   0.0   \n",
       "44 2019-12-18  783112016469716                        0                   0.0   \n",
       "\n",
       "    mobile_data_usage(gb)  promos_used  active_times  activity_status  \n",
       "0                    8.95            0             1                0  \n",
       "1                    8.83            5             0                0  \n",
       "2                    8.16            2             0                0  \n",
       "3                    8.03            0             0                0  \n",
       "4                    7.18            3             1                0  \n",
       "5                    6.89            2             2                0  \n",
       "6                    6.55            0             0                0  \n",
       "7                    6.07            3             0                0  \n",
       "8                    6.99            0             0                0  \n",
       "9                    7.89            0             2                0  \n",
       "10                   8.86            0             2                0  \n",
       "11                   8.80            1             2                0  \n",
       "12                   7.57            1             0                0  \n",
       "13                   8.48            4             1                0  \n",
       "14                   6.04            0             2                0  \n",
       "15                   7.99            5             1                0  \n",
       "16                   6.77            0             0                0  \n",
       "17                   8.23            2             1                0  \n",
       "18                   5.68            0             2                0  \n",
       "19                   8.95            3             2                0  \n",
       "20                   5.56            2             2                0  \n",
       "21                   5.90            0             2                0  \n",
       "22                   8.95            6             2                0  \n",
       "23                   7.91            2             2                0  \n",
       "24                   6.52            6             1                0  \n",
       "25                   5.79            4             1                0  \n",
       "26                   8.76            5             2                0  \n",
       "27                   6.66            3             1                0  \n",
       "28                   8.30            3             2                0  \n",
       "29                   7.35            0             0                0  \n",
       "30                   9.00            1             0                0  \n",
       "31                   7.68            2             2                0  \n",
       "32                   7.06            5             2                0  \n",
       "33                   5.25            1             2                0  \n",
       "34                   7.67            3             2                0  \n",
       "35                   6.49            4             2                0  \n",
       "36                   5.14            2             0                0  \n",
       "37                   7.56            0             1                0  \n",
       "38                   8.04            0             0                0  \n",
       "39                   6.33            0             0                0  \n",
       "40                   8.60            2             0                0  \n",
       "41                   0.00            0             0                1  \n",
       "42                   0.00            0             0                1  \n",
       "43                   0.00            0             0                1  \n",
       "44                   0.00            0             0                1  "
      ],
      "text/html": "<div>\n<style scoped>\n    .dataframe tbody tr th:only-of-type {\n        vertical-align: middle;\n    }\n\n    .dataframe tbody tr th {\n        vertical-align: top;\n    }\n\n    .dataframe thead th {\n        text-align: right;\n    }\n</style>\n<table border=\"1\" class=\"dataframe\">\n  <thead>\n    <tr style=\"text-align: right;\">\n      <th></th>\n      <th>weeks</th>\n      <th>IMEI</th>\n      <th>credits_loaded_per_week</th>\n      <th>num_hrs_spend_on_net</th>\n      <th>mobile_data_usage(gb)</th>\n      <th>promos_used</th>\n      <th>active_times</th>\n      <th>activity_status</th>\n    </tr>\n  </thead>\n  <tbody>\n    <tr>\n      <th>0</th>\n      <td>2019-02-13</td>\n      <td>783112016469716</td>\n      <td>0</td>\n      <td>4.0</td>\n      <td>8.95</td>\n      <td>0</td>\n      <td>1</td>\n      <td>0</td>\n    </tr>\n    <tr>\n      <th>1</th>\n      <td>2019-02-20</td>\n      <td>783112016469716</td>\n      <td>100</td>\n      <td>15.2</td>\n      <td>8.83</td>\n      <td>5</td>\n      <td>0</td>\n      <td>0</td>\n    </tr>\n    <tr>\n      <th>2</th>\n      <td>2019-02-27</td>\n      <td>783112016469716</td>\n      <td>0</td>\n      <td>20.6</td>\n      <td>8.16</td>\n      <td>2</td>\n      <td>0</td>\n      <td>0</td>\n    </tr>\n    <tr>\n      <th>3</th>\n      <td>2019-03-06</td>\n      <td>783112016469716</td>\n      <td>0</td>\n      <td>4.8</td>\n      <td>8.03</td>\n      <td>0</td>\n      <td>0</td>\n      <td>0</td>\n    </tr>\n    <tr>\n      <th>4</th>\n      <td>2019-03-13</td>\n      <td>783112016469716</td>\n      <td>30</td>\n      <td>16.5</td>\n      <td>7.18</td>\n      <td>3</td>\n      <td>1</td>\n      <td>0</td>\n    </tr>\n    <tr>\n      <th>5</th>\n      <td>2019-03-20</td>\n      <td>783112016469716</td>\n      <td>0</td>\n      <td>11.1</td>\n      <td>6.89</td>\n      <td>2</td>\n      <td>2</td>\n      <td>0</td>\n    </tr>\n    <tr>\n      <th>6</th>\n      <td>2019-03-27</td>\n      <td>783112016469716</td>\n      <td>0</td>\n      <td>19.4</td>\n      <td>6.55</td>\n      <td>0</td>\n      <td>0</td>\n      <td>0</td>\n    </tr>\n    <tr>\n      <th>7</th>\n      <td>2019-04-03</td>\n      <td>783112016469716</td>\n      <td>800</td>\n      <td>17.1</td>\n      <td>6.07</td>\n      <td>3</td>\n      <td>0</td>\n      <td>0</td>\n    </tr>\n    <tr>\n      <th>8</th>\n      <td>2019-04-10</td>\n      <td>783112016469716</td>\n      <td>0</td>\n      <td>19.7</td>\n      <td>6.99</td>\n      <td>0</td>\n      <td>0</td>\n      <td>0</td>\n    </tr>\n    <tr>\n      <th>9</th>\n      <td>2019-04-17</td>\n      <td>783112016469716</td>\n      <td>0</td>\n      <td>19.8</td>\n      <td>7.89</td>\n      <td>0</td>\n      <td>2</td>\n      <td>0</td>\n    </tr>\n    <tr>\n      <th>10</th>\n      <td>2019-04-24</td>\n      <td>783112016469716</td>\n      <td>500</td>\n      <td>18.8</td>\n      <td>8.86</td>\n      <td>0</td>\n      <td>2</td>\n      <td>0</td>\n    </tr>\n    <tr>\n      <th>11</th>\n      <td>2019-05-01</td>\n      <td>783112016469716</td>\n      <td>0</td>\n      <td>19.8</td>\n      <td>8.80</td>\n      <td>1</td>\n      <td>2</td>\n      <td>0</td>\n    </tr>\n    <tr>\n      <th>12</th>\n      <td>2019-05-08</td>\n      <td>783112016469716</td>\n      <td>0</td>\n      <td>15.5</td>\n      <td>7.57</td>\n      <td>1</td>\n      <td>0</td>\n      <td>0</td>\n    </tr>\n    <tr>\n      <th>13</th>\n      <td>2019-05-15</td>\n      <td>783112016469716</td>\n      <td>1000</td>\n      <td>18.3</td>\n      <td>8.48</td>\n      <td>4</td>\n      <td>1</td>\n      <td>0</td>\n    </tr>\n    <tr>\n      <th>14</th>\n      <td>2019-05-22</td>\n      <td>783112016469716</td>\n      <td>0</td>\n      <td>0.2</td>\n      <td>6.04</td>\n      <td>0</td>\n      <td>2</td>\n      <td>0</td>\n    </tr>\n    <tr>\n      <th>15</th>\n      <td>2019-05-29</td>\n      <td>783112016469716</td>\n      <td>0</td>\n      <td>9.0</td>\n      <td>7.99</td>\n      <td>5</td>\n      <td>1</td>\n      <td>0</td>\n    </tr>\n    <tr>\n      <th>16</th>\n      <td>2019-06-05</td>\n      <td>783112016469716</td>\n      <td>20</td>\n      <td>19.7</td>\n      <td>6.77</td>\n      <td>0</td>\n      <td>0</td>\n      <td>0</td>\n    </tr>\n    <tr>\n      <th>17</th>\n      <td>2019-06-12</td>\n      <td>783112016469716</td>\n      <td>0</td>\n      <td>19.8</td>\n      <td>8.23</td>\n      <td>2</td>\n      <td>1</td>\n      <td>0</td>\n    </tr>\n    <tr>\n      <th>18</th>\n      <td>2019-06-19</td>\n      <td>783112016469716</td>\n      <td>0</td>\n      <td>5.6</td>\n      <td>5.68</td>\n      <td>0</td>\n      <td>2</td>\n      <td>0</td>\n    </tr>\n    <tr>\n      <th>19</th>\n      <td>2019-06-26</td>\n      <td>783112016469716</td>\n      <td>30</td>\n      <td>0.6</td>\n      <td>8.95</td>\n      <td>3</td>\n      <td>2</td>\n      <td>0</td>\n    </tr>\n    <tr>\n      <th>20</th>\n      <td>2019-07-03</td>\n      <td>783112016469716</td>\n      <td>20</td>\n      <td>8.5</td>\n      <td>5.56</td>\n      <td>2</td>\n      <td>2</td>\n      <td>0</td>\n    </tr>\n    <tr>\n      <th>21</th>\n      <td>2019-07-10</td>\n      <td>783112016469716</td>\n      <td>0</td>\n      <td>16.0</td>\n      <td>5.90</td>\n      <td>0</td>\n      <td>2</td>\n      <td>0</td>\n    </tr>\n    <tr>\n      <th>22</th>\n      <td>2019-07-17</td>\n      <td>783112016469716</td>\n      <td>0</td>\n      <td>15.5</td>\n      <td>8.95</td>\n      <td>6</td>\n      <td>2</td>\n      <td>0</td>\n    </tr>\n    <tr>\n      <th>23</th>\n      <td>2019-07-24</td>\n      <td>783112016469716</td>\n      <td>0</td>\n      <td>8.4</td>\n      <td>7.91</td>\n      <td>2</td>\n      <td>2</td>\n      <td>0</td>\n    </tr>\n    <tr>\n      <th>24</th>\n      <td>2019-07-31</td>\n      <td>783112016469716</td>\n      <td>70</td>\n      <td>3.3</td>\n      <td>6.52</td>\n      <td>6</td>\n      <td>1</td>\n      <td>0</td>\n    </tr>\n    <tr>\n      <th>25</th>\n      <td>2019-08-07</td>\n      <td>783112016469716</td>\n      <td>0</td>\n      <td>10.7</td>\n      <td>5.79</td>\n      <td>4</td>\n      <td>1</td>\n      <td>0</td>\n    </tr>\n    <tr>\n      <th>26</th>\n      <td>2019-08-14</td>\n      <td>783112016469716</td>\n      <td>0</td>\n      <td>0.4</td>\n      <td>8.76</td>\n      <td>5</td>\n      <td>2</td>\n      <td>0</td>\n    </tr>\n    <tr>\n      <th>27</th>\n      <td>2019-08-21</td>\n      <td>783112016469716</td>\n      <td>0</td>\n      <td>17.8</td>\n      <td>6.66</td>\n      <td>3</td>\n      <td>1</td>\n      <td>0</td>\n    </tr>\n    <tr>\n      <th>28</th>\n      <td>2019-08-28</td>\n      <td>783112016469716</td>\n      <td>200</td>\n      <td>14.9</td>\n      <td>8.30</td>\n      <td>3</td>\n      <td>2</td>\n      <td>0</td>\n    </tr>\n    <tr>\n      <th>29</th>\n      <td>2019-09-04</td>\n      <td>783112016469716</td>\n      <td>1000</td>\n      <td>13.7</td>\n      <td>7.35</td>\n      <td>0</td>\n      <td>0</td>\n      <td>0</td>\n    </tr>\n    <tr>\n      <th>30</th>\n      <td>2019-09-11</td>\n      <td>783112016469716</td>\n      <td>0</td>\n      <td>12.4</td>\n      <td>9.00</td>\n      <td>1</td>\n      <td>0</td>\n      <td>0</td>\n    </tr>\n    <tr>\n      <th>31</th>\n      <td>2019-09-18</td>\n      <td>783112016469716</td>\n      <td>50</td>\n      <td>13.1</td>\n      <td>7.68</td>\n      <td>2</td>\n      <td>2</td>\n      <td>0</td>\n    </tr>\n    <tr>\n      <th>32</th>\n      <td>2019-09-25</td>\n      <td>783112016469716</td>\n      <td>30</td>\n      <td>22.5</td>\n      <td>7.06</td>\n      <td>5</td>\n      <td>2</td>\n      <td>0</td>\n    </tr>\n    <tr>\n      <th>33</th>\n      <td>2019-10-02</td>\n      <td>783112016469716</td>\n      <td>50</td>\n      <td>5.6</td>\n      <td>5.25</td>\n      <td>1</td>\n      <td>2</td>\n      <td>0</td>\n    </tr>\n    <tr>\n      <th>34</th>\n      <td>2019-10-09</td>\n      <td>783112016469716</td>\n      <td>30</td>\n      <td>17.2</td>\n      <td>7.67</td>\n      <td>3</td>\n      <td>2</td>\n      <td>0</td>\n    </tr>\n    <tr>\n      <th>35</th>\n      <td>2019-10-16</td>\n      <td>783112016469716</td>\n      <td>800</td>\n      <td>2.0</td>\n      <td>6.49</td>\n      <td>4</td>\n      <td>2</td>\n      <td>0</td>\n    </tr>\n    <tr>\n      <th>36</th>\n      <td>2019-10-23</td>\n      <td>783112016469716</td>\n      <td>0</td>\n      <td>12.6</td>\n      <td>5.14</td>\n      <td>2</td>\n      <td>0</td>\n      <td>0</td>\n    </tr>\n    <tr>\n      <th>37</th>\n      <td>2019-10-30</td>\n      <td>783112016469716</td>\n      <td>50</td>\n      <td>15.2</td>\n      <td>7.56</td>\n      <td>0</td>\n      <td>1</td>\n      <td>0</td>\n    </tr>\n    <tr>\n      <th>38</th>\n      <td>2019-11-06</td>\n      <td>783112016469716</td>\n      <td>0</td>\n      <td>2.5</td>\n      <td>8.04</td>\n      <td>0</td>\n      <td>0</td>\n      <td>0</td>\n    </tr>\n    <tr>\n      <th>39</th>\n      <td>2019-11-13</td>\n      <td>783112016469716</td>\n      <td>70</td>\n      <td>2.0</td>\n      <td>6.33</td>\n      <td>0</td>\n      <td>0</td>\n      <td>0</td>\n    </tr>\n    <tr>\n      <th>40</th>\n      <td>2019-11-20</td>\n      <td>783112016469716</td>\n      <td>0</td>\n      <td>14.1</td>\n      <td>8.60</td>\n      <td>2</td>\n      <td>0</td>\n      <td>0</td>\n    </tr>\n    <tr>\n      <th>41</th>\n      <td>2019-11-27</td>\n      <td>783112016469716</td>\n      <td>0</td>\n      <td>0.0</td>\n      <td>0.00</td>\n      <td>0</td>\n      <td>0</td>\n      <td>1</td>\n    </tr>\n    <tr>\n      <th>42</th>\n      <td>2019-12-04</td>\n      <td>783112016469716</td>\n      <td>0</td>\n      <td>0.0</td>\n      <td>0.00</td>\n      <td>0</td>\n      <td>0</td>\n      <td>1</td>\n    </tr>\n    <tr>\n      <th>43</th>\n      <td>2019-12-11</td>\n      <td>783112016469716</td>\n      <td>0</td>\n      <td>0.0</td>\n      <td>0.00</td>\n      <td>0</td>\n      <td>0</td>\n      <td>1</td>\n    </tr>\n    <tr>\n      <th>44</th>\n      <td>2019-12-18</td>\n      <td>783112016469716</td>\n      <td>0</td>\n      <td>0.0</td>\n      <td>0.00</td>\n      <td>0</td>\n      <td>0</td>\n      <td>1</td>\n    </tr>\n  </tbody>\n</table>\n</div>"
     },
     "metadata": {},
     "execution_count": 10
    }
   ],
   "source": [
    "d[0]"
   ]
  },
  {
   "cell_type": "code",
   "execution_count": 11,
   "metadata": {},
   "outputs": [
    {
     "output_type": "stream",
     "name": "stdout",
     "text": [
      "41   41\n"
     ]
    }
   ],
   "source": [
    "df1 = d[0].iloc[:-4, :]\n",
    "df2 = d[4].iloc[:len(df1), :]\n",
    "print(len(df1), ' ', len(df2))"
   ]
  },
  {
   "cell_type": "code",
   "execution_count": 12,
   "metadata": {},
   "outputs": [
    {
     "output_type": "execute_result",
     "data": {
      "text/plain": [
       "<pandas.core.groupby.generic.SeriesGroupBy object at 0x00000230C613E5E0>"
      ]
     },
     "metadata": {},
     "execution_count": 12
    }
   ],
   "source": [
    "x = df1.groupby('IMEI')['credits_loaded_per_week']\r\n",
    "x"
   ]
  },
  {
   "cell_type": "code",
   "execution_count": 13,
   "metadata": {},
   "outputs": [
    {
     "output_type": "execute_result",
     "data": {
      "text/plain": [
       "array([  11.74478608,  100.15307734,   91.13224951,    4.81148626,\n",
       "         31.35480187,   12.08197418,    5.28686107,  800.00627629,\n",
       "         16.98499338,   71.59514579,  430.22388602,  200.26157894,\n",
       "         32.8947169 , 1000.10358843,   17.02557194,    5.21928156,\n",
       "        480.21832753,   91.97968526,    5.25334179,   35.29150039,\n",
       "         21.43577617,    5.13876444,  150.20586839,   30.68303929,\n",
       "         72.43212064,   11.57920982,   14.63979508,    5.48788666,\n",
       "        200.14654231, 1000.04336586,    8.81685318,  100.41717184,\n",
       "         30.07551163,   50.05429952,   30.40148023,  770.15784979,\n",
       "         21.12474615,   50.18312067,   23.31184463,   70.57163453,\n",
       "         10.0797867 ])"
      ]
     },
     "metadata": {},
     "execution_count": 13
    }
   ],
   "source": [
    "distances = Euclidean_Dist(df1, df2)\n",
    "distances"
   ]
  },
  {
   "cell_type": "code",
   "execution_count": 14,
   "metadata": {},
   "outputs": [
    {
     "output_type": "execute_result",
     "data": {
      "text/plain": [
       "array([  11.74478608,  100.15307734,   91.13224951,    4.81148626,\n",
       "         31.35480187,   12.08197418,    5.28686107,  800.00627629,\n",
       "         16.98499338,   71.59514579,  430.22388602,  200.26157894,\n",
       "         32.8947169 , 1000.10358843,   17.02557194,    5.21928156,\n",
       "        480.21832753,   91.97968526,    5.25334179,   35.29150039,\n",
       "         21.43577617,    5.13876444,  150.20586839,   30.68303929,\n",
       "         72.43212064,   11.57920982,   14.63979508,    5.48788666,\n",
       "        200.14654231, 1000.04336586,    8.81685318,  100.41717184,\n",
       "         30.07551163,   50.05429952,   30.40148023,  770.15784979,\n",
       "         21.12474615,   50.18312067,   23.31184463,   70.57163453,\n",
       "         10.0797867 ])"
      ]
     },
     "metadata": {},
     "execution_count": 14
    }
   ],
   "source": [
    "distances"
   ]
  },
  {
   "cell_type": "code",
   "execution_count": 16,
   "metadata": {},
   "outputs": [
    {
     "output_type": "execute_result",
     "data": {
      "text/plain": [
       "149.28316580612957"
      ]
     },
     "metadata": {},
     "execution_count": 16
    }
   ],
   "source": [
    "distances.mean()"
   ]
  },
  {
   "cell_type": "code",
   "execution_count": 15,
   "metadata": {},
   "outputs": [
    {
     "output_type": "stream",
     "name": "stdout",
     "text": [
      "23%\n"
     ]
    }
   ],
   "source": [
    "print('%.f%%' % (100 * (df1.values == df2.values).sum() / df1.size))"
   ]
  },
  {
   "cell_type": "code",
   "execution_count": null,
   "metadata": {},
   "outputs": [],
   "source": []
  }
 ]
}