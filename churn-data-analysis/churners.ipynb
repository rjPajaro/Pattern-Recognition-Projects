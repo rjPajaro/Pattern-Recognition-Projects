{
 "metadata": {
  "language_info": {
   "codemirror_mode": {
    "name": "ipython",
    "version": 3
   },
   "file_extension": ".py",
   "mimetype": "text/x-python",
   "name": "python",
   "nbconvert_exporter": "python",
   "pygments_lexer": "ipython3",
   "version": "3.8.3"
  },
  "orig_nbformat": 4,
  "kernelspec": {
   "name": "python3",
   "display_name": "Python 3.8.3 64-bit ('base': conda)"
  },
  "interpreter": {
   "hash": "80e949a67cf278127b748d188dfe995fcb9b6fe4ab79bb80686294a040d0359f"
  }
 },
 "nbformat": 4,
 "nbformat_minor": 2,
 "cells": [
  {
   "cell_type": "code",
   "execution_count": 1,
   "metadata": {},
   "outputs": [],
   "source": [
    "import pandas as pd"
   ]
  },
  {
   "cell_type": "code",
   "execution_count": 2,
   "metadata": {},
   "outputs": [
    {
     "output_type": "execute_result",
     "data": {
      "text/plain": [
       "             IMEIs            IMSIs       MSISDNs    Phone_Num Contacted_Nums  \\\n",
       "0  219742189102274  515022095584684  639904771101  09904771101    09254175505   \n",
       "1  219742189102274  515022095584684  639904771101  09904771101    09241347050   \n",
       "2  219742189102274  515022095584684  639904771101  09904771101    09914781099   \n",
       "3  219742189102274  515022095584684  639904771101  09904771101    09538031002   \n",
       "4  219742189102274  515022095584684  639904771101  09904771101    09251415391   \n",
       "\n",
       "  Called Texted call_site text_site contact_date  \\\n",
       "0     no    yes        NS      T599   2019-08-09   \n",
       "1    yes    yes     T2129     T1056   2020-11-07   \n",
       "2    yes    yes    T10193     T7592   2020-10-02   \n",
       "3    yes     no     T3938        NS   2020-02-03   \n",
       "4    yes     no     T2028        NS   2019-09-27   \n",
       "\n",
       "                                           user_apps net_hrs_spent(hrs)  \\\n",
       "0   paypal, viber, YT Music, lazada, twitch, discord                1.3   \n",
       "1  paymaya, messenger, gcash, reddit, shopee, twi...                3.5   \n",
       "2  chrome, twitch, discord, viber, youtube, paypa...               11.4   \n",
       "3  discord, grab, viber, paypal, paymaya, youtube...               19.6   \n",
       "4  discord, chrome, YT Music, netflix, spotify, y...                7.1   \n",
       "\n",
       "  load_amt(php) mobile_data_usage(gb) active_time  \n",
       "0            96                  4.51         day  \n",
       "1           260                  3.15       night  \n",
       "2            83                  4.82       night  \n",
       "3           208                  1.53       night  \n",
       "4           347                  2.24       night  "
      ],
      "text/html": "<div>\n<style scoped>\n    .dataframe tbody tr th:only-of-type {\n        vertical-align: middle;\n    }\n\n    .dataframe tbody tr th {\n        vertical-align: top;\n    }\n\n    .dataframe thead th {\n        text-align: right;\n    }\n</style>\n<table border=\"1\" class=\"dataframe\">\n  <thead>\n    <tr style=\"text-align: right;\">\n      <th></th>\n      <th>IMEIs</th>\n      <th>IMSIs</th>\n      <th>MSISDNs</th>\n      <th>Phone_Num</th>\n      <th>Contacted_Nums</th>\n      <th>Called</th>\n      <th>Texted</th>\n      <th>call_site</th>\n      <th>text_site</th>\n      <th>contact_date</th>\n      <th>user_apps</th>\n      <th>net_hrs_spent(hrs)</th>\n      <th>load_amt(php)</th>\n      <th>mobile_data_usage(gb)</th>\n      <th>active_time</th>\n    </tr>\n  </thead>\n  <tbody>\n    <tr>\n      <th>0</th>\n      <td>219742189102274</td>\n      <td>515022095584684</td>\n      <td>639904771101</td>\n      <td>09904771101</td>\n      <td>09254175505</td>\n      <td>no</td>\n      <td>yes</td>\n      <td>NS</td>\n      <td>T599</td>\n      <td>2019-08-09</td>\n      <td>paypal, viber, YT Music, lazada, twitch, discord</td>\n      <td>1.3</td>\n      <td>96</td>\n      <td>4.51</td>\n      <td>day</td>\n    </tr>\n    <tr>\n      <th>1</th>\n      <td>219742189102274</td>\n      <td>515022095584684</td>\n      <td>639904771101</td>\n      <td>09904771101</td>\n      <td>09241347050</td>\n      <td>yes</td>\n      <td>yes</td>\n      <td>T2129</td>\n      <td>T1056</td>\n      <td>2020-11-07</td>\n      <td>paymaya, messenger, gcash, reddit, shopee, twi...</td>\n      <td>3.5</td>\n      <td>260</td>\n      <td>3.15</td>\n      <td>night</td>\n    </tr>\n    <tr>\n      <th>2</th>\n      <td>219742189102274</td>\n      <td>515022095584684</td>\n      <td>639904771101</td>\n      <td>09904771101</td>\n      <td>09914781099</td>\n      <td>yes</td>\n      <td>yes</td>\n      <td>T10193</td>\n      <td>T7592</td>\n      <td>2020-10-02</td>\n      <td>chrome, twitch, discord, viber, youtube, paypa...</td>\n      <td>11.4</td>\n      <td>83</td>\n      <td>4.82</td>\n      <td>night</td>\n    </tr>\n    <tr>\n      <th>3</th>\n      <td>219742189102274</td>\n      <td>515022095584684</td>\n      <td>639904771101</td>\n      <td>09904771101</td>\n      <td>09538031002</td>\n      <td>yes</td>\n      <td>no</td>\n      <td>T3938</td>\n      <td>NS</td>\n      <td>2020-02-03</td>\n      <td>discord, grab, viber, paypal, paymaya, youtube...</td>\n      <td>19.6</td>\n      <td>208</td>\n      <td>1.53</td>\n      <td>night</td>\n    </tr>\n    <tr>\n      <th>4</th>\n      <td>219742189102274</td>\n      <td>515022095584684</td>\n      <td>639904771101</td>\n      <td>09904771101</td>\n      <td>09251415391</td>\n      <td>yes</td>\n      <td>no</td>\n      <td>T2028</td>\n      <td>NS</td>\n      <td>2019-09-27</td>\n      <td>discord, chrome, YT Music, netflix, spotify, y...</td>\n      <td>7.1</td>\n      <td>347</td>\n      <td>2.24</td>\n      <td>night</td>\n    </tr>\n  </tbody>\n</table>\n</div>"
     },
     "metadata": {},
     "execution_count": 2
    }
   ],
   "source": [
    "ch = pd.read_csv('data/mock/rotational_churn_mock_data.csv', dtype='str')\n",
    "ch.head()"
   ]
  },
  {
   "source": [
    "### I am taking the average number of hrs each person has spent on the internet, their average load amt, and their average mobile data"
   ],
   "cell_type": "markdown",
   "metadata": {}
  },
  {
   "cell_type": "code",
   "execution_count": 3,
   "metadata": {},
   "outputs": [
    {
     "output_type": "execute_result",
     "data": {
      "text/plain": [
       "             IMEIs  net_hrs_spent(hrs)  load_amt(php)  mobile_data_usage(gb)\n",
       "0  219742189102274            9.718750       9.718750               9.718750\n",
       "1  811838545143465           11.200000      11.200000              11.200000\n",
       "2  763919762969531           10.612500      10.612500              10.612500\n",
       "3  267455025264981           10.527778      10.527778              10.527778\n",
       "4  406065995086603           12.671429      12.671429              12.671429"
      ],
      "text/html": "<div>\n<style scoped>\n    .dataframe tbody tr th:only-of-type {\n        vertical-align: middle;\n    }\n\n    .dataframe tbody tr th {\n        vertical-align: top;\n    }\n\n    .dataframe thead th {\n        text-align: right;\n    }\n</style>\n<table border=\"1\" class=\"dataframe\">\n  <thead>\n    <tr style=\"text-align: right;\">\n      <th></th>\n      <th>IMEIs</th>\n      <th>net_hrs_spent(hrs)</th>\n      <th>load_amt(php)</th>\n      <th>mobile_data_usage(gb)</th>\n    </tr>\n  </thead>\n  <tbody>\n    <tr>\n      <th>0</th>\n      <td>219742189102274</td>\n      <td>9.718750</td>\n      <td>9.718750</td>\n      <td>9.718750</td>\n    </tr>\n    <tr>\n      <th>1</th>\n      <td>811838545143465</td>\n      <td>11.200000</td>\n      <td>11.200000</td>\n      <td>11.200000</td>\n    </tr>\n    <tr>\n      <th>2</th>\n      <td>763919762969531</td>\n      <td>10.612500</td>\n      <td>10.612500</td>\n      <td>10.612500</td>\n    </tr>\n    <tr>\n      <th>3</th>\n      <td>267455025264981</td>\n      <td>10.527778</td>\n      <td>10.527778</td>\n      <td>10.527778</td>\n    </tr>\n    <tr>\n      <th>4</th>\n      <td>406065995086603</td>\n      <td>12.671429</td>\n      <td>12.671429</td>\n      <td>12.671429</td>\n    </tr>\n  </tbody>\n</table>\n</div>"
     },
     "metadata": {},
     "execution_count": 3
    }
   ],
   "source": [
    "ch['net_hrs_spent(hrs)'] = ch['net_hrs_spent(hrs)'].astype(float)\n",
    "ch['load_amt(php)'] = ch['net_hrs_spent(hrs)'].astype(float)\n",
    "ch['mobile_data_usage(gb)'] = ch['net_hrs_spent(hrs)'].astype(float)\n",
    "df = ch.drop(columns=['contact_date']).copy()\n",
    "\n",
    "#, 'IMSIs', 'MSISDNs', 'Phone_Num'\n",
    "df = df.groupby(['IMEIs'], as_index=False, sort=False).mean()\n",
    "df.head()\n",
    "\n",
    "# I still have no idea how I am going to compare each user on whether they are a churned user... "
   ]
  },
  {
   "cell_type": "code",
   "execution_count": 4,
   "metadata": {},
   "outputs": [
    {
     "output_type": "execute_result",
     "data": {
      "text/plain": [
       "501"
      ]
     },
     "metadata": {},
     "execution_count": 4
    }
   ],
   "source": [
    "len(df)"
   ]
  },
  {
   "cell_type": "code",
   "execution_count": 5,
   "metadata": {},
   "outputs": [],
   "source": [
    "# I want to test something.. (probably stupid; update: IT'S REALLY STUPID)\n",
    "from sklearn.neighbors import KNeighborsClassifier\n",
    "from sklearn.model_selection import train_test_split\n",
    "import numpy as np"
   ]
  },
  {
   "cell_type": "code",
   "execution_count": 6,
   "metadata": {},
   "outputs": [],
   "source": [
    "x = df.loc[:, 'net_hrs_spent(hrs)':'mobile_data_usage(gb)'].copy()\n",
    "y = df.loc[:,'IMEIs'].copy()\n",
    "\n",
    "x_train, x_test, y_train, y_test = train_test_split(x, y, test_size=0.8, random_state=0)"
   ]
  },
  {
   "cell_type": "code",
   "execution_count": 7,
   "metadata": {},
   "outputs": [
    {
     "output_type": "execute_result",
     "data": {
      "text/plain": [
       "KNeighborsClassifier()"
      ]
     },
     "metadata": {},
     "execution_count": 7
    }
   ],
   "source": [
    "nn = KNeighborsClassifier()\n",
    "nn.fit(x_train,y_train)"
   ]
  },
  {
   "cell_type": "code",
   "execution_count": 8,
   "metadata": {},
   "outputs": [
    {
     "output_type": "execute_result",
     "data": {
      "text/plain": [
       "                 Old               New\n",
       "90   335888215172077   448602439603682\n",
       "254  198572622421253   200650971121934\n",
       "284  324148569740851   962917315710476\n",
       "446  351244418269261  7807596397972710\n",
       "339  324148569740851   218223062420837"
      ],
      "text/html": "<div>\n<style scoped>\n    .dataframe tbody tr th:only-of-type {\n        vertical-align: middle;\n    }\n\n    .dataframe tbody tr th {\n        vertical-align: top;\n    }\n\n    .dataframe thead th {\n        text-align: right;\n    }\n</style>\n<table border=\"1\" class=\"dataframe\">\n  <thead>\n    <tr style=\"text-align: right;\">\n      <th></th>\n      <th>Old</th>\n      <th>New</th>\n    </tr>\n  </thead>\n  <tbody>\n    <tr>\n      <th>90</th>\n      <td>335888215172077</td>\n      <td>448602439603682</td>\n    </tr>\n    <tr>\n      <th>254</th>\n      <td>198572622421253</td>\n      <td>200650971121934</td>\n    </tr>\n    <tr>\n      <th>284</th>\n      <td>324148569740851</td>\n      <td>962917315710476</td>\n    </tr>\n    <tr>\n      <th>446</th>\n      <td>351244418269261</td>\n      <td>7807596397972710</td>\n    </tr>\n    <tr>\n      <th>339</th>\n      <td>324148569740851</td>\n      <td>218223062420837</td>\n    </tr>\n  </tbody>\n</table>\n</div>"
     },
     "metadata": {},
     "execution_count": 8
    }
   ],
   "source": [
    "pred = nn.predict(x_test)\n",
    "\n",
    "result = pd.DataFrame({'Old':pred,'New':y_test})\n",
    "result.head()"
   ]
  },
  {
   "source": [
    "What I need to do now is to compute the euclidean distance of every user compared to other users in the dataframe.... yep.... That will give my machine a lot of strain. (Might do it in kaggle or elsewhere if that is the case)"
   ],
   "cell_type": "markdown",
   "metadata": {}
  },
  {
   "cell_type": "code",
   "execution_count": 27,
   "metadata": {},
   "outputs": [
    {
     "output_type": "stream",
     "name": "stdout",
     "text": [
      "IMEIs\n",
      "101901440889712     09966553017\n",
      "103784008957578     09999434466\n",
      "104226383620636     09942673099\n",
      "104915693516811     09592372916\n",
      "1089939570579510    09998832859\n",
      "Name: Contacted_Nums, dtype: object\n",
      "<ipython-input-27-efbbcf1f04f7>:2: FutureWarning: Indexing with multiple keys (implicitly converted to a tuple of keys) will be deprecated, use a list instead.\n",
      "  ch.groupby('IMEIs')['Contacted_Nums','Called'].max().head()\n"
     ]
    },
    {
     "output_type": "execute_result",
     "data": {
      "text/plain": [
       "                 Contacted_Nums Called\n",
       "IMEIs                                 \n",
       "101901440889712     09966553017    yes\n",
       "103784008957578     09999434466    yes\n",
       "104226383620636     09942673099    yes\n",
       "104915693516811     09592372916    yes\n",
       "1089939570579510    09998832859    yes"
      ],
      "text/html": "<div>\n<style scoped>\n    .dataframe tbody tr th:only-of-type {\n        vertical-align: middle;\n    }\n\n    .dataframe tbody tr th {\n        vertical-align: top;\n    }\n\n    .dataframe thead th {\n        text-align: right;\n    }\n</style>\n<table border=\"1\" class=\"dataframe\">\n  <thead>\n    <tr style=\"text-align: right;\">\n      <th></th>\n      <th>Contacted_Nums</th>\n      <th>Called</th>\n    </tr>\n    <tr>\n      <th>IMEIs</th>\n      <th></th>\n      <th></th>\n    </tr>\n  </thead>\n  <tbody>\n    <tr>\n      <th>101901440889712</th>\n      <td>09966553017</td>\n      <td>yes</td>\n    </tr>\n    <tr>\n      <th>103784008957578</th>\n      <td>09999434466</td>\n      <td>yes</td>\n    </tr>\n    <tr>\n      <th>104226383620636</th>\n      <td>09942673099</td>\n      <td>yes</td>\n    </tr>\n    <tr>\n      <th>104915693516811</th>\n      <td>09592372916</td>\n      <td>yes</td>\n    </tr>\n    <tr>\n      <th>1089939570579510</th>\n      <td>09998832859</td>\n      <td>yes</td>\n    </tr>\n  </tbody>\n</table>\n</div>"
     },
     "metadata": {},
     "execution_count": 27
    }
   ],
   "source": [
    "print(ch.groupby('IMEIs')['Contacted_Nums'].max().head())\n",
    "ch.groupby('IMEIs')['Contacted_Nums','Called'].max().head()"
   ]
  },
  {
   "source": [
    "#### Progress So Far:\n",
    " - Created mock data that will be the base data pattern for the churners which will be implemented later on.\n",
    " - Researched on what to look out for when dealing with rotational churners. Idiro fingerprinting is an option that will be considered in this project in order to look at users that have similar patterns in contacts. (bit difficult to simulate) Another method would be to analyze the behavior of each user up until they churned through time-series analysis, and check data from the time the user churned onwards if there are other data with similar behavior patterns as the person that churned.\n",
    "\n",
    "#### Progress needed later on: (still related to data cleaning)\n",
    " - Simulate churners based on mock data - similarity in contacts, similarity in user activity and behavior, similarity in promos used etc.\n",
    " - **Figure out a way to view the data as a time series data** - the reason for this is to not only figure out globally if there is a trend of churning at a certain point, it is also to view the behavior of the users individually before they became rotational churners or as they are about to become churners. It is also to view the data orderly.\n",
    " - Need to fix script on creating mock data to fit the statement above.\n",
    " - Measure the similarity of 2 users based on contact tracing/idiro fingerprinting and/or behavior.\n",
    " - Get some sleep.\n",
    "\n",
    "#### Other progress needed:\n",
    " - I need to have a column called \"number of times called\" which would show how many times a person has been called.\n",
    " - I also need to find a way to show the most frequent person called in this notebook."
   ],
   "cell_type": "markdown",
   "metadata": {}
  },
  {
   "cell_type": "code",
   "execution_count": null,
   "metadata": {},
   "outputs": [],
   "source": []
  }
 ]
}